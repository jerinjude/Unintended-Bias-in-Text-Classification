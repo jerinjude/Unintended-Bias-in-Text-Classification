{
 "cells": [
  {
   "cell_type": "code",
   "execution_count": 2,
   "metadata": {
    "colab": {
     "base_uri": "https://localhost:8080/"
    },
    "id": "THEudJ2usN9M",
    "outputId": "591432c6-e5ea-4358-eac7-214da1390317"
   },
   "outputs": [
    {
     "name": "stdout",
     "output_type": "stream",
     "text": [
      "Mounted at /content/drive\n"
     ]
    }
   ],
   "source": [
    "from google.colab import drive\n",
    "drive.mount('/content/drive')"
   ]
  },
  {
   "cell_type": "code",
   "execution_count": 3,
   "metadata": {
    "id": "mn_NlehVvHKY"
   },
   "outputs": [],
   "source": [
    "import pandas as pd\n",
    "import numpy as np\n",
    "from sklearn.model_selection import train_test_split\n",
    "from sklearn.feature_extraction.text import CountVectorizer\n",
    "import scipy.sparse \n",
    "from scipy.sparse import hstack\n",
    "from sklearn.preprocessing import StandardScaler\n",
    "import dask.dataframe as dd\n",
    "from dask.dataframe import from_pandas\n",
    "from sklearn.naive_bayes import MultinomialNB\n",
    "from sklearn.metrics import roc_auc_score\n",
    "from sklearn.feature_extraction.text import TfidfVectorizer\n",
    "from sklearn.naive_bayes import GaussianNB\n",
    "from sklearn.preprocessing import Normalizer\n",
    "from sklearn.model_selection import GridSearchCV\n",
    "from sklearn import metrics\n",
    "from sklearn.metrics import roc_curve\n",
    "from sklearn.metrics import confusion_matrix\n",
    "import seaborn as sns\n",
    "from tqdm import tqdm\n",
    "from prettytable import PrettyTable"
   ]
  },
  {
   "cell_type": "code",
   "execution_count": 4,
   "metadata": {
    "id": "GUxGsT6lspwz"
   },
   "outputs": [],
   "source": [
    "df=pd.read_csv('/content/drive/MyDrive/feature_extracted')"
   ]
  },
  {
   "cell_type": "code",
   "execution_count": 5,
   "metadata": {
    "colab": {
     "base_uri": "https://localhost:8080/"
    },
    "id": "o1iQRlzGqfsA",
    "outputId": "87d9e668-e07f-4027-e175-2374269d1339"
   },
   "outputs": [
    {
     "data": {
      "text/plain": [
       "Index(['Unnamed: 0', 'comment_text', 'target', 'clean_text', 'asian',\n",
       "       'atheist', 'bisexual', 'black', 'buddhist', 'christian', 'female',\n",
       "       'heterosexual', 'hindu', 'homosexual_gay_or_lesbian',\n",
       "       'intellectual_or_learning_disability', 'jewish', 'latino', 'male',\n",
       "       'muslim', 'other_disability', 'other_gender', 'other_race_or_ethnicity',\n",
       "       'other_religion', 'other_sexual_orientation', 'physical_disability',\n",
       "       'psychiatric_or_mental_illness', 'transgender', 'white', 'length',\n",
       "       'no_of_words', 'avg_word_length', 'caps', 'excl', 'sentence_count',\n",
       "       'avg_sentence_length', 'sentiment', 'subjectivity', 'noun_count',\n",
       "       'verb_count', 'adj_count', 'adv_count', 'pron_count'],\n",
       "      dtype='object')"
      ]
     },
     "execution_count": 5,
     "metadata": {},
     "output_type": "execute_result"
    }
   ],
   "source": [
    "df.columns"
   ]
  },
  {
   "cell_type": "code",
   "execution_count": 6,
   "metadata": {
    "id": "Evj_NFSJqfsC"
   },
   "outputs": [],
   "source": [
    "df_scraped=pd.read_csv('/content/drive/MyDrive/scraped_df')"
   ]
  },
  {
   "cell_type": "code",
   "execution_count": 7,
   "metadata": {
    "id": "Bu2vPYQBqfsD"
   },
   "outputs": [],
   "source": [
    "columns=['length',\n",
    "       'no_of_words', 'avg_word_length', 'caps', 'excl', 'sentence_count',\n",
    "       'avg_sentence_length', 'sentiment', 'subjectivity', 'noun_count',\n",
    "       'verb_count', 'adj_count', 'adv_count', 'pron_count']"
   ]
  },
  {
   "cell_type": "code",
   "execution_count": 10,
   "metadata": {
    "colab": {
     "base_uri": "https://localhost:8080/"
    },
    "id": "S9feoRlfqfsF",
    "outputId": "b29f511c-9203-487c-a39c-b6b2e02295bc"
   },
   "outputs": [
    {
     "data": {
      "text/plain": [
       "Index(['Unnamed: 0', 'comment_text', 'target', 'clean_text', 'asian',\n",
       "       'atheist', 'bisexual', 'black', 'buddhist', 'christian', 'female',\n",
       "       'heterosexual', 'hindu', 'homosexual_gay_or_lesbian',\n",
       "       'intellectual_or_learning_disability', 'jewish', 'latino', 'male',\n",
       "       'muslim', 'other_disability', 'other_gender', 'other_race_or_ethnicity',\n",
       "       'other_religion', 'other_sexual_orientation', 'physical_disability',\n",
       "       'psychiatric_or_mental_illness', 'transgender', 'white', 'length',\n",
       "       'no_of_words', 'avg_word_length', 'caps', 'excl', 'sentence_count',\n",
       "       'avg_sentence_length', 'sentiment', 'subjectivity', 'noun_count',\n",
       "       'verb_count', 'adj_count', 'adv_count', 'pron_count'],\n",
       "      dtype='object')"
      ]
     },
     "execution_count": 10,
     "metadata": {},
     "output_type": "execute_result"
    }
   ],
   "source": [
    "df.columns"
   ]
  },
  {
   "cell_type": "code",
   "execution_count": 11,
   "metadata": {
    "id": "KxTmo9RnqfsG"
   },
   "outputs": [],
   "source": [
    "identity_columns = ['asian',\n",
    "       'atheist', 'bisexual', 'black', 'buddhist', 'christian', 'female',\n",
    "       'heterosexual', 'hindu', 'homosexual_gay_or_lesbian',\n",
    "       'intellectual_or_learning_disability', 'jewish', 'latino', 'male',\n",
    "       'muslim', 'other_disability', 'other_gender', 'other_race_or_ethnicity',\n",
    "       'other_religion', 'other_sexual_orientation', 'physical_disability',\n",
    "       'psychiatric_or_mental_illness', 'transgender', 'white']"
   ]
  },
  {
   "cell_type": "code",
   "execution_count": 12,
   "metadata": {
    "id": "TRBzj4KdqfsH"
   },
   "outputs": [],
   "source": [
    "def convert_to_bool(df, col_name):\n",
    "    df[col_name] = np.where(df[col_name] >= 0.5, 1, 0)\n",
    "    \n",
    "def convert_dataframe_to_bool(df):\n",
    "    bool_df = df.copy()\n",
    "    for col in ['target'] + identity_columns:\n",
    "        convert_to_bool(bool_df, col)\n",
    "    return bool_df\n",
    "\n",
    "df = convert_dataframe_to_bool(df)"
   ]
  },
  {
   "cell_type": "code",
   "execution_count": 13,
   "metadata": {
    "colab": {
     "base_uri": "https://localhost:8080/"
    },
    "id": "33h3VLB-8Ij0",
    "outputId": "6738543d-87ea-4b74-bf31-1f9c591d695a"
   },
   "outputs": [
    {
     "name": "stdout",
     "output_type": "stream",
     "text": [
      "df shape: (1783168, 42)\n",
      "df_scraped shape: (14138, 18)\n"
     ]
    }
   ],
   "source": [
    "print('df shape:',df.shape)\n",
    "print('df_scraped shape:',df_scraped.shape)"
   ]
  },
  {
   "cell_type": "code",
   "execution_count": 14,
   "metadata": {
    "id": "KRQemYk8vFqc"
   },
   "outputs": [],
   "source": [
    "Y=df['target']\n",
    "X=df.drop(['target'],axis=1)"
   ]
  },
  {
   "cell_type": "code",
   "execution_count": 15,
   "metadata": {
    "colab": {
     "base_uri": "https://localhost:8080/"
    },
    "id": "YR1g88m4AbwG",
    "outputId": "796ef703-aa82-46b1-f85f-1ff80d0410aa"
   },
   "outputs": [
    {
     "data": {
      "text/plain": [
       "(1783168, 41)"
      ]
     },
     "execution_count": 15,
     "metadata": {},
     "output_type": "execute_result"
    }
   ],
   "source": [
    "X.shape"
   ]
  },
  {
   "cell_type": "code",
   "execution_count": 16,
   "metadata": {
    "id": "fdO0Qd_tvcd9"
   },
   "outputs": [],
   "source": [
    "X_train, X_test, y_train, y_test = train_test_split(X, Y, test_size=0.35, random_state=42,stratify=Y, shuffle=True)"
   ]
  },
  {
   "cell_type": "code",
   "execution_count": 17,
   "metadata": {
    "id": "_gdxhgE5qfsJ"
   },
   "outputs": [],
   "source": [
    "X_train=X_train[['clean_text','length',\n",
    "       'no_of_words', 'avg_word_length', 'caps', 'excl', 'sentence_count',\n",
    "       'avg_sentence_length', 'sentiment', 'subjectivity', 'noun_count',\n",
    "       'verb_count', 'adj_count', 'adv_count', 'pron_count']]"
   ]
  },
  {
   "cell_type": "code",
   "execution_count": 18,
   "metadata": {
    "id": "9hF5IjFKqfsJ"
   },
   "outputs": [],
   "source": [
    "X_scraped=df_scraped.drop(['Unnamed: 0', 'text', 'target'],axis=1)\n",
    "Y_scraped=df_scraped['target']"
   ]
  },
  {
   "cell_type": "code",
   "execution_count": 19,
   "metadata": {
    "id": "l7m9xbaKqfsK"
   },
   "outputs": [],
   "source": [
    "\n",
    "X_train_scrapped=pd.concat([X_train,X_scraped],axis=0)"
   ]
  },
  {
   "cell_type": "code",
   "execution_count": 20,
   "metadata": {
    "id": "RP4pvZsHqfsK"
   },
   "outputs": [],
   "source": [
    "y_train_scraped=pd.concat([y_train,Y_scraped],axis=0)"
   ]
  },
  {
   "cell_type": "code",
   "execution_count": 21,
   "metadata": {
    "colab": {
     "base_uri": "https://localhost:8080/"
    },
    "id": "ZOtQ9kWUqfsK",
    "outputId": "85d0d178-4ad5-410f-cda5-eef2f8a53097"
   },
   "outputs": [
    {
     "name": "stdout",
     "output_type": "stream",
     "text": [
      "<class 'pandas.core.frame.DataFrame'>\n",
      "Int64Index: 1159059 entries, 1583997 to 754539\n",
      "Data columns (total 15 columns):\n",
      " #   Column               Non-Null Count    Dtype  \n",
      "---  ------               --------------    -----  \n",
      " 0   clean_text           1159059 non-null  object \n",
      " 1   length               1159059 non-null  int64  \n",
      " 2   no_of_words          1159059 non-null  int64  \n",
      " 3   avg_word_length      1159059 non-null  float64\n",
      " 4   caps                 1159059 non-null  int64  \n",
      " 5   excl                 1159059 non-null  int64  \n",
      " 6   sentence_count       1159059 non-null  int64  \n",
      " 7   avg_sentence_length  1159059 non-null  float64\n",
      " 8   sentiment            1159059 non-null  float64\n",
      " 9   subjectivity         1159059 non-null  float64\n",
      " 10  noun_count           1159059 non-null  int64  \n",
      " 11  verb_count           1159059 non-null  int64  \n",
      " 12  adj_count            1159059 non-null  int64  \n",
      " 13  adv_count            1159059 non-null  int64  \n",
      " 14  pron_count           1159059 non-null  int64  \n",
      "dtypes: float64(4), int64(10), object(1)\n",
      "memory usage: 141.5+ MB\n"
     ]
    }
   ],
   "source": [
    "X_train.info()"
   ]
  },
  {
   "cell_type": "code",
   "execution_count": 22,
   "metadata": {
    "colab": {
     "base_uri": "https://localhost:8080/"
    },
    "id": "fjg2flMAqfsL",
    "outputId": "d6bc1a6f-c860-400c-8a31-0c9c7c3a68e8"
   },
   "outputs": [
    {
     "name": "stdout",
     "output_type": "stream",
     "text": [
      "<class 'pandas.core.frame.DataFrame'>\n",
      "Int64Index: 1173197 entries, 1583997 to 14137\n",
      "Data columns (total 15 columns):\n",
      " #   Column               Non-Null Count    Dtype  \n",
      "---  ------               --------------    -----  \n",
      " 0   clean_text           1173197 non-null  object \n",
      " 1   length               1173197 non-null  int64  \n",
      " 2   no_of_words          1173197 non-null  int64  \n",
      " 3   avg_word_length      1173197 non-null  float64\n",
      " 4   caps                 1173197 non-null  int64  \n",
      " 5   excl                 1173197 non-null  int64  \n",
      " 6   sentence_count       1173197 non-null  int64  \n",
      " 7   avg_sentence_length  1173197 non-null  float64\n",
      " 8   sentiment            1173197 non-null  float64\n",
      " 9   subjectivity         1173197 non-null  float64\n",
      " 10  noun_count           1173197 non-null  int64  \n",
      " 11  verb_count           1173197 non-null  int64  \n",
      " 12  adj_count            1173197 non-null  int64  \n",
      " 13  adv_count            1173197 non-null  int64  \n",
      " 14  pron_count           1173197 non-null  int64  \n",
      "dtypes: float64(4), int64(10), object(1)\n",
      "memory usage: 143.2+ MB\n"
     ]
    }
   ],
   "source": [
    "X_train_scrapped.info()"
   ]
  },
  {
   "cell_type": "code",
   "execution_count": 23,
   "metadata": {
    "id": "MRCbSafNAv3d"
   },
   "outputs": [],
   "source": [
    "del df\n",
    "del X\n",
    "del Y\n",
    "del df_scraped"
   ]
  },
  {
   "cell_type": "markdown",
   "metadata": {
    "id": "0UKMYZyBvld8"
   },
   "source": [
    "# BoW"
   ]
  },
  {
   "cell_type": "code",
   "execution_count": 24,
   "metadata": {
    "colab": {
     "base_uri": "https://localhost:8080/"
    },
    "id": "dgnxW3MMvmKb",
    "outputId": "cec9789c-ae76-4095-843d-5387965d7db1"
   },
   "outputs": [
    {
     "data": {
      "text/plain": [
       "CountVectorizer(max_features=100000)"
      ]
     },
     "execution_count": 24,
     "metadata": {},
     "output_type": "execute_result"
    }
   ],
   "source": [
    "vectorizer = CountVectorizer(analyzer='word', ngram_range=(1, 1), max_features=100000)\n",
    "vectorizer.fit(X_train['clean_text'])"
   ]
  },
  {
   "cell_type": "code",
   "execution_count": 25,
   "metadata": {
    "id": "gyFOsG4Br1CD"
   },
   "outputs": [],
   "source": [
    "X_train_bow_feature=vectorizer.transform(X_train['clean_text'])\n",
    "X_test_bow_feature=vectorizer.transform(X_test['clean_text'])"
   ]
  },
  {
   "cell_type": "code",
   "execution_count": 26,
   "metadata": {
    "colab": {
     "base_uri": "https://localhost:8080/"
    },
    "id": "lo_f_c4pqfsQ",
    "outputId": "7182df66-b6da-4ce3-d23e-40ef1d492737"
   },
   "outputs": [
    {
     "data": {
      "text/plain": [
       "CountVectorizer(max_features=100000)"
      ]
     },
     "execution_count": 26,
     "metadata": {},
     "output_type": "execute_result"
    }
   ],
   "source": [
    "vectorizer1 = CountVectorizer(analyzer='word', ngram_range=(1, 1), max_features=100000)\n",
    "vectorizer1.fit(X_train_scrapped['clean_text'])"
   ]
  },
  {
   "cell_type": "code",
   "execution_count": 27,
   "metadata": {
    "id": "DSyzmGXnqfsR"
   },
   "outputs": [],
   "source": [
    "X_train_scraped_bow_feature=vectorizer1.transform(X_train_scrapped['clean_text'])\n",
    "X_test_scraped_bow_feature=vectorizer1.transform(X_test['clean_text'])"
   ]
  },
  {
   "cell_type": "code",
   "execution_count": 28,
   "metadata": {
    "id": "j9gHOyWEwEIl"
   },
   "outputs": [],
   "source": [
    "feature_columns=['length', 'no_of_words',\n",
    "       'avg_word_length', 'caps', 'excl', 'sentence_count',\n",
    "       'avg_sentence_length', 'noun_count', 'verb_count',\n",
    "       'adj_count', 'adv_count', 'pron_count', 'subjectivity']"
   ]
  },
  {
   "cell_type": "code",
   "execution_count": 29,
   "metadata": {
    "id": "LSXjfB6s_vsV"
   },
   "outputs": [],
   "source": [
    "X_train1=X_train[feature_columns]\n",
    "X_test1=X_test[feature_columns]\n",
    "X_train2=X_train_scrapped[feature_columns]"
   ]
  },
  {
   "cell_type": "code",
   "execution_count": 30,
   "metadata": {
    "id": "6CPGBZAPq75L"
   },
   "outputs": [],
   "source": [
    "normalizer=Normalizer()\n",
    "X_train1=normalizer.fit_transform(X_train1)\n",
    "X_test1=normalizer.fit_transform(X_test1)\n",
    "X_train2=normalizer.fit_transform(X_train2)"
   ]
  },
  {
   "cell_type": "code",
   "execution_count": 31,
   "metadata": {
    "id": "pWNLIZnyqfsT"
   },
   "outputs": [],
   "source": [
    "X_test1=pd.DataFrame(X_test1)"
   ]
  },
  {
   "cell_type": "code",
   "execution_count": 32,
   "metadata": {
    "id": "9B2CNupSV2RU"
   },
   "outputs": [],
   "source": [
    "X_tr1 = hstack((X_train1, X_train_bow_feature)).tocsr()\n",
    "X_tr2 = hstack((X_train2, X_train_scraped_bow_feature)).tocsr()\n",
    "X_te1=hstack((X_test1, X_test_bow_feature)).tocsr()\n",
    "X_te2=hstack((X_test1, X_test_scraped_bow_feature)).tocsr()"
   ]
  },
  {
   "cell_type": "code",
   "execution_count": 33,
   "metadata": {
    "id": "NSDhqX2rqfsU"
   },
   "outputs": [],
   "source": [
    "X_te_with_identity = hstack((X_test1, X_test_scraped_bow_feature,X_test[identity_columns])).tocsr()"
   ]
  },
  {
   "cell_type": "code",
   "execution_count": 34,
   "metadata": {
    "colab": {
     "base_uri": "https://localhost:8080/"
    },
    "id": "lkZLW6T9R-xZ",
    "outputId": "64ab9565-30ee-436c-934a-e7945d2a7d9c"
   },
   "outputs": [
    {
     "name": "stdout",
     "output_type": "stream",
     "text": [
      "X_tr1 shape: (1159059, 100013)\n",
      "X_tr2 shape: (1173197, 100013)\n",
      "X_te1 shape: (624109, 100013)\n",
      "X_te2 shape: (624109, 100013)\n",
      "y_train shape: (1159059,)\n",
      "y_train_scraped shape: (1173197,)\n",
      "y_test shape: (624109,)\n"
     ]
    }
   ],
   "source": [
    "print('X_tr1 shape:',X_tr1.shape)\n",
    "print('X_tr2 shape:',X_tr2.shape)\n",
    "print('X_te1 shape:',X_te1.shape)\n",
    "print('X_te2 shape:',X_te2.shape)\n",
    "print('y_train shape:',y_train.shape)\n",
    "print('y_train_scraped shape:',y_train_scraped.shape)\n",
    "print('y_test shape:',y_test.shape)"
   ]
  },
  {
   "cell_type": "code",
   "execution_count": null,
   "metadata": {
    "colab": {
     "base_uri": "https://localhost:8080/"
    },
    "id": "JVaZmxrTa7OA",
    "outputId": "c9fe2b64-db62-4c3e-ad97-38d6a31cd075"
   },
   "outputs": [
    {
     "data": {
      "text/plain": [
       "GridSearchCV(cv=10, estimator=MultinomialNB(),\n",
       "             param_grid={'alpha': [0.0001, 0.001, 0.01, 0.1, 1, 10, 50, 100,\n",
       "                                   500],\n",
       "                         'fit_prior': [True, False]},\n",
       "             scoring='roc_auc')"
      ]
     },
     "execution_count": 72,
     "metadata": {},
     "output_type": "execute_result"
    }
   ],
   "source": [
    "parameters={'alpha':[0.0001,0.001,0.01,0.1,1,10,50,100,500],'fit_prior':[True,False]}\n",
    "NB = MultinomialNB()\n",
    "clf = GridSearchCV(NB, parameters,scoring='roc_auc',cv=10)\n",
    "clf.fit(X_tr1,y_train)"
   ]
  },
  {
   "cell_type": "code",
   "execution_count": null,
   "metadata": {
    "colab": {
     "base_uri": "https://localhost:8080/"
    },
    "id": "tBGtWfZNtk01",
    "outputId": "5c13d1c0-bafa-4c97-e124-64d85ebe7cc7"
   },
   "outputs": [
    {
     "data": {
      "text/plain": [
       "MultinomialNB(alpha=1)"
      ]
     },
     "execution_count": 73,
     "metadata": {},
     "output_type": "execute_result"
    }
   ],
   "source": [
    "clf.best_estimator_"
   ]
  },
  {
   "cell_type": "code",
   "execution_count": null,
   "metadata": {
    "id": "_eGjOzkUbpy4"
   },
   "outputs": [],
   "source": [
    "NB = MultinomialNB(alpha=1,fit_prior=True)\n",
    "NB.fit(X_tr1,y_train)\n",
    "Y_pred_tr=NB.predict_proba(X_tr1)"
   ]
  },
  {
   "cell_type": "code",
   "execution_count": null,
   "metadata": {
    "id": "2iSX3k4QecHG"
   },
   "outputs": [],
   "source": [
    "Y_pred_te=NB.predict_proba(X_te1)"
   ]
  },
  {
   "cell_type": "code",
   "execution_count": null,
   "metadata": {
    "colab": {
     "base_uri": "https://localhost:8080/"
    },
    "id": "1b3jW2PTb3AN",
    "outputId": "7fafcc21-759f-434f-8905-3a043a7a4728"
   },
   "outputs": [
    {
     "data": {
      "text/plain": [
       "(1159059, 2)"
      ]
     },
     "execution_count": 76,
     "metadata": {},
     "output_type": "execute_result"
    }
   ],
   "source": [
    "Y_pred_tr.shape"
   ]
  },
  {
   "cell_type": "code",
   "execution_count": null,
   "metadata": {
    "colab": {
     "base_uri": "https://localhost:8080/"
    },
    "id": "QTaXPM22b5U2",
    "outputId": "67d8e831-527e-4ef2-c8ee-841aa049a82d"
   },
   "outputs": [
    {
     "data": {
      "text/plain": [
       "array([[9.55052537e-01, 4.49474626e-02],\n",
       "       [1.00000000e+00, 3.84624148e-12],\n",
       "       [9.34671326e-01, 6.53286738e-02],\n",
       "       ...,\n",
       "       [9.19035167e-01, 8.09648325e-02],\n",
       "       [8.97062500e-01, 1.02937500e-01],\n",
       "       [8.06747393e-01, 1.93252607e-01]])"
      ]
     },
     "execution_count": 77,
     "metadata": {},
     "output_type": "execute_result"
    }
   ],
   "source": [
    "Y_pred_tr"
   ]
  },
  {
   "cell_type": "code",
   "execution_count": null,
   "metadata": {
    "colab": {
     "base_uri": "https://localhost:8080/"
    },
    "id": "DBysVPkXcLR0",
    "outputId": "e11c2a3a-e40d-482f-e9ec-8bb833f7a855"
   },
   "outputs": [
    {
     "data": {
      "text/plain": [
       "0.8770112621143139"
      ]
     },
     "execution_count": 78,
     "metadata": {},
     "output_type": "execute_result"
    }
   ],
   "source": [
    "roc_auc_score(y_train, Y_pred_tr[:,1])"
   ]
  },
  {
   "cell_type": "code",
   "execution_count": null,
   "metadata": {
    "colab": {
     "base_uri": "https://localhost:8080/"
    },
    "id": "1ZS8R9aveiXm",
    "outputId": "952ac6db-7d72-4893-bf63-90728fdc7125"
   },
   "outputs": [
    {
     "data": {
      "text/plain": [
       "0.8592302561160224"
      ]
     },
     "execution_count": 79,
     "metadata": {},
     "output_type": "execute_result"
    }
   ],
   "source": [
    "roc_auc_score(y_test, Y_pred_te[:,1])"
   ]
  },
  {
   "cell_type": "code",
   "execution_count": null,
   "metadata": {
    "id": "byLZGnOKdt_u"
   },
   "outputs": [],
   "source": [
    "train_fpr, train_tpr, tr_thresholds = roc_curve(y_train, Y_pred_tr[:,1])\n",
    "test_fpr, test_tpr, te_thresholds = roc_curve(y_test, Y_pred_te[:,1])"
   ]
  },
  {
   "cell_type": "code",
   "execution_count": null,
   "metadata": {
    "id": "KEU8zNfEdhg0"
   },
   "outputs": [],
   "source": [
    "def find_best_threshold(threshould, fpr, tpr):\n",
    "    t = threshould[np.argmax(tpr*(1-fpr))]\n",
    "    # (tpr*(1-fpr)) will be maximum if your fpr is very low and tpr is very high\n",
    "    print(\"the maximum value of tpr*(1-fpr)\", max(tpr*(1-fpr)), \"for threshold\", np.round(t,3))\n",
    "    return t\n",
    "  \n",
    "def predict_with_best_t(proba, threshould):\n",
    "    predictions = []\n",
    "    for i in proba:\n",
    "        if i>=threshould:\n",
    "            predictions.append(1)\n",
    "        else:\n",
    "            predictions.append(0)\n",
    "    return predictions"
   ]
  },
  {
   "cell_type": "code",
   "execution_count": null,
   "metadata": {
    "colab": {
     "base_uri": "https://localhost:8080/"
    },
    "id": "mQKz_Ro1e8R-",
    "outputId": "cebc9d29-7966-47f7-dd6a-c013ee2928d1"
   },
   "outputs": [
    {
     "name": "stdout",
     "output_type": "stream",
     "text": [
      "the maximum value of tpr*(1-fpr) 0.6711587815299315 for threshold 0.181\n",
      "Train confusion matrix\n",
      "[[891173 174233]\n",
      " [ 18508  75145]]\n",
      "Test confusion matrix\n",
      "[[479351  94330]\n",
      " [ 11534  38894]]\n"
     ]
    }
   ],
   "source": [
    "best_t = find_best_threshold(tr_thresholds, train_fpr, train_tpr)\n",
    "cm_tr=confusion_matrix(y_train, predict_with_best_t(Y_pred_tr[:,1], best_t))\n",
    "print(\"Train confusion matrix\")\n",
    "print(confusion_matrix(y_train, predict_with_best_t(Y_pred_tr[:,1], best_t)))\n",
    "cm_te=confusion_matrix(y_test, predict_with_best_t(Y_pred_te[:,1], best_t))\n",
    "print(\"Test confusion matrix\")\n",
    "print(confusion_matrix(y_test, predict_with_best_t(Y_pred_te[:,1], best_t)))"
   ]
  },
  {
   "cell_type": "code",
   "execution_count": null,
   "metadata": {
    "id": "Fx18UppoqfsX"
   },
   "outputs": [],
   "source": [
    "def perc_cm(cm):\n",
    "    cm1=[]\n",
    "    r1=[]\n",
    "    r2=[]\n",
    "    for i in range(2):\n",
    "        if i == 0:\n",
    "            for j in cm[i]:\n",
    "                k=j/np.sum(cm[i])\n",
    "                r1.append(k)\n",
    "        if i ==1:\n",
    "            for j in cm[i]:\n",
    "                k=j/np.sum(cm[i])\n",
    "                r2. append(k)\n",
    "    cm1.append(r1)\n",
    "    cm1.append(r2)\n",
    "    return cm1"
   ]
  },
  {
   "cell_type": "code",
   "execution_count": null,
   "metadata": {
    "colab": {
     "base_uri": "https://localhost:8080/",
     "height": 347
    },
    "id": "d8E16veJqfsY",
    "outputId": "194da21b-9452-4f0d-8711-1b9e9a71daea"
   },
   "outputs": [
    {
     "data": {
      "text/plain": [
       "[Text(33.0, 0.5, 'Actual Class'),\n",
       " Text(0.5, 15.0, 'Predicted Class'),\n",
       " Text(0.5, 1.0, 'Train Confusion Matrix')]"
      ]
     },
     "execution_count": 84,
     "metadata": {},
     "output_type": "execute_result"
    },
    {
     "data": {
      "image/png": "[encoded data removed]",
      "text/plain": [
       "<Figure size 432x288 with 2 Axes>"
      ]
     },
     "metadata": {
      "needs_background": "light"
     },
     "output_type": "display_data"
    }
   ],
   "source": [
    "cm_tr1=perc_cm(cm_tr)\n",
    "ax = sns.heatmap(cm_tr1,annot=True,cmap=\"YlGnBu\")\n",
    "ax.set(xlabel =\"Predicted Class\", ylabel = \"Actual Class\", title ='Train Confusion Matrix')"
   ]
  },
  {
   "cell_type": "code",
   "execution_count": null,
   "metadata": {
    "colab": {
     "base_uri": "https://localhost:8080/",
     "height": 347
    },
    "id": "Mqp4w9xEhh44",
    "outputId": "377323f5-6019-4ef2-d160-bae2dd2e1aeb"
   },
   "outputs": [
    {
     "data": {
      "text/plain": [
       "[Text(33.0, 0.5, 'Actual Class'),\n",
       " Text(0.5, 15.0, 'Predicted Class'),\n",
       " Text(0.5, 1.0, 'Train Confusion Matrix')]"
      ]
     },
     "execution_count": 85,
     "metadata": {},
     "output_type": "execute_result"
    },
    {
     "data": {
      "image/png": "[encoded data removed]",
      "text/plain": [
       "<Figure size 432x288 with 2 Axes>"
      ]
     },
     "metadata": {
      "needs_background": "light"
     },
     "output_type": "display_data"
    }
   ],
   "source": [
    "cm_te1=perc_cm(cm_te)\n",
    "ax = sns.heatmap(cm_te1,annot=True,cmap=\"YlGnBu\")\n",
    "ax.set(xlabel =\"Predicted Class\", ylabel = \"Actual Class\", title ='Train Confusion Matrix')"
   ]
  },
  {
   "cell_type": "code",
   "execution_count": null,
   "metadata": {
    "colab": {
     "base_uri": "https://localhost:8080/"
    },
    "id": "VDqrHwIzqfsY",
    "outputId": "39e11e57-dd29-4fd0-c77f-dc852e41b602"
   },
   "outputs": [
    {
     "data": {
      "text/plain": [
       "array([0.99487503, 0.00512497])"
      ]
     },
     "execution_count": 86,
     "metadata": {},
     "output_type": "execute_result"
    }
   ],
   "source": [
    "Y_pred_te[1]"
   ]
  },
  {
   "cell_type": "code",
   "execution_count": null,
   "metadata": {
    "colab": {
     "base_uri": "https://localhost:8080/"
    },
    "id": "GCZKlgwRqfsZ",
    "outputId": "2de7df4b-f819-49d6-c86a-d02f5280c33c"
   },
   "outputs": [
    {
     "name": "stderr",
     "output_type": "stream",
     "text": [
      "/usr/local/lib/python3.7/dist-packages/ipykernel_launcher.py:2: SettingWithCopyWarning: \n",
      "A value is trying to be set on a copy of a slice from a DataFrame.\n",
      "Try using .loc[row_indexer,col_indexer] = value instead\n",
      "\n",
      "See the caveats in the documentation: https://pandas.pydata.org/pandas-docs/stable/user_guide/indexing.html#returning-a-view-versus-a-copy\n",
      "  \n",
      "/usr/local/lib/python3.7/dist-packages/ipykernel_launcher.py:3: SettingWithCopyWarning: \n",
      "A value is trying to be set on a copy of a slice from a DataFrame.\n",
      "Try using .loc[row_indexer,col_indexer] = value instead\n",
      "\n",
      "See the caveats in the documentation: https://pandas.pydata.org/pandas-docs/stable/user_guide/indexing.html#returning-a-view-versus-a-copy\n",
      "  This is separate from the ipykernel package so we can avoid doing imports until\n"
     ]
    }
   ],
   "source": [
    "X_te_bias=X_test[identity_columns]\n",
    "X_te_bias['y_pred']=Y_pred_te[:,1]\n",
    "X_te_bias['y']=y_test"
   ]
  },
  {
   "cell_type": "code",
   "execution_count": null,
   "metadata": {
    "id": "qIiTLVaRqfsZ"
   },
   "outputs": [],
   "source": [
    "identity_columns1=['latino','transgender','asian','psychiatric_or_mental_illness','jewish','homosexual_gay_or_lesbian',\n",
    "                  'black','muslim','white','christian','male','female']"
   ]
  },
  {
   "cell_type": "code",
   "execution_count": null,
   "metadata": {
    "id": "1d8RRxGBqfsZ"
   },
   "outputs": [],
   "source": [
    "SUBGROUP_AUC = 'subgroup_auc'\n",
    "BPSN_AUC = 'bpsn_auc'  # stands for background positive, subgroup negative\n",
    "BNSP_AUC = 'bnsp_auc'  # stands for background negative, subgroup positive\n",
    "\n",
    "def compute_auc(y_true, y_pred):\n",
    "    try:\n",
    "        return metrics.roc_auc_score(y_true, y_pred)\n",
    "    except ValueError:\n",
    "        return np.nan\n",
    "\n",
    "def compute_subgroup_auc(df, subgroup):\n",
    "    subgroup_examples = df[df[subgroup]==1]\n",
    "    return compute_auc(subgroup_examples['y'], subgroup_examples['y_pred'])\n",
    "\n",
    "def compute_bpsn_auc(df, subgroup):\n",
    "    \"\"\"Computes the AUC of the within-subgroup negative examples and the background positive examples.\"\"\"\n",
    "    subgroup_negative_examples = df[df[subgroup]==1]\n",
    "    subgroup_negative_examples = subgroup_negative_examples[subgroup_negative_examples['y']==0]\n",
    "    non_subgroup_positive_examples = df[df[subgroup]==0]\n",
    "    non_subgroup_positive_examples = non_subgroup_positive_examples[non_subgroup_positive_examples['y']==1]\n",
    "    examples = subgroup_negative_examples.append(non_subgroup_positive_examples)\n",
    "    return compute_auc(examples['y'], examples['y_pred'])\n",
    "\n",
    "def compute_bnsp_auc(df, subgroup):\n",
    "    \"\"\"Computes the AUC of the within-subgroup positive examples and the background negative examples.\"\"\"\n",
    "    subgroup_positive_examples = df[df[subgroup]==1]\n",
    "    subgroup_positive_examples = subgroup_positive_examples[subgroup_positive_examples['y']==1]\n",
    "    non_subgroup_negative_examples = df[df[subgroup]==0]\n",
    "    non_subgroup_negative_examples = non_subgroup_negative_examples[non_subgroup_negative_examples['y']==0]\n",
    "    examples = subgroup_positive_examples.append(non_subgroup_negative_examples)\n",
    "    return compute_auc(examples['y'], examples['y_pred'])\n",
    "\n",
    "def compute_bias_metrics_for_model(dataset,\n",
    "                                   subgroups,\n",
    "                                   include_asegs=False):\n",
    "    \"\"\"Computes per-subgroup metrics for all subgroups and one model.\"\"\"\n",
    "    records = []\n",
    "    for subgroup in subgroups:\n",
    "        record = {'subgroup': subgroup,'subgroup_size': len(dataset[dataset[subgroup]==1])}\n",
    "        record[SUBGROUP_AUC] = compute_subgroup_auc(dataset, subgroup)\n",
    "        record[BPSN_AUC] = compute_bpsn_auc(dataset, subgroup)\n",
    "        record[BNSP_AUC] = compute_bnsp_auc(dataset, subgroup)\n",
    "        records.append(record)\n",
    "    return pd.DataFrame(records).sort_values('subgroup_size', ascending=True)"
   ]
  },
  {
   "cell_type": "code",
   "execution_count": null,
   "metadata": {
    "colab": {
     "base_uri": "https://localhost:8080/",
     "height": 426
    },
    "id": "rLJwYQsqqfsa",
    "outputId": "be53b0c2-1f0a-4e9d-cac5-05ce0fda766c"
   },
   "outputs": [
    {
     "data": {
      "text/html": [
       "\n",
       "  <div id=\"df-c2c48e80-150c-45f6-a9af-a0a901687cdc\">\n",
       "    <div class=\"colab-df-container\">\n",
       "      <div>\n",
       "<style scoped>\n",
       "    .dataframe tbody tr th:only-of-type {\n",
       "        vertical-align: middle;\n",
       "    }\n",
       "\n",
       "    .dataframe tbody tr th {\n",
       "        vertical-align: top;\n",
       "    }\n",
       "\n",
       "    .dataframe thead th {\n",
       "        text-align: right;\n",
       "    }\n",
       "</style>\n",
       "<table border=\"1\" class=\"dataframe\">\n",
       "  <thead>\n",
       "    <tr style=\"text-align: right;\">\n",
       "      <th></th>\n",
       "      <th>subgroup</th>\n",
       "      <th>subgroup_size</th>\n",
       "      <th>subgroup_auc</th>\n",
       "      <th>bpsn_auc</th>\n",
       "      <th>bnsp_auc</th>\n",
       "    </tr>\n",
       "  </thead>\n",
       "  <tbody>\n",
       "    <tr>\n",
       "      <th>0</th>\n",
       "      <td>latino</td>\n",
       "      <td>685</td>\n",
       "      <td>0.787630</td>\n",
       "      <td>0.719491</td>\n",
       "      <td>0.898125</td>\n",
       "    </tr>\n",
       "    <tr>\n",
       "      <th>1</th>\n",
       "      <td>transgender</td>\n",
       "      <td>883</td>\n",
       "      <td>0.764576</td>\n",
       "      <td>0.736124</td>\n",
       "      <td>0.870848</td>\n",
       "    </tr>\n",
       "    <tr>\n",
       "      <th>2</th>\n",
       "      <td>asian</td>\n",
       "      <td>1624</td>\n",
       "      <td>0.812762</td>\n",
       "      <td>0.841650</td>\n",
       "      <td>0.819223</td>\n",
       "    </tr>\n",
       "    <tr>\n",
       "      <th>3</th>\n",
       "      <td>psychiatric_or_mental_illness</td>\n",
       "      <td>1673</td>\n",
       "      <td>0.838795</td>\n",
       "      <td>0.810859</td>\n",
       "      <td>0.886334</td>\n",
       "    </tr>\n",
       "    <tr>\n",
       "      <th>4</th>\n",
       "      <td>jewish</td>\n",
       "      <td>2688</td>\n",
       "      <td>0.799956</td>\n",
       "      <td>0.716004</td>\n",
       "      <td>0.911405</td>\n",
       "    </tr>\n",
       "    <tr>\n",
       "      <th>5</th>\n",
       "      <td>homosexual_gay_or_lesbian</td>\n",
       "      <td>3752</td>\n",
       "      <td>0.743978</td>\n",
       "      <td>0.674136</td>\n",
       "      <td>0.901248</td>\n",
       "    </tr>\n",
       "    <tr>\n",
       "      <th>6</th>\n",
       "      <td>black</td>\n",
       "      <td>5116</td>\n",
       "      <td>0.718347</td>\n",
       "      <td>0.575867</td>\n",
       "      <td>0.933006</td>\n",
       "    </tr>\n",
       "    <tr>\n",
       "      <th>7</th>\n",
       "      <td>muslim</td>\n",
       "      <td>7427</td>\n",
       "      <td>0.747050</td>\n",
       "      <td>0.638703</td>\n",
       "      <td>0.926765</td>\n",
       "    </tr>\n",
       "    <tr>\n",
       "      <th>8</th>\n",
       "      <td>white</td>\n",
       "      <td>8675</td>\n",
       "      <td>0.730169</td>\n",
       "      <td>0.550451</td>\n",
       "      <td>0.949861</td>\n",
       "    </tr>\n",
       "    <tr>\n",
       "      <th>9</th>\n",
       "      <td>christian</td>\n",
       "      <td>13923</td>\n",
       "      <td>0.848052</td>\n",
       "      <td>0.859832</td>\n",
       "      <td>0.833408</td>\n",
       "    </tr>\n",
       "    <tr>\n",
       "      <th>10</th>\n",
       "      <td>male</td>\n",
       "      <td>15273</td>\n",
       "      <td>0.829632</td>\n",
       "      <td>0.734691</td>\n",
       "      <td>0.923017</td>\n",
       "    </tr>\n",
       "    <tr>\n",
       "      <th>11</th>\n",
       "      <td>female</td>\n",
       "      <td>18586</td>\n",
       "      <td>0.832075</td>\n",
       "      <td>0.754771</td>\n",
       "      <td>0.912479</td>\n",
       "    </tr>\n",
       "  </tbody>\n",
       "</table>\n",
       "</div>\n",
       "      <button class=\"colab-df-convert\" onclick=\"convertToInteractive('df-c2c48e80-150c-45f6-a9af-a0a901687cdc')\"\n",
       "              title=\"Convert this dataframe to an interactive table.\"\n",
       "              style=\"display:none;\">\n",
       "        \n",
       "  <svg xmlns=\"http://www.w3.org/2000/svg\" height=\"24px\"viewBox=\"0 0 24 24\"\n",
       "       width=\"24px\">\n",
       "    <path d=\"M0 0h24v24H0V0z\" fill=\"none\"/>\n",
       "    <path d=\"M18.56 5.44l.94 2.06.94-2.06 2.06-.94-2.06-.94-.94-2.06-.94 2.06-2.06.94zm-11 1L8.5 8.5l.94-2.06 2.06-.94-2.06-.94L8.5 2.5l-.94 2.06-2.06.94zm10 10l.94 2.06.94-2.06 2.06-.94-2.06-.94-.94-2.06-.94 2.06-2.06.94z\"/><path d=\"M17.41 7.96l-1.37-1.37c-.4-.4-.92-.59-1.43-.59-.52 0-1.04.2-1.43.59L10.3 9.45l-7.72 7.72c-.78.78-.78 2.05 0 2.83L4 21.41c.39.39.9.59 1.41.59.51 0 1.02-.2 1.41-.59l7.78-7.78 2.81-2.81c.8-.78.8-2.07 0-2.86zM5.41 20L4 18.59l7.72-7.72 1.47 1.35L5.41 20z\"/>\n",
       "  </svg>\n",
       "      </button>\n",
       "      \n",
       "  <style>\n",
       "    .colab-df-container {\n",
       "      display:flex;\n",
       "      flex-wrap:wrap;\n",
       "      gap: 12px;\n",
       "    }\n",
       "\n",
       "    .colab-df-convert {\n",
       "      background-color: #E8F0FE;\n",
       "      border: none;\n",
       "      border-radius: 50%;\n",
       "      cursor: pointer;\n",
       "      display: none;\n",
       "      fill: #1967D2;\n",
       "      height: 32px;\n",
       "      padding: 0 0 0 0;\n",
       "      width: 32px;\n",
       "    }\n",
       "\n",
       "    .colab-df-convert:hover {\n",
       "      background-color: #E2EBFA;\n",
       "      box-shadow: 0px 1px 2px rgba(60, 64, 67, 0.3), 0px 1px 3px 1px rgba(60, 64, 67, 0.15);\n",
       "      fill: #174EA6;\n",
       "    }\n",
       "\n",
       "    [theme=dark] .colab-df-convert {\n",
       "      background-color: #3B4455;\n",
       "      fill: #D2E3FC;\n",
       "    }\n",
       "\n",
       "    [theme=dark] .colab-df-convert:hover {\n",
       "      background-color: #434B5C;\n",
       "      box-shadow: 0px 1px 3px 1px rgba(0, 0, 0, 0.15);\n",
       "      filter: drop-shadow(0px 1px 2px rgba(0, 0, 0, 0.3));\n",
       "      fill: #FFFFFF;\n",
       "    }\n",
       "  </style>\n",
       "\n",
       "      <script>\n",
       "        const buttonEl =\n",
       "          document.querySelector('#df-c2c48e80-150c-45f6-a9af-a0a901687cdc button.colab-df-convert');\n",
       "        buttonEl.style.display =\n",
       "          google.colab.kernel.accessAllowed ? 'block' : 'none';\n",
       "\n",
       "        async function convertToInteractive(key) {\n",
       "          const element = document.querySelector('#df-c2c48e80-150c-45f6-a9af-a0a901687cdc');\n",
       "          const dataTable =\n",
       "            await google.colab.kernel.invokeFunction('convertToInteractive',\n",
       "                                                     [key], {});\n",
       "          if (!dataTable) return;\n",
       "\n",
       "          const docLinkHtml = 'Like what you see? Visit the ' +\n",
       "            '<a target=\"_blank\" href=https://colab.research.google.com/notebooks/data_table.ipynb>data table notebook</a>'\n",
       "            + ' to learn more about interactive tables.';\n",
       "          element.innerHTML = '';\n",
       "          dataTable['output_type'] = 'display_data';\n",
       "          await google.colab.output.renderOutput(dataTable, element);\n",
       "          const docLink = document.createElement('div');\n",
       "          docLink.innerHTML = docLinkHtml;\n",
       "          element.appendChild(docLink);\n",
       "        }\n",
       "      </script>\n",
       "    </div>\n",
       "  </div>\n",
       "  "
      ],
      "text/plain": [
       "                         subgroup  subgroup_size  subgroup_auc  bpsn_auc  \\\n",
       "0                          latino            685      0.787630  0.719491   \n",
       "1                     transgender            883      0.764576  0.736124   \n",
       "2                           asian           1624      0.812762  0.841650   \n",
       "3   psychiatric_or_mental_illness           1673      0.838795  0.810859   \n",
       "4                          jewish           2688      0.799956  0.716004   \n",
       "5       homosexual_gay_or_lesbian           3752      0.743978  0.674136   \n",
       "6                           black           5116      0.718347  0.575867   \n",
       "7                          muslim           7427      0.747050  0.638703   \n",
       "8                           white           8675      0.730169  0.550451   \n",
       "9                       christian          13923      0.848052  0.859832   \n",
       "10                           male          15273      0.829632  0.734691   \n",
       "11                         female          18586      0.832075  0.754771   \n",
       "\n",
       "    bnsp_auc  \n",
       "0   0.898125  \n",
       "1   0.870848  \n",
       "2   0.819223  \n",
       "3   0.886334  \n",
       "4   0.911405  \n",
       "5   0.901248  \n",
       "6   0.933006  \n",
       "7   0.926765  \n",
       "8   0.949861  \n",
       "9   0.833408  \n",
       "10  0.923017  \n",
       "11  0.912479  "
      ]
     },
     "execution_count": 91,
     "metadata": {},
     "output_type": "execute_result"
    }
   ],
   "source": [
    "bias_metrics_df = compute_bias_metrics_for_model(X_te_bias, identity_columns1)\n",
    "bias_metrics_df"
   ]
  },
  {
   "cell_type": "code",
   "execution_count": null,
   "metadata": {
    "id": "SPAhCB_e2DuX"
   },
   "outputs": [],
   "source": [
    "bias_score=score(bias_metrics_df,0.859)"
   ]
  },
  {
   "cell_type": "code",
   "execution_count": null,
   "metadata": {
    "id": "a-opZlaWqfsa"
   },
   "outputs": [],
   "source": [
    "def score(df,overall_auc):\n",
    "    l=len(df)\n",
    "    x=df.drop(['subgroup','subgroup_size'],axis=1)\n",
    "    x=x.apply((lambda x: x**(-5)),axis=1)\n",
    "    s=x.sum(axis=0)\n",
    "    s=s.apply(lambda x: (x/l)**(1/(-5)))\n",
    "    s=s.sum(axis=0)\n",
    "    score=0.25*(s+overall_auc)\n",
    "    return score    "
   ]
  },
  {
   "cell_type": "code",
   "execution_count": null,
   "metadata": {
    "id": "rGZeYz9rqfsa"
   },
   "outputs": [],
   "source": [
    "bias_score=score(bias_metrics_df,0.859)"
   ]
  },
  {
   "cell_type": "code",
   "execution_count": null,
   "metadata": {
    "colab": {
     "base_uri": "https://localhost:8080/"
    },
    "id": "u3UZvzf8qfsa",
    "outputId": "771128da-393b-4b7b-b6da-f91b1ade6266"
   },
   "outputs": [
    {
     "data": {
      "text/plain": [
       "0.802485906402565"
      ]
     },
     "execution_count": 94,
     "metadata": {},
     "output_type": "execute_result"
    }
   ],
   "source": [
    "bias_score"
   ]
  },
  {
   "cell_type": "code",
   "execution_count": null,
   "metadata": {
    "colab": {
     "base_uri": "https://localhost:8080/"
    },
    "id": "jzivijr4qfsa",
    "outputId": "556414a3-041f-4919-eacb-8346c8c99c52"
   },
   "outputs": [
    {
     "data": {
      "text/plain": [
       "GridSearchCV(cv=10, estimator=MultinomialNB(),\n",
       "             param_grid={'alpha': [0.0001, 0.001, 0.01, 0.1, 1, 10, 50, 100,\n",
       "                                   500],\n",
       "                         'fit_prior': [True, False]},\n",
       "             scoring='roc_auc')"
      ]
     },
     "execution_count": 95,
     "metadata": {},
     "output_type": "execute_result"
    }
   ],
   "source": [
    "parameters={'alpha':[0.0001,0.001,0.01,0.1,1,10,50,100,500],'fit_prior':[True,False]}\n",
    "NB = MultinomialNB()\n",
    "clf = GridSearchCV(NB, parameters,scoring='roc_auc',cv=10)\n",
    "clf.fit(X_tr2,y_train_scraped)"
   ]
  },
  {
   "cell_type": "code",
   "execution_count": null,
   "metadata": {
    "colab": {
     "base_uri": "https://localhost:8080/"
    },
    "id": "U-pxaQrQqfsb",
    "outputId": "2f67cc4c-3683-48cf-efb4-53634d9eeadb"
   },
   "outputs": [
    {
     "data": {
      "text/plain": [
       "MultinomialNB(alpha=1, fit_prior=False)"
      ]
     },
     "execution_count": 96,
     "metadata": {},
     "output_type": "execute_result"
    }
   ],
   "source": [
    "clf.best_estimator_"
   ]
  },
  {
   "cell_type": "code",
   "execution_count": null,
   "metadata": {
    "id": "q8TD8SS_qfsb"
   },
   "outputs": [],
   "source": [
    "NB = MultinomialNB(alpha=1,fit_prior=True)\n",
    "NB.fit(X_tr2,y_train_scraped)\n",
    "Y_pred_tr=NB.predict_proba(X_tr2)"
   ]
  },
  {
   "cell_type": "code",
   "execution_count": null,
   "metadata": {
    "id": "e_8uE6X5qfsc"
   },
   "outputs": [],
   "source": [
    "Y_pred_te=NB.predict_proba(X_te2)"
   ]
  },
  {
   "cell_type": "code",
   "execution_count": null,
   "metadata": {
    "colab": {
     "base_uri": "https://localhost:8080/"
    },
    "id": "Q8HFgeCAqfsc",
    "outputId": "b758da6f-ed9d-4f69-8385-390ae4a2300f"
   },
   "outputs": [
    {
     "data": {
      "text/plain": [
       "0.8776027204560093"
      ]
     },
     "execution_count": 100,
     "metadata": {},
     "output_type": "execute_result"
    }
   ],
   "source": [
    "roc_auc_score(y_train_scraped, Y_pred_tr[:,1])"
   ]
  },
  {
   "cell_type": "code",
   "execution_count": null,
   "metadata": {
    "colab": {
     "base_uri": "https://localhost:8080/"
    },
    "id": "IDu_1AJNqfsc",
    "outputId": "9af9b503-01e8-4762-be94-67818043119a"
   },
   "outputs": [
    {
     "data": {
      "text/plain": [
       "0.859233628044739"
      ]
     },
     "execution_count": 101,
     "metadata": {},
     "output_type": "execute_result"
    }
   ],
   "source": [
    "roc_auc_score(y_test, Y_pred_te[:,1])"
   ]
  },
  {
   "cell_type": "code",
   "execution_count": null,
   "metadata": {
    "colab": {
     "base_uri": "https://localhost:8080/"
    },
    "id": "ylYUPfJ5qfsc",
    "outputId": "a9f9f9ec-31f1-4bb5-ff1a-93d2782beb23"
   },
   "outputs": [
    {
     "name": "stderr",
     "output_type": "stream",
     "text": [
      "/usr/local/lib/python3.7/dist-packages/ipykernel_launcher.py:2: SettingWithCopyWarning: \n",
      "A value is trying to be set on a copy of a slice from a DataFrame.\n",
      "Try using .loc[row_indexer,col_indexer] = value instead\n",
      "\n",
      "See the caveats in the documentation: https://pandas.pydata.org/pandas-docs/stable/user_guide/indexing.html#returning-a-view-versus-a-copy\n",
      "  \n",
      "/usr/local/lib/python3.7/dist-packages/ipykernel_launcher.py:3: SettingWithCopyWarning: \n",
      "A value is trying to be set on a copy of a slice from a DataFrame.\n",
      "Try using .loc[row_indexer,col_indexer] = value instead\n",
      "\n",
      "See the caveats in the documentation: https://pandas.pydata.org/pandas-docs/stable/user_guide/indexing.html#returning-a-view-versus-a-copy\n",
      "  This is separate from the ipykernel package so we can avoid doing imports until\n"
     ]
    }
   ],
   "source": [
    "X_te_bias=X_test[identity_columns]\n",
    "X_te_bias['y_pred']=Y_pred_te[:,1]\n",
    "X_te_bias['y']=y_test"
   ]
  },
  {
   "cell_type": "code",
   "execution_count": null,
   "metadata": {
    "colab": {
     "base_uri": "https://localhost:8080/",
     "height": 426
    },
    "id": "esFivtZHqfsd",
    "outputId": "a1ef4cf3-02db-405a-d848-2ca152b4295c"
   },
   "outputs": [
    {
     "data": {
      "text/html": [
       "\n",
       "  <div id=\"df-0ad3d1b3-4103-4a46-a79a-925dbc2d8910\">\n",
       "    <div class=\"colab-df-container\">\n",
       "      <div>\n",
       "<style scoped>\n",
       "    .dataframe tbody tr th:only-of-type {\n",
       "        vertical-align: middle;\n",
       "    }\n",
       "\n",
       "    .dataframe tbody tr th {\n",
       "        vertical-align: top;\n",
       "    }\n",
       "\n",
       "    .dataframe thead th {\n",
       "        text-align: right;\n",
       "    }\n",
       "</style>\n",
       "<table border=\"1\" class=\"dataframe\">\n",
       "  <thead>\n",
       "    <tr style=\"text-align: right;\">\n",
       "      <th></th>\n",
       "      <th>subgroup</th>\n",
       "      <th>subgroup_size</th>\n",
       "      <th>subgroup_auc</th>\n",
       "      <th>bpsn_auc</th>\n",
       "      <th>bnsp_auc</th>\n",
       "    </tr>\n",
       "  </thead>\n",
       "  <tbody>\n",
       "    <tr>\n",
       "      <th>0</th>\n",
       "      <td>latino</td>\n",
       "      <td>685</td>\n",
       "      <td>0.791262</td>\n",
       "      <td>0.734553</td>\n",
       "      <td>0.889351</td>\n",
       "    </tr>\n",
       "    <tr>\n",
       "      <th>1</th>\n",
       "      <td>transgender</td>\n",
       "      <td>883</td>\n",
       "      <td>0.766323</td>\n",
       "      <td>0.754182</td>\n",
       "      <td>0.858429</td>\n",
       "    </tr>\n",
       "    <tr>\n",
       "      <th>2</th>\n",
       "      <td>asian</td>\n",
       "      <td>1624</td>\n",
       "      <td>0.813035</td>\n",
       "      <td>0.851801</td>\n",
       "      <td>0.805722</td>\n",
       "    </tr>\n",
       "    <tr>\n",
       "      <th>3</th>\n",
       "      <td>psychiatric_or_mental_illness</td>\n",
       "      <td>1673</td>\n",
       "      <td>0.841340</td>\n",
       "      <td>0.818838</td>\n",
       "      <td>0.881022</td>\n",
       "    </tr>\n",
       "    <tr>\n",
       "      <th>4</th>\n",
       "      <td>jewish</td>\n",
       "      <td>2688</td>\n",
       "      <td>0.802509</td>\n",
       "      <td>0.737441</td>\n",
       "      <td>0.899470</td>\n",
       "    </tr>\n",
       "    <tr>\n",
       "      <th>5</th>\n",
       "      <td>homosexual_gay_or_lesbian</td>\n",
       "      <td>3752</td>\n",
       "      <td>0.747793</td>\n",
       "      <td>0.695553</td>\n",
       "      <td>0.891025</td>\n",
       "    </tr>\n",
       "    <tr>\n",
       "      <th>6</th>\n",
       "      <td>black</td>\n",
       "      <td>5116</td>\n",
       "      <td>0.719381</td>\n",
       "      <td>0.581493</td>\n",
       "      <td>0.931172</td>\n",
       "    </tr>\n",
       "    <tr>\n",
       "      <th>7</th>\n",
       "      <td>muslim</td>\n",
       "      <td>7427</td>\n",
       "      <td>0.751407</td>\n",
       "      <td>0.651339</td>\n",
       "      <td>0.923177</td>\n",
       "    </tr>\n",
       "    <tr>\n",
       "      <th>8</th>\n",
       "      <td>white</td>\n",
       "      <td>8675</td>\n",
       "      <td>0.731557</td>\n",
       "      <td>0.556051</td>\n",
       "      <td>0.948580</td>\n",
       "    </tr>\n",
       "    <tr>\n",
       "      <th>9</th>\n",
       "      <td>christian</td>\n",
       "      <td>13923</td>\n",
       "      <td>0.847852</td>\n",
       "      <td>0.865210</td>\n",
       "      <td>0.826662</td>\n",
       "    </tr>\n",
       "    <tr>\n",
       "      <th>10</th>\n",
       "      <td>male</td>\n",
       "      <td>15273</td>\n",
       "      <td>0.829686</td>\n",
       "      <td>0.740663</td>\n",
       "      <td>0.919750</td>\n",
       "    </tr>\n",
       "    <tr>\n",
       "      <th>11</th>\n",
       "      <td>female</td>\n",
       "      <td>18586</td>\n",
       "      <td>0.831792</td>\n",
       "      <td>0.760405</td>\n",
       "      <td>0.908960</td>\n",
       "    </tr>\n",
       "  </tbody>\n",
       "</table>\n",
       "</div>\n",
       "      <button class=\"colab-df-convert\" onclick=\"convertToInteractive('df-0ad3d1b3-4103-4a46-a79a-925dbc2d8910')\"\n",
       "              title=\"Convert this dataframe to an interactive table.\"\n",
       "              style=\"display:none;\">\n",
       "        \n",
       "  <svg xmlns=\"http://www.w3.org/2000/svg\" height=\"24px\"viewBox=\"0 0 24 24\"\n",
       "       width=\"24px\">\n",
       "    <path d=\"M0 0h24v24H0V0z\" fill=\"none\"/>\n",
       "    <path d=\"M18.56 5.44l.94 2.06.94-2.06 2.06-.94-2.06-.94-.94-2.06-.94 2.06-2.06.94zm-11 1L8.5 8.5l.94-2.06 2.06-.94-2.06-.94L8.5 2.5l-.94 2.06-2.06.94zm10 10l.94 2.06.94-2.06 2.06-.94-2.06-.94-.94-2.06-.94 2.06-2.06.94z\"/><path d=\"M17.41 7.96l-1.37-1.37c-.4-.4-.92-.59-1.43-.59-.52 0-1.04.2-1.43.59L10.3 9.45l-7.72 7.72c-.78.78-.78 2.05 0 2.83L4 21.41c.39.39.9.59 1.41.59.51 0 1.02-.2 1.41-.59l7.78-7.78 2.81-2.81c.8-.78.8-2.07 0-2.86zM5.41 20L4 18.59l7.72-7.72 1.47 1.35L5.41 20z\"/>\n",
       "  </svg>\n",
       "      </button>\n",
       "      \n",
       "  <style>\n",
       "    .colab-df-container {\n",
       "      display:flex;\n",
       "      flex-wrap:wrap;\n",
       "      gap: 12px;\n",
       "    }\n",
       "\n",
       "    .colab-df-convert {\n",
       "      background-color: #E8F0FE;\n",
       "      border: none;\n",
       "      border-radius: 50%;\n",
       "      cursor: pointer;\n",
       "      display: none;\n",
       "      fill: #1967D2;\n",
       "      height: 32px;\n",
       "      padding: 0 0 0 0;\n",
       "      width: 32px;\n",
       "    }\n",
       "\n",
       "    .colab-df-convert:hover {\n",
       "      background-color: #E2EBFA;\n",
       "      box-shadow: 0px 1px 2px rgba(60, 64, 67, 0.3), 0px 1px 3px 1px rgba(60, 64, 67, 0.15);\n",
       "      fill: #174EA6;\n",
       "    }\n",
       "\n",
       "    [theme=dark] .colab-df-convert {\n",
       "      background-color: #3B4455;\n",
       "      fill: #D2E3FC;\n",
       "    }\n",
       "\n",
       "    [theme=dark] .colab-df-convert:hover {\n",
       "      background-color: #434B5C;\n",
       "      box-shadow: 0px 1px 3px 1px rgba(0, 0, 0, 0.15);\n",
       "      filter: drop-shadow(0px 1px 2px rgba(0, 0, 0, 0.3));\n",
       "      fill: #FFFFFF;\n",
       "    }\n",
       "  </style>\n",
       "\n",
       "      <script>\n",
       "        const buttonEl =\n",
       "          document.querySelector('#df-0ad3d1b3-4103-4a46-a79a-925dbc2d8910 button.colab-df-convert');\n",
       "        buttonEl.style.display =\n",
       "          google.colab.kernel.accessAllowed ? 'block' : 'none';\n",
       "\n",
       "        async function convertToInteractive(key) {\n",
       "          const element = document.querySelector('#df-0ad3d1b3-4103-4a46-a79a-925dbc2d8910');\n",
       "          const dataTable =\n",
       "            await google.colab.kernel.invokeFunction('convertToInteractive',\n",
       "                                                     [key], {});\n",
       "          if (!dataTable) return;\n",
       "\n",
       "          const docLinkHtml = 'Like what you see? Visit the ' +\n",
       "            '<a target=\"_blank\" href=https://colab.research.google.com/notebooks/data_table.ipynb>data table notebook</a>'\n",
       "            + ' to learn more about interactive tables.';\n",
       "          element.innerHTML = '';\n",
       "          dataTable['output_type'] = 'display_data';\n",
       "          await google.colab.output.renderOutput(dataTable, element);\n",
       "          const docLink = document.createElement('div');\n",
       "          docLink.innerHTML = docLinkHtml;\n",
       "          element.appendChild(docLink);\n",
       "        }\n",
       "      </script>\n",
       "    </div>\n",
       "  </div>\n",
       "  "
      ],
      "text/plain": [
       "                         subgroup  subgroup_size  subgroup_auc  bpsn_auc  \\\n",
       "0                          latino            685      0.791262  0.734553   \n",
       "1                     transgender            883      0.766323  0.754182   \n",
       "2                           asian           1624      0.813035  0.851801   \n",
       "3   psychiatric_or_mental_illness           1673      0.841340  0.818838   \n",
       "4                          jewish           2688      0.802509  0.737441   \n",
       "5       homosexual_gay_or_lesbian           3752      0.747793  0.695553   \n",
       "6                           black           5116      0.719381  0.581493   \n",
       "7                          muslim           7427      0.751407  0.651339   \n",
       "8                           white           8675      0.731557  0.556051   \n",
       "9                       christian          13923      0.847852  0.865210   \n",
       "10                           male          15273      0.829686  0.740663   \n",
       "11                         female          18586      0.831792  0.760405   \n",
       "\n",
       "    bnsp_auc  \n",
       "0   0.889351  \n",
       "1   0.858429  \n",
       "2   0.805722  \n",
       "3   0.881022  \n",
       "4   0.899470  \n",
       "5   0.891025  \n",
       "6   0.931172  \n",
       "7   0.923177  \n",
       "8   0.948580  \n",
       "9   0.826662  \n",
       "10  0.919750  \n",
       "11  0.908960  "
      ]
     },
     "execution_count": 103,
     "metadata": {},
     "output_type": "execute_result"
    }
   ],
   "source": [
    "bias_metrics_df = compute_bias_metrics_for_model(X_te_bias, identity_columns1)\n",
    "bias_metrics_df"
   ]
  },
  {
   "cell_type": "code",
   "execution_count": null,
   "metadata": {
    "id": "VpWESetUqfsd"
   },
   "outputs": [],
   "source": [
    "bias_score=score(bias_metrics_df,0.8592)"
   ]
  },
  {
   "cell_type": "code",
   "execution_count": null,
   "metadata": {
    "colab": {
     "base_uri": "https://localhost:8080/"
    },
    "id": "Gv9XuBckqfsd",
    "outputId": "ba31dd0a-cfb5-404e-9800-18821ab7ef72"
   },
   "outputs": [
    {
     "data": {
      "text/plain": [
       "0.8036860803879485"
      ]
     },
     "execution_count": 105,
     "metadata": {},
     "output_type": "execute_result"
    }
   ],
   "source": [
    "bias_score"
   ]
  },
  {
   "cell_type": "markdown",
   "metadata": {
    "id": "iLTytDhNtF60"
   },
   "source": [
    "# TfIdf"
   ]
  },
  {
   "cell_type": "code",
   "execution_count": null,
   "metadata": {
    "id": "ku8KNk-0lzS2"
   },
   "outputs": [],
   "source": []
  },
  {
   "cell_type": "code",
   "execution_count": null,
   "metadata": {
    "id": "-tJ08Eoocw4H"
   },
   "outputs": [],
   "source": [
    "vectorizer = TfidfVectorizer()\n",
    "tfidf_vect = vectorizer.fit(X_train['clean_text'])"
   ]
  },
  {
   "cell_type": "code",
   "execution_count": null,
   "metadata": {
    "id": "MiWacUV-tSVR"
   },
   "outputs": [],
   "source": [
    "f = open('/content/drive/MyDrive/vetorizer.pickle', 'wb')\n",
    "pickle.dump(vectorizer1, f)\n",
    "f.close()"
   ]
  },
  {
   "cell_type": "code",
   "execution_count": null,
   "metadata": {
    "id": "hQcvpciifyX6"
   },
   "outputs": [],
   "source": [
    "X_train_tfidf_feature=tfidf_vect.transform(X_train['clean_text'])\n",
    "X_test_tfidf_feature=tfidf_vect.transform(X_test['clean_text'])"
   ]
  },
  {
   "cell_type": "code",
   "execution_count": null,
   "metadata": {
    "colab": {
     "base_uri": "https://localhost:8080/"
    },
    "id": "Zqn3E8JCqfse",
    "outputId": "02c51d50-39b5-43b1-9fe7-3e148377bb7b"
   },
   "outputs": [
    {
     "data": {
      "text/plain": [
       "TfidfVectorizer()"
      ]
     },
     "execution_count": 25,
     "metadata": {},
     "output_type": "execute_result"
    }
   ],
   "source": [
    "vectorizer1 = TfidfVectorizer()\n",
    "vectorizer1.fit(X_train_scrapped['clean_text'])"
   ]
  },
  {
   "cell_type": "code",
   "execution_count": null,
   "metadata": {
    "id": "rBRhZrxPqfse"
   },
   "outputs": [],
   "source": [
    "X_train_scraped_tfidf_feature=vectorizer1.transform(X_train_scrapped['clean_text'])\n",
    "X_test_scraped_tfidf_feature=vectorizer1.transform(X_test['clean_text'])"
   ]
  },
  {
   "cell_type": "code",
   "execution_count": null,
   "metadata": {
    "id": "V_LhBMqghsTt"
   },
   "outputs": [],
   "source": [
    "X_tr1 = hstack((X_train1, X_train_tfidf_feature)).tocsr()\n",
    "X_te1 = hstack((X_test1, X_test_tfidf_feature)).tocsr()\n",
    "X_tr2 = hstack((X_train2, X_train_scraped_tfidf_feature)).tocsr()\n",
    "X_te2 = hstack((X_test1, X_test_scraped_tfidf_feature)).tocsr()"
   ]
  },
  {
   "cell_type": "code",
   "execution_count": null,
   "metadata": {
    "colab": {
     "base_uri": "https://localhost:8080/",
     "height": 346
    },
    "id": "pLPPU_PLiDfX",
    "outputId": "672d5611-8727-4079-af91-a9c0093bc396"
   },
   "outputs": [],
   "source": [
    "parameters={'alpha':[0.0001,0.001,0.01,0.1,1,10,50,100,500]}\n",
    "NB = MultinomialNB(fit_prior=True)\n",
    "clf = GridSearchCV(NB, parameters,cv=10,scoring='roc_auc')\n",
    "clf.fit(X_tr1,y_train)"
   ]
  },
  {
   "cell_type": "code",
   "execution_count": null,
   "metadata": {
    "id": "nh1f9Mdkvzdh"
   },
   "outputs": [],
   "source": [
    "clf.best_estimator_"
   ]
  },
  {
   "cell_type": "code",
   "execution_count": null,
   "metadata": {
    "id": "ExYmlfydvuBW"
   },
   "outputs": [],
   "source": [
    "NB = MultinomialNB(alpha=0.1,fit_prior=True)\n",
    "NB.fit(X_tr1,y_train)\n",
    "Y_pred_tr=NB.predict_proba(X_tr1)"
   ]
  },
  {
   "cell_type": "code",
   "execution_count": null,
   "metadata": {
    "id": "gcaCYAwIiipK"
   },
   "outputs": [],
   "source": [
    "Y_pred_te=NB.predict_proba(X_te1)"
   ]
  },
  {
   "cell_type": "code",
   "execution_count": null,
   "metadata": {
    "colab": {
     "base_uri": "https://localhost:8080/"
    },
    "id": "J-c7P4MPqxRO",
    "outputId": "704ee70e-7c4c-4d88-e98d-bb2c0a03cba9"
   },
   "outputs": [
    {
     "data": {
      "text/plain": [
       "0.912437475010464"
      ]
     },
     "execution_count": 115,
     "metadata": {},
     "output_type": "execute_result"
    }
   ],
   "source": [
    "roc_auc_score(y_train, Y_pred_tr[:,1])"
   ]
  },
  {
   "cell_type": "code",
   "execution_count": null,
   "metadata": {
    "colab": {
     "base_uri": "https://localhost:8080/"
    },
    "id": "xnIsYQ5oq5kY",
    "outputId": "5977621b-a992-4640-98ec-d5f8da757b5a"
   },
   "outputs": [
    {
     "data": {
      "text/plain": [
       "0.8694390746912724"
      ]
     },
     "execution_count": 116,
     "metadata": {},
     "output_type": "execute_result"
    }
   ],
   "source": [
    "roc_auc_score(y_test, Y_pred_te[:,1])"
   ]
  },
  {
   "cell_type": "code",
   "execution_count": null,
   "metadata": {
    "id": "zcyp2dGirFOa"
   },
   "outputs": [],
   "source": [
    "train_fpr, train_tpr, tr_thresholds = roc_curve(y_train, Y_pred_tr[:,1])\n",
    "test_fpr, test_tpr, te_thresholds = roc_curve(y_test, Y_pred_te[:,1])"
   ]
  },
  {
   "cell_type": "code",
   "execution_count": null,
   "metadata": {
    "colab": {
     "base_uri": "https://localhost:8080/"
    },
    "id": "MTaU7akLrNWc",
    "outputId": "d42b68f1-4f1a-4075-eb70-4886a1e09d95"
   },
   "outputs": [
    {
     "name": "stdout",
     "output_type": "stream",
     "text": [
      "the maximum value of tpr*(1-fpr) 0.702730110078237 for threshold 0.089\n",
      "Train confusion matrix\n",
      "[[916974 148432]\n",
      " [ 17187  76466]]\n",
      "Test confusion matrix\n",
      "[[492707  80974]\n",
      " [ 13662  36766]]\n"
     ]
    }
   ],
   "source": [
    "best_t = find_best_threshold(tr_thresholds, train_fpr, train_tpr)\n",
    "cm_tr=confusion_matrix(y_train, predict_with_best_t(Y_pred_tr[:,1], best_t))\n",
    "print(\"Train confusion matrix\")\n",
    "print(confusion_matrix(y_train, predict_with_best_t(Y_pred_tr[:,1], best_t)))\n",
    "cm_te=confusion_matrix(y_test, predict_with_best_t(Y_pred_te[:,1], best_t))\n",
    "print(\"Test confusion matrix\")\n",
    "print(confusion_matrix(y_test, predict_with_best_t(Y_pred_te[:,1], best_t)))"
   ]
  },
  {
   "cell_type": "code",
   "execution_count": null,
   "metadata": {
    "id": "naafIGK1rbJr"
   },
   "outputs": [],
   "source": [
    "def perc_cm(cm):\n",
    "    cm1=[]\n",
    "    r1=[]\n",
    "    r2=[]\n",
    "    for i in range(2):\n",
    "        if i == 0:\n",
    "            for j in cm[i]:\n",
    "                k=j/np.sum(cm[i])\n",
    "                r1.append(k)\n",
    "        if i ==1:\n",
    "            for j in cm[i]:\n",
    "                k=j/np.sum(cm[i])\n",
    "                r2. append(k)\n",
    "    cm1.append(r1)\n",
    "    cm1.append(r2)\n",
    "    return cm1"
   ]
  },
  {
   "cell_type": "code",
   "execution_count": null,
   "metadata": {
    "colab": {
     "base_uri": "https://localhost:8080/",
     "height": 347
    },
    "id": "Tt4iVroDsf3S",
    "outputId": "98b85cb7-18a5-46c7-f692-f4b83b2f41a0"
   },
   "outputs": [
    {
     "data": {
      "text/plain": [
       "[Text(33.0, 0.5, 'Actual Class'),\n",
       " Text(0.5, 15.0, 'Predicted Class'),\n",
       " Text(0.5, 1.0, 'Train Confusion Matrix')]"
      ]
     },
     "execution_count": 120,
     "metadata": {},
     "output_type": "execute_result"
    },
    {
     "data": {
      "image/png": "[encoded data removed]",
      "text/plain": [
       "<Figure size 432x288 with 2 Axes>"
      ]
     },
     "metadata": {
      "needs_background": "light"
     },
     "output_type": "display_data"
    }
   ],
   "source": [
    "cm_tr1=perc_cm(cm_tr)\n",
    "ax = sns.heatmap(cm_tr1,annot=True,cmap=\"YlGnBu\")\n",
    "ax.set(xlabel =\"Predicted Class\", ylabel = \"Actual Class\", title ='Train Confusion Matrix')"
   ]
  },
  {
   "cell_type": "code",
   "execution_count": null,
   "metadata": {
    "colab": {
     "base_uri": "https://localhost:8080/",
     "height": 347
    },
    "id": "YG30ij_9s41A",
    "outputId": "8e27292c-bdd9-423c-a91b-0148cf54de58"
   },
   "outputs": [
    {
     "data": {
      "text/plain": [
       "[Text(33.0, 0.5, 'Actual Class'),\n",
       " Text(0.5, 15.0, 'Predicted Class'),\n",
       " Text(0.5, 1.0, 'Test Confusion Matrix')]"
      ]
     },
     "execution_count": 121,
     "metadata": {},
     "output_type": "execute_result"
    },
    {
     "data": {
      "image/png": "[encoded data removed]",
      "text/plain": [
       "<Figure size 432x288 with 2 Axes>"
      ]
     },
     "metadata": {
      "needs_background": "light"
     },
     "output_type": "display_data"
    }
   ],
   "source": [
    "cm_te1=perc_cm(cm_te)\n",
    "ax = sns.heatmap(cm_te1,annot=True,cmap=\"YlGnBu\")\n",
    "ax.set(xlabel =\"Predicted Class\", ylabel = \"Actual Class\", title ='Test Confusion Matrix')"
   ]
  },
  {
   "cell_type": "code",
   "execution_count": null,
   "metadata": {
    "colab": {
     "base_uri": "https://localhost:8080/"
    },
    "id": "rwLb6TBAqfsh",
    "outputId": "98ff0cd9-150e-4171-ded4-027cf7241f69"
   },
   "outputs": [
    {
     "name": "stderr",
     "output_type": "stream",
     "text": [
      "/usr/local/lib/python3.7/dist-packages/ipykernel_launcher.py:2: SettingWithCopyWarning: \n",
      "A value is trying to be set on a copy of a slice from a DataFrame.\n",
      "Try using .loc[row_indexer,col_indexer] = value instead\n",
      "\n",
      "See the caveats in the documentation: https://pandas.pydata.org/pandas-docs/stable/user_guide/indexing.html#returning-a-view-versus-a-copy\n",
      "  \n",
      "/usr/local/lib/python3.7/dist-packages/ipykernel_launcher.py:3: SettingWithCopyWarning: \n",
      "A value is trying to be set on a copy of a slice from a DataFrame.\n",
      "Try using .loc[row_indexer,col_indexer] = value instead\n",
      "\n",
      "See the caveats in the documentation: https://pandas.pydata.org/pandas-docs/stable/user_guide/indexing.html#returning-a-view-versus-a-copy\n",
      "  This is separate from the ipykernel package so we can avoid doing imports until\n"
     ]
    }
   ],
   "source": [
    "X_te_bias=X_test[identity_columns]\n",
    "X_te_bias['y_pred']=Y_pred_te[:,1]\n",
    "X_te_bias['y']=y_test"
   ]
  },
  {
   "cell_type": "code",
   "execution_count": null,
   "metadata": {
    "colab": {
     "base_uri": "https://localhost:8080/",
     "height": 426
    },
    "id": "U4mUdm_pqfsh",
    "outputId": "b6499fe6-561b-4796-e335-48ae99c024e4"
   },
   "outputs": [
    {
     "data": {
      "text/html": [
       "\n",
       "  <div id=\"df-97c022bb-080f-4f96-a9c1-fb24e314a262\">\n",
       "    <div class=\"colab-df-container\">\n",
       "      <div>\n",
       "<style scoped>\n",
       "    .dataframe tbody tr th:only-of-type {\n",
       "        vertical-align: middle;\n",
       "    }\n",
       "\n",
       "    .dataframe tbody tr th {\n",
       "        vertical-align: top;\n",
       "    }\n",
       "\n",
       "    .dataframe thead th {\n",
       "        text-align: right;\n",
       "    }\n",
       "</style>\n",
       "<table border=\"1\" class=\"dataframe\">\n",
       "  <thead>\n",
       "    <tr style=\"text-align: right;\">\n",
       "      <th></th>\n",
       "      <th>subgroup</th>\n",
       "      <th>subgroup_size</th>\n",
       "      <th>subgroup_auc</th>\n",
       "      <th>bpsn_auc</th>\n",
       "      <th>bnsp_auc</th>\n",
       "    </tr>\n",
       "  </thead>\n",
       "  <tbody>\n",
       "    <tr>\n",
       "      <th>0</th>\n",
       "      <td>latino</td>\n",
       "      <td>685</td>\n",
       "      <td>0.796910</td>\n",
       "      <td>0.787833</td>\n",
       "      <td>0.873794</td>\n",
       "    </tr>\n",
       "    <tr>\n",
       "      <th>1</th>\n",
       "      <td>transgender</td>\n",
       "      <td>883</td>\n",
       "      <td>0.777241</td>\n",
       "      <td>0.775410</td>\n",
       "      <td>0.874355</td>\n",
       "    </tr>\n",
       "    <tr>\n",
       "      <th>2</th>\n",
       "      <td>asian</td>\n",
       "      <td>1624</td>\n",
       "      <td>0.823913</td>\n",
       "      <td>0.871480</td>\n",
       "      <td>0.819341</td>\n",
       "    </tr>\n",
       "    <tr>\n",
       "      <th>3</th>\n",
       "      <td>psychiatric_or_mental_illness</td>\n",
       "      <td>1673</td>\n",
       "      <td>0.861310</td>\n",
       "      <td>0.810478</td>\n",
       "      <td>0.912950</td>\n",
       "    </tr>\n",
       "    <tr>\n",
       "      <th>4</th>\n",
       "      <td>jewish</td>\n",
       "      <td>2688</td>\n",
       "      <td>0.815299</td>\n",
       "      <td>0.784804</td>\n",
       "      <td>0.896853</td>\n",
       "    </tr>\n",
       "    <tr>\n",
       "      <th>5</th>\n",
       "      <td>homosexual_gay_or_lesbian</td>\n",
       "      <td>3752</td>\n",
       "      <td>0.769585</td>\n",
       "      <td>0.744375</td>\n",
       "      <td>0.895305</td>\n",
       "    </tr>\n",
       "    <tr>\n",
       "      <th>6</th>\n",
       "      <td>black</td>\n",
       "      <td>5116</td>\n",
       "      <td>0.769479</td>\n",
       "      <td>0.720347</td>\n",
       "      <td>0.909816</td>\n",
       "    </tr>\n",
       "    <tr>\n",
       "      <th>7</th>\n",
       "      <td>muslim</td>\n",
       "      <td>7427</td>\n",
       "      <td>0.777812</td>\n",
       "      <td>0.731015</td>\n",
       "      <td>0.910978</td>\n",
       "    </tr>\n",
       "    <tr>\n",
       "      <th>8</th>\n",
       "      <td>white</td>\n",
       "      <td>8675</td>\n",
       "      <td>0.766481</td>\n",
       "      <td>0.687734</td>\n",
       "      <td>0.924556</td>\n",
       "    </tr>\n",
       "    <tr>\n",
       "      <th>9</th>\n",
       "      <td>christian</td>\n",
       "      <td>13923</td>\n",
       "      <td>0.852936</td>\n",
       "      <td>0.888223</td>\n",
       "      <td>0.826021</td>\n",
       "    </tr>\n",
       "    <tr>\n",
       "      <th>10</th>\n",
       "      <td>male</td>\n",
       "      <td>15273</td>\n",
       "      <td>0.842877</td>\n",
       "      <td>0.799528</td>\n",
       "      <td>0.905194</td>\n",
       "    </tr>\n",
       "    <tr>\n",
       "      <th>11</th>\n",
       "      <td>female</td>\n",
       "      <td>18586</td>\n",
       "      <td>0.844976</td>\n",
       "      <td>0.816776</td>\n",
       "      <td>0.895267</td>\n",
       "    </tr>\n",
       "  </tbody>\n",
       "</table>\n",
       "</div>\n",
       "      <button class=\"colab-df-convert\" onclick=\"convertToInteractive('df-97c022bb-080f-4f96-a9c1-fb24e314a262')\"\n",
       "              title=\"Convert this dataframe to an interactive table.\"\n",
       "              style=\"display:none;\">\n",
       "        \n",
       "  <svg xmlns=\"http://www.w3.org/2000/svg\" height=\"24px\"viewBox=\"0 0 24 24\"\n",
       "       width=\"24px\">\n",
       "    <path d=\"M0 0h24v24H0V0z\" fill=\"none\"/>\n",
       "    <path d=\"M18.56 5.44l.94 2.06.94-2.06 2.06-.94-2.06-.94-.94-2.06-.94 2.06-2.06.94zm-11 1L8.5 8.5l.94-2.06 2.06-.94-2.06-.94L8.5 2.5l-.94 2.06-2.06.94zm10 10l.94 2.06.94-2.06 2.06-.94-2.06-.94-.94-2.06-.94 2.06-2.06.94z\"/><path d=\"M17.41 7.96l-1.37-1.37c-.4-.4-.92-.59-1.43-.59-.52 0-1.04.2-1.43.59L10.3 9.45l-7.72 7.72c-.78.78-.78 2.05 0 2.83L4 21.41c.39.39.9.59 1.41.59.51 0 1.02-.2 1.41-.59l7.78-7.78 2.81-2.81c.8-.78.8-2.07 0-2.86zM5.41 20L4 18.59l7.72-7.72 1.47 1.35L5.41 20z\"/>\n",
       "  </svg>\n",
       "      </button>\n",
       "      \n",
       "  <style>\n",
       "    .colab-df-container {\n",
       "      display:flex;\n",
       "      flex-wrap:wrap;\n",
       "      gap: 12px;\n",
       "    }\n",
       "\n",
       "    .colab-df-convert {\n",
       "      background-color: #E8F0FE;\n",
       "      border: none;\n",
       "      border-radius: 50%;\n",
       "      cursor: pointer;\n",
       "      display: none;\n",
       "      fill: #1967D2;\n",
       "      height: 32px;\n",
       "      padding: 0 0 0 0;\n",
       "      width: 32px;\n",
       "    }\n",
       "\n",
       "    .colab-df-convert:hover {\n",
       "      background-color: #E2EBFA;\n",
       "      box-shadow: 0px 1px 2px rgba(60, 64, 67, 0.3), 0px 1px 3px 1px rgba(60, 64, 67, 0.15);\n",
       "      fill: #174EA6;\n",
       "    }\n",
       "\n",
       "    [theme=dark] .colab-df-convert {\n",
       "      background-color: #3B4455;\n",
       "      fill: #D2E3FC;\n",
       "    }\n",
       "\n",
       "    [theme=dark] .colab-df-convert:hover {\n",
       "      background-color: #434B5C;\n",
       "      box-shadow: 0px 1px 3px 1px rgba(0, 0, 0, 0.15);\n",
       "      filter: drop-shadow(0px 1px 2px rgba(0, 0, 0, 0.3));\n",
       "      fill: #FFFFFF;\n",
       "    }\n",
       "  </style>\n",
       "\n",
       "      <script>\n",
       "        const buttonEl =\n",
       "          document.querySelector('#df-97c022bb-080f-4f96-a9c1-fb24e314a262 button.colab-df-convert');\n",
       "        buttonEl.style.display =\n",
       "          google.colab.kernel.accessAllowed ? 'block' : 'none';\n",
       "\n",
       "        async function convertToInteractive(key) {\n",
       "          const element = document.querySelector('#df-97c022bb-080f-4f96-a9c1-fb24e314a262');\n",
       "          const dataTable =\n",
       "            await google.colab.kernel.invokeFunction('convertToInteractive',\n",
       "                                                     [key], {});\n",
       "          if (!dataTable) return;\n",
       "\n",
       "          const docLinkHtml = 'Like what you see? Visit the ' +\n",
       "            '<a target=\"_blank\" href=https://colab.research.google.com/notebooks/data_table.ipynb>data table notebook</a>'\n",
       "            + ' to learn more about interactive tables.';\n",
       "          element.innerHTML = '';\n",
       "          dataTable['output_type'] = 'display_data';\n",
       "          await google.colab.output.renderOutput(dataTable, element);\n",
       "          const docLink = document.createElement('div');\n",
       "          docLink.innerHTML = docLinkHtml;\n",
       "          element.appendChild(docLink);\n",
       "        }\n",
       "      </script>\n",
       "    </div>\n",
       "  </div>\n",
       "  "
      ],
      "text/plain": [
       "                         subgroup  subgroup_size  subgroup_auc  bpsn_auc  \\\n",
       "0                          latino            685      0.796910  0.787833   \n",
       "1                     transgender            883      0.777241  0.775410   \n",
       "2                           asian           1624      0.823913  0.871480   \n",
       "3   psychiatric_or_mental_illness           1673      0.861310  0.810478   \n",
       "4                          jewish           2688      0.815299  0.784804   \n",
       "5       homosexual_gay_or_lesbian           3752      0.769585  0.744375   \n",
       "6                           black           5116      0.769479  0.720347   \n",
       "7                          muslim           7427      0.777812  0.731015   \n",
       "8                           white           8675      0.766481  0.687734   \n",
       "9                       christian          13923      0.852936  0.888223   \n",
       "10                           male          15273      0.842877  0.799528   \n",
       "11                         female          18586      0.844976  0.816776   \n",
       "\n",
       "    bnsp_auc  \n",
       "0   0.873794  \n",
       "1   0.874355  \n",
       "2   0.819341  \n",
       "3   0.912950  \n",
       "4   0.896853  \n",
       "5   0.895305  \n",
       "6   0.909816  \n",
       "7   0.910978  \n",
       "8   0.924556  \n",
       "9   0.826021  \n",
       "10  0.905194  \n",
       "11  0.895267  "
      ]
     },
     "execution_count": 123,
     "metadata": {},
     "output_type": "execute_result"
    }
   ],
   "source": [
    "bias_metrics_df = compute_bias_metrics_for_model(X_te_bias, identity_columns1)\n",
    "bias_metrics_df"
   ]
  },
  {
   "cell_type": "code",
   "execution_count": null,
   "metadata": {
    "colab": {
     "base_uri": "https://localhost:8080/"
    },
    "id": "AxtY3oQKqfsi",
    "outputId": "bf00c01c-8e8e-4b20-e65d-88558dbf1b6c"
   },
   "outputs": [
    {
     "name": "stdout",
     "output_type": "stream",
     "text": [
      "0.8323394740676506\n"
     ]
    }
   ],
   "source": [
    "bias_score=score(bias_metrics_df,0.8694)\n",
    "print(bias_score)"
   ]
  },
  {
   "cell_type": "code",
   "execution_count": null,
   "metadata": {
    "colab": {
     "base_uri": "https://localhost:8080/"
    },
    "id": "WzQNhXwhqfsi",
    "outputId": "60926ac0-b6ac-4592-fe6f-56eabb0d7154"
   },
   "outputs": [
    {
     "data": {
      "text/plain": [
       "GridSearchCV(cv=10, estimator=MultinomialNB(),\n",
       "             param_grid={'alpha': [0.0001, 0.001, 0.01, 0.1, 1, 10, 50, 100,\n",
       "                                   500],\n",
       "                         'fit_prior': [True, False]},\n",
       "             scoring='roc_auc')"
      ]
     },
     "execution_count": 34,
     "metadata": {},
     "output_type": "execute_result"
    }
   ],
   "source": [
    "parameters={'alpha':[0.0001,0.001,0.01,0.1,1,10,50,100,500],'fit_prior':[True,False]}\n",
    "NB = MultinomialNB()\n",
    "clf = GridSearchCV(NB, parameters,scoring='roc_auc',cv=10)\n",
    "clf.fit(X_tr2,y_train_scraped)"
   ]
  },
  {
   "cell_type": "code",
   "execution_count": null,
   "metadata": {
    "colab": {
     "base_uri": "https://localhost:8080/"
    },
    "id": "mdN2gWEdqfsi",
    "outputId": "0ad7d348-aff3-4ef5-da34-34d22cd70633"
   },
   "outputs": [
    {
     "data": {
      "text/plain": [
       "MultinomialNB(alpha=0.1)"
      ]
     },
     "execution_count": 35,
     "metadata": {},
     "output_type": "execute_result"
    }
   ],
   "source": [
    "clf.best_estimator_"
   ]
  },
  {
   "cell_type": "code",
   "execution_count": null,
   "metadata": {
    "id": "pRt4fplQqfsi"
   },
   "outputs": [],
   "source": [
    "NB = MultinomialNB(alpha=0.1,fit_prior=True)\n",
    "NB.fit(X_tr2,y_train_scraped)\n",
    "Y_pred_tr=NB.predict_proba(X_tr2)"
   ]
  },
  {
   "cell_type": "code",
   "execution_count": null,
   "metadata": {
    "id": "Mh5GstKfqfsi"
   },
   "outputs": [],
   "source": [
    "Y_pred_te=NB.predict_proba(X_te2)"
   ]
  },
  {
   "cell_type": "code",
   "execution_count": null,
   "metadata": {
    "colab": {
     "base_uri": "https://localhost:8080/"
    },
    "id": "rgsdYHYEqfsj",
    "outputId": "3e6f5221-9195-41d4-fdda-6feac6d24fde"
   },
   "outputs": [
    {
     "data": {
      "text/plain": [
       "0.9126227643638636"
      ]
     },
     "execution_count": 38,
     "metadata": {},
     "output_type": "execute_result"
    }
   ],
   "source": [
    "roc_auc_score(y_train_scraped, Y_pred_tr[:,1])"
   ]
  },
  {
   "cell_type": "code",
   "execution_count": null,
   "metadata": {
    "colab": {
     "base_uri": "https://localhost:8080/"
    },
    "id": "EjCtUcUHqfsj",
    "outputId": "25011e90-a28f-4057-b50d-06018b1a6fb3"
   },
   "outputs": [
    {
     "data": {
      "text/plain": [
       "0.8693233240524082"
      ]
     },
     "execution_count": 39,
     "metadata": {},
     "output_type": "execute_result"
    }
   ],
   "source": [
    "roc_auc_score(y_test, Y_pred_te[:,1])"
   ]
  },
  {
   "cell_type": "code",
   "execution_count": null,
   "metadata": {
    "colab": {
     "base_uri": "https://localhost:8080/"
    },
    "id": "jcDmDKQOqfsj",
    "outputId": "96da06d7-f074-497e-a745-fe2aa9a5d7db"
   },
   "outputs": [
    {
     "name": "stderr",
     "output_type": "stream",
     "text": [
      "/usr/local/lib/python3.7/dist-packages/ipykernel_launcher.py:2: SettingWithCopyWarning: \n",
      "A value is trying to be set on a copy of a slice from a DataFrame.\n",
      "Try using .loc[row_indexer,col_indexer] = value instead\n",
      "\n",
      "See the caveats in the documentation: https://pandas.pydata.org/pandas-docs/stable/user_guide/indexing.html#returning-a-view-versus-a-copy\n",
      "  \n",
      "/usr/local/lib/python3.7/dist-packages/ipykernel_launcher.py:3: SettingWithCopyWarning: \n",
      "A value is trying to be set on a copy of a slice from a DataFrame.\n",
      "Try using .loc[row_indexer,col_indexer] = value instead\n",
      "\n",
      "See the caveats in the documentation: https://pandas.pydata.org/pandas-docs/stable/user_guide/indexing.html#returning-a-view-versus-a-copy\n",
      "  This is separate from the ipykernel package so we can avoid doing imports until\n"
     ]
    }
   ],
   "source": [
    "X_te_bias=X_test[identity_columns]\n",
    "X_te_bias['y_pred']=Y_pred_te[:,1]\n",
    "X_te_bias['y']=y_test"
   ]
  },
  {
   "cell_type": "code",
   "execution_count": null,
   "metadata": {
    "colab": {
     "base_uri": "https://localhost:8080/",
     "height": 426
    },
    "id": "S1J_awpQqfsj",
    "outputId": "7d972daf-5461-4c9c-a0dd-96bddb640634"
   },
   "outputs": [
    {
     "data": {
      "text/html": [
       "\n",
       "  <div id=\"df-bf316a79-249b-4077-9e4e-f0b355db4fa9\">\n",
       "    <div class=\"colab-df-container\">\n",
       "      <div>\n",
       "<style scoped>\n",
       "    .dataframe tbody tr th:only-of-type {\n",
       "        vertical-align: middle;\n",
       "    }\n",
       "\n",
       "    .dataframe tbody tr th {\n",
       "        vertical-align: top;\n",
       "    }\n",
       "\n",
       "    .dataframe thead th {\n",
       "        text-align: right;\n",
       "    }\n",
       "</style>\n",
       "<table border=\"1\" class=\"dataframe\">\n",
       "  <thead>\n",
       "    <tr style=\"text-align: right;\">\n",
       "      <th></th>\n",
       "      <th>subgroup</th>\n",
       "      <th>subgroup_size</th>\n",
       "      <th>subgroup_auc</th>\n",
       "      <th>bpsn_auc</th>\n",
       "      <th>bnsp_auc</th>\n",
       "    </tr>\n",
       "  </thead>\n",
       "  <tbody>\n",
       "    <tr>\n",
       "      <th>0</th>\n",
       "      <td>latino</td>\n",
       "      <td>685</td>\n",
       "      <td>0.801634</td>\n",
       "      <td>0.803376</td>\n",
       "      <td>0.865803</td>\n",
       "    </tr>\n",
       "    <tr>\n",
       "      <th>1</th>\n",
       "      <td>transgender</td>\n",
       "      <td>883</td>\n",
       "      <td>0.780010</td>\n",
       "      <td>0.797891</td>\n",
       "      <td>0.859685</td>\n",
       "    </tr>\n",
       "    <tr>\n",
       "      <th>2</th>\n",
       "      <td>asian</td>\n",
       "      <td>1624</td>\n",
       "      <td>0.827656</td>\n",
       "      <td>0.882099</td>\n",
       "      <td>0.807807</td>\n",
       "    </tr>\n",
       "    <tr>\n",
       "      <th>3</th>\n",
       "      <td>psychiatric_or_mental_illness</td>\n",
       "      <td>1673</td>\n",
       "      <td>0.862000</td>\n",
       "      <td>0.820280</td>\n",
       "      <td>0.906854</td>\n",
       "    </tr>\n",
       "    <tr>\n",
       "      <th>4</th>\n",
       "      <td>jewish</td>\n",
       "      <td>2688</td>\n",
       "      <td>0.816990</td>\n",
       "      <td>0.806358</td>\n",
       "      <td>0.882089</td>\n",
       "    </tr>\n",
       "    <tr>\n",
       "      <th>5</th>\n",
       "      <td>homosexual_gay_or_lesbian</td>\n",
       "      <td>3752</td>\n",
       "      <td>0.771044</td>\n",
       "      <td>0.767886</td>\n",
       "      <td>0.880594</td>\n",
       "    </tr>\n",
       "    <tr>\n",
       "      <th>6</th>\n",
       "      <td>black</td>\n",
       "      <td>5116</td>\n",
       "      <td>0.770112</td>\n",
       "      <td>0.725476</td>\n",
       "      <td>0.907178</td>\n",
       "    </tr>\n",
       "    <tr>\n",
       "      <th>7</th>\n",
       "      <td>muslim</td>\n",
       "      <td>7427</td>\n",
       "      <td>0.780949</td>\n",
       "      <td>0.743383</td>\n",
       "      <td>0.905554</td>\n",
       "    </tr>\n",
       "    <tr>\n",
       "      <th>8</th>\n",
       "      <td>white</td>\n",
       "      <td>8675</td>\n",
       "      <td>0.766598</td>\n",
       "      <td>0.692639</td>\n",
       "      <td>0.921978</td>\n",
       "    </tr>\n",
       "    <tr>\n",
       "      <th>9</th>\n",
       "      <td>christian</td>\n",
       "      <td>13923</td>\n",
       "      <td>0.852703</td>\n",
       "      <td>0.893812</td>\n",
       "      <td>0.816992</td>\n",
       "    </tr>\n",
       "    <tr>\n",
       "      <th>10</th>\n",
       "      <td>male</td>\n",
       "      <td>15273</td>\n",
       "      <td>0.841854</td>\n",
       "      <td>0.805161</td>\n",
       "      <td>0.900676</td>\n",
       "    </tr>\n",
       "    <tr>\n",
       "      <th>11</th>\n",
       "      <td>female</td>\n",
       "      <td>18586</td>\n",
       "      <td>0.844094</td>\n",
       "      <td>0.822197</td>\n",
       "      <td>0.890399</td>\n",
       "    </tr>\n",
       "  </tbody>\n",
       "</table>\n",
       "</div>\n",
       "      <button class=\"colab-df-convert\" onclick=\"convertToInteractive('df-bf316a79-249b-4077-9e4e-f0b355db4fa9')\"\n",
       "              title=\"Convert this dataframe to an interactive table.\"\n",
       "              style=\"display:none;\">\n",
       "        \n",
       "  <svg xmlns=\"http://www.w3.org/2000/svg\" height=\"24px\"viewBox=\"0 0 24 24\"\n",
       "       width=\"24px\">\n",
       "    <path d=\"M0 0h24v24H0V0z\" fill=\"none\"/>\n",
       "    <path d=\"M18.56 5.44l.94 2.06.94-2.06 2.06-.94-2.06-.94-.94-2.06-.94 2.06-2.06.94zm-11 1L8.5 8.5l.94-2.06 2.06-.94-2.06-.94L8.5 2.5l-.94 2.06-2.06.94zm10 10l.94 2.06.94-2.06 2.06-.94-2.06-.94-.94-2.06-.94 2.06-2.06.94z\"/><path d=\"M17.41 7.96l-1.37-1.37c-.4-.4-.92-.59-1.43-.59-.52 0-1.04.2-1.43.59L10.3 9.45l-7.72 7.72c-.78.78-.78 2.05 0 2.83L4 21.41c.39.39.9.59 1.41.59.51 0 1.02-.2 1.41-.59l7.78-7.78 2.81-2.81c.8-.78.8-2.07 0-2.86zM5.41 20L4 18.59l7.72-7.72 1.47 1.35L5.41 20z\"/>\n",
       "  </svg>\n",
       "      </button>\n",
       "      \n",
       "  <style>\n",
       "    .colab-df-container {\n",
       "      display:flex;\n",
       "      flex-wrap:wrap;\n",
       "      gap: 12px;\n",
       "    }\n",
       "\n",
       "    .colab-df-convert {\n",
       "      background-color: #E8F0FE;\n",
       "      border: none;\n",
       "      border-radius: 50%;\n",
       "      cursor: pointer;\n",
       "      display: none;\n",
       "      fill: #1967D2;\n",
       "      height: 32px;\n",
       "      padding: 0 0 0 0;\n",
       "      width: 32px;\n",
       "    }\n",
       "\n",
       "    .colab-df-convert:hover {\n",
       "      background-color: #E2EBFA;\n",
       "      box-shadow: 0px 1px 2px rgba(60, 64, 67, 0.3), 0px 1px 3px 1px rgba(60, 64, 67, 0.15);\n",
       "      fill: #174EA6;\n",
       "    }\n",
       "\n",
       "    [theme=dark] .colab-df-convert {\n",
       "      background-color: #3B4455;\n",
       "      fill: #D2E3FC;\n",
       "    }\n",
       "\n",
       "    [theme=dark] .colab-df-convert:hover {\n",
       "      background-color: #434B5C;\n",
       "      box-shadow: 0px 1px 3px 1px rgba(0, 0, 0, 0.15);\n",
       "      filter: drop-shadow(0px 1px 2px rgba(0, 0, 0, 0.3));\n",
       "      fill: #FFFFFF;\n",
       "    }\n",
       "  </style>\n",
       "\n",
       "      <script>\n",
       "        const buttonEl =\n",
       "          document.querySelector('#df-bf316a79-249b-4077-9e4e-f0b355db4fa9 button.colab-df-convert');\n",
       "        buttonEl.style.display =\n",
       "          google.colab.kernel.accessAllowed ? 'block' : 'none';\n",
       "\n",
       "        async function convertToInteractive(key) {\n",
       "          const element = document.querySelector('#df-bf316a79-249b-4077-9e4e-f0b355db4fa9');\n",
       "          const dataTable =\n",
       "            await google.colab.kernel.invokeFunction('convertToInteractive',\n",
       "                                                     [key], {});\n",
       "          if (!dataTable) return;\n",
       "\n",
       "          const docLinkHtml = 'Like what you see? Visit the ' +\n",
       "            '<a target=\"_blank\" href=https://colab.research.google.com/notebooks/data_table.ipynb>data table notebook</a>'\n",
       "            + ' to learn more about interactive tables.';\n",
       "          element.innerHTML = '';\n",
       "          dataTable['output_type'] = 'display_data';\n",
       "          await google.colab.output.renderOutput(dataTable, element);\n",
       "          const docLink = document.createElement('div');\n",
       "          docLink.innerHTML = docLinkHtml;\n",
       "          element.appendChild(docLink);\n",
       "        }\n",
       "      </script>\n",
       "    </div>\n",
       "  </div>\n",
       "  "
      ],
      "text/plain": [
       "                         subgroup  subgroup_size  subgroup_auc  bpsn_auc  \\\n",
       "0                          latino            685      0.801634  0.803376   \n",
       "1                     transgender            883      0.780010  0.797891   \n",
       "2                           asian           1624      0.827656  0.882099   \n",
       "3   psychiatric_or_mental_illness           1673      0.862000  0.820280   \n",
       "4                          jewish           2688      0.816990  0.806358   \n",
       "5       homosexual_gay_or_lesbian           3752      0.771044  0.767886   \n",
       "6                           black           5116      0.770112  0.725476   \n",
       "7                          muslim           7427      0.780949  0.743383   \n",
       "8                           white           8675      0.766598  0.692639   \n",
       "9                       christian          13923      0.852703  0.893812   \n",
       "10                           male          15273      0.841854  0.805161   \n",
       "11                         female          18586      0.844094  0.822197   \n",
       "\n",
       "    bnsp_auc  \n",
       "0   0.865803  \n",
       "1   0.859685  \n",
       "2   0.807807  \n",
       "3   0.906854  \n",
       "4   0.882089  \n",
       "5   0.880594  \n",
       "6   0.907178  \n",
       "7   0.905554  \n",
       "8   0.921978  \n",
       "9   0.816992  \n",
       "10  0.900676  \n",
       "11  0.890399  "
      ]
     },
     "execution_count": 46,
     "metadata": {},
     "output_type": "execute_result"
    }
   ],
   "source": [
    "bias_metrics_df = compute_bias_metrics_for_model(X_te_bias, identity_columns1)\n",
    "bias_metrics_df"
   ]
  },
  {
   "cell_type": "code",
   "execution_count": null,
   "metadata": {
    "id": "KlTqB22wqfsj"
   },
   "outputs": [],
   "source": [
    "bias_score=score(bias_metrics_df,0.8693)"
   ]
  },
  {
   "cell_type": "code",
   "execution_count": null,
   "metadata": {
    "colab": {
     "base_uri": "https://localhost:8080/"
    },
    "id": "nwrlAskzqfsk",
    "outputId": "507e1756-0ed5-4b91-898c-02ef7dfb4ee3"
   },
   "outputs": [
    {
     "data": {
      "text/plain": [
       "0.8334415914615717"
      ]
     },
     "execution_count": 48,
     "metadata": {},
     "output_type": "execute_result"
    }
   ],
   "source": [
    "bias_score"
   ]
  },
  {
   "cell_type": "code",
   "execution_count": null,
   "metadata": {
    "id": "sy_CLgOladiO"
   },
   "outputs": [],
   "source": [
    "import pickle \n",
    "f = open('/content/drive/MyDrive/NB_classifier.pickle', 'wb')\n",
    "pickle.dump(NB, f)\n",
    "f.close()"
   ]
  },
  {
   "cell_type": "code",
   "execution_count": null,
   "metadata": {
    "id": "AcSMu4hebVN_"
   },
   "outputs": [],
   "source": [
    "clf = pickle.load(open('/content/drive/MyDrive/NB_classifier.pickle', 'rb'))"
   ]
  },
  {
   "cell_type": "code",
   "execution_count": null,
   "metadata": {
    "colab": {
     "base_uri": "https://localhost:8080/"
    },
    "id": "WMzaAQK8cds_",
    "outputId": "65c25c18-290c-4af4-81ac-06f92ff7da2d"
   },
   "outputs": [
    {
     "data": {
      "text/plain": [
       "array([[0.95717772, 0.04282228]])"
      ]
     },
     "execution_count": 58,
     "metadata": {},
     "output_type": "execute_result"
    }
   ],
   "source": [
    "clf.predict_proba(X_te2[0,:])"
   ]
  },
  {
   "cell_type": "code",
   "execution_count": null,
   "metadata": {
    "id": "zvsZ1odMuGlB"
   },
   "outputs": [],
   "source": [
    "x = PrettyTable()\n",
    "x.field_names = ['Feature',\"Train AUC\", \"Test AUC\", \"Bias_Score\"]\n",
    "x.add_rows(\n",
    "    [\n",
    "        [\"BoW\", 0.8770, 0.8592, 0.8024],\n",
    "        [\"BoW with scraped data\", 0.8776, 0.8592, 0.8036],\n",
    "        [\"TfIdf\", 0.9124, 0.8694, 0.8323],\n",
    "        [\"TfIdf with scraped data\", 0.9126, 0.8693, 0.8334]\n",
    "        \n",
    "      \n",
    "    ]\n",
    ")"
   ]
  },
  {
   "cell_type": "code",
   "execution_count": null,
   "metadata": {
    "colab": {
     "base_uri": "https://localhost:8080/"
    },
    "id": "THS1wtclwKQu",
    "outputId": "17e6db69-ae2b-43f5-e06a-062c3cac3b40"
   },
   "outputs": [
    {
     "name": "stdout",
     "output_type": "stream",
     "text": [
      "+-------------------------+-----------+----------+------------+\n",
      "|         Feature         | Train AUC | Test AUC | Bias_Score |\n",
      "+-------------------------+-----------+----------+------------+\n",
      "|           BoW           |   0.877   |  0.8592  |   0.8024   |\n",
      "|  BoW with scraped data  |   0.8776  |  0.8592  |   0.8036   |\n",
      "|          TfIdf          |   0.9124  |  0.8694  |   0.8323   |\n",
      "| TfIdf with scraped data |   0.9126  |  0.8693  |   0.8334   |\n",
      "+-------------------------+-----------+----------+------------+\n"
     ]
    }
   ],
   "source": [
    "print(x)"
   ]
  }
 ],
 "metadata": {
  "colab": {
   "provenance": []
  },
  "kernelspec": {
   "display_name": "Python 3 (ipykernel)",
   "language": "python",
   "name": "python3"
  },
  "language_info": {
   "codemirror_mode": {
    "name": "ipython",
    "version": 3
   },
   "file_extension": ".py",
   "mimetype": "text/x-python",
   "name": "python",
   "nbconvert_exporter": "python",
   "pygments_lexer": "ipython3",
   "version": "3.9.7"
  }
 },
 "nbformat": 4,
 "nbformat_minor": 1
}
