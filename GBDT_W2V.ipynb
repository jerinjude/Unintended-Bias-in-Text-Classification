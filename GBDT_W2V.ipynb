{
 "cells": [
  {
   "cell_type": "code",
   "execution_count": 6,
   "metadata": {
    "colab": {
     "base_uri": "https://localhost:8080/"
    },
    "id": "BiWZunzShwzA",
    "outputId": "920f61cf-c5a1-4b74-e95d-b5d6bc12dbc5"
   },
   "outputs": [
    {
     "name": "stdout",
     "output_type": "stream",
     "text": [
      "Mounted at /content/drive\n"
     ]
    }
   ],
   "source": [
    "from google.colab import drive\n",
    "drive.mount('/content/drive')"
   ]
  },
  {
   "cell_type": "code",
   "execution_count": 51,
   "metadata": {
    "id": "cho7DWwchyPr"
   },
   "outputs": [],
   "source": [
    "import pandas as pd\n",
    "import numpy as np\n",
    "from sklearn.model_selection import train_test_split\n",
    "from sklearn.feature_extraction.text import CountVectorizer\n",
    "import scipy.sparse \n",
    "from scipy.sparse import hstack\n",
    "from sklearn.preprocessing import StandardScaler\n",
    "import dask.dataframe as dd\n",
    "from dask.dataframe import from_pandas\n",
    "from sklearn.naive_bayes import MultinomialNB\n",
    "from sklearn.metrics import roc_auc_score\n",
    "from sklearn.feature_extraction.text import TfidfVectorizer\n",
    "from sklearn.naive_bayes import GaussianNB\n",
    "from sklearn.preprocessing import Normalizer\n",
    "from sklearn.model_selection import GridSearchCV\n",
    "from sklearn import metrics\n",
    "from sklearn.metrics import roc_curve\n",
    "from sklearn.metrics import confusion_matrix\n",
    "import seaborn as sns\n",
    "from tqdm import tqdm\n",
    "from sklearn.ensemble import GradientBoostingClassifier\n",
    "from sklearn.ensemble import HistGradientBoostingClassifier\n",
    "from prettytable import PrettyTable"
   ]
  },
  {
   "cell_type": "code",
   "execution_count": 8,
   "metadata": {
    "id": "6Ri4Iwkfh38W"
   },
   "outputs": [],
   "source": [
    "df=pd.read_csv('/content/drive/MyDrive/feature_extracted')"
   ]
  },
  {
   "cell_type": "code",
   "execution_count": 9,
   "metadata": {
    "id": "NvIQH6oJh6sc"
   },
   "outputs": [],
   "source": [
    "df_scraped=pd.read_csv('/content/drive/MyDrive/scraped_df')"
   ]
  },
  {
   "cell_type": "code",
   "execution_count": 10,
   "metadata": {
    "id": "tWxh0K1fh9jU"
   },
   "outputs": [],
   "source": [
    "columns=['length',\n",
    "       'no_of_words', 'avg_word_length', 'caps', 'excl', 'sentence_count',\n",
    "       'avg_sentence_length', 'sentiment', 'subjectivity', 'noun_count',\n",
    "       'verb_count', 'adj_count', 'adv_count', 'pron_count']"
   ]
  },
  {
   "cell_type": "code",
   "execution_count": 11,
   "metadata": {
    "id": "A8GpoDMaiDTO"
   },
   "outputs": [],
   "source": [
    "identity_columns = ['asian',\n",
    "       'atheist', 'bisexual', 'black', 'buddhist', 'christian', 'female',\n",
    "       'heterosexual', 'hindu', 'homosexual_gay_or_lesbian',\n",
    "       'intellectual_or_learning_disability', 'jewish', 'latino', 'male',\n",
    "       'muslim', 'other_disability', 'other_gender', 'other_race_or_ethnicity',\n",
    "       'other_religion', 'other_sexual_orientation', 'physical_disability',\n",
    "       'psychiatric_or_mental_illness', 'transgender', 'white']"
   ]
  },
  {
   "cell_type": "code",
   "execution_count": 12,
   "metadata": {
    "id": "D5QXxa2SiGc8"
   },
   "outputs": [],
   "source": [
    "def convert_to_bool(df, col_name):\n",
    "    df[col_name] = np.where(df[col_name] >= 0.5, 1, 0)\n",
    "    \n",
    "def convert_dataframe_to_bool(df):\n",
    "    bool_df = df.copy()\n",
    "    for col in ['target'] + identity_columns:\n",
    "        convert_to_bool(bool_df, col)\n",
    "    return bool_df\n",
    "\n",
    "df = convert_dataframe_to_bool(df)"
   ]
  },
  {
   "cell_type": "code",
   "execution_count": 13,
   "metadata": {
    "id": "h0ZmVhqoirEU"
   },
   "outputs": [],
   "source": [
    "df_non_toxic=df[df['target']==0].sample(frac=0.1)\n",
    "df_toxic=df[df['target']==1]"
   ]
  },
  {
   "cell_type": "code",
   "execution_count": 14,
   "metadata": {
    "id": "KdTrprbci9SD"
   },
   "outputs": [],
   "source": [
    "df_new=pd.concat([df_toxic,df_non_toxic],axis=0)"
   ]
  },
  {
   "cell_type": "code",
   "execution_count": 15,
   "metadata": {
    "id": "bL5ZWc6tiIrz"
   },
   "outputs": [],
   "source": [
    "Y=df_new['target']\n",
    "X=df_new.drop(['target'],axis=1)"
   ]
  },
  {
   "cell_type": "code",
   "execution_count": 16,
   "metadata": {
    "colab": {
     "base_uri": "https://localhost:8080/"
    },
    "id": "iU_L-U9viQp_",
    "outputId": "d1dd3c2c-1778-4b4f-9290-92fc477c798a"
   },
   "outputs": [
    {
     "data": {
      "text/plain": [
       "307990"
      ]
     },
     "execution_count": 16,
     "metadata": {},
     "output_type": "execute_result"
    }
   ],
   "source": [
    "len(X)"
   ]
  },
  {
   "cell_type": "code",
   "execution_count": 17,
   "metadata": {
    "id": "r5Uo88r5jbG3"
   },
   "outputs": [],
   "source": [
    "X_train, X_test, y_train, y_test = train_test_split(X, Y, test_size=0.35, random_state=42,stratify=Y, shuffle=True)"
   ]
  },
  {
   "cell_type": "code",
   "execution_count": 18,
   "metadata": {
    "id": "ZqZbIM_tjtVw"
   },
   "outputs": [],
   "source": [
    "X_train=X_train[['clean_text','length',\n",
    "       'no_of_words', 'avg_word_length', 'caps', 'excl', 'sentence_count',\n",
    "       'avg_sentence_length', 'sentiment', 'subjectivity', 'noun_count',\n",
    "       'verb_count', 'adj_count', 'adv_count', 'pron_count']]"
   ]
  },
  {
   "cell_type": "code",
   "execution_count": 19,
   "metadata": {
    "id": "fg2nKmmfjviv"
   },
   "outputs": [],
   "source": [
    "X_scraped=df_scraped.drop(['Unnamed: 0', 'text', 'target'],axis=1)\n",
    "Y_scraped=df_scraped['target']"
   ]
  },
  {
   "cell_type": "code",
   "execution_count": 20,
   "metadata": {
    "id": "nci-cWexjxvz"
   },
   "outputs": [],
   "source": [
    "X_train_scrapped=pd.concat([X_train,X_scraped],axis=0)"
   ]
  },
  {
   "cell_type": "code",
   "execution_count": 21,
   "metadata": {
    "id": "pjnujTpfjzsi"
   },
   "outputs": [],
   "source": [
    "y_train_scraped=pd.concat([y_train,Y_scraped],axis=0)"
   ]
  },
  {
   "cell_type": "code",
   "execution_count": 22,
   "metadata": {
    "id": "nZQa_gJGj1d9"
   },
   "outputs": [],
   "source": [
    "vectorizer = TfidfVectorizer()\n",
    "tfidf_vect = vectorizer.fit(X_train['clean_text'])"
   ]
  },
  {
   "cell_type": "code",
   "execution_count": 23,
   "metadata": {
    "colab": {
     "base_uri": "https://localhost:8080/"
    },
    "id": "EEoDw6_Uj895",
    "outputId": "7587f4cd-aeb5-48da-f0b9-ccb5a138dc55"
   },
   "outputs": [
    {
     "data": {
      "text/plain": [
       "TfidfVectorizer()"
      ]
     },
     "execution_count": 23,
     "metadata": {},
     "output_type": "execute_result"
    }
   ],
   "source": [
    "vectorizer1 = TfidfVectorizer()\n",
    "vectorizer1.fit(X_train_scrapped['clean_text'])"
   ]
  },
  {
   "cell_type": "code",
   "execution_count": 24,
   "metadata": {
    "id": "rX3WtlWbkfk1"
   },
   "outputs": [],
   "source": [
    "import pickle\n",
    "with open('/content/drive/MyDrive/glove.840B.300d.pkl', 'rb') as fp:\n",
    "    glove = pickle.load(fp)\n",
    "glove_words=glove.keys()"
   ]
  },
  {
   "cell_type": "code",
   "execution_count": 19,
   "metadata": {
    "colab": {
     "base_uri": "https://localhost:8080/"
    },
    "id": "KkHYyC3rkijJ",
    "outputId": "405f2d54-3051-4521-b53f-049002752f80"
   },
   "outputs": [
    {
     "name": "stderr",
     "output_type": "stream",
     "text": [
      "/usr/local/lib/python3.7/dist-packages/sklearn/utils/deprecation.py:87: FutureWarning: Function get_feature_names is deprecated; get_feature_names is deprecated in 1.0 and will be removed in 1.2. Please use get_feature_names_out instead.\n",
      "  warnings.warn(msg, category=FutureWarning)\n",
      "100%|██████████| 200193/200193 [00:49<00:00, 4055.99it/s]\n"
     ]
    }
   ],
   "source": [
    "dictionary=dict(zip(vectorizer.get_feature_names(),list(vectorizer.idf_)))\n",
    "word_list=set(vectorizer.get_feature_names())\n",
    "X_train_w2v=[]\n",
    "count={0}\n",
    "for sentence in tqdm(X_train['clean_text']):\n",
    "    vector=np.zeros(300)    \n",
    "    tfidf_weight=0    \n",
    "    l=len(sentence.split())\n",
    "    for word in sentence.split():\n",
    "        if word in glove_words and word in word_list:\n",
    "            count.add(word)\n",
    "            vec=glove[word]               \n",
    "            tfidf=dictionary[word]*(sentence.count(word)/l)            \n",
    "            vector+=(vec*tfidf)            \n",
    "            tfidf_weight+=tfidf\n",
    "    if tfidf_weight !=0:\n",
    "        vector/=tfidf_weight\n",
    "    X_train_w2v.append(vector) "
   ]
  },
  {
   "cell_type": "code",
   "execution_count": null,
   "metadata": {
    "id": "b4mRqpNJvu7v"
   },
   "outputs": [],
   "source": [
    "dictionary=dict(zip(vectorizer.get_feature_names(),list(vectorizer.idf_)))\n",
    "word_list=set(vectorizer.get_feature_names())\n",
    "X_test_w2v=[]\n",
    "count={0}\n",
    "for sentence in tqdm(X_test['clean_text']):\n",
    "    vector=np.zeros(300)    \n",
    "    tfidf_weight=0    \n",
    "    l=len(sentence.split())\n",
    "    for word in sentence.split():\n",
    "        if word in glove_words and word in word_list:\n",
    "            count.add(word)\n",
    "            vec=glove[word]               \n",
    "            tfidf=dictionary[word]*(sentence.count(word)/l)            \n",
    "            vector+=(vec*tfidf)            \n",
    "            tfidf_weight+=tfidf\n",
    "    if tfidf_weight !=0:\n",
    "        vector/=tfidf_weight\n",
    "    X_test_w2v.append(vector)"
   ]
  },
  {
   "cell_type": "code",
   "execution_count": 40,
   "metadata": {
    "colab": {
     "base_uri": "https://localhost:8080/"
    },
    "id": "CP1_5Larklde",
    "outputId": "2a52bba6-1c09-4047-a7f1-9370ea99cc5b"
   },
   "outputs": [
    {
     "data": {
      "text/plain": [
       "GridSearchCV(cv=5, estimator=HistGradientBoostingClassifier(),\n",
       "             param_grid={'max_depth': [4, 5, 6, 7, 8]}, scoring='roc_auc')"
      ]
     },
     "execution_count": 40,
     "metadata": {},
     "output_type": "execute_result"
    }
   ],
   "source": [
    "parameters={'max_depth':[4,5,6,7,8]}\n",
    "clf = HistGradientBoostingClassifier()\n",
    "clf = GridSearchCV(clf, parameters,cv=5,scoring='roc_auc')\n",
    "clf.fit(X_train_w2v,y_train)"
   ]
  },
  {
   "cell_type": "code",
   "execution_count": 41,
   "metadata": {
    "colab": {
     "base_uri": "https://localhost:8080/"
    },
    "id": "7QgR5HHGlTXL",
    "outputId": "ec8cf04c-5f82-47fc-f0b7-b51d1dbe2d35"
   },
   "outputs": [
    {
     "data": {
      "text/plain": [
       "HistGradientBoostingClassifier(max_depth=7)"
      ]
     },
     "execution_count": 41,
     "metadata": {},
     "output_type": "execute_result"
    }
   ],
   "source": [
    "clf.best_estimator_"
   ]
  },
  {
   "cell_type": "code",
   "execution_count": 43,
   "metadata": {
    "id": "859oGMaKoAxb"
   },
   "outputs": [],
   "source": [
    "clf = HistGradientBoostingClassifier(max_depth=7)\n",
    "clf.fit(X_train_w2v,y_train)\n",
    "Y_pred_tr=clf.predict_proba(X_train_w2v)"
   ]
  },
  {
   "cell_type": "code",
   "execution_count": 47,
   "metadata": {
    "id": "jtLLFtRUyk4L"
   },
   "outputs": [],
   "source": [
    "Y_pred_te=clf.predict_proba(X_test_w2v)"
   ]
  },
  {
   "cell_type": "code",
   "execution_count": 45,
   "metadata": {
    "colab": {
     "base_uri": "https://localhost:8080/"
    },
    "id": "gG7eRyp5vfdj",
    "outputId": "70bb8c50-d0a2-4471-dd02-c7165de80595"
   },
   "outputs": [
    {
     "data": {
      "text/plain": [
       "0.8742061001244199"
      ]
     },
     "execution_count": 45,
     "metadata": {},
     "output_type": "execute_result"
    }
   ],
   "source": [
    "roc_auc_score(y_train, Y_pred_tr[:,1])"
   ]
  },
  {
   "cell_type": "code",
   "execution_count": 48,
   "metadata": {
    "colab": {
     "base_uri": "https://localhost:8080/"
    },
    "id": "HH89wuP3vmVj",
    "outputId": "52fc3bbb-2bf2-4954-c10b-78fa2007b408"
   },
   "outputs": [
    {
     "data": {
      "text/plain": [
       "0.8551697983387323"
      ]
     },
     "execution_count": 48,
     "metadata": {},
     "output_type": "execute_result"
    }
   ],
   "source": [
    "roc_auc_score(y_test, Y_pred_te[:,1])"
   ]
  },
  {
   "cell_type": "code",
   "execution_count": 26,
   "metadata": {
    "id": "rTXL27EaoVI0"
   },
   "outputs": [],
   "source": [
    "Y_pred_te=NB.predict_proba(X_test_w2v)"
   ]
  },
  {
   "cell_type": "code",
   "execution_count": 49,
   "metadata": {
    "colab": {
     "base_uri": "https://localhost:8080/"
    },
    "id": "cd3Q_TX71bow",
    "outputId": "80bdf6cd-df50-4fae-e555-a573137e52c6"
   },
   "outputs": [
    {
     "name": "stderr",
     "output_type": "stream",
     "text": [
      "/usr/local/lib/python3.7/dist-packages/ipykernel_launcher.py:2: SettingWithCopyWarning: \n",
      "A value is trying to be set on a copy of a slice from a DataFrame.\n",
      "Try using .loc[row_indexer,col_indexer] = value instead\n",
      "\n",
      "See the caveats in the documentation: https://pandas.pydata.org/pandas-docs/stable/user_guide/indexing.html#returning-a-view-versus-a-copy\n",
      "  \n",
      "/usr/local/lib/python3.7/dist-packages/ipykernel_launcher.py:3: SettingWithCopyWarning: \n",
      "A value is trying to be set on a copy of a slice from a DataFrame.\n",
      "Try using .loc[row_indexer,col_indexer] = value instead\n",
      "\n",
      "See the caveats in the documentation: https://pandas.pydata.org/pandas-docs/stable/user_guide/indexing.html#returning-a-view-versus-a-copy\n",
      "  This is separate from the ipykernel package so we can avoid doing imports until\n"
     ]
    }
   ],
   "source": [
    "X_te_bias=X_test[identity_columns]\n",
    "X_te_bias['y_pred']=Y_pred_te[:,1]\n",
    "X_te_bias['y']=y_test"
   ]
  },
  {
   "cell_type": "code",
   "execution_count": 46,
   "metadata": {
    "id": "zh92J8rU12c1"
   },
   "outputs": [],
   "source": [
    "identity_columns1=['latino','transgender','asian','psychiatric_or_mental_illness','jewish','homosexual_gay_or_lesbian',\n",
    "                  'black','muslim','white','christian','male','female']"
   ]
  },
  {
   "cell_type": "code",
   "execution_count": 43,
   "metadata": {
    "id": "oKx77DvH1q-l"
   },
   "outputs": [],
   "source": [
    "SUBGROUP_AUC = 'subgroup_auc'\n",
    "BPSN_AUC = 'bpsn_auc'  # stands for background positive, subgroup negative\n",
    "BNSP_AUC = 'bnsp_auc'  # stands for background negative, subgroup positive\n",
    "\n",
    "def compute_auc(y_true, y_pred):\n",
    "    try:\n",
    "        return metrics.roc_auc_score(y_true, y_pred)\n",
    "    except ValueError:\n",
    "        return np.nan\n",
    "\n",
    "def compute_subgroup_auc(df, subgroup):\n",
    "    subgroup_examples = df[df[subgroup]==1]\n",
    "    return compute_auc(subgroup_examples['y'], subgroup_examples['y_pred'])\n",
    "\n",
    "def compute_bpsn_auc(df, subgroup):\n",
    "    \"\"\"Computes the AUC of the within-subgroup negative examples and the background positive examples.\"\"\"\n",
    "    subgroup_negative_examples = df[df[subgroup]==1]\n",
    "    subgroup_negative_examples = subgroup_negative_examples[subgroup_negative_examples['y']==0]\n",
    "    non_subgroup_positive_examples = df[df[subgroup]==0]\n",
    "    non_subgroup_positive_examples = non_subgroup_positive_examples[non_subgroup_positive_examples['y']==1]\n",
    "    examples = subgroup_negative_examples.append(non_subgroup_positive_examples)\n",
    "    return compute_auc(examples['y'], examples['y_pred'])\n",
    "\n",
    "def compute_bnsp_auc(df, subgroup):\n",
    "    \"\"\"Computes the AUC of the within-subgroup positive examples and the background negative examples.\"\"\"\n",
    "    subgroup_positive_examples = df[df[subgroup]==1]\n",
    "    subgroup_positive_examples = subgroup_positive_examples[subgroup_positive_examples['y']==1]\n",
    "    non_subgroup_negative_examples = df[df[subgroup]==0]\n",
    "    non_subgroup_negative_examples = non_subgroup_negative_examples[non_subgroup_negative_examples['y']==0]\n",
    "    examples = subgroup_positive_examples.append(non_subgroup_negative_examples)\n",
    "    return compute_auc(examples['y'], examples['y_pred'])\n",
    "\n",
    "def compute_bias_metrics_for_model(dataset,\n",
    "                                   subgroups,\n",
    "                                   include_asegs=False):\n",
    "    \"\"\"Computes per-subgroup metrics for all subgroups and one model.\"\"\"\n",
    "    records = []\n",
    "    for subgroup in subgroups:\n",
    "        record = {'subgroup': subgroup,'subgroup_size': len(dataset[dataset[subgroup]==1])}\n",
    "        record[SUBGROUP_AUC] = compute_subgroup_auc(dataset, subgroup)\n",
    "        record[BPSN_AUC] = compute_bpsn_auc(dataset, subgroup)\n",
    "        record[BNSP_AUC] = compute_bnsp_auc(dataset, subgroup)\n",
    "        records.append(record)\n",
    "    return pd.DataFrame(records).sort_values('subgroup_size', ascending=True)"
   ]
  },
  {
   "cell_type": "code",
   "execution_count": 53,
   "metadata": {
    "colab": {
     "base_uri": "https://localhost:8080/",
     "height": 426
    },
    "id": "jf4w6SpB1dCJ",
    "outputId": "a139029a-ac7f-4a3c-99be-1cd565eb2d60"
   },
   "outputs": [
    {
     "data": {
      "text/html": [
       "\n",
       "  <div id=\"df-bbdb7a0b-fd3d-474d-aedf-c1b4f1898484\">\n",
       "    <div class=\"colab-df-container\">\n",
       "      <div>\n",
       "<style scoped>\n",
       "    .dataframe tbody tr th:only-of-type {\n",
       "        vertical-align: middle;\n",
       "    }\n",
       "\n",
       "    .dataframe tbody tr th {\n",
       "        vertical-align: top;\n",
       "    }\n",
       "\n",
       "    .dataframe thead th {\n",
       "        text-align: right;\n",
       "    }\n",
       "</style>\n",
       "<table border=\"1\" class=\"dataframe\">\n",
       "  <thead>\n",
       "    <tr style=\"text-align: right;\">\n",
       "      <th></th>\n",
       "      <th>subgroup</th>\n",
       "      <th>subgroup_size</th>\n",
       "      <th>subgroup_auc</th>\n",
       "      <th>bpsn_auc</th>\n",
       "      <th>bnsp_auc</th>\n",
       "    </tr>\n",
       "  </thead>\n",
       "  <tbody>\n",
       "    <tr>\n",
       "      <th>0</th>\n",
       "      <td>latino</td>\n",
       "      <td>196</td>\n",
       "      <td>0.809229</td>\n",
       "      <td>0.732885</td>\n",
       "      <td>0.903439</td>\n",
       "    </tr>\n",
       "    <tr>\n",
       "      <th>1</th>\n",
       "      <td>transgender</td>\n",
       "      <td>264</td>\n",
       "      <td>0.730841</td>\n",
       "      <td>0.755053</td>\n",
       "      <td>0.843373</td>\n",
       "    </tr>\n",
       "    <tr>\n",
       "      <th>2</th>\n",
       "      <td>asian</td>\n",
       "      <td>330</td>\n",
       "      <td>0.812011</td>\n",
       "      <td>0.778725</td>\n",
       "      <td>0.882565</td>\n",
       "    </tr>\n",
       "    <tr>\n",
       "      <th>3</th>\n",
       "      <td>psychiatric_or_mental_illness</td>\n",
       "      <td>487</td>\n",
       "      <td>0.784810</td>\n",
       "      <td>0.800037</td>\n",
       "      <td>0.843186</td>\n",
       "    </tr>\n",
       "    <tr>\n",
       "      <th>4</th>\n",
       "      <td>jewish</td>\n",
       "      <td>669</td>\n",
       "      <td>0.765851</td>\n",
       "      <td>0.694391</td>\n",
       "      <td>0.898616</td>\n",
       "    </tr>\n",
       "    <tr>\n",
       "      <th>5</th>\n",
       "      <td>homosexual_gay_or_lesbian</td>\n",
       "      <td>1353</td>\n",
       "      <td>0.755046</td>\n",
       "      <td>0.711706</td>\n",
       "      <td>0.887529</td>\n",
       "    </tr>\n",
       "    <tr>\n",
       "      <th>6</th>\n",
       "      <td>black</td>\n",
       "      <td>2072</td>\n",
       "      <td>0.729678</td>\n",
       "      <td>0.653142</td>\n",
       "      <td>0.902898</td>\n",
       "    </tr>\n",
       "    <tr>\n",
       "      <th>7</th>\n",
       "      <td>muslim</td>\n",
       "      <td>2225</td>\n",
       "      <td>0.751617</td>\n",
       "      <td>0.659452</td>\n",
       "      <td>0.910314</td>\n",
       "    </tr>\n",
       "    <tr>\n",
       "      <th>9</th>\n",
       "      <td>christian</td>\n",
       "      <td>2579</td>\n",
       "      <td>0.825745</td>\n",
       "      <td>0.837338</td>\n",
       "      <td>0.845654</td>\n",
       "    </tr>\n",
       "    <tr>\n",
       "      <th>8</th>\n",
       "      <td>white</td>\n",
       "      <td>3075</td>\n",
       "      <td>0.731784</td>\n",
       "      <td>0.634261</td>\n",
       "      <td>0.912499</td>\n",
       "    </tr>\n",
       "    <tr>\n",
       "      <th>10</th>\n",
       "      <td>male</td>\n",
       "      <td>3669</td>\n",
       "      <td>0.794395</td>\n",
       "      <td>0.719809</td>\n",
       "      <td>0.906188</td>\n",
       "    </tr>\n",
       "    <tr>\n",
       "      <th>11</th>\n",
       "      <td>female</td>\n",
       "      <td>4159</td>\n",
       "      <td>0.803864</td>\n",
       "      <td>0.738718</td>\n",
       "      <td>0.901969</td>\n",
       "    </tr>\n",
       "  </tbody>\n",
       "</table>\n",
       "</div>\n",
       "      <button class=\"colab-df-convert\" onclick=\"convertToInteractive('df-bbdb7a0b-fd3d-474d-aedf-c1b4f1898484')\"\n",
       "              title=\"Convert this dataframe to an interactive table.\"\n",
       "              style=\"display:none;\">\n",
       "        \n",
       "  <svg xmlns=\"http://www.w3.org/2000/svg\" height=\"24px\"viewBox=\"0 0 24 24\"\n",
       "       width=\"24px\">\n",
       "    <path d=\"M0 0h24v24H0V0z\" fill=\"none\"/>\n",
       "    <path d=\"M18.56 5.44l.94 2.06.94-2.06 2.06-.94-2.06-.94-.94-2.06-.94 2.06-2.06.94zm-11 1L8.5 8.5l.94-2.06 2.06-.94-2.06-.94L8.5 2.5l-.94 2.06-2.06.94zm10 10l.94 2.06.94-2.06 2.06-.94-2.06-.94-.94-2.06-.94 2.06-2.06.94z\"/><path d=\"M17.41 7.96l-1.37-1.37c-.4-.4-.92-.59-1.43-.59-.52 0-1.04.2-1.43.59L10.3 9.45l-7.72 7.72c-.78.78-.78 2.05 0 2.83L4 21.41c.39.39.9.59 1.41.59.51 0 1.02-.2 1.41-.59l7.78-7.78 2.81-2.81c.8-.78.8-2.07 0-2.86zM5.41 20L4 18.59l7.72-7.72 1.47 1.35L5.41 20z\"/>\n",
       "  </svg>\n",
       "      </button>\n",
       "      \n",
       "  <style>\n",
       "    .colab-df-container {\n",
       "      display:flex;\n",
       "      flex-wrap:wrap;\n",
       "      gap: 12px;\n",
       "    }\n",
       "\n",
       "    .colab-df-convert {\n",
       "      background-color: #E8F0FE;\n",
       "      border: none;\n",
       "      border-radius: 50%;\n",
       "      cursor: pointer;\n",
       "      display: none;\n",
       "      fill: #1967D2;\n",
       "      height: 32px;\n",
       "      padding: 0 0 0 0;\n",
       "      width: 32px;\n",
       "    }\n",
       "\n",
       "    .colab-df-convert:hover {\n",
       "      background-color: #E2EBFA;\n",
       "      box-shadow: 0px 1px 2px rgba(60, 64, 67, 0.3), 0px 1px 3px 1px rgba(60, 64, 67, 0.15);\n",
       "      fill: #174EA6;\n",
       "    }\n",
       "\n",
       "    [theme=dark] .colab-df-convert {\n",
       "      background-color: #3B4455;\n",
       "      fill: #D2E3FC;\n",
       "    }\n",
       "\n",
       "    [theme=dark] .colab-df-convert:hover {\n",
       "      background-color: #434B5C;\n",
       "      box-shadow: 0px 1px 3px 1px rgba(0, 0, 0, 0.15);\n",
       "      filter: drop-shadow(0px 1px 2px rgba(0, 0, 0, 0.3));\n",
       "      fill: #FFFFFF;\n",
       "    }\n",
       "  </style>\n",
       "\n",
       "      <script>\n",
       "        const buttonEl =\n",
       "          document.querySelector('#df-bbdb7a0b-fd3d-474d-aedf-c1b4f1898484 button.colab-df-convert');\n",
       "        buttonEl.style.display =\n",
       "          google.colab.kernel.accessAllowed ? 'block' : 'none';\n",
       "\n",
       "        async function convertToInteractive(key) {\n",
       "          const element = document.querySelector('#df-bbdb7a0b-fd3d-474d-aedf-c1b4f1898484');\n",
       "          const dataTable =\n",
       "            await google.colab.kernel.invokeFunction('convertToInteractive',\n",
       "                                                     [key], {});\n",
       "          if (!dataTable) return;\n",
       "\n",
       "          const docLinkHtml = 'Like what you see? Visit the ' +\n",
       "            '<a target=\"_blank\" href=https://colab.research.google.com/notebooks/data_table.ipynb>data table notebook</a>'\n",
       "            + ' to learn more about interactive tables.';\n",
       "          element.innerHTML = '';\n",
       "          dataTable['output_type'] = 'display_data';\n",
       "          await google.colab.output.renderOutput(dataTable, element);\n",
       "          const docLink = document.createElement('div');\n",
       "          docLink.innerHTML = docLinkHtml;\n",
       "          element.appendChild(docLink);\n",
       "        }\n",
       "      </script>\n",
       "    </div>\n",
       "  </div>\n",
       "  "
      ],
      "text/plain": [
       "                         subgroup  subgroup_size  subgroup_auc  bpsn_auc  \\\n",
       "0                          latino            196      0.809229  0.732885   \n",
       "1                     transgender            264      0.730841  0.755053   \n",
       "2                           asian            330      0.812011  0.778725   \n",
       "3   psychiatric_or_mental_illness            487      0.784810  0.800037   \n",
       "4                          jewish            669      0.765851  0.694391   \n",
       "5       homosexual_gay_or_lesbian           1353      0.755046  0.711706   \n",
       "6                           black           2072      0.729678  0.653142   \n",
       "7                          muslim           2225      0.751617  0.659452   \n",
       "9                       christian           2579      0.825745  0.837338   \n",
       "8                           white           3075      0.731784  0.634261   \n",
       "10                           male           3669      0.794395  0.719809   \n",
       "11                         female           4159      0.803864  0.738718   \n",
       "\n",
       "    bnsp_auc  \n",
       "0   0.903439  \n",
       "1   0.843373  \n",
       "2   0.882565  \n",
       "3   0.843186  \n",
       "4   0.898616  \n",
       "5   0.887529  \n",
       "6   0.902898  \n",
       "7   0.910314  \n",
       "9   0.845654  \n",
       "8   0.912499  \n",
       "10  0.906188  \n",
       "11  0.901969  "
      ]
     },
     "execution_count": 53,
     "metadata": {},
     "output_type": "execute_result"
    }
   ],
   "source": [
    "bias_metrics_df = compute_bias_metrics_for_model(X_te_bias, identity_columns1)\n",
    "bias_metrics_df"
   ]
  },
  {
   "cell_type": "code",
   "execution_count": 44,
   "metadata": {
    "id": "YdPC5zFi2Pbn"
   },
   "outputs": [],
   "source": [
    "def score(df,overall_auc):\n",
    "    l=len(df)\n",
    "    x=df.drop(['subgroup','subgroup_size'],axis=1)\n",
    "    x=x.apply((lambda x: x**(-5)),axis=1)\n",
    "    s=x.sum(axis=0)\n",
    "    s=s.apply(lambda x: (x/l)**(1/(-5)))\n",
    "    s=s.sum(axis=0)\n",
    "    score=0.25*(s+overall_auc)\n",
    "    return score    "
   ]
  },
  {
   "cell_type": "code",
   "execution_count": 56,
   "metadata": {
    "colab": {
     "base_uri": "https://localhost:8080/"
    },
    "id": "BrjPF_Zp1fib",
    "outputId": "d470b2e2-b987-4570-9141-699f213c591b"
   },
   "outputs": [
    {
     "data": {
      "text/plain": [
       "0.8054831489463242"
      ]
     },
     "execution_count": 56,
     "metadata": {},
     "output_type": "execute_result"
    }
   ],
   "source": [
    "bias_score=score(bias_metrics_df,0.855)\n",
    "bias_score"
   ]
  },
  {
   "cell_type": "code",
   "execution_count": 32,
   "metadata": {
    "colab": {
     "base_uri": "https://localhost:8080/"
    },
    "id": "7raMmpT2pG4y",
    "outputId": "057b6073-f119-4a99-ccf9-1b29b910314a"
   },
   "outputs": [
    {
     "name": "stderr",
     "output_type": "stream",
     "text": [
      "/usr/local/lib/python3.7/dist-packages/sklearn/utils/deprecation.py:87: FutureWarning: Function get_feature_names is deprecated; get_feature_names is deprecated in 1.0 and will be removed in 1.2. Please use get_feature_names_out instead.\n",
      "  warnings.warn(msg, category=FutureWarning)\n",
      "100%|██████████| 214331/214331 [01:13<00:00, 2933.74it/s]\n"
     ]
    }
   ],
   "source": [
    "dictionary=dict(zip(vectorizer1.get_feature_names(),list(vectorizer1.idf_)))\n",
    "word_list=set(vectorizer1.get_feature_names())\n",
    "X_train_scraped_w2v=[]\n",
    "count={0}\n",
    "for sentence in tqdm(X_train_scrapped['clean_text']):\n",
    "    vector=np.zeros(300)    \n",
    "    tfidf_weight=0    \n",
    "    l=len(sentence.split())\n",
    "    for word in sentence.split():\n",
    "        if word in glove_words and word in word_list:\n",
    "            count.add(word)\n",
    "            vec=glove[word]               \n",
    "            tfidf=dictionary[word]*(sentence.count(word)/l)            \n",
    "            vector+=(vec*tfidf)            \n",
    "            tfidf_weight+=tfidf\n",
    "    if tfidf_weight !=0:\n",
    "        vector/=tfidf_weight\n",
    "    X_train_scraped_w2v.append(vector)  "
   ]
  },
  {
   "cell_type": "code",
   "execution_count": 33,
   "metadata": {
    "colab": {
     "base_uri": "https://localhost:8080/"
    },
    "id": "EwxhTIsn2nTz",
    "outputId": "fc431d0a-633c-4538-93ed-cc381c3a29cf"
   },
   "outputs": [
    {
     "name": "stderr",
     "output_type": "stream",
     "text": [
      "100%|██████████| 107797/107797 [00:33<00:00, 3218.76it/s]\n"
     ]
    }
   ],
   "source": [
    "dictionary=dict(zip(vectorizer1.get_feature_names(),list(vectorizer1.idf_)))\n",
    "word_list=set(vectorizer1.get_feature_names())\n",
    "X_test_scraped_w2v=[]\n",
    "count={0}\n",
    "for sentence in tqdm(X_test['clean_text']):\n",
    "    vector=np.zeros(300)    \n",
    "    tfidf_weight=0    \n",
    "    l=len(sentence.split())\n",
    "    for word in sentence.split():\n",
    "        if word in glove_words and word in word_list:\n",
    "            count.add(word)\n",
    "            vec=glove[word]               \n",
    "            tfidf=dictionary[word]*(sentence.count(word)/l)            \n",
    "            vector+=(vec*tfidf)            \n",
    "            tfidf_weight+=tfidf\n",
    "    if tfidf_weight !=0:\n",
    "        vector/=tfidf_weight\n",
    "    X_test_scraped_w2v.append(vector) "
   ]
  },
  {
   "cell_type": "code",
   "execution_count": 29,
   "metadata": {
    "colab": {
     "base_uri": "https://localhost:8080/"
    },
    "id": "nkFkQ-yt2eT-",
    "outputId": "8c4ed1ee-8e98-4b41-8989-13d087034f61"
   },
   "outputs": [
    {
     "data": {
      "text/plain": [
       "GridSearchCV(cv=5, estimator=HistGradientBoostingClassifier(),\n",
       "             param_grid={'max_depth': [4, 5, 6, 7, 8]}, scoring='roc_auc')"
      ]
     },
     "execution_count": 29,
     "metadata": {},
     "output_type": "execute_result"
    }
   ],
   "source": [
    "parameters={'max_depth':[4,5,6,7,8]}\n",
    "clf = HistGradientBoostingClassifier()\n",
    "clf = GridSearchCV(clf, parameters,cv=5,scoring='roc_auc')\n",
    "clf.fit(X_train_scraped_w2v,y_train_scraped)"
   ]
  },
  {
   "cell_type": "code",
   "execution_count": 30,
   "metadata": {
    "colab": {
     "base_uri": "https://localhost:8080/"
    },
    "id": "9-ccl0XMoWwV",
    "outputId": "2884515f-38c7-4425-ecb6-0827bae25f7f"
   },
   "outputs": [
    {
     "data": {
      "text/plain": [
       "HistGradientBoostingClassifier(max_depth=8)"
      ]
     },
     "execution_count": 30,
     "metadata": {},
     "output_type": "execute_result"
    }
   ],
   "source": [
    "clf.best_estimator_"
   ]
  },
  {
   "cell_type": "code",
   "execution_count": 36,
   "metadata": {
    "id": "dHyJXTwOr21r"
   },
   "outputs": [],
   "source": [
    "clf = HistGradientBoostingClassifier(max_depth=8)\n",
    "clf.fit(X_train_scraped_w2v,y_train_scraped)\n",
    "Y_pred_tr=clf.predict_proba(X_train_scraped_w2v)"
   ]
  },
  {
   "cell_type": "code",
   "execution_count": 38,
   "metadata": {
    "id": "94gdFzdn1Pg5"
   },
   "outputs": [],
   "source": [
    "Y_pred_te=clf.predict_proba(X_test_scraped_w2v)"
   ]
  },
  {
   "cell_type": "code",
   "execution_count": 39,
   "metadata": {
    "colab": {
     "base_uri": "https://localhost:8080/"
    },
    "id": "HGE-VnTQyr4l",
    "outputId": "1a96727a-5c4c-47ba-85ba-6221615d6104"
   },
   "outputs": [
    {
     "data": {
      "text/plain": [
       "0.8827457462430206"
      ]
     },
     "execution_count": 39,
     "metadata": {},
     "output_type": "execute_result"
    }
   ],
   "source": [
    "roc_auc_score(y_train_scraped, Y_pred_tr[:,1])"
   ]
  },
  {
   "cell_type": "code",
   "execution_count": 40,
   "metadata": {
    "colab": {
     "base_uri": "https://localhost:8080/"
    },
    "id": "7RvXFzY-ydCn",
    "outputId": "f1d423cf-73d2-4a44-a6cf-7f8a1be0413e"
   },
   "outputs": [
    {
     "data": {
      "text/plain": [
       "0.8520936277352503"
      ]
     },
     "execution_count": 40,
     "metadata": {},
     "output_type": "execute_result"
    }
   ],
   "source": [
    "roc_auc_score(y_test, Y_pred_te[:,1])"
   ]
  },
  {
   "cell_type": "code",
   "execution_count": 41,
   "metadata": {
    "colab": {
     "base_uri": "https://localhost:8080/"
    },
    "id": "wAIFA_Mu162Z",
    "outputId": "5f245b12-3dc2-4330-cbf9-c2af9d377e76"
   },
   "outputs": [
    {
     "name": "stderr",
     "output_type": "stream",
     "text": [
      "/usr/local/lib/python3.7/dist-packages/ipykernel_launcher.py:2: SettingWithCopyWarning: \n",
      "A value is trying to be set on a copy of a slice from a DataFrame.\n",
      "Try using .loc[row_indexer,col_indexer] = value instead\n",
      "\n",
      "See the caveats in the documentation: https://pandas.pydata.org/pandas-docs/stable/user_guide/indexing.html#returning-a-view-versus-a-copy\n",
      "  \n",
      "/usr/local/lib/python3.7/dist-packages/ipykernel_launcher.py:3: SettingWithCopyWarning: \n",
      "A value is trying to be set on a copy of a slice from a DataFrame.\n",
      "Try using .loc[row_indexer,col_indexer] = value instead\n",
      "\n",
      "See the caveats in the documentation: https://pandas.pydata.org/pandas-docs/stable/user_guide/indexing.html#returning-a-view-versus-a-copy\n",
      "  This is separate from the ipykernel package so we can avoid doing imports until\n"
     ]
    }
   ],
   "source": [
    "X_te_bias=X_test[identity_columns]\n",
    "X_te_bias['y_pred']=Y_pred_te[:,1]\n",
    "X_te_bias['y']=y_test"
   ]
  },
  {
   "cell_type": "code",
   "execution_count": 47,
   "metadata": {
    "colab": {
     "base_uri": "https://localhost:8080/",
     "height": 426
    },
    "id": "NOWY-Vs-10TZ",
    "outputId": "23165a0f-aa4a-4776-dd14-70ffd160f2b9"
   },
   "outputs": [
    {
     "data": {
      "text/html": [
       "\n",
       "  <div id=\"df-303ea2c8-3616-4c38-93bc-05a0fb501a90\">\n",
       "    <div class=\"colab-df-container\">\n",
       "      <div>\n",
       "<style scoped>\n",
       "    .dataframe tbody tr th:only-of-type {\n",
       "        vertical-align: middle;\n",
       "    }\n",
       "\n",
       "    .dataframe tbody tr th {\n",
       "        vertical-align: top;\n",
       "    }\n",
       "\n",
       "    .dataframe thead th {\n",
       "        text-align: right;\n",
       "    }\n",
       "</style>\n",
       "<table border=\"1\" class=\"dataframe\">\n",
       "  <thead>\n",
       "    <tr style=\"text-align: right;\">\n",
       "      <th></th>\n",
       "      <th>subgroup</th>\n",
       "      <th>subgroup_size</th>\n",
       "      <th>subgroup_auc</th>\n",
       "      <th>bpsn_auc</th>\n",
       "      <th>bnsp_auc</th>\n",
       "    </tr>\n",
       "  </thead>\n",
       "  <tbody>\n",
       "    <tr>\n",
       "      <th>0</th>\n",
       "      <td>latino</td>\n",
       "      <td>198</td>\n",
       "      <td>0.759318</td>\n",
       "      <td>0.710047</td>\n",
       "      <td>0.890941</td>\n",
       "    </tr>\n",
       "    <tr>\n",
       "      <th>1</th>\n",
       "      <td>transgender</td>\n",
       "      <td>254</td>\n",
       "      <td>0.735246</td>\n",
       "      <td>0.814572</td>\n",
       "      <td>0.783749</td>\n",
       "    </tr>\n",
       "    <tr>\n",
       "      <th>2</th>\n",
       "      <td>asian</td>\n",
       "      <td>332</td>\n",
       "      <td>0.795904</td>\n",
       "      <td>0.779590</td>\n",
       "      <td>0.868160</td>\n",
       "    </tr>\n",
       "    <tr>\n",
       "      <th>3</th>\n",
       "      <td>psychiatric_or_mental_illness</td>\n",
       "      <td>502</td>\n",
       "      <td>0.756110</td>\n",
       "      <td>0.801848</td>\n",
       "      <td>0.815547</td>\n",
       "    </tr>\n",
       "    <tr>\n",
       "      <th>4</th>\n",
       "      <td>jewish</td>\n",
       "      <td>647</td>\n",
       "      <td>0.747204</td>\n",
       "      <td>0.720878</td>\n",
       "      <td>0.874166</td>\n",
       "    </tr>\n",
       "    <tr>\n",
       "      <th>5</th>\n",
       "      <td>homosexual_gay_or_lesbian</td>\n",
       "      <td>1339</td>\n",
       "      <td>0.715342</td>\n",
       "      <td>0.733147</td>\n",
       "      <td>0.845361</td>\n",
       "    </tr>\n",
       "    <tr>\n",
       "      <th>6</th>\n",
       "      <td>black</td>\n",
       "      <td>2034</td>\n",
       "      <td>0.713714</td>\n",
       "      <td>0.647084</td>\n",
       "      <td>0.894949</td>\n",
       "    </tr>\n",
       "    <tr>\n",
       "      <th>7</th>\n",
       "      <td>muslim</td>\n",
       "      <td>2221</td>\n",
       "      <td>0.742333</td>\n",
       "      <td>0.677204</td>\n",
       "      <td>0.895699</td>\n",
       "    </tr>\n",
       "    <tr>\n",
       "      <th>9</th>\n",
       "      <td>christian</td>\n",
       "      <td>2554</td>\n",
       "      <td>0.822677</td>\n",
       "      <td>0.850253</td>\n",
       "      <td>0.825847</td>\n",
       "    </tr>\n",
       "    <tr>\n",
       "      <th>8</th>\n",
       "      <td>white</td>\n",
       "      <td>3055</td>\n",
       "      <td>0.719175</td>\n",
       "      <td>0.632638</td>\n",
       "      <td>0.903999</td>\n",
       "    </tr>\n",
       "    <tr>\n",
       "      <th>10</th>\n",
       "      <td>male</td>\n",
       "      <td>3631</td>\n",
       "      <td>0.795450</td>\n",
       "      <td>0.745039</td>\n",
       "      <td>0.889024</td>\n",
       "    </tr>\n",
       "    <tr>\n",
       "      <th>11</th>\n",
       "      <td>female</td>\n",
       "      <td>4186</td>\n",
       "      <td>0.801260</td>\n",
       "      <td>0.757895</td>\n",
       "      <td>0.885915</td>\n",
       "    </tr>\n",
       "  </tbody>\n",
       "</table>\n",
       "</div>\n",
       "      <button class=\"colab-df-convert\" onclick=\"convertToInteractive('df-303ea2c8-3616-4c38-93bc-05a0fb501a90')\"\n",
       "              title=\"Convert this dataframe to an interactive table.\"\n",
       "              style=\"display:none;\">\n",
       "        \n",
       "  <svg xmlns=\"http://www.w3.org/2000/svg\" height=\"24px\"viewBox=\"0 0 24 24\"\n",
       "       width=\"24px\">\n",
       "    <path d=\"M0 0h24v24H0V0z\" fill=\"none\"/>\n",
       "    <path d=\"M18.56 5.44l.94 2.06.94-2.06 2.06-.94-2.06-.94-.94-2.06-.94 2.06-2.06.94zm-11 1L8.5 8.5l.94-2.06 2.06-.94-2.06-.94L8.5 2.5l-.94 2.06-2.06.94zm10 10l.94 2.06.94-2.06 2.06-.94-2.06-.94-.94-2.06-.94 2.06-2.06.94z\"/><path d=\"M17.41 7.96l-1.37-1.37c-.4-.4-.92-.59-1.43-.59-.52 0-1.04.2-1.43.59L10.3 9.45l-7.72 7.72c-.78.78-.78 2.05 0 2.83L4 21.41c.39.39.9.59 1.41.59.51 0 1.02-.2 1.41-.59l7.78-7.78 2.81-2.81c.8-.78.8-2.07 0-2.86zM5.41 20L4 18.59l7.72-7.72 1.47 1.35L5.41 20z\"/>\n",
       "  </svg>\n",
       "      </button>\n",
       "      \n",
       "  <style>\n",
       "    .colab-df-container {\n",
       "      display:flex;\n",
       "      flex-wrap:wrap;\n",
       "      gap: 12px;\n",
       "    }\n",
       "\n",
       "    .colab-df-convert {\n",
       "      background-color: #E8F0FE;\n",
       "      border: none;\n",
       "      border-radius: 50%;\n",
       "      cursor: pointer;\n",
       "      display: none;\n",
       "      fill: #1967D2;\n",
       "      height: 32px;\n",
       "      padding: 0 0 0 0;\n",
       "      width: 32px;\n",
       "    }\n",
       "\n",
       "    .colab-df-convert:hover {\n",
       "      background-color: #E2EBFA;\n",
       "      box-shadow: 0px 1px 2px rgba(60, 64, 67, 0.3), 0px 1px 3px 1px rgba(60, 64, 67, 0.15);\n",
       "      fill: #174EA6;\n",
       "    }\n",
       "\n",
       "    [theme=dark] .colab-df-convert {\n",
       "      background-color: #3B4455;\n",
       "      fill: #D2E3FC;\n",
       "    }\n",
       "\n",
       "    [theme=dark] .colab-df-convert:hover {\n",
       "      background-color: #434B5C;\n",
       "      box-shadow: 0px 1px 3px 1px rgba(0, 0, 0, 0.15);\n",
       "      filter: drop-shadow(0px 1px 2px rgba(0, 0, 0, 0.3));\n",
       "      fill: #FFFFFF;\n",
       "    }\n",
       "  </style>\n",
       "\n",
       "      <script>\n",
       "        const buttonEl =\n",
       "          document.querySelector('#df-303ea2c8-3616-4c38-93bc-05a0fb501a90 button.colab-df-convert');\n",
       "        buttonEl.style.display =\n",
       "          google.colab.kernel.accessAllowed ? 'block' : 'none';\n",
       "\n",
       "        async function convertToInteractive(key) {\n",
       "          const element = document.querySelector('#df-303ea2c8-3616-4c38-93bc-05a0fb501a90');\n",
       "          const dataTable =\n",
       "            await google.colab.kernel.invokeFunction('convertToInteractive',\n",
       "                                                     [key], {});\n",
       "          if (!dataTable) return;\n",
       "\n",
       "          const docLinkHtml = 'Like what you see? Visit the ' +\n",
       "            '<a target=\"_blank\" href=https://colab.research.google.com/notebooks/data_table.ipynb>data table notebook</a>'\n",
       "            + ' to learn more about interactive tables.';\n",
       "          element.innerHTML = '';\n",
       "          dataTable['output_type'] = 'display_data';\n",
       "          await google.colab.output.renderOutput(dataTable, element);\n",
       "          const docLink = document.createElement('div');\n",
       "          docLink.innerHTML = docLinkHtml;\n",
       "          element.appendChild(docLink);\n",
       "        }\n",
       "      </script>\n",
       "    </div>\n",
       "  </div>\n",
       "  "
      ],
      "text/plain": [
       "                         subgroup  subgroup_size  subgroup_auc  bpsn_auc  \\\n",
       "0                          latino            198      0.759318  0.710047   \n",
       "1                     transgender            254      0.735246  0.814572   \n",
       "2                           asian            332      0.795904  0.779590   \n",
       "3   psychiatric_or_mental_illness            502      0.756110  0.801848   \n",
       "4                          jewish            647      0.747204  0.720878   \n",
       "5       homosexual_gay_or_lesbian           1339      0.715342  0.733147   \n",
       "6                           black           2034      0.713714  0.647084   \n",
       "7                          muslim           2221      0.742333  0.677204   \n",
       "9                       christian           2554      0.822677  0.850253   \n",
       "8                           white           3055      0.719175  0.632638   \n",
       "10                           male           3631      0.795450  0.745039   \n",
       "11                         female           4186      0.801260  0.757895   \n",
       "\n",
       "    bnsp_auc  \n",
       "0   0.890941  \n",
       "1   0.783749  \n",
       "2   0.868160  \n",
       "3   0.815547  \n",
       "4   0.874166  \n",
       "5   0.845361  \n",
       "6   0.894949  \n",
       "7   0.895699  \n",
       "9   0.825847  \n",
       "8   0.903999  \n",
       "10  0.889024  \n",
       "11  0.885915  "
      ]
     },
     "execution_count": 47,
     "metadata": {},
     "output_type": "execute_result"
    }
   ],
   "source": [
    "bias_metrics_df = compute_bias_metrics_for_model(X_te_bias, identity_columns1)\n",
    "bias_metrics_df"
   ]
  },
  {
   "cell_type": "code",
   "execution_count": 49,
   "metadata": {
    "colab": {
     "base_uri": "https://localhost:8080/"
    },
    "id": "VuZdk8fR1_3l",
    "outputId": "a4b65604-a6e3-4571-9bc7-8571b1b91c97"
   },
   "outputs": [
    {
     "data": {
      "text/plain": [
       "0.7969099640313553"
      ]
     },
     "execution_count": 49,
     "metadata": {},
     "output_type": "execute_result"
    }
   ],
   "source": [
    "bias_score=score(bias_metrics_df,0.852)\n",
    "bias_score"
   ]
  },
  {
   "cell_type": "code",
   "execution_count": 52,
   "metadata": {
    "id": "w1ziH6pT2RbA"
   },
   "outputs": [],
   "source": [
    "x = PrettyTable()\n",
    "x.field_names = ['Feature',\"Train AUC\", \"Test AUC\", \"Bias_Score\"]\n",
    "x.add_rows(\n",
    "    [\n",
    "        [\"W2v\", 0.8827, 0.8551, 0.8054],\n",
    "        [\"W2v with scraped data\",  0.8742, 0.8520, 0.7969]          \n",
    "    ]\n",
    ")"
   ]
  },
  {
   "cell_type": "code",
   "execution_count": 53,
   "metadata": {
    "colab": {
     "base_uri": "https://localhost:8080/"
    },
    "id": "pxuhMwFl7IAn",
    "outputId": "690882ad-19f1-4632-fc09-d9637f2b1d08"
   },
   "outputs": [
    {
     "name": "stdout",
     "output_type": "stream",
     "text": [
      "+-----------------------+-----------+----------+------------+\n",
      "|        Feature        | Train AUC | Test AUC | Bias_Score |\n",
      "+-----------------------+-----------+----------+------------+\n",
      "|          W2v          |   0.8827  |  0.8551  |   0.8054   |\n",
      "| W2v with scraped data |   0.8742  |  0.852   |   0.7969   |\n",
      "+-----------------------+-----------+----------+------------+\n"
     ]
    }
   ],
   "source": [
    "print(x)"
   ]
  }
 ],
 "metadata": {
  "colab": {
   "provenance": []
  },
  "kernelspec": {
   "display_name": "Python 3 (ipykernel)",
   "language": "python",
   "name": "python3"
  },
  "language_info": {
   "codemirror_mode": {
    "name": "ipython",
    "version": 3
   },
   "file_extension": ".py",
   "mimetype": "text/x-python",
   "name": "python",
   "nbconvert_exporter": "python",
   "pygments_lexer": "ipython3",
   "version": "3.9.7"
  }
 },
 "nbformat": 4,
 "nbformat_minor": 1
}
