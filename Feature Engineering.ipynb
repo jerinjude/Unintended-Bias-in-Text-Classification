{
 "cells": [
  {
   "cell_type": "code",
   "execution_count": 1,
   "id": "093555c5",
   "metadata": {},
   "outputs": [],
   "source": [
    "import pandas as pd\n",
    "import numpy as np\n",
    "import regex as re\n",
    "from vaderSentiment.vaderSentiment import SentimentIntensityAnalyzer\n",
    "from textblob import TextBlob"
   ]
  },
  {
   "cell_type": "code",
   "execution_count": 17,
   "id": "e29ec701",
   "metadata": {},
   "outputs": [
    {
     "name": "stdout",
     "output_type": "stream",
     "text": [
      "Collecting vaderSentiment\n",
      "  Downloading vaderSentiment-3.3.2-py2.py3-none-any.whl (125 kB)\n",
      "Requirement already satisfied: requests in c:\\users\\hp\\anaconda3\\lib\\site-packages (from vaderSentiment) (2.26.0)\n",
      "Requirement already satisfied: charset-normalizer~=2.0.0 in c:\\users\\hp\\anaconda3\\lib\\site-packages (from requests->vaderSentiment) (2.0.4)\n",
      "Requirement already satisfied: urllib3<1.27,>=1.21.1 in c:\\users\\hp\\anaconda3\\lib\\site-packages (from requests->vaderSentiment) (1.26.7)\n",
      "Requirement already satisfied: certifi>=2017.4.17 in c:\\users\\hp\\anaconda3\\lib\\site-packages (from requests->vaderSentiment) (2021.10.8)\n",
      "Requirement already satisfied: idna<4,>=2.5 in c:\\users\\hp\\anaconda3\\lib\\site-packages (from requests->vaderSentiment) (3.2)\n",
      "Installing collected packages: vaderSentiment\n",
      "Successfully installed vaderSentiment-3.3.2\n",
      "Note: you may need to restart the kernel to use updated packages.\n"
     ]
    }
   ],
   "source": [
    "pip install vaderSentiment"
   ]
  },
  {
   "cell_type": "code",
   "execution_count": 4,
   "id": "9b2423f4",
   "metadata": {},
   "outputs": [],
   "source": [
    "df=pd.read_csv('processed_text')"
   ]
  },
  {
   "cell_type": "code",
   "execution_count": 7,
   "id": "b953a776",
   "metadata": {},
   "outputs": [
    {
     "data": {
      "text/plain": [
       "Index(['Unnamed: 0', 'id', 'target', 'comment_text', 'severe_toxicity',\n",
       "       'obscene', 'identity_attack', 'insult', 'threat', 'asian', 'atheist',\n",
       "       'bisexual', 'black', 'buddhist', 'christian', 'female', 'heterosexual',\n",
       "       'hindu', 'homosexual_gay_or_lesbian',\n",
       "       'intellectual_or_learning_disability', 'jewish', 'latino', 'male',\n",
       "       'muslim', 'other_disability', 'other_gender', 'other_race_or_ethnicity',\n",
       "       'other_religion', 'other_sexual_orientation', 'physical_disability',\n",
       "       'psychiatric_or_mental_illness', 'transgender', 'white', 'created_date',\n",
       "       'publication_id', 'parent_id', 'article_id', 'rating', 'funny', 'wow',\n",
       "       'sad', 'likes', 'disagree', 'sexual_explicit',\n",
       "       'identity_annotator_count', 'toxicity_annotator_count', 'clean_text'],\n",
       "      dtype='object')"
      ]
     },
     "execution_count": 7,
     "metadata": {},
     "output_type": "execute_result"
    }
   ],
   "source": [
    "df.head().columns"
   ]
  },
  {
   "cell_type": "code",
   "execution_count": 8,
   "id": "e57caead",
   "metadata": {},
   "outputs": [],
   "source": [
    "df=df[['comment_text','target','clean_text','asian', 'atheist',\n",
    "       'bisexual', 'black', 'buddhist', 'christian', 'female', 'heterosexual',\n",
    "       'hindu', 'homosexual_gay_or_lesbian',\n",
    "       'intellectual_or_learning_disability', 'jewish', 'latino', 'male',\n",
    "       'muslim', 'other_disability', 'other_gender', 'other_race_or_ethnicity',\n",
    "       'other_religion', 'other_sexual_orientation', 'physical_disability',\n",
    "       'psychiatric_or_mental_illness', 'transgender', 'white']]"
   ]
  },
  {
   "cell_type": "code",
   "execution_count": 9,
   "id": "4c58199e",
   "metadata": {},
   "outputs": [],
   "source": [
    "df=df[df['clean_text'].notna()]\n",
    "df['target']=df['target'].apply(lambda x: 0 if x<0.5 else 1)"
   ]
  },
  {
   "cell_type": "code",
   "execution_count": 10,
   "id": "6f777f04",
   "metadata": {},
   "outputs": [],
   "source": [
    "df['clean_text']=df['clean_text'].apply(lambda x: re.sub('lgbtq','lesbian gay bisexual transgender queer',x))"
   ]
  },
  {
   "cell_type": "code",
   "execution_count": 11,
   "id": "ec2fc3de",
   "metadata": {},
   "outputs": [],
   "source": [
    "df['length']=df['comment_text'].apply(lambda x: len(x))"
   ]
  },
  {
   "cell_type": "code",
   "execution_count": 12,
   "id": "66fda8a7",
   "metadata": {},
   "outputs": [],
   "source": [
    "df['no_of_words']=df['comment_text'].apply(lambda x: len(x.split()))"
   ]
  },
  {
   "cell_type": "code",
   "execution_count": 13,
   "id": "0aba8349",
   "metadata": {},
   "outputs": [],
   "source": [
    "df['avg_word_length']=df['comment_text'].apply(lambda x: np.mean([len(x) for x in x.split()]))"
   ]
  },
  {
   "cell_type": "code",
   "execution_count": 14,
   "id": "58e5c055",
   "metadata": {},
   "outputs": [],
   "source": [
    "df['caps']=df['comment_text'].apply(lambda x: len(re.findall(r'[A-Z]',x)))"
   ]
  },
  {
   "cell_type": "code",
   "execution_count": 15,
   "id": "07c35447",
   "metadata": {},
   "outputs": [],
   "source": [
    "df['excl']=df['comment_text'].apply(lambda x: len(re.findall(r'\\!',x)))"
   ]
  },
  {
   "cell_type": "code",
   "execution_count": 16,
   "id": "cb82244d",
   "metadata": {},
   "outputs": [],
   "source": [
    "df['sentence_count'] = df['comment_text'].apply(lambda x: len(str(x).split(\".\")))"
   ]
  },
  {
   "cell_type": "code",
   "execution_count": 17,
   "id": "11f97867",
   "metadata": {},
   "outputs": [],
   "source": [
    "df['avg_sentence_length'] = df['comment_text'].apply(lambda x: np.mean([len(x) for x in x.split('.')]))"
   ]
  },
  {
   "cell_type": "code",
   "execution_count": 18,
   "id": "352e2048",
   "metadata": {},
   "outputs": [],
   "source": [
    "analyzer = SentimentIntensityAnalyzer()\n",
    "df['sentiment']=df['comment_text'].apply(lambda x: analyzer.polarity_scores(x).get('compound'))"
   ]
  },
  {
   "cell_type": "code",
   "execution_count": 19,
   "id": "8ce5b074",
   "metadata": {},
   "outputs": [],
   "source": [
    "def get_subjectivity(text):\n",
    "    try:\n",
    "        textblob = TextBlob(unicode(text, 'utf-8'))\n",
    "        subj = textblob.sentiment.subjectivity\n",
    "    except:\n",
    "        subj = 0.0\n",
    "    return subj"
   ]
  },
  {
   "cell_type": "code",
   "execution_count": 20,
   "id": "f0d7b38a",
   "metadata": {},
   "outputs": [],
   "source": [
    "df['subjectivity']=df['comment_text'].apply(lambda x: TextBlob(x).sentiment.subjectivity)"
   ]
  },
  {
   "cell_type": "code",
   "execution_count": null,
   "id": "eb6d52e5",
   "metadata": {},
   "outputs": [],
   "source": [
    "df"
   ]
  },
  {
   "cell_type": "code",
   "execution_count": 21,
   "id": "10a57284",
   "metadata": {},
   "outputs": [],
   "source": [
    "pos_dic = {\n",
    "    'noun' : ['NN','NNS','NNP','NNPS'],\n",
    "    'pron' : ['PRP','PRP$','WP','WP$'],\n",
    "    'verb' : ['VB','VBD','VBG','VBN','VBP','VBZ'],\n",
    "    'adj' :  ['JJ','JJR','JJS'],\n",
    "    'adv' : ['RB','RBR','RBS','WRB']\n",
    "}\n",
    "\n",
    "def pos_check(x, flag):\n",
    "    x = re.sub(\"[^a-zA-Z]\", \" \", x)\n",
    "    x = \" \".join(x.split())\n",
    "    cnt = 0\n",
    "    try:\n",
    "        wiki = TextBlob(x)\n",
    "        for tup in wiki.tags:\n",
    "            ppo = list(tup)[1]\n",
    "            if ppo in pos_dic[flag]:\n",
    "                cnt += 1\n",
    "    except:\n",
    "        pass\n",
    "    return cnt\n",
    "df['noun_count'] = df['comment_text'].apply(lambda x: pos_check(x, 'noun'))\n",
    "df['verb_count'] = df['comment_text'].apply(lambda x: pos_check(x, 'verb'))\n",
    "df['adj_count'] = df['comment_text'].apply(lambda x: pos_check(x, 'adj'))\n",
    "df['adv_count'] = df['comment_text'].apply(lambda x: pos_check(x, 'adv'))\n",
    "df['pron_count'] = df['comment_text'].apply(lambda x: pos_check(x, 'pron'))"
   ]
  },
  {
   "cell_type": "code",
   "execution_count": 22,
   "id": "1e34e0b3",
   "metadata": {},
   "outputs": [],
   "source": [
    "df.to_csv('feature_extracted')"
   ]
  },
  {
   "cell_type": "code",
   "execution_count": 5,
   "id": "5cebe374",
   "metadata": {},
   "outputs": [],
   "source": [
    "df=pd.read_csv('feature_extracted',index_col=None)"
   ]
  },
  {
   "cell_type": "code",
   "execution_count": null,
   "id": "f1fce313",
   "metadata": {},
   "outputs": [],
   "source": []
  }
 ],
 "metadata": {
  "kernelspec": {
   "display_name": "Python 3 (ipykernel)",
   "language": "python",
   "name": "python3"
  },
  "language_info": {
   "codemirror_mode": {
    "name": "ipython",
    "version": 3
   },
   "file_extension": ".py",
   "mimetype": "text/x-python",
   "name": "python",
   "nbconvert_exporter": "python",
   "pygments_lexer": "ipython3",
   "version": "3.9.7"
  }
 },
 "nbformat": 4,
 "nbformat_minor": 5
}
