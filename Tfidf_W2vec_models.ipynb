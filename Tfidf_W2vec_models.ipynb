{
  "nbformat": 4,
  "nbformat_minor": 0,
  "metadata": {
    "colab": {
      "provenance": []
    },
    "kernelspec": {
      "name": "python3",
      "display_name": "Python 3"
    },
    "language_info": {
      "name": "python"
    }
  },
  "cells": [
    {
      "cell_type": "code",
      "execution_count": 4,
      "metadata": {
        "colab": {
          "base_uri": "https://localhost:8080/"
        },
        "id": "BiWZunzShwzA",
        "outputId": "3f63f436-c1c9-46d0-8b5f-49459df64d9d"
      },
      "outputs": [
        {
          "output_type": "stream",
          "name": "stdout",
          "text": [
            "Mounted at /content/drive\n"
          ]
        }
      ],
      "source": [
        "from google.colab import drive\n",
        "drive.mount('/content/drive')"
      ]
    },
    {
      "cell_type": "code",
      "source": [
        "import pandas as pd\n",
        "import numpy as np\n",
        "from sklearn.model_selection import train_test_split\n",
        "from sklearn.feature_extraction.text import CountVectorizer\n",
        "import scipy.sparse \n",
        "from scipy.sparse import hstack\n",
        "from sklearn.preprocessing import StandardScaler\n",
        "import dask.dataframe as dd\n",
        "from dask.dataframe import from_pandas\n",
        "from sklearn.naive_bayes import MultinomialNB\n",
        "from sklearn.metrics import roc_auc_score\n",
        "from sklearn.feature_extraction.text import TfidfVectorizer\n",
        "from sklearn.naive_bayes import GaussianNB\n",
        "from sklearn.preprocessing import Normalizer\n",
        "from sklearn.model_selection import GridSearchCV\n",
        "from sklearn import metrics\n",
        "from sklearn.metrics import roc_curve\n",
        "from sklearn.metrics import confusion_matrix\n",
        "import seaborn as sns\n",
        "from tqdm import tqdm\n",
        "from sklearn.ensemble import GradientBoostingClassifier\n",
        "from sklearn.ensemble import HistGradientBoostingClassifier\n",
        "from prettytable import PrettyTable"
      ],
      "metadata": {
        "id": "cho7DWwchyPr"
      },
      "execution_count": 3,
      "outputs": []
    },
    {
      "cell_type": "code",
      "source": [
        "df=pd.read_csv('/content/drive/MyDrive/feature_extracted')"
      ],
      "metadata": {
        "id": "6Ri4Iwkfh38W"
      },
      "execution_count": 4,
      "outputs": []
    },
    {
      "cell_type": "code",
      "source": [
        "df_scraped=pd.read_csv('/content/drive/MyDrive/scraped_df')"
      ],
      "metadata": {
        "id": "NvIQH6oJh6sc"
      },
      "execution_count": 5,
      "outputs": []
    },
    {
      "cell_type": "code",
      "source": [
        "columns=['length',\n",
        "       'no_of_words', 'avg_word_length', 'caps', 'excl', 'sentence_count',\n",
        "       'avg_sentence_length', 'sentiment', 'subjectivity', 'noun_count',\n",
        "       'verb_count', 'adj_count', 'adv_count', 'pron_count']"
      ],
      "metadata": {
        "id": "tWxh0K1fh9jU"
      },
      "execution_count": 6,
      "outputs": []
    },
    {
      "cell_type": "code",
      "source": [
        "identity_columns = ['asian',\n",
        "       'atheist', 'bisexual', 'black', 'buddhist', 'christian', 'female',\n",
        "       'heterosexual', 'hindu', 'homosexual_gay_or_lesbian',\n",
        "       'intellectual_or_learning_disability', 'jewish', 'latino', 'male',\n",
        "       'muslim', 'other_disability', 'other_gender', 'other_race_or_ethnicity',\n",
        "       'other_religion', 'other_sexual_orientation', 'physical_disability',\n",
        "       'psychiatric_or_mental_illness', 'transgender', 'white']"
      ],
      "metadata": {
        "id": "A8GpoDMaiDTO"
      },
      "execution_count": 7,
      "outputs": []
    },
    {
      "cell_type": "code",
      "source": [
        "def convert_to_bool(df, col_name):\n",
        "    df[col_name] = np.where(df[col_name] >= 0.5, 1, 0)\n",
        "    \n",
        "def convert_dataframe_to_bool(df):\n",
        "    bool_df = df.copy()\n",
        "    for col in ['target'] + identity_columns:\n",
        "        convert_to_bool(bool_df, col)\n",
        "    return bool_df\n",
        "\n",
        "df = convert_dataframe_to_bool(df)"
      ],
      "metadata": {
        "id": "D5QXxa2SiGc8"
      },
      "execution_count": 8,
      "outputs": []
    },
    {
      "cell_type": "code",
      "source": [
        "df_non_toxic=df[df['target']==0].sample(frac=0.2)\n",
        "df_toxic=df[df['target']==1]"
      ],
      "metadata": {
        "id": "h0ZmVhqoirEU"
      },
      "execution_count": 9,
      "outputs": []
    },
    {
      "cell_type": "code",
      "source": [
        "df_new=pd.concat([df_toxic,df_non_toxic],axis=0)"
      ],
      "metadata": {
        "id": "KdTrprbci9SD"
      },
      "execution_count": 10,
      "outputs": []
    },
    {
      "cell_type": "code",
      "source": [
        "Y=df_new['target']\n",
        "X=df_new.drop(['target'],axis=1)"
      ],
      "metadata": {
        "id": "bL5ZWc6tiIrz"
      },
      "execution_count": 11,
      "outputs": []
    },
    {
      "cell_type": "code",
      "source": [
        "len(X)"
      ],
      "metadata": {
        "colab": {
          "base_uri": "https://localhost:8080/"
        },
        "id": "iU_L-U9viQp_",
        "outputId": "4bc6e67e-fe20-4854-97a2-68341f2ba09b"
      },
      "execution_count": 12,
      "outputs": [
        {
          "output_type": "execute_result",
          "data": {
            "text/plain": [
              "471898"
            ]
          },
          "metadata": {},
          "execution_count": 12
        }
      ]
    },
    {
      "cell_type": "code",
      "source": [
        "X_train, X_test, y_train, y_test = train_test_split(X, Y, test_size=0.35, random_state=42,stratify=Y, shuffle=True)"
      ],
      "metadata": {
        "id": "r5Uo88r5jbG3"
      },
      "execution_count": 13,
      "outputs": []
    },
    {
      "cell_type": "code",
      "source": [
        "X_train=X_train[['clean_text','length',\n",
        "       'no_of_words', 'avg_word_length', 'caps', 'excl', 'sentence_count',\n",
        "       'avg_sentence_length', 'sentiment', 'subjectivity', 'noun_count',\n",
        "       'verb_count', 'adj_count', 'adv_count', 'pron_count']]"
      ],
      "metadata": {
        "id": "ZqZbIM_tjtVw"
      },
      "execution_count": 14,
      "outputs": []
    },
    {
      "cell_type": "code",
      "source": [
        "X_scraped=df_scraped.drop(['Unnamed: 0', 'text', 'target'],axis=1)\n",
        "Y_scraped=df_scraped['target']"
      ],
      "metadata": {
        "id": "fg2nKmmfjviv"
      },
      "execution_count": 15,
      "outputs": []
    },
    {
      "cell_type": "code",
      "source": [
        "X_train_scrapped=pd.concat([X_train,X_scraped],axis=0)"
      ],
      "metadata": {
        "id": "nci-cWexjxvz"
      },
      "execution_count": 16,
      "outputs": []
    },
    {
      "cell_type": "code",
      "source": [
        "y_train_scraped=pd.concat([y_train,Y_scraped],axis=0)"
      ],
      "metadata": {
        "id": "pjnujTpfjzsi"
      },
      "execution_count": 17,
      "outputs": []
    },
    {
      "cell_type": "code",
      "source": [
        "vectorizer = TfidfVectorizer()\n",
        "tfidf_vect = vectorizer.fit(X_train['clean_text'])"
      ],
      "metadata": {
        "id": "nZQa_gJGj1d9"
      },
      "execution_count": 18,
      "outputs": []
    },
    {
      "cell_type": "code",
      "source": [
        "vectorizer1 = TfidfVectorizer()\n",
        "vectorizer1.fit(X_train_scrapped['clean_text'])"
      ],
      "metadata": {
        "colab": {
          "base_uri": "https://localhost:8080/"
        },
        "id": "EEoDw6_Uj895",
        "outputId": "f61db704-f7b0-4902-b670-a32d562274f7"
      },
      "execution_count": 19,
      "outputs": [
        {
          "output_type": "execute_result",
          "data": {
            "text/plain": [
              "TfidfVectorizer()"
            ]
          },
          "metadata": {},
          "execution_count": 19
        }
      ]
    },
    {
      "cell_type": "code",
      "source": [
        "import pickle\n",
        "with open('/content/drive/MyDrive/glove.840B.300d.pkl', 'rb') as fp:\n",
        "    glove = pickle.load(fp)\n",
        "glove_words=glove.keys()"
      ],
      "metadata": {
        "id": "rX3WtlWbkfk1"
      },
      "execution_count": 20,
      "outputs": []
    },
    {
      "cell_type": "code",
      "source": [
        "dictionary=dict(zip(vectorizer.get_feature_names(),list(vectorizer.idf_)))\n",
        "word_list=set(vectorizer.get_feature_names())\n",
        "X_train_w2v=[]\n",
        "count={0}\n",
        "for sentence in tqdm(X_train['clean_text']):\n",
        "    vector=np.zeros(300)    \n",
        "    tfidf_weight=0    \n",
        "    l=len(sentence.split())\n",
        "    for word in sentence.split():\n",
        "        if word in glove_words and word in word_list:\n",
        "            count.add(word)\n",
        "            vec=glove[word]               \n",
        "            tfidf=dictionary[word]*(sentence.count(word)/l)            \n",
        "            vector+=(vec*tfidf)            \n",
        "            tfidf_weight+=tfidf\n",
        "    if tfidf_weight !=0:\n",
        "        vector/=tfidf_weight\n",
        "    X_train_w2v.append(vector) "
      ],
      "metadata": {
        "colab": {
          "base_uri": "https://localhost:8080/"
        },
        "id": "KkHYyC3rkijJ",
        "outputId": "93a7c348-9d45-407b-9057-0e4bc076668f"
      },
      "execution_count": 22,
      "outputs": [
        {
          "output_type": "stream",
          "name": "stderr",
          "text": [
            "/usr/local/lib/python3.7/dist-packages/sklearn/utils/deprecation.py:87: FutureWarning: Function get_feature_names is deprecated; get_feature_names is deprecated in 1.0 and will be removed in 1.2. Please use get_feature_names_out instead.\n",
            "  warnings.warn(msg, category=FutureWarning)\n",
            "100%|██████████| 306733/306733 [01:15<00:00, 4047.12it/s]\n"
          ]
        }
      ]
    },
    {
      "cell_type": "code",
      "source": [
        "dictionary=dict(zip(vectorizer.get_feature_names(),list(vectorizer.idf_)))\n",
        "word_list=set(vectorizer.get_feature_names())\n",
        "X_test_w2v=[]\n",
        "count={0}\n",
        "for sentence in tqdm(X_test['clean_text']):\n",
        "    vector=np.zeros(300)    \n",
        "    tfidf_weight=0    \n",
        "    l=len(sentence.split())\n",
        "    for word in sentence.split():\n",
        "        if word in glove_words and word in word_list:\n",
        "            count.add(word)\n",
        "            vec=glove[word]               \n",
        "            tfidf=dictionary[word]*(sentence.count(word)/l)            \n",
        "            vector+=(vec*tfidf)            \n",
        "            tfidf_weight+=tfidf\n",
        "    if tfidf_weight !=0:\n",
        "        vector/=tfidf_weight\n",
        "    X_test_w2v.append(vector)"
      ],
      "metadata": {
        "id": "b4mRqpNJvu7v",
        "colab": {
          "base_uri": "https://localhost:8080/"
        },
        "outputId": "6b0a598d-7b51-43d3-dcaa-e84c2256e432"
      },
      "execution_count": 23,
      "outputs": [
        {
          "output_type": "stream",
          "name": "stderr",
          "text": [
            "100%|██████████| 165165/165165 [00:40<00:00, 4125.72it/s]\n"
          ]
        }
      ]
    },
    {
      "cell_type": "code",
      "source": [
        "parameters={'max_depth':[4,5,6,7,8]}\n",
        "clf = HistGradientBoostingClassifier()\n",
        "clf = GridSearchCV(clf, parameters,cv=5,scoring='roc_auc')\n",
        "clf.fit(X_train_w2v,y_train)"
      ],
      "metadata": {
        "colab": {
          "base_uri": "https://localhost:8080/"
        },
        "id": "CP1_5Larklde",
        "outputId": "c63714dc-6ee6-4545-d675-24fe00dd1cfa"
      },
      "execution_count": 24,
      "outputs": [
        {
          "output_type": "execute_result",
          "data": {
            "text/plain": [
              "GridSearchCV(cv=5, estimator=HistGradientBoostingClassifier(),\n",
              "             param_grid={'max_depth': [4, 5, 6, 7, 8]}, scoring='roc_auc')"
            ]
          },
          "metadata": {},
          "execution_count": 24
        }
      ]
    },
    {
      "cell_type": "code",
      "source": [
        "clf.best_estimator_"
      ],
      "metadata": {
        "colab": {
          "base_uri": "https://localhost:8080/"
        },
        "id": "7QgR5HHGlTXL",
        "outputId": "f3e3a972-7e0b-4b2e-ecd7-b24ad95b38ae"
      },
      "execution_count": 25,
      "outputs": [
        {
          "output_type": "execute_result",
          "data": {
            "text/plain": [
              "HistGradientBoostingClassifier(max_depth=7)"
            ]
          },
          "metadata": {},
          "execution_count": 25
        }
      ]
    },
    {
      "cell_type": "code",
      "source": [
        "clf = HistGradientBoostingClassifier(max_depth=7)\n",
        "clf.fit(X_train_w2v,y_train)\n",
        "Y_pred_tr=clf.predict_proba(X_train_w2v)"
      ],
      "metadata": {
        "id": "859oGMaKoAxb"
      },
      "execution_count": 26,
      "outputs": []
    },
    {
      "cell_type": "code",
      "source": [
        "Y_pred_te=clf.predict_proba(X_test_w2v)"
      ],
      "metadata": {
        "id": "jtLLFtRUyk4L"
      },
      "execution_count": 27,
      "outputs": []
    },
    {
      "cell_type": "code",
      "source": [
        "roc_auc_score(y_train, Y_pred_tr[:,1])"
      ],
      "metadata": {
        "colab": {
          "base_uri": "https://localhost:8080/"
        },
        "id": "gG7eRyp5vfdj",
        "outputId": "5c720f5e-6b14-47be-b8f0-fd68170efbbe"
      },
      "execution_count": 28,
      "outputs": [
        {
          "output_type": "execute_result",
          "data": {
            "text/plain": [
              "0.8737458734989059"
            ]
          },
          "metadata": {},
          "execution_count": 28
        }
      ]
    },
    {
      "cell_type": "code",
      "source": [
        "roc_auc_score(y_test, Y_pred_te[:,1])"
      ],
      "metadata": {
        "colab": {
          "base_uri": "https://localhost:8080/"
        },
        "id": "HH89wuP3vmVj",
        "outputId": "9a7d73ce-61e4-4c89-b2ef-a08c7e324e9d"
      },
      "execution_count": 29,
      "outputs": [
        {
          "output_type": "execute_result",
          "data": {
            "text/plain": [
              "0.8564822982455768"
            ]
          },
          "metadata": {},
          "execution_count": 29
        }
      ]
    },
    {
      "cell_type": "code",
      "source": [
        "Y_pred_te=clf.predict_proba(X_test_w2v)"
      ],
      "metadata": {
        "id": "rTXL27EaoVI0"
      },
      "execution_count": 30,
      "outputs": []
    },
    {
      "cell_type": "code",
      "source": [
        "X_te_bias=X_test[identity_columns]\n",
        "X_te_bias['y_pred']=Y_pred_te[:,1]\n",
        "X_te_bias['y']=y_test"
      ],
      "metadata": {
        "colab": {
          "base_uri": "https://localhost:8080/"
        },
        "id": "cd3Q_TX71bow",
        "outputId": "59f75337-a09f-4097-d040-dae84cb85958"
      },
      "execution_count": 31,
      "outputs": [
        {
          "output_type": "stream",
          "name": "stderr",
          "text": [
            "/usr/local/lib/python3.7/dist-packages/ipykernel_launcher.py:2: SettingWithCopyWarning: \n",
            "A value is trying to be set on a copy of a slice from a DataFrame.\n",
            "Try using .loc[row_indexer,col_indexer] = value instead\n",
            "\n",
            "See the caveats in the documentation: https://pandas.pydata.org/pandas-docs/stable/user_guide/indexing.html#returning-a-view-versus-a-copy\n",
            "  \n",
            "/usr/local/lib/python3.7/dist-packages/ipykernel_launcher.py:3: SettingWithCopyWarning: \n",
            "A value is trying to be set on a copy of a slice from a DataFrame.\n",
            "Try using .loc[row_indexer,col_indexer] = value instead\n",
            "\n",
            "See the caveats in the documentation: https://pandas.pydata.org/pandas-docs/stable/user_guide/indexing.html#returning-a-view-versus-a-copy\n",
            "  This is separate from the ipykernel package so we can avoid doing imports until\n"
          ]
        }
      ]
    },
    {
      "cell_type": "code",
      "source": [
        "identity_columns1=['latino','transgender','asian','psychiatric_or_mental_illness','jewish','homosexual_gay_or_lesbian',\n",
        "                  'black','muslim','white','christian','male','female']"
      ],
      "metadata": {
        "id": "zh92J8rU12c1"
      },
      "execution_count": 32,
      "outputs": []
    },
    {
      "cell_type": "code",
      "source": [
        "SUBGROUP_AUC = 'subgroup_auc'\n",
        "BPSN_AUC = 'bpsn_auc'  # stands for background positive, subgroup negative\n",
        "BNSP_AUC = 'bnsp_auc'  # stands for background negative, subgroup positive\n",
        "\n",
        "def compute_auc(y_true, y_pred):\n",
        "    try:\n",
        "        return metrics.roc_auc_score(y_true, y_pred)\n",
        "    except ValueError:\n",
        "        return np.nan\n",
        "\n",
        "def compute_subgroup_auc(df, subgroup):\n",
        "    subgroup_examples = df[df[subgroup]==1]\n",
        "    return compute_auc(subgroup_examples['y'], subgroup_examples['y_pred'])\n",
        "\n",
        "def compute_bpsn_auc(df, subgroup):\n",
        "    \"\"\"Computes the AUC of the within-subgroup negative examples and the background positive examples.\"\"\"\n",
        "    subgroup_negative_examples = df[df[subgroup]==1]\n",
        "    subgroup_negative_examples = subgroup_negative_examples[subgroup_negative_examples['y']==0]\n",
        "    non_subgroup_positive_examples = df[df[subgroup]==0]\n",
        "    non_subgroup_positive_examples = non_subgroup_positive_examples[non_subgroup_positive_examples['y']==1]\n",
        "    examples = subgroup_negative_examples.append(non_subgroup_positive_examples)\n",
        "    return compute_auc(examples['y'], examples['y_pred'])\n",
        "\n",
        "def compute_bnsp_auc(df, subgroup):\n",
        "    \"\"\"Computes the AUC of the within-subgroup positive examples and the background negative examples.\"\"\"\n",
        "    subgroup_positive_examples = df[df[subgroup]==1]\n",
        "    subgroup_positive_examples = subgroup_positive_examples[subgroup_positive_examples['y']==1]\n",
        "    non_subgroup_negative_examples = df[df[subgroup]==0]\n",
        "    non_subgroup_negative_examples = non_subgroup_negative_examples[non_subgroup_negative_examples['y']==0]\n",
        "    examples = subgroup_positive_examples.append(non_subgroup_negative_examples)\n",
        "    return compute_auc(examples['y'], examples['y_pred'])\n",
        "\n",
        "def compute_bias_metrics_for_model(dataset,\n",
        "                                   subgroups,\n",
        "                                   include_asegs=False):\n",
        "    \"\"\"Computes per-subgroup metrics for all subgroups and one model.\"\"\"\n",
        "    records = []\n",
        "    for subgroup in subgroups:\n",
        "        record = {'subgroup': subgroup,'subgroup_size': len(dataset[dataset[subgroup]==1])}\n",
        "        record[SUBGROUP_AUC] = compute_subgroup_auc(dataset, subgroup)\n",
        "        record[BPSN_AUC] = compute_bpsn_auc(dataset, subgroup)\n",
        "        record[BNSP_AUC] = compute_bnsp_auc(dataset, subgroup)\n",
        "        records.append(record)\n",
        "    return pd.DataFrame(records).sort_values('subgroup_size', ascending=True)"
      ],
      "metadata": {
        "id": "oKx77DvH1q-l"
      },
      "execution_count": 21,
      "outputs": []
    },
    {
      "cell_type": "code",
      "source": [
        "bias_metrics_df = compute_bias_metrics_for_model(X_te_bias, identity_columns1)\n",
        "bias_metrics_df"
      ],
      "metadata": {
        "colab": {
          "base_uri": "https://localhost:8080/",
          "height": 426
        },
        "id": "jf4w6SpB1dCJ",
        "outputId": "9141f747-4ba9-42bb-b5a0-2d544980255e"
      },
      "execution_count": 33,
      "outputs": [
        {
          "output_type": "execute_result",
          "data": {
            "text/plain": [
              "                         subgroup  subgroup_size  subgroup_auc  bpsn_auc  \\\n",
              "0                          latino            246      0.814362  0.726606   \n",
              "1                     transgender            336      0.726870  0.745714   \n",
              "2                           asian            478      0.783865  0.762872   \n",
              "3   psychiatric_or_mental_illness            634      0.777998  0.788042   \n",
              "4                          jewish            888      0.771024  0.700495   \n",
              "5       homosexual_gay_or_lesbian           1605      0.728077  0.685156   \n",
              "6                           black           2332      0.718470  0.645256   \n",
              "7                          muslim           2799      0.735687  0.644767   \n",
              "8                           white           3789      0.739890  0.630131   \n",
              "9                       christian           3819      0.826721  0.825794   \n",
              "10                           male           4978      0.796725  0.720835   \n",
              "11                         female           5835      0.794217  0.734947   \n",
              "\n",
              "    bnsp_auc  \n",
              "0   0.906942  \n",
              "1   0.843739  \n",
              "2   0.873998  \n",
              "3   0.850897  \n",
              "4   0.905522  \n",
              "5   0.890661  \n",
              "6   0.901859  \n",
              "7   0.915201  \n",
              "8   0.919295  \n",
              "9   0.859672  \n",
              "10  0.908257  \n",
              "11  0.900609  "
            ],
            "text/html": [
              "\n",
              "  <div id=\"df-4e4429c2-7023-4bc3-9c61-ba738ece6aef\">\n",
              "    <div class=\"colab-df-container\">\n",
              "      <div>\n",
              "<style scoped>\n",
              "    .dataframe tbody tr th:only-of-type {\n",
              "        vertical-align: middle;\n",
              "    }\n",
              "\n",
              "    .dataframe tbody tr th {\n",
              "        vertical-align: top;\n",
              "    }\n",
              "\n",
              "    .dataframe thead th {\n",
              "        text-align: right;\n",
              "    }\n",
              "</style>\n",
              "<table border=\"1\" class=\"dataframe\">\n",
              "  <thead>\n",
              "    <tr style=\"text-align: right;\">\n",
              "      <th></th>\n",
              "      <th>subgroup</th>\n",
              "      <th>subgroup_size</th>\n",
              "      <th>subgroup_auc</th>\n",
              "      <th>bpsn_auc</th>\n",
              "      <th>bnsp_auc</th>\n",
              "    </tr>\n",
              "  </thead>\n",
              "  <tbody>\n",
              "    <tr>\n",
              "      <th>0</th>\n",
              "      <td>latino</td>\n",
              "      <td>246</td>\n",
              "      <td>0.814362</td>\n",
              "      <td>0.726606</td>\n",
              "      <td>0.906942</td>\n",
              "    </tr>\n",
              "    <tr>\n",
              "      <th>1</th>\n",
              "      <td>transgender</td>\n",
              "      <td>336</td>\n",
              "      <td>0.726870</td>\n",
              "      <td>0.745714</td>\n",
              "      <td>0.843739</td>\n",
              "    </tr>\n",
              "    <tr>\n",
              "      <th>2</th>\n",
              "      <td>asian</td>\n",
              "      <td>478</td>\n",
              "      <td>0.783865</td>\n",
              "      <td>0.762872</td>\n",
              "      <td>0.873998</td>\n",
              "    </tr>\n",
              "    <tr>\n",
              "      <th>3</th>\n",
              "      <td>psychiatric_or_mental_illness</td>\n",
              "      <td>634</td>\n",
              "      <td>0.777998</td>\n",
              "      <td>0.788042</td>\n",
              "      <td>0.850897</td>\n",
              "    </tr>\n",
              "    <tr>\n",
              "      <th>4</th>\n",
              "      <td>jewish</td>\n",
              "      <td>888</td>\n",
              "      <td>0.771024</td>\n",
              "      <td>0.700495</td>\n",
              "      <td>0.905522</td>\n",
              "    </tr>\n",
              "    <tr>\n",
              "      <th>5</th>\n",
              "      <td>homosexual_gay_or_lesbian</td>\n",
              "      <td>1605</td>\n",
              "      <td>0.728077</td>\n",
              "      <td>0.685156</td>\n",
              "      <td>0.890661</td>\n",
              "    </tr>\n",
              "    <tr>\n",
              "      <th>6</th>\n",
              "      <td>black</td>\n",
              "      <td>2332</td>\n",
              "      <td>0.718470</td>\n",
              "      <td>0.645256</td>\n",
              "      <td>0.901859</td>\n",
              "    </tr>\n",
              "    <tr>\n",
              "      <th>7</th>\n",
              "      <td>muslim</td>\n",
              "      <td>2799</td>\n",
              "      <td>0.735687</td>\n",
              "      <td>0.644767</td>\n",
              "      <td>0.915201</td>\n",
              "    </tr>\n",
              "    <tr>\n",
              "      <th>8</th>\n",
              "      <td>white</td>\n",
              "      <td>3789</td>\n",
              "      <td>0.739890</td>\n",
              "      <td>0.630131</td>\n",
              "      <td>0.919295</td>\n",
              "    </tr>\n",
              "    <tr>\n",
              "      <th>9</th>\n",
              "      <td>christian</td>\n",
              "      <td>3819</td>\n",
              "      <td>0.826721</td>\n",
              "      <td>0.825794</td>\n",
              "      <td>0.859672</td>\n",
              "    </tr>\n",
              "    <tr>\n",
              "      <th>10</th>\n",
              "      <td>male</td>\n",
              "      <td>4978</td>\n",
              "      <td>0.796725</td>\n",
              "      <td>0.720835</td>\n",
              "      <td>0.908257</td>\n",
              "    </tr>\n",
              "    <tr>\n",
              "      <th>11</th>\n",
              "      <td>female</td>\n",
              "      <td>5835</td>\n",
              "      <td>0.794217</td>\n",
              "      <td>0.734947</td>\n",
              "      <td>0.900609</td>\n",
              "    </tr>\n",
              "  </tbody>\n",
              "</table>\n",
              "</div>\n",
              "      <button class=\"colab-df-convert\" onclick=\"convertToInteractive('df-4e4429c2-7023-4bc3-9c61-ba738ece6aef')\"\n",
              "              title=\"Convert this dataframe to an interactive table.\"\n",
              "              style=\"display:none;\">\n",
              "        \n",
              "  <svg xmlns=\"http://www.w3.org/2000/svg\" height=\"24px\"viewBox=\"0 0 24 24\"\n",
              "       width=\"24px\">\n",
              "    <path d=\"M0 0h24v24H0V0z\" fill=\"none\"/>\n",
              "    <path d=\"M18.56 5.44l.94 2.06.94-2.06 2.06-.94-2.06-.94-.94-2.06-.94 2.06-2.06.94zm-11 1L8.5 8.5l.94-2.06 2.06-.94-2.06-.94L8.5 2.5l-.94 2.06-2.06.94zm10 10l.94 2.06.94-2.06 2.06-.94-2.06-.94-.94-2.06-.94 2.06-2.06.94z\"/><path d=\"M17.41 7.96l-1.37-1.37c-.4-.4-.92-.59-1.43-.59-.52 0-1.04.2-1.43.59L10.3 9.45l-7.72 7.72c-.78.78-.78 2.05 0 2.83L4 21.41c.39.39.9.59 1.41.59.51 0 1.02-.2 1.41-.59l7.78-7.78 2.81-2.81c.8-.78.8-2.07 0-2.86zM5.41 20L4 18.59l7.72-7.72 1.47 1.35L5.41 20z\"/>\n",
              "  </svg>\n",
              "      </button>\n",
              "      \n",
              "  <style>\n",
              "    .colab-df-container {\n",
              "      display:flex;\n",
              "      flex-wrap:wrap;\n",
              "      gap: 12px;\n",
              "    }\n",
              "\n",
              "    .colab-df-convert {\n",
              "      background-color: #E8F0FE;\n",
              "      border: none;\n",
              "      border-radius: 50%;\n",
              "      cursor: pointer;\n",
              "      display: none;\n",
              "      fill: #1967D2;\n",
              "      height: 32px;\n",
              "      padding: 0 0 0 0;\n",
              "      width: 32px;\n",
              "    }\n",
              "\n",
              "    .colab-df-convert:hover {\n",
              "      background-color: #E2EBFA;\n",
              "      box-shadow: 0px 1px 2px rgba(60, 64, 67, 0.3), 0px 1px 3px 1px rgba(60, 64, 67, 0.15);\n",
              "      fill: #174EA6;\n",
              "    }\n",
              "\n",
              "    [theme=dark] .colab-df-convert {\n",
              "      background-color: #3B4455;\n",
              "      fill: #D2E3FC;\n",
              "    }\n",
              "\n",
              "    [theme=dark] .colab-df-convert:hover {\n",
              "      background-color: #434B5C;\n",
              "      box-shadow: 0px 1px 3px 1px rgba(0, 0, 0, 0.15);\n",
              "      filter: drop-shadow(0px 1px 2px rgba(0, 0, 0, 0.3));\n",
              "      fill: #FFFFFF;\n",
              "    }\n",
              "  </style>\n",
              "\n",
              "      <script>\n",
              "        const buttonEl =\n",
              "          document.querySelector('#df-4e4429c2-7023-4bc3-9c61-ba738ece6aef button.colab-df-convert');\n",
              "        buttonEl.style.display =\n",
              "          google.colab.kernel.accessAllowed ? 'block' : 'none';\n",
              "\n",
              "        async function convertToInteractive(key) {\n",
              "          const element = document.querySelector('#df-4e4429c2-7023-4bc3-9c61-ba738ece6aef');\n",
              "          const dataTable =\n",
              "            await google.colab.kernel.invokeFunction('convertToInteractive',\n",
              "                                                     [key], {});\n",
              "          if (!dataTable) return;\n",
              "\n",
              "          const docLinkHtml = 'Like what you see? Visit the ' +\n",
              "            '<a target=\"_blank\" href=https://colab.research.google.com/notebooks/data_table.ipynb>data table notebook</a>'\n",
              "            + ' to learn more about interactive tables.';\n",
              "          element.innerHTML = '';\n",
              "          dataTable['output_type'] = 'display_data';\n",
              "          await google.colab.output.renderOutput(dataTable, element);\n",
              "          const docLink = document.createElement('div');\n",
              "          docLink.innerHTML = docLinkHtml;\n",
              "          element.appendChild(docLink);\n",
              "        }\n",
              "      </script>\n",
              "    </div>\n",
              "  </div>\n",
              "  "
            ]
          },
          "metadata": {},
          "execution_count": 33
        }
      ]
    },
    {
      "cell_type": "code",
      "source": [
        "def score(df,overall_auc):\n",
        "    l=len(df)\n",
        "    x=df.drop(['subgroup','subgroup_size'],axis=1)\n",
        "    x=x.apply((lambda x: x**(-5)),axis=1)\n",
        "    s=x.sum(axis=0)\n",
        "    s=s.apply(lambda x: (x/l)**(1/(-5)))\n",
        "    s=s.sum(axis=0)\n",
        "    score=0.25*(s+overall_auc)\n",
        "    return score    "
      ],
      "metadata": {
        "id": "YdPC5zFi2Pbn"
      },
      "execution_count": 34,
      "outputs": []
    },
    {
      "cell_type": "code",
      "source": [
        "bias_score=score(bias_metrics_df,0.8576)\n",
        "bias_score"
      ],
      "metadata": {
        "id": "BrjPF_Zp1fib",
        "colab": {
          "base_uri": "https://localhost:8080/"
        },
        "outputId": "ebff83cc-186d-4a58-b44e-37fa74115776"
      },
      "execution_count": 35,
      "outputs": [
        {
          "output_type": "execute_result",
          "data": {
            "text/plain": [
              "0.8030411746534422"
            ]
          },
          "metadata": {},
          "execution_count": 35
        }
      ]
    },
    {
      "cell_type": "code",
      "source": [
        "from sklearn.linear_model import LogisticRegression\n",
        "parameters={'C':[0.0001,0.001,0.01,1,10,100]}\n",
        "clf = LogisticRegression(solver='saga',random_state=42)\n",
        "clf = GridSearchCV(clf, parameters,cv=5,scoring='roc_auc')\n",
        "clf.fit(X_train_w2v,y_train)"
      ],
      "metadata": {
        "colab": {
          "base_uri": "https://localhost:8080/"
        },
        "id": "IScDOdPfI0kU",
        "outputId": "31bd26ed-7e23-494d-a1d9-27e9d4aab87c"
      },
      "execution_count": 36,
      "outputs": [
        {
          "output_type": "execute_result",
          "data": {
            "text/plain": [
              "GridSearchCV(cv=5, estimator=LogisticRegression(random_state=42, solver='saga'),\n",
              "             param_grid={'C': [0.0001, 0.001, 0.01, 1, 10, 100]},\n",
              "             scoring='roc_auc')"
            ]
          },
          "metadata": {},
          "execution_count": 36
        }
      ]
    },
    {
      "cell_type": "code",
      "source": [
        "clf.best_estimator_"
      ],
      "metadata": {
        "colab": {
          "base_uri": "https://localhost:8080/"
        },
        "id": "5mdlWlATV5yd",
        "outputId": "82caea54-d890-435d-b9ba-3f9cf1cb6688"
      },
      "execution_count": 37,
      "outputs": [
        {
          "output_type": "execute_result",
          "data": {
            "text/plain": [
              "LogisticRegression(C=1, random_state=42, solver='saga')"
            ]
          },
          "metadata": {},
          "execution_count": 37
        }
      ]
    },
    {
      "cell_type": "code",
      "source": [
        "clf=LogisticRegression(C=1, random_state=42, solver='saga')\n",
        "clf.fit(X_train_w2v,y_train)\n",
        "Y_pred_tr=clf.predict_proba(X_train_w2v)"
      ],
      "metadata": {
        "id": "8UIMR_aNXGtL"
      },
      "execution_count": 38,
      "outputs": []
    },
    {
      "cell_type": "code",
      "source": [
        "Y_pred_te=clf.predict_proba(X_test_w2v)"
      ],
      "metadata": {
        "id": "JsBY8PcJV6Sf"
      },
      "execution_count": 39,
      "outputs": []
    },
    {
      "cell_type": "code",
      "source": [
        "roc_auc_score(y_train, Y_pred_tr[:,1])"
      ],
      "metadata": {
        "colab": {
          "base_uri": "https://localhost:8080/"
        },
        "id": "cAUrcFRKV6gC",
        "outputId": "e1543121-9e23-4b42-a9d3-fec3fa020c13"
      },
      "execution_count": 40,
      "outputs": [
        {
          "output_type": "execute_result",
          "data": {
            "text/plain": [
              "0.8547150453437975"
            ]
          },
          "metadata": {},
          "execution_count": 40
        }
      ]
    },
    {
      "cell_type": "code",
      "source": [
        "roc_auc_score(y_test, Y_pred_te[:,1])"
      ],
      "metadata": {
        "colab": {
          "base_uri": "https://localhost:8080/"
        },
        "id": "4Nw2cu8mV6iR",
        "outputId": "5701089b-522c-4eff-b7d0-d7958a397519"
      },
      "execution_count": 41,
      "outputs": [
        {
          "output_type": "execute_result",
          "data": {
            "text/plain": [
              "0.8536722982629703"
            ]
          },
          "metadata": {},
          "execution_count": 41
        }
      ]
    },
    {
      "cell_type": "code",
      "source": [
        "Y_pred_te=clf.predict_proba(X_test_w2v)\n",
        "X_te_bias=X_test[identity_columns]\n",
        "X_te_bias['y_pred']=Y_pred_te[:,1]\n",
        "X_te_bias['y']=y_test"
      ],
      "metadata": {
        "colab": {
          "base_uri": "https://localhost:8080/"
        },
        "id": "qCZd0tGFYATl",
        "outputId": "cb5d2bdc-20ab-4639-cbd7-3fe7d4b87b20"
      },
      "execution_count": 42,
      "outputs": [
        {
          "output_type": "stream",
          "name": "stderr",
          "text": [
            "/usr/local/lib/python3.7/dist-packages/ipykernel_launcher.py:3: SettingWithCopyWarning: \n",
            "A value is trying to be set on a copy of a slice from a DataFrame.\n",
            "Try using .loc[row_indexer,col_indexer] = value instead\n",
            "\n",
            "See the caveats in the documentation: https://pandas.pydata.org/pandas-docs/stable/user_guide/indexing.html#returning-a-view-versus-a-copy\n",
            "  This is separate from the ipykernel package so we can avoid doing imports until\n",
            "/usr/local/lib/python3.7/dist-packages/ipykernel_launcher.py:4: SettingWithCopyWarning: \n",
            "A value is trying to be set on a copy of a slice from a DataFrame.\n",
            "Try using .loc[row_indexer,col_indexer] = value instead\n",
            "\n",
            "See the caveats in the documentation: https://pandas.pydata.org/pandas-docs/stable/user_guide/indexing.html#returning-a-view-versus-a-copy\n",
            "  after removing the cwd from sys.path.\n"
          ]
        }
      ]
    },
    {
      "cell_type": "code",
      "source": [
        "bias_metrics_df = compute_bias_metrics_for_model(X_te_bias, identity_columns1)\n",
        "bias_metrics_df"
      ],
      "metadata": {
        "colab": {
          "base_uri": "https://localhost:8080/",
          "height": 426
        },
        "id": "R6Ox07mLYAWm",
        "outputId": "df4705ab-2b50-46c9-a654-4b914cf43782"
      },
      "execution_count": 43,
      "outputs": [
        {
          "output_type": "execute_result",
          "data": {
            "text/plain": [
              "                         subgroup  subgroup_size  subgroup_auc  bpsn_auc  \\\n",
              "0                          latino            246      0.798314  0.754518   \n",
              "1                     transgender            336      0.737520  0.750204   \n",
              "2                           asian            478      0.764138  0.775869   \n",
              "3   psychiatric_or_mental_illness            634      0.762848  0.746944   \n",
              "4                          jewish            888      0.752704  0.709805   \n",
              "5       homosexual_gay_or_lesbian           1605      0.735672  0.695151   \n",
              "6                           black           2332      0.740588  0.683280   \n",
              "7                          muslim           2799      0.732132  0.683701   \n",
              "8                           white           3789      0.743440  0.670221   \n",
              "9                       christian           3819      0.820711  0.847022   \n",
              "10                           male           4978      0.791457  0.742988   \n",
              "11                         female           5835      0.788348  0.763180   \n",
              "\n",
              "    bnsp_auc  \n",
              "0   0.881741  \n",
              "1   0.850610  \n",
              "2   0.848931  \n",
              "3   0.868408  \n",
              "4   0.888251  \n",
              "5   0.886815  \n",
              "6   0.892797  \n",
              "7   0.891541  \n",
              "8   0.901312  \n",
              "9   0.830273  \n",
              "10  0.890346  \n",
              "11  0.876892  "
            ],
            "text/html": [
              "\n",
              "  <div id=\"df-ed9a1684-51c9-46e8-989f-3cb33ba9655b\">\n",
              "    <div class=\"colab-df-container\">\n",
              "      <div>\n",
              "<style scoped>\n",
              "    .dataframe tbody tr th:only-of-type {\n",
              "        vertical-align: middle;\n",
              "    }\n",
              "\n",
              "    .dataframe tbody tr th {\n",
              "        vertical-align: top;\n",
              "    }\n",
              "\n",
              "    .dataframe thead th {\n",
              "        text-align: right;\n",
              "    }\n",
              "</style>\n",
              "<table border=\"1\" class=\"dataframe\">\n",
              "  <thead>\n",
              "    <tr style=\"text-align: right;\">\n",
              "      <th></th>\n",
              "      <th>subgroup</th>\n",
              "      <th>subgroup_size</th>\n",
              "      <th>subgroup_auc</th>\n",
              "      <th>bpsn_auc</th>\n",
              "      <th>bnsp_auc</th>\n",
              "    </tr>\n",
              "  </thead>\n",
              "  <tbody>\n",
              "    <tr>\n",
              "      <th>0</th>\n",
              "      <td>latino</td>\n",
              "      <td>246</td>\n",
              "      <td>0.798314</td>\n",
              "      <td>0.754518</td>\n",
              "      <td>0.881741</td>\n",
              "    </tr>\n",
              "    <tr>\n",
              "      <th>1</th>\n",
              "      <td>transgender</td>\n",
              "      <td>336</td>\n",
              "      <td>0.737520</td>\n",
              "      <td>0.750204</td>\n",
              "      <td>0.850610</td>\n",
              "    </tr>\n",
              "    <tr>\n",
              "      <th>2</th>\n",
              "      <td>asian</td>\n",
              "      <td>478</td>\n",
              "      <td>0.764138</td>\n",
              "      <td>0.775869</td>\n",
              "      <td>0.848931</td>\n",
              "    </tr>\n",
              "    <tr>\n",
              "      <th>3</th>\n",
              "      <td>psychiatric_or_mental_illness</td>\n",
              "      <td>634</td>\n",
              "      <td>0.762848</td>\n",
              "      <td>0.746944</td>\n",
              "      <td>0.868408</td>\n",
              "    </tr>\n",
              "    <tr>\n",
              "      <th>4</th>\n",
              "      <td>jewish</td>\n",
              "      <td>888</td>\n",
              "      <td>0.752704</td>\n",
              "      <td>0.709805</td>\n",
              "      <td>0.888251</td>\n",
              "    </tr>\n",
              "    <tr>\n",
              "      <th>5</th>\n",
              "      <td>homosexual_gay_or_lesbian</td>\n",
              "      <td>1605</td>\n",
              "      <td>0.735672</td>\n",
              "      <td>0.695151</td>\n",
              "      <td>0.886815</td>\n",
              "    </tr>\n",
              "    <tr>\n",
              "      <th>6</th>\n",
              "      <td>black</td>\n",
              "      <td>2332</td>\n",
              "      <td>0.740588</td>\n",
              "      <td>0.683280</td>\n",
              "      <td>0.892797</td>\n",
              "    </tr>\n",
              "    <tr>\n",
              "      <th>7</th>\n",
              "      <td>muslim</td>\n",
              "      <td>2799</td>\n",
              "      <td>0.732132</td>\n",
              "      <td>0.683701</td>\n",
              "      <td>0.891541</td>\n",
              "    </tr>\n",
              "    <tr>\n",
              "      <th>8</th>\n",
              "      <td>white</td>\n",
              "      <td>3789</td>\n",
              "      <td>0.743440</td>\n",
              "      <td>0.670221</td>\n",
              "      <td>0.901312</td>\n",
              "    </tr>\n",
              "    <tr>\n",
              "      <th>9</th>\n",
              "      <td>christian</td>\n",
              "      <td>3819</td>\n",
              "      <td>0.820711</td>\n",
              "      <td>0.847022</td>\n",
              "      <td>0.830273</td>\n",
              "    </tr>\n",
              "    <tr>\n",
              "      <th>10</th>\n",
              "      <td>male</td>\n",
              "      <td>4978</td>\n",
              "      <td>0.791457</td>\n",
              "      <td>0.742988</td>\n",
              "      <td>0.890346</td>\n",
              "    </tr>\n",
              "    <tr>\n",
              "      <th>11</th>\n",
              "      <td>female</td>\n",
              "      <td>5835</td>\n",
              "      <td>0.788348</td>\n",
              "      <td>0.763180</td>\n",
              "      <td>0.876892</td>\n",
              "    </tr>\n",
              "  </tbody>\n",
              "</table>\n",
              "</div>\n",
              "      <button class=\"colab-df-convert\" onclick=\"convertToInteractive('df-ed9a1684-51c9-46e8-989f-3cb33ba9655b')\"\n",
              "              title=\"Convert this dataframe to an interactive table.\"\n",
              "              style=\"display:none;\">\n",
              "        \n",
              "  <svg xmlns=\"http://www.w3.org/2000/svg\" height=\"24px\"viewBox=\"0 0 24 24\"\n",
              "       width=\"24px\">\n",
              "    <path d=\"M0 0h24v24H0V0z\" fill=\"none\"/>\n",
              "    <path d=\"M18.56 5.44l.94 2.06.94-2.06 2.06-.94-2.06-.94-.94-2.06-.94 2.06-2.06.94zm-11 1L8.5 8.5l.94-2.06 2.06-.94-2.06-.94L8.5 2.5l-.94 2.06-2.06.94zm10 10l.94 2.06.94-2.06 2.06-.94-2.06-.94-.94-2.06-.94 2.06-2.06.94z\"/><path d=\"M17.41 7.96l-1.37-1.37c-.4-.4-.92-.59-1.43-.59-.52 0-1.04.2-1.43.59L10.3 9.45l-7.72 7.72c-.78.78-.78 2.05 0 2.83L4 21.41c.39.39.9.59 1.41.59.51 0 1.02-.2 1.41-.59l7.78-7.78 2.81-2.81c.8-.78.8-2.07 0-2.86zM5.41 20L4 18.59l7.72-7.72 1.47 1.35L5.41 20z\"/>\n",
              "  </svg>\n",
              "      </button>\n",
              "      \n",
              "  <style>\n",
              "    .colab-df-container {\n",
              "      display:flex;\n",
              "      flex-wrap:wrap;\n",
              "      gap: 12px;\n",
              "    }\n",
              "\n",
              "    .colab-df-convert {\n",
              "      background-color: #E8F0FE;\n",
              "      border: none;\n",
              "      border-radius: 50%;\n",
              "      cursor: pointer;\n",
              "      display: none;\n",
              "      fill: #1967D2;\n",
              "      height: 32px;\n",
              "      padding: 0 0 0 0;\n",
              "      width: 32px;\n",
              "    }\n",
              "\n",
              "    .colab-df-convert:hover {\n",
              "      background-color: #E2EBFA;\n",
              "      box-shadow: 0px 1px 2px rgba(60, 64, 67, 0.3), 0px 1px 3px 1px rgba(60, 64, 67, 0.15);\n",
              "      fill: #174EA6;\n",
              "    }\n",
              "\n",
              "    [theme=dark] .colab-df-convert {\n",
              "      background-color: #3B4455;\n",
              "      fill: #D2E3FC;\n",
              "    }\n",
              "\n",
              "    [theme=dark] .colab-df-convert:hover {\n",
              "      background-color: #434B5C;\n",
              "      box-shadow: 0px 1px 3px 1px rgba(0, 0, 0, 0.15);\n",
              "      filter: drop-shadow(0px 1px 2px rgba(0, 0, 0, 0.3));\n",
              "      fill: #FFFFFF;\n",
              "    }\n",
              "  </style>\n",
              "\n",
              "      <script>\n",
              "        const buttonEl =\n",
              "          document.querySelector('#df-ed9a1684-51c9-46e8-989f-3cb33ba9655b button.colab-df-convert');\n",
              "        buttonEl.style.display =\n",
              "          google.colab.kernel.accessAllowed ? 'block' : 'none';\n",
              "\n",
              "        async function convertToInteractive(key) {\n",
              "          const element = document.querySelector('#df-ed9a1684-51c9-46e8-989f-3cb33ba9655b');\n",
              "          const dataTable =\n",
              "            await google.colab.kernel.invokeFunction('convertToInteractive',\n",
              "                                                     [key], {});\n",
              "          if (!dataTable) return;\n",
              "\n",
              "          const docLinkHtml = 'Like what you see? Visit the ' +\n",
              "            '<a target=\"_blank\" href=https://colab.research.google.com/notebooks/data_table.ipynb>data table notebook</a>'\n",
              "            + ' to learn more about interactive tables.';\n",
              "          element.innerHTML = '';\n",
              "          dataTable['output_type'] = 'display_data';\n",
              "          await google.colab.output.renderOutput(dataTable, element);\n",
              "          const docLink = document.createElement('div');\n",
              "          docLink.innerHTML = docLinkHtml;\n",
              "          element.appendChild(docLink);\n",
              "        }\n",
              "      </script>\n",
              "    </div>\n",
              "  </div>\n",
              "  "
            ]
          },
          "metadata": {},
          "execution_count": 43
        }
      ]
    },
    {
      "cell_type": "code",
      "source": [
        "bias_score=score(bias_metrics_df,0.8521)\n",
        "bias_score"
      ],
      "metadata": {
        "colab": {
          "base_uri": "https://localhost:8080/"
        },
        "id": "hiqfiPUeYAZS",
        "outputId": "572b0bdd-8d9d-4291-aeee-fd73005aaaa7"
      },
      "execution_count": 44,
      "outputs": [
        {
          "output_type": "execute_result",
          "data": {
            "text/plain": [
              "0.8034781526695195"
            ]
          },
          "metadata": {},
          "execution_count": 44
        }
      ]
    },
    {
      "cell_type": "code",
      "source": [
        "from sklearn.ensemble import RandomForestClassifier\n",
        "parameters={'n_estimators':[10,20,30],'max_depth':[3,4,5,6],'max_samples':[0.4,0.5,0.7]}\n",
        "clf = RandomForestClassifier(n_jobs=-1, random_state=0)\n",
        "clf = GridSearchCV(clf, parameters,cv=5,scoring='roc_auc')\n",
        "clf.fit(X_train_w2v,y_train)"
      ],
      "metadata": {
        "id": "PjPKy7NRDwPX"
      },
      "execution_count": null,
      "outputs": []
    },
    {
      "cell_type": "code",
      "source": [
        "clf.best_estimator_"
      ],
      "metadata": {
        "colab": {
          "base_uri": "https://localhost:8080/"
        },
        "id": "_BmiJ9eSL3AG",
        "outputId": "ac2dec49-e836-441e-9375-8c4304862915"
      },
      "execution_count": 24,
      "outputs": [
        {
          "output_type": "execute_result",
          "data": {
            "text/plain": [
              "RandomForestClassifier(max_depth=6, max_samples=0.4, n_estimators=30, n_jobs=-1,\n",
              "                       random_state=0)"
            ]
          },
          "metadata": {},
          "execution_count": 24
        }
      ]
    },
    {
      "cell_type": "code",
      "source": [
        "clf=RandomForestClassifier(max_depth=6, max_samples=0.4, n_estimators=30, n_jobs=-1,\n",
        "                       random_state=0)\n",
        "clf.fit(X_train_w2v,y_train)\n",
        "Y_pred_tr=clf.predict_proba(X_train_w2v)"
      ],
      "metadata": {
        "id": "_VLLUSviL5u6"
      },
      "execution_count": 25,
      "outputs": []
    },
    {
      "cell_type": "code",
      "source": [
        "Y_pred_te=clf.predict_proba(X_test_w2v)"
      ],
      "metadata": {
        "id": "iRuuJb-xhQJU"
      },
      "execution_count": 26,
      "outputs": []
    },
    {
      "cell_type": "code",
      "source": [
        "roc_auc_score(y_train, Y_pred_tr[:,1])"
      ],
      "metadata": {
        "colab": {
          "base_uri": "https://localhost:8080/"
        },
        "id": "eW3kGMoLh0m0",
        "outputId": "61a82bc4-5792-478b-ec5d-ad5229da72ee"
      },
      "execution_count": 27,
      "outputs": [
        {
          "output_type": "execute_result",
          "data": {
            "text/plain": [
              "0.8165089385303973"
            ]
          },
          "metadata": {},
          "execution_count": 27
        }
      ]
    },
    {
      "cell_type": "code",
      "source": [
        "roc_auc_score(y_test, Y_pred_te[:,1])"
      ],
      "metadata": {
        "colab": {
          "base_uri": "https://localhost:8080/"
        },
        "id": "AmkBUWBsh0rJ",
        "outputId": "27f0cc6c-dbcd-455d-a82b-e3434bba7352"
      },
      "execution_count": 28,
      "outputs": [
        {
          "output_type": "execute_result",
          "data": {
            "text/plain": [
              "0.8097501889546995"
            ]
          },
          "metadata": {},
          "execution_count": 28
        }
      ]
    },
    {
      "cell_type": "code",
      "source": [
        "Y_pred_te=clf.predict_proba(X_test_w2v)\n",
        "X_te_bias=X_test[identity_columns]\n",
        "X_te_bias['y_pred']=Y_pred_te[:,1]\n",
        "X_te_bias['y']=y_test"
      ],
      "metadata": {
        "colab": {
          "base_uri": "https://localhost:8080/"
        },
        "id": "ygYMDT5Nh-Iv",
        "outputId": "dca6cd7b-d526-474b-a780-a1821dd7e67e"
      },
      "execution_count": 29,
      "outputs": [
        {
          "output_type": "stream",
          "name": "stderr",
          "text": [
            "/usr/local/lib/python3.7/dist-packages/ipykernel_launcher.py:3: SettingWithCopyWarning: \n",
            "A value is trying to be set on a copy of a slice from a DataFrame.\n",
            "Try using .loc[row_indexer,col_indexer] = value instead\n",
            "\n",
            "See the caveats in the documentation: https://pandas.pydata.org/pandas-docs/stable/user_guide/indexing.html#returning-a-view-versus-a-copy\n",
            "  This is separate from the ipykernel package so we can avoid doing imports until\n",
            "/usr/local/lib/python3.7/dist-packages/ipykernel_launcher.py:4: SettingWithCopyWarning: \n",
            "A value is trying to be set on a copy of a slice from a DataFrame.\n",
            "Try using .loc[row_indexer,col_indexer] = value instead\n",
            "\n",
            "See the caveats in the documentation: https://pandas.pydata.org/pandas-docs/stable/user_guide/indexing.html#returning-a-view-versus-a-copy\n",
            "  after removing the cwd from sys.path.\n"
          ]
        }
      ]
    },
    {
      "cell_type": "code",
      "source": [
        "bias_metrics_df = compute_bias_metrics_for_model(X_te_bias, identity_columns1)\n",
        "bias_metrics_df"
      ],
      "metadata": {
        "colab": {
          "base_uri": "https://localhost:8080/",
          "height": 426
        },
        "id": "5hrzzusTiNwv",
        "outputId": "b3c0216a-8a00-41ca-fc80-e2a2ef61e43c"
      },
      "execution_count": 34,
      "outputs": [
        {
          "output_type": "execute_result",
          "data": {
            "text/plain": [
              "                         subgroup  subgroup_size  subgroup_auc  bpsn_auc  \\\n",
              "0                          latino            245      0.763230  0.668504   \n",
              "1                     transgender            340      0.727344  0.781446   \n",
              "2                           asian            514      0.742505  0.733849   \n",
              "3   psychiatric_or_mental_illness            639      0.805775  0.830321   \n",
              "4                          jewish            899      0.732394  0.612696   \n",
              "5       homosexual_gay_or_lesbian           1581      0.723626  0.671915   \n",
              "6                           black           2353      0.703127  0.633883   \n",
              "7                          muslim           2810      0.709023  0.590273   \n",
              "8                           white           3736      0.712274  0.597909   \n",
              "9                       christian           3785      0.797961  0.756562   \n",
              "10                           male           4969      0.747548  0.676959   \n",
              "11                         female           5768      0.767883  0.707620   \n",
              "\n",
              "    bnsp_auc  \n",
              "0   0.884667  \n",
              "1   0.762993  \n",
              "2   0.818869  \n",
              "3   0.784712  \n",
              "4   0.891894  \n",
              "5   0.854462  \n",
              "6   0.861104  \n",
              "7   0.892805  \n",
              "8   0.886143  \n",
              "9   0.845823  \n",
              "10  0.864455  \n",
              "11  0.858978  "
            ],
            "text/html": [
              "\n",
              "  <div id=\"df-bfd14880-5361-44af-bd64-a8cee6152800\">\n",
              "    <div class=\"colab-df-container\">\n",
              "      <div>\n",
              "<style scoped>\n",
              "    .dataframe tbody tr th:only-of-type {\n",
              "        vertical-align: middle;\n",
              "    }\n",
              "\n",
              "    .dataframe tbody tr th {\n",
              "        vertical-align: top;\n",
              "    }\n",
              "\n",
              "    .dataframe thead th {\n",
              "        text-align: right;\n",
              "    }\n",
              "</style>\n",
              "<table border=\"1\" class=\"dataframe\">\n",
              "  <thead>\n",
              "    <tr style=\"text-align: right;\">\n",
              "      <th></th>\n",
              "      <th>subgroup</th>\n",
              "      <th>subgroup_size</th>\n",
              "      <th>subgroup_auc</th>\n",
              "      <th>bpsn_auc</th>\n",
              "      <th>bnsp_auc</th>\n",
              "    </tr>\n",
              "  </thead>\n",
              "  <tbody>\n",
              "    <tr>\n",
              "      <th>0</th>\n",
              "      <td>latino</td>\n",
              "      <td>245</td>\n",
              "      <td>0.763230</td>\n",
              "      <td>0.668504</td>\n",
              "      <td>0.884667</td>\n",
              "    </tr>\n",
              "    <tr>\n",
              "      <th>1</th>\n",
              "      <td>transgender</td>\n",
              "      <td>340</td>\n",
              "      <td>0.727344</td>\n",
              "      <td>0.781446</td>\n",
              "      <td>0.762993</td>\n",
              "    </tr>\n",
              "    <tr>\n",
              "      <th>2</th>\n",
              "      <td>asian</td>\n",
              "      <td>514</td>\n",
              "      <td>0.742505</td>\n",
              "      <td>0.733849</td>\n",
              "      <td>0.818869</td>\n",
              "    </tr>\n",
              "    <tr>\n",
              "      <th>3</th>\n",
              "      <td>psychiatric_or_mental_illness</td>\n",
              "      <td>639</td>\n",
              "      <td>0.805775</td>\n",
              "      <td>0.830321</td>\n",
              "      <td>0.784712</td>\n",
              "    </tr>\n",
              "    <tr>\n",
              "      <th>4</th>\n",
              "      <td>jewish</td>\n",
              "      <td>899</td>\n",
              "      <td>0.732394</td>\n",
              "      <td>0.612696</td>\n",
              "      <td>0.891894</td>\n",
              "    </tr>\n",
              "    <tr>\n",
              "      <th>5</th>\n",
              "      <td>homosexual_gay_or_lesbian</td>\n",
              "      <td>1581</td>\n",
              "      <td>0.723626</td>\n",
              "      <td>0.671915</td>\n",
              "      <td>0.854462</td>\n",
              "    </tr>\n",
              "    <tr>\n",
              "      <th>6</th>\n",
              "      <td>black</td>\n",
              "      <td>2353</td>\n",
              "      <td>0.703127</td>\n",
              "      <td>0.633883</td>\n",
              "      <td>0.861104</td>\n",
              "    </tr>\n",
              "    <tr>\n",
              "      <th>7</th>\n",
              "      <td>muslim</td>\n",
              "      <td>2810</td>\n",
              "      <td>0.709023</td>\n",
              "      <td>0.590273</td>\n",
              "      <td>0.892805</td>\n",
              "    </tr>\n",
              "    <tr>\n",
              "      <th>8</th>\n",
              "      <td>white</td>\n",
              "      <td>3736</td>\n",
              "      <td>0.712274</td>\n",
              "      <td>0.597909</td>\n",
              "      <td>0.886143</td>\n",
              "    </tr>\n",
              "    <tr>\n",
              "      <th>9</th>\n",
              "      <td>christian</td>\n",
              "      <td>3785</td>\n",
              "      <td>0.797961</td>\n",
              "      <td>0.756562</td>\n",
              "      <td>0.845823</td>\n",
              "    </tr>\n",
              "    <tr>\n",
              "      <th>10</th>\n",
              "      <td>male</td>\n",
              "      <td>4969</td>\n",
              "      <td>0.747548</td>\n",
              "      <td>0.676959</td>\n",
              "      <td>0.864455</td>\n",
              "    </tr>\n",
              "    <tr>\n",
              "      <th>11</th>\n",
              "      <td>female</td>\n",
              "      <td>5768</td>\n",
              "      <td>0.767883</td>\n",
              "      <td>0.707620</td>\n",
              "      <td>0.858978</td>\n",
              "    </tr>\n",
              "  </tbody>\n",
              "</table>\n",
              "</div>\n",
              "      <button class=\"colab-df-convert\" onclick=\"convertToInteractive('df-bfd14880-5361-44af-bd64-a8cee6152800')\"\n",
              "              title=\"Convert this dataframe to an interactive table.\"\n",
              "              style=\"display:none;\">\n",
              "        \n",
              "  <svg xmlns=\"http://www.w3.org/2000/svg\" height=\"24px\"viewBox=\"0 0 24 24\"\n",
              "       width=\"24px\">\n",
              "    <path d=\"M0 0h24v24H0V0z\" fill=\"none\"/>\n",
              "    <path d=\"M18.56 5.44l.94 2.06.94-2.06 2.06-.94-2.06-.94-.94-2.06-.94 2.06-2.06.94zm-11 1L8.5 8.5l.94-2.06 2.06-.94-2.06-.94L8.5 2.5l-.94 2.06-2.06.94zm10 10l.94 2.06.94-2.06 2.06-.94-2.06-.94-.94-2.06-.94 2.06-2.06.94z\"/><path d=\"M17.41 7.96l-1.37-1.37c-.4-.4-.92-.59-1.43-.59-.52 0-1.04.2-1.43.59L10.3 9.45l-7.72 7.72c-.78.78-.78 2.05 0 2.83L4 21.41c.39.39.9.59 1.41.59.51 0 1.02-.2 1.41-.59l7.78-7.78 2.81-2.81c.8-.78.8-2.07 0-2.86zM5.41 20L4 18.59l7.72-7.72 1.47 1.35L5.41 20z\"/>\n",
              "  </svg>\n",
              "      </button>\n",
              "      \n",
              "  <style>\n",
              "    .colab-df-container {\n",
              "      display:flex;\n",
              "      flex-wrap:wrap;\n",
              "      gap: 12px;\n",
              "    }\n",
              "\n",
              "    .colab-df-convert {\n",
              "      background-color: #E8F0FE;\n",
              "      border: none;\n",
              "      border-radius: 50%;\n",
              "      cursor: pointer;\n",
              "      display: none;\n",
              "      fill: #1967D2;\n",
              "      height: 32px;\n",
              "      padding: 0 0 0 0;\n",
              "      width: 32px;\n",
              "    }\n",
              "\n",
              "    .colab-df-convert:hover {\n",
              "      background-color: #E2EBFA;\n",
              "      box-shadow: 0px 1px 2px rgba(60, 64, 67, 0.3), 0px 1px 3px 1px rgba(60, 64, 67, 0.15);\n",
              "      fill: #174EA6;\n",
              "    }\n",
              "\n",
              "    [theme=dark] .colab-df-convert {\n",
              "      background-color: #3B4455;\n",
              "      fill: #D2E3FC;\n",
              "    }\n",
              "\n",
              "    [theme=dark] .colab-df-convert:hover {\n",
              "      background-color: #434B5C;\n",
              "      box-shadow: 0px 1px 3px 1px rgba(0, 0, 0, 0.15);\n",
              "      filter: drop-shadow(0px 1px 2px rgba(0, 0, 0, 0.3));\n",
              "      fill: #FFFFFF;\n",
              "    }\n",
              "  </style>\n",
              "\n",
              "      <script>\n",
              "        const buttonEl =\n",
              "          document.querySelector('#df-bfd14880-5361-44af-bd64-a8cee6152800 button.colab-df-convert');\n",
              "        buttonEl.style.display =\n",
              "          google.colab.kernel.accessAllowed ? 'block' : 'none';\n",
              "\n",
              "        async function convertToInteractive(key) {\n",
              "          const element = document.querySelector('#df-bfd14880-5361-44af-bd64-a8cee6152800');\n",
              "          const dataTable =\n",
              "            await google.colab.kernel.invokeFunction('convertToInteractive',\n",
              "                                                     [key], {});\n",
              "          if (!dataTable) return;\n",
              "\n",
              "          const docLinkHtml = 'Like what you see? Visit the ' +\n",
              "            '<a target=\"_blank\" href=https://colab.research.google.com/notebooks/data_table.ipynb>data table notebook</a>'\n",
              "            + ' to learn more about interactive tables.';\n",
              "          element.innerHTML = '';\n",
              "          dataTable['output_type'] = 'display_data';\n",
              "          await google.colab.output.renderOutput(dataTable, element);\n",
              "          const docLink = document.createElement('div');\n",
              "          docLink.innerHTML = docLinkHtml;\n",
              "          element.appendChild(docLink);\n",
              "        }\n",
              "      </script>\n",
              "    </div>\n",
              "  </div>\n",
              "  "
            ]
          },
          "metadata": {},
          "execution_count": 34
        }
      ]
    },
    {
      "cell_type": "code",
      "source": [
        "bias_score=score(bias_metrics_df,0.8521)\n",
        "bias_score"
      ],
      "metadata": {
        "colab": {
          "base_uri": "https://localhost:8080/"
        },
        "id": "wGeYj0HdiNzz",
        "outputId": "8f781df1-b570-49fe-8995-9eb09ff4d3f6"
      },
      "execution_count": 35,
      "outputs": [
        {
          "output_type": "execute_result",
          "data": {
            "text/plain": [
              "0.7760749490172429"
            ]
          },
          "metadata": {},
          "execution_count": 35
        }
      ]
    },
    {
      "cell_type": "code",
      "source": [
        "dictionary=dict(zip(vectorizer1.get_feature_names(),list(vectorizer1.idf_)))\n",
        "word_list=set(vectorizer1.get_feature_names())\n",
        "X_train_scraped_w2v=[]\n",
        "count={0}\n",
        "for sentence in tqdm(X_train_scrapped['clean_text']):\n",
        "    vector=np.zeros(300)    \n",
        "    tfidf_weight=0    \n",
        "    l=len(sentence.split())\n",
        "    for word in sentence.split():\n",
        "        if word in glove_words and word in word_list:\n",
        "            count.add(word)\n",
        "            vec=glove[word]               \n",
        "            tfidf=dictionary[word]*(sentence.count(word)/l)            \n",
        "            vector+=(vec*tfidf)            \n",
        "            tfidf_weight+=tfidf\n",
        "    if tfidf_weight !=0:\n",
        "        vector/=tfidf_weight\n",
        "    X_train_scraped_w2v.append(vector)  "
      ],
      "metadata": {
        "colab": {
          "base_uri": "https://localhost:8080/"
        },
        "id": "7raMmpT2pG4y",
        "outputId": "c6853441-b240-4a2e-ab4e-6ef02a54596f"
      },
      "execution_count": 23,
      "outputs": [
        {
          "output_type": "stream",
          "name": "stderr",
          "text": [
            "/usr/local/lib/python3.7/dist-packages/sklearn/utils/deprecation.py:87: FutureWarning: Function get_feature_names is deprecated; get_feature_names is deprecated in 1.0 and will be removed in 1.2. Please use get_feature_names_out instead.\n",
            "  warnings.warn(msg, category=FutureWarning)\n",
            "100%|██████████| 320871/320871 [01:17<00:00, 4148.58it/s]\n"
          ]
        }
      ]
    },
    {
      "cell_type": "code",
      "source": [
        "dictionary=dict(zip(vectorizer1.get_feature_names(),list(vectorizer1.idf_)))\n",
        "word_list=set(vectorizer1.get_feature_names())\n",
        "X_test_scraped_w2v=[]\n",
        "count={0}\n",
        "for sentence in tqdm(X_test['clean_text']):\n",
        "    vector=np.zeros(300)    \n",
        "    tfidf_weight=0    \n",
        "    l=len(sentence.split())\n",
        "    for word in sentence.split():\n",
        "        if word in glove_words and word in word_list:\n",
        "            count.add(word)\n",
        "            vec=glove[word]               \n",
        "            tfidf=dictionary[word]*(sentence.count(word)/l)            \n",
        "            vector+=(vec*tfidf)            \n",
        "            tfidf_weight+=tfidf\n",
        "    if tfidf_weight !=0:\n",
        "        vector/=tfidf_weight\n",
        "    X_test_scraped_w2v.append(vector) "
      ],
      "metadata": {
        "colab": {
          "base_uri": "https://localhost:8080/"
        },
        "id": "EwxhTIsn2nTz",
        "outputId": "f8667285-efeb-4ab1-947f-773794cae07f"
      },
      "execution_count": 24,
      "outputs": [
        {
          "output_type": "stream",
          "name": "stderr",
          "text": [
            "100%|██████████| 165165/165165 [00:39<00:00, 4189.33it/s]\n"
          ]
        }
      ]
    },
    {
      "cell_type": "code",
      "source": [
        "parameters={'max_depth':[4,5,6,7,8]}\n",
        "clf = HistGradientBoostingClassifier()\n",
        "clf = GridSearchCV(clf, parameters,cv=5,scoring='roc_auc')\n",
        "clf.fit(X_train_scraped_w2v,y_train_scraped)"
      ],
      "metadata": {
        "colab": {
          "base_uri": "https://localhost:8080/"
        },
        "id": "nkFkQ-yt2eT-",
        "outputId": "8c4ed1ee-8e98-4b41-8989-13d087034f61"
      },
      "execution_count": null,
      "outputs": [
        {
          "output_type": "execute_result",
          "data": {
            "text/plain": [
              "GridSearchCV(cv=5, estimator=HistGradientBoostingClassifier(),\n",
              "             param_grid={'max_depth': [4, 5, 6, 7, 8]}, scoring='roc_auc')"
            ]
          },
          "metadata": {},
          "execution_count": 29
        }
      ]
    },
    {
      "cell_type": "code",
      "source": [
        "clf.best_estimator_"
      ],
      "metadata": {
        "colab": {
          "base_uri": "https://localhost:8080/"
        },
        "id": "9-ccl0XMoWwV",
        "outputId": "2884515f-38c7-4425-ecb6-0827bae25f7f"
      },
      "execution_count": null,
      "outputs": [
        {
          "output_type": "execute_result",
          "data": {
            "text/plain": [
              "HistGradientBoostingClassifier(max_depth=8)"
            ]
          },
          "metadata": {},
          "execution_count": 30
        }
      ]
    },
    {
      "cell_type": "code",
      "source": [
        "clf = HistGradientBoostingClassifier(max_depth=8)\n",
        "clf.fit(X_train_scraped_w2v,y_train_scraped)\n",
        "Y_pred_tr=clf.predict_proba(X_train_scraped_w2v)"
      ],
      "metadata": {
        "id": "dHyJXTwOr21r"
      },
      "execution_count": null,
      "outputs": []
    },
    {
      "cell_type": "code",
      "source": [
        "Y_pred_te=clf.predict_proba(X_test_scraped_w2v)"
      ],
      "metadata": {
        "id": "94gdFzdn1Pg5"
      },
      "execution_count": null,
      "outputs": []
    },
    {
      "cell_type": "code",
      "source": [
        "roc_auc_score(y_train_scraped, Y_pred_tr[:,1])"
      ],
      "metadata": {
        "colab": {
          "base_uri": "https://localhost:8080/"
        },
        "id": "HGE-VnTQyr4l",
        "outputId": "1a96727a-5c4c-47ba-85ba-6221615d6104"
      },
      "execution_count": null,
      "outputs": [
        {
          "output_type": "execute_result",
          "data": {
            "text/plain": [
              "0.8827457462430206"
            ]
          },
          "metadata": {},
          "execution_count": 39
        }
      ]
    },
    {
      "cell_type": "code",
      "source": [
        "roc_auc_score(y_test, Y_pred_te[:,1])"
      ],
      "metadata": {
        "colab": {
          "base_uri": "https://localhost:8080/"
        },
        "id": "7RvXFzY-ydCn",
        "outputId": "f1d423cf-73d2-4a44-a6cf-7f8a1be0413e"
      },
      "execution_count": null,
      "outputs": [
        {
          "output_type": "execute_result",
          "data": {
            "text/plain": [
              "0.8520936277352503"
            ]
          },
          "metadata": {},
          "execution_count": 40
        }
      ]
    },
    {
      "cell_type": "code",
      "source": [
        "X_te_bias=X_test_scraped[identity_columns]\n",
        "X_te_bias['y_pred']=Y_pred_te[:,1]\n",
        "X_te_bias['y']=y_test"
      ],
      "metadata": {
        "colab": {
          "base_uri": "https://localhost:8080/"
        },
        "id": "wAIFA_Mu162Z",
        "outputId": "5f245b12-3dc2-4330-cbf9-c2af9d377e76"
      },
      "execution_count": null,
      "outputs": [
        {
          "output_type": "stream",
          "name": "stderr",
          "text": [
            "/usr/local/lib/python3.7/dist-packages/ipykernel_launcher.py:2: SettingWithCopyWarning: \n",
            "A value is trying to be set on a copy of a slice from a DataFrame.\n",
            "Try using .loc[row_indexer,col_indexer] = value instead\n",
            "\n",
            "See the caveats in the documentation: https://pandas.pydata.org/pandas-docs/stable/user_guide/indexing.html#returning-a-view-versus-a-copy\n",
            "  \n",
            "/usr/local/lib/python3.7/dist-packages/ipykernel_launcher.py:3: SettingWithCopyWarning: \n",
            "A value is trying to be set on a copy of a slice from a DataFrame.\n",
            "Try using .loc[row_indexer,col_indexer] = value instead\n",
            "\n",
            "See the caveats in the documentation: https://pandas.pydata.org/pandas-docs/stable/user_guide/indexing.html#returning-a-view-versus-a-copy\n",
            "  This is separate from the ipykernel package so we can avoid doing imports until\n"
          ]
        }
      ]
    },
    {
      "cell_type": "code",
      "source": [
        "bias_metrics_df = compute_bias_metrics_for_model(X_te_bias, identity_columns1)\n",
        "bias_metrics_df"
      ],
      "metadata": {
        "colab": {
          "base_uri": "https://localhost:8080/",
          "height": 426
        },
        "id": "NOWY-Vs-10TZ",
        "outputId": "23165a0f-aa4a-4776-dd14-70ffd160f2b9"
      },
      "execution_count": null,
      "outputs": [
        {
          "output_type": "execute_result",
          "data": {
            "text/plain": [
              "                         subgroup  subgroup_size  subgroup_auc  bpsn_auc  \\\n",
              "0                          latino            198      0.759318  0.710047   \n",
              "1                     transgender            254      0.735246  0.814572   \n",
              "2                           asian            332      0.795904  0.779590   \n",
              "3   psychiatric_or_mental_illness            502      0.756110  0.801848   \n",
              "4                          jewish            647      0.747204  0.720878   \n",
              "5       homosexual_gay_or_lesbian           1339      0.715342  0.733147   \n",
              "6                           black           2034      0.713714  0.647084   \n",
              "7                          muslim           2221      0.742333  0.677204   \n",
              "9                       christian           2554      0.822677  0.850253   \n",
              "8                           white           3055      0.719175  0.632638   \n",
              "10                           male           3631      0.795450  0.745039   \n",
              "11                         female           4186      0.801260  0.757895   \n",
              "\n",
              "    bnsp_auc  \n",
              "0   0.890941  \n",
              "1   0.783749  \n",
              "2   0.868160  \n",
              "3   0.815547  \n",
              "4   0.874166  \n",
              "5   0.845361  \n",
              "6   0.894949  \n",
              "7   0.895699  \n",
              "9   0.825847  \n",
              "8   0.903999  \n",
              "10  0.889024  \n",
              "11  0.885915  "
            ],
            "text/html": [
              "\n",
              "  <div id=\"df-303ea2c8-3616-4c38-93bc-05a0fb501a90\">\n",
              "    <div class=\"colab-df-container\">\n",
              "      <div>\n",
              "<style scoped>\n",
              "    .dataframe tbody tr th:only-of-type {\n",
              "        vertical-align: middle;\n",
              "    }\n",
              "\n",
              "    .dataframe tbody tr th {\n",
              "        vertical-align: top;\n",
              "    }\n",
              "\n",
              "    .dataframe thead th {\n",
              "        text-align: right;\n",
              "    }\n",
              "</style>\n",
              "<table border=\"1\" class=\"dataframe\">\n",
              "  <thead>\n",
              "    <tr style=\"text-align: right;\">\n",
              "      <th></th>\n",
              "      <th>subgroup</th>\n",
              "      <th>subgroup_size</th>\n",
              "      <th>subgroup_auc</th>\n",
              "      <th>bpsn_auc</th>\n",
              "      <th>bnsp_auc</th>\n",
              "    </tr>\n",
              "  </thead>\n",
              "  <tbody>\n",
              "    <tr>\n",
              "      <th>0</th>\n",
              "      <td>latino</td>\n",
              "      <td>198</td>\n",
              "      <td>0.759318</td>\n",
              "      <td>0.710047</td>\n",
              "      <td>0.890941</td>\n",
              "    </tr>\n",
              "    <tr>\n",
              "      <th>1</th>\n",
              "      <td>transgender</td>\n",
              "      <td>254</td>\n",
              "      <td>0.735246</td>\n",
              "      <td>0.814572</td>\n",
              "      <td>0.783749</td>\n",
              "    </tr>\n",
              "    <tr>\n",
              "      <th>2</th>\n",
              "      <td>asian</td>\n",
              "      <td>332</td>\n",
              "      <td>0.795904</td>\n",
              "      <td>0.779590</td>\n",
              "      <td>0.868160</td>\n",
              "    </tr>\n",
              "    <tr>\n",
              "      <th>3</th>\n",
              "      <td>psychiatric_or_mental_illness</td>\n",
              "      <td>502</td>\n",
              "      <td>0.756110</td>\n",
              "      <td>0.801848</td>\n",
              "      <td>0.815547</td>\n",
              "    </tr>\n",
              "    <tr>\n",
              "      <th>4</th>\n",
              "      <td>jewish</td>\n",
              "      <td>647</td>\n",
              "      <td>0.747204</td>\n",
              "      <td>0.720878</td>\n",
              "      <td>0.874166</td>\n",
              "    </tr>\n",
              "    <tr>\n",
              "      <th>5</th>\n",
              "      <td>homosexual_gay_or_lesbian</td>\n",
              "      <td>1339</td>\n",
              "      <td>0.715342</td>\n",
              "      <td>0.733147</td>\n",
              "      <td>0.845361</td>\n",
              "    </tr>\n",
              "    <tr>\n",
              "      <th>6</th>\n",
              "      <td>black</td>\n",
              "      <td>2034</td>\n",
              "      <td>0.713714</td>\n",
              "      <td>0.647084</td>\n",
              "      <td>0.894949</td>\n",
              "    </tr>\n",
              "    <tr>\n",
              "      <th>7</th>\n",
              "      <td>muslim</td>\n",
              "      <td>2221</td>\n",
              "      <td>0.742333</td>\n",
              "      <td>0.677204</td>\n",
              "      <td>0.895699</td>\n",
              "    </tr>\n",
              "    <tr>\n",
              "      <th>9</th>\n",
              "      <td>christian</td>\n",
              "      <td>2554</td>\n",
              "      <td>0.822677</td>\n",
              "      <td>0.850253</td>\n",
              "      <td>0.825847</td>\n",
              "    </tr>\n",
              "    <tr>\n",
              "      <th>8</th>\n",
              "      <td>white</td>\n",
              "      <td>3055</td>\n",
              "      <td>0.719175</td>\n",
              "      <td>0.632638</td>\n",
              "      <td>0.903999</td>\n",
              "    </tr>\n",
              "    <tr>\n",
              "      <th>10</th>\n",
              "      <td>male</td>\n",
              "      <td>3631</td>\n",
              "      <td>0.795450</td>\n",
              "      <td>0.745039</td>\n",
              "      <td>0.889024</td>\n",
              "    </tr>\n",
              "    <tr>\n",
              "      <th>11</th>\n",
              "      <td>female</td>\n",
              "      <td>4186</td>\n",
              "      <td>0.801260</td>\n",
              "      <td>0.757895</td>\n",
              "      <td>0.885915</td>\n",
              "    </tr>\n",
              "  </tbody>\n",
              "</table>\n",
              "</div>\n",
              "      <button class=\"colab-df-convert\" onclick=\"convertToInteractive('df-303ea2c8-3616-4c38-93bc-05a0fb501a90')\"\n",
              "              title=\"Convert this dataframe to an interactive table.\"\n",
              "              style=\"display:none;\">\n",
              "        \n",
              "  <svg xmlns=\"http://www.w3.org/2000/svg\" height=\"24px\"viewBox=\"0 0 24 24\"\n",
              "       width=\"24px\">\n",
              "    <path d=\"M0 0h24v24H0V0z\" fill=\"none\"/>\n",
              "    <path d=\"M18.56 5.44l.94 2.06.94-2.06 2.06-.94-2.06-.94-.94-2.06-.94 2.06-2.06.94zm-11 1L8.5 8.5l.94-2.06 2.06-.94-2.06-.94L8.5 2.5l-.94 2.06-2.06.94zm10 10l.94 2.06.94-2.06 2.06-.94-2.06-.94-.94-2.06-.94 2.06-2.06.94z\"/><path d=\"M17.41 7.96l-1.37-1.37c-.4-.4-.92-.59-1.43-.59-.52 0-1.04.2-1.43.59L10.3 9.45l-7.72 7.72c-.78.78-.78 2.05 0 2.83L4 21.41c.39.39.9.59 1.41.59.51 0 1.02-.2 1.41-.59l7.78-7.78 2.81-2.81c.8-.78.8-2.07 0-2.86zM5.41 20L4 18.59l7.72-7.72 1.47 1.35L5.41 20z\"/>\n",
              "  </svg>\n",
              "      </button>\n",
              "      \n",
              "  <style>\n",
              "    .colab-df-container {\n",
              "      display:flex;\n",
              "      flex-wrap:wrap;\n",
              "      gap: 12px;\n",
              "    }\n",
              "\n",
              "    .colab-df-convert {\n",
              "      background-color: #E8F0FE;\n",
              "      border: none;\n",
              "      border-radius: 50%;\n",
              "      cursor: pointer;\n",
              "      display: none;\n",
              "      fill: #1967D2;\n",
              "      height: 32px;\n",
              "      padding: 0 0 0 0;\n",
              "      width: 32px;\n",
              "    }\n",
              "\n",
              "    .colab-df-convert:hover {\n",
              "      background-color: #E2EBFA;\n",
              "      box-shadow: 0px 1px 2px rgba(60, 64, 67, 0.3), 0px 1px 3px 1px rgba(60, 64, 67, 0.15);\n",
              "      fill: #174EA6;\n",
              "    }\n",
              "\n",
              "    [theme=dark] .colab-df-convert {\n",
              "      background-color: #3B4455;\n",
              "      fill: #D2E3FC;\n",
              "    }\n",
              "\n",
              "    [theme=dark] .colab-df-convert:hover {\n",
              "      background-color: #434B5C;\n",
              "      box-shadow: 0px 1px 3px 1px rgba(0, 0, 0, 0.15);\n",
              "      filter: drop-shadow(0px 1px 2px rgba(0, 0, 0, 0.3));\n",
              "      fill: #FFFFFF;\n",
              "    }\n",
              "  </style>\n",
              "\n",
              "      <script>\n",
              "        const buttonEl =\n",
              "          document.querySelector('#df-303ea2c8-3616-4c38-93bc-05a0fb501a90 button.colab-df-convert');\n",
              "        buttonEl.style.display =\n",
              "          google.colab.kernel.accessAllowed ? 'block' : 'none';\n",
              "\n",
              "        async function convertToInteractive(key) {\n",
              "          const element = document.querySelector('#df-303ea2c8-3616-4c38-93bc-05a0fb501a90');\n",
              "          const dataTable =\n",
              "            await google.colab.kernel.invokeFunction('convertToInteractive',\n",
              "                                                     [key], {});\n",
              "          if (!dataTable) return;\n",
              "\n",
              "          const docLinkHtml = 'Like what you see? Visit the ' +\n",
              "            '<a target=\"_blank\" href=https://colab.research.google.com/notebooks/data_table.ipynb>data table notebook</a>'\n",
              "            + ' to learn more about interactive tables.';\n",
              "          element.innerHTML = '';\n",
              "          dataTable['output_type'] = 'display_data';\n",
              "          await google.colab.output.renderOutput(dataTable, element);\n",
              "          const docLink = document.createElement('div');\n",
              "          docLink.innerHTML = docLinkHtml;\n",
              "          element.appendChild(docLink);\n",
              "        }\n",
              "      </script>\n",
              "    </div>\n",
              "  </div>\n",
              "  "
            ]
          },
          "metadata": {},
          "execution_count": 47
        }
      ]
    },
    {
      "cell_type": "code",
      "source": [
        "bias_score=score(bias_metrics_df,0.852)\n",
        "bias_score"
      ],
      "metadata": {
        "colab": {
          "base_uri": "https://localhost:8080/"
        },
        "id": "VuZdk8fR1_3l",
        "outputId": "a4b65604-a6e3-4571-9bc7-8571b1b91c97"
      },
      "execution_count": null,
      "outputs": [
        {
          "output_type": "execute_result",
          "data": {
            "text/plain": [
              "0.7969099640313553"
            ]
          },
          "metadata": {},
          "execution_count": 49
        }
      ]
    },
    {
      "cell_type": "code",
      "source": [
        "from sklearn.linear_model import LogisticRegression\n",
        "parameters={'C':[0.0001,0.001,0.01,1,10,100]}\n",
        "clf = LogisticRegression(solver='saga',random_state=42)\n",
        "clf = GridSearchCV(clf, parameters,cv=5,scoring='roc_auc')\n",
        "clf.fit(X_train_scraped_w2v,y_train_scraped)"
      ],
      "metadata": {
        "colab": {
          "base_uri": "https://localhost:8080/"
        },
        "id": "dB64EGCWjBfK",
        "outputId": "c1a1de39-e3e8-4bb0-ce30-36af51859745"
      },
      "execution_count": 21,
      "outputs": [
        {
          "output_type": "execute_result",
          "data": {
            "text/plain": [
              "GridSearchCV(cv=5, estimator=LogisticRegression(random_state=42, solver='saga'),\n",
              "             param_grid={'C': [0.0001, 0.001, 0.01, 1, 10, 100]},\n",
              "             scoring='roc_auc')"
            ]
          },
          "metadata": {},
          "execution_count": 21
        }
      ]
    },
    {
      "cell_type": "code",
      "source": [
        "clf.best_estimator_"
      ],
      "metadata": {
        "colab": {
          "base_uri": "https://localhost:8080/"
        },
        "id": "0kf6jnt8kdrP",
        "outputId": "97c714e9-dce1-4fe9-80de-50775f34a6f1"
      },
      "execution_count": 24,
      "outputs": [
        {
          "output_type": "execute_result",
          "data": {
            "text/plain": [
              "LogisticRegression(C=1, random_state=42, solver='saga')"
            ]
          },
          "metadata": {},
          "execution_count": 24
        }
      ]
    },
    {
      "cell_type": "code",
      "source": [
        "clf=LogisticRegression(C=1, random_state=42, solver='saga')\n",
        "clf.fit(X_train_scraped_w2v,y_train_scraped)\n",
        "Y_pred_tr=clf.predict_proba(X_train_scraped_w2v)"
      ],
      "metadata": {
        "id": "VXeBQY47jt4Q"
      },
      "execution_count": 25,
      "outputs": []
    },
    {
      "cell_type": "code",
      "source": [
        "Y_pred_te=clf.predict_proba(X_test_scraped_w2v)"
      ],
      "metadata": {
        "id": "9H8mxSd2jt8R"
      },
      "execution_count": 26,
      "outputs": []
    },
    {
      "cell_type": "code",
      "source": [
        "roc_auc_score(y_train_scraped, Y_pred_tr[:,1])"
      ],
      "metadata": {
        "colab": {
          "base_uri": "https://localhost:8080/"
        },
        "id": "ygZH6u-_juBg",
        "outputId": "315e481d-ab09-4e56-caa9-c63c8aa4832a"
      },
      "execution_count": 27,
      "outputs": [
        {
          "output_type": "execute_result",
          "data": {
            "text/plain": [
              "0.8565867798764764"
            ]
          },
          "metadata": {},
          "execution_count": 27
        }
      ]
    },
    {
      "cell_type": "code",
      "source": [
        "roc_auc_score(y_test, Y_pred_te[:,1])"
      ],
      "metadata": {
        "colab": {
          "base_uri": "https://localhost:8080/"
        },
        "id": "uDzzElBQjuF5",
        "outputId": "5ae38d0a-897b-4197-ccb7-04cf09a4e7c2"
      },
      "execution_count": 28,
      "outputs": [
        {
          "output_type": "execute_result",
          "data": {
            "text/plain": [
              "0.8510600862512072"
            ]
          },
          "metadata": {},
          "execution_count": 28
        }
      ]
    },
    {
      "cell_type": "code",
      "source": [
        "X_te_bias=X_test[identity_columns]\n",
        "X_te_bias['y_pred']=Y_pred_te[:,1]\n",
        "X_te_bias['y']=y_test"
      ],
      "metadata": {
        "colab": {
          "base_uri": "https://localhost:8080/"
        },
        "id": "VQwXpE52juIm",
        "outputId": "e1aca031-c6d5-45e4-b142-0dbf6f73df2e"
      },
      "execution_count": 29,
      "outputs": [
        {
          "output_type": "stream",
          "name": "stderr",
          "text": [
            "/usr/local/lib/python3.7/dist-packages/ipykernel_launcher.py:2: SettingWithCopyWarning: \n",
            "A value is trying to be set on a copy of a slice from a DataFrame.\n",
            "Try using .loc[row_indexer,col_indexer] = value instead\n",
            "\n",
            "See the caveats in the documentation: https://pandas.pydata.org/pandas-docs/stable/user_guide/indexing.html#returning-a-view-versus-a-copy\n",
            "  \n",
            "/usr/local/lib/python3.7/dist-packages/ipykernel_launcher.py:3: SettingWithCopyWarning: \n",
            "A value is trying to be set on a copy of a slice from a DataFrame.\n",
            "Try using .loc[row_indexer,col_indexer] = value instead\n",
            "\n",
            "See the caveats in the documentation: https://pandas.pydata.org/pandas-docs/stable/user_guide/indexing.html#returning-a-view-versus-a-copy\n",
            "  This is separate from the ipykernel package so we can avoid doing imports until\n"
          ]
        }
      ]
    },
    {
      "cell_type": "code",
      "source": [
        "bias_metrics_df = compute_bias_metrics_for_model(X_te_bias, identity_columns1)\n",
        "bias_metrics_df"
      ],
      "metadata": {
        "colab": {
          "base_uri": "https://localhost:8080/",
          "height": 183
        },
        "id": "uSK2LVIXjuMI",
        "outputId": "6fcc694f-76c1-44fd-cd59-95e8e44af34f"
      },
      "execution_count": 33,
      "outputs": [
        {
          "output_type": "error",
          "ename": "NameError",
          "evalue": "ignored",
          "traceback": [
            "\u001b[0;31m---------------------------------------------------------------------------\u001b[0m",
            "\u001b[0;31mNameError\u001b[0m                                 Traceback (most recent call last)",
            "\u001b[0;32m<ipython-input-33-53633b6600ce>\u001b[0m in \u001b[0;36m<module>\u001b[0;34m\u001b[0m\n\u001b[0;32m----> 1\u001b[0;31m \u001b[0mbias_metrics_df\u001b[0m \u001b[0;34m=\u001b[0m \u001b[0mcompute_bias_metrics_for_model\u001b[0m\u001b[0;34m(\u001b[0m\u001b[0mX_te_bias\u001b[0m\u001b[0;34m,\u001b[0m \u001b[0midentity_columns1\u001b[0m\u001b[0;34m)\u001b[0m\u001b[0;34m\u001b[0m\u001b[0;34m\u001b[0m\u001b[0m\n\u001b[0m\u001b[1;32m      2\u001b[0m \u001b[0mbias_metrics_df\u001b[0m\u001b[0;34m\u001b[0m\u001b[0;34m\u001b[0m\u001b[0m\n",
            "\u001b[0;31mNameError\u001b[0m: name 'compute_bias_metrics_for_model' is not defined"
          ]
        }
      ]
    },
    {
      "cell_type": "code",
      "source": [
        "bias_score=score(bias_metrics_df,0.851)\n",
        "bias_score"
      ],
      "metadata": {
        "colab": {
          "base_uri": "https://localhost:8080/"
        },
        "id": "BeNyFvasjuRV",
        "outputId": "15c6ee70-b0be-45bf-d39e-b29455d9c844"
      },
      "execution_count": 35,
      "outputs": [
        {
          "output_type": "execute_result",
          "data": {
            "text/plain": [
              "0.8102160379072746"
            ]
          },
          "metadata": {},
          "execution_count": 35
        }
      ]
    },
    {
      "cell_type": "code",
      "source": [
        "from sklearn.ensemble import RandomForestClassifier\n",
        "parameters={'n_estimators':[10,20,30],'max_depth':[3,4,5,6],'max_samples':[0.4,0.5,0.7]}\n",
        "clf = RandomForestClassifier(n_jobs=-1, random_state=0)\n",
        "clf = GridSearchCV(clf, parameters,cv=5,scoring='roc_auc')\n",
        "clf.fit(X_train_scraped_w2v,y_train_scraped)"
      ],
      "metadata": {
        "colab": {
          "base_uri": "https://localhost:8080/"
        },
        "id": "DvqLK_X1juWa",
        "outputId": "2c78f7cd-53f8-4597-bd79-3c3d4177f42f"
      },
      "execution_count": 25,
      "outputs": [
        {
          "output_type": "execute_result",
          "data": {
            "text/plain": [
              "GridSearchCV(cv=5, estimator=RandomForestClassifier(n_jobs=-1, random_state=0),\n",
              "             param_grid={'max_depth': [3, 4, 5, 6],\n",
              "                         'max_samples': [0.4, 0.5, 0.7],\n",
              "                         'n_estimators': [10, 20, 30]},\n",
              "             scoring='roc_auc')"
            ]
          },
          "metadata": {},
          "execution_count": 25
        }
      ]
    },
    {
      "cell_type": "code",
      "source": [
        "clf.best_estimator_"
      ],
      "metadata": {
        "colab": {
          "base_uri": "https://localhost:8080/"
        },
        "id": "uryzwXIrjuZZ",
        "outputId": "efe408a1-58ac-453b-a2c8-9cbc1094b202"
      },
      "execution_count": 26,
      "outputs": [
        {
          "output_type": "execute_result",
          "data": {
            "text/plain": [
              "RandomForestClassifier(max_depth=6, max_samples=0.5, n_estimators=30, n_jobs=-1,\n",
              "                       random_state=0)"
            ]
          },
          "metadata": {},
          "execution_count": 26
        }
      ]
    },
    {
      "cell_type": "code",
      "source": [
        "clf=RandomForestClassifier(max_depth=6, max_samples=0.5, n_estimators=30, n_jobs=-1,\n",
        "                       random_state=0)\n",
        "clf.fit(X_train_scraped_w2v,y_train_scraped)\n",
        "Y_pred_tr=clf.predict_proba(X_train_scraped_w2v)"
      ],
      "metadata": {
        "id": "ylTJBNTNoL4H"
      },
      "execution_count": 28,
      "outputs": []
    },
    {
      "cell_type": "code",
      "source": [
        "Y_pred_te=clf.predict_proba(X_test_scraped_w2v)"
      ],
      "metadata": {
        "id": "xUoTofb9BsYi"
      },
      "execution_count": 29,
      "outputs": []
    },
    {
      "cell_type": "code",
      "source": [
        "roc_auc_score(y_train_scraped, Y_pred_tr[:,1])"
      ],
      "metadata": {
        "colab": {
          "base_uri": "https://localhost:8080/"
        },
        "id": "WSk_f86bBx-y",
        "outputId": "0066c403-78ff-4083-9b7b-c916c84f7e5c"
      },
      "execution_count": 30,
      "outputs": [
        {
          "output_type": "execute_result",
          "data": {
            "text/plain": [
              "0.8224430145048388"
            ]
          },
          "metadata": {},
          "execution_count": 30
        }
      ]
    },
    {
      "cell_type": "code",
      "source": [
        "roc_auc_score(y_test, Y_pred_te[:,1])"
      ],
      "metadata": {
        "colab": {
          "base_uri": "https://localhost:8080/"
        },
        "id": "vT_LofXOB3MV",
        "outputId": "87ca3001-86a0-4a22-bf9d-3fdbb14cdba0"
      },
      "execution_count": 31,
      "outputs": [
        {
          "output_type": "execute_result",
          "data": {
            "text/plain": [
              "0.8116417374113483"
            ]
          },
          "metadata": {},
          "execution_count": 31
        }
      ]
    },
    {
      "cell_type": "code",
      "source": [
        "X_te_bias=X_test[identity_columns]\n",
        "X_te_bias['y_pred']=Y_pred_te[:,1]\n",
        "X_te_bias['y']=y_test"
      ],
      "metadata": {
        "colab": {
          "base_uri": "https://localhost:8080/"
        },
        "id": "0VK5RxSqB_gt",
        "outputId": "7d8e035a-9211-4872-e14f-473c799b7cf6"
      },
      "execution_count": 41,
      "outputs": [
        {
          "output_type": "stream",
          "name": "stderr",
          "text": [
            "/usr/local/lib/python3.7/dist-packages/ipykernel_launcher.py:2: SettingWithCopyWarning: \n",
            "A value is trying to be set on a copy of a slice from a DataFrame.\n",
            "Try using .loc[row_indexer,col_indexer] = value instead\n",
            "\n",
            "See the caveats in the documentation: https://pandas.pydata.org/pandas-docs/stable/user_guide/indexing.html#returning-a-view-versus-a-copy\n",
            "  \n",
            "/usr/local/lib/python3.7/dist-packages/ipykernel_launcher.py:3: SettingWithCopyWarning: \n",
            "A value is trying to be set on a copy of a slice from a DataFrame.\n",
            "Try using .loc[row_indexer,col_indexer] = value instead\n",
            "\n",
            "See the caveats in the documentation: https://pandas.pydata.org/pandas-docs/stable/user_guide/indexing.html#returning-a-view-versus-a-copy\n",
            "  This is separate from the ipykernel package so we can avoid doing imports until\n"
          ]
        }
      ]
    },
    {
      "cell_type": "code",
      "source": [
        "bias_metrics_df = compute_bias_metrics_for_model(X_te_bias, identity_columns1)\n",
        "bias_metrics_df"
      ],
      "metadata": {
        "colab": {
          "base_uri": "https://localhost:8080/",
          "height": 426
        },
        "id": "9cTu5UYMCCsc",
        "outputId": "5b0117cc-87dd-4de2-a3e1-f87a811accbc"
      },
      "execution_count": 42,
      "outputs": [
        {
          "output_type": "execute_result",
          "data": {
            "text/plain": [
              "                         subgroup  subgroup_size  subgroup_auc  bpsn_auc  \\\n",
              "0                          latino            246      0.775460  0.678902   \n",
              "1                     transgender            339      0.721327  0.799409   \n",
              "2                           asian            478      0.776727  0.789906   \n",
              "3   psychiatric_or_mental_illness            634      0.763031  0.807152   \n",
              "4                          jewish            835      0.724776  0.628813   \n",
              "5       homosexual_gay_or_lesbian           1595      0.714674  0.703300   \n",
              "6                           black           2310      0.685484  0.628498   \n",
              "7                          muslim           2847      0.702236  0.611607   \n",
              "8                           white           3685      0.721996  0.620978   \n",
              "9                       christian           3766      0.797550  0.781703   \n",
              "10                           male           4958      0.742804  0.677673   \n",
              "11                         female           5879      0.762660  0.704683   \n",
              "\n",
              "    bnsp_auc  \n",
              "0   0.888943  \n",
              "1   0.743708  \n",
              "2   0.799699  \n",
              "3   0.766291  \n",
              "4   0.882075  \n",
              "5   0.828670  \n",
              "6   0.857420  \n",
              "7   0.881882  \n",
              "8   0.881622  \n",
              "9   0.826268  \n",
              "10  0.862262  \n",
              "11  0.859303  "
            ],
            "text/html": [
              "\n",
              "  <div id=\"df-1c09fb33-cf4b-4511-8320-b7a77f741e70\">\n",
              "    <div class=\"colab-df-container\">\n",
              "      <div>\n",
              "<style scoped>\n",
              "    .dataframe tbody tr th:only-of-type {\n",
              "        vertical-align: middle;\n",
              "    }\n",
              "\n",
              "    .dataframe tbody tr th {\n",
              "        vertical-align: top;\n",
              "    }\n",
              "\n",
              "    .dataframe thead th {\n",
              "        text-align: right;\n",
              "    }\n",
              "</style>\n",
              "<table border=\"1\" class=\"dataframe\">\n",
              "  <thead>\n",
              "    <tr style=\"text-align: right;\">\n",
              "      <th></th>\n",
              "      <th>subgroup</th>\n",
              "      <th>subgroup_size</th>\n",
              "      <th>subgroup_auc</th>\n",
              "      <th>bpsn_auc</th>\n",
              "      <th>bnsp_auc</th>\n",
              "    </tr>\n",
              "  </thead>\n",
              "  <tbody>\n",
              "    <tr>\n",
              "      <th>0</th>\n",
              "      <td>latino</td>\n",
              "      <td>246</td>\n",
              "      <td>0.775460</td>\n",
              "      <td>0.678902</td>\n",
              "      <td>0.888943</td>\n",
              "    </tr>\n",
              "    <tr>\n",
              "      <th>1</th>\n",
              "      <td>transgender</td>\n",
              "      <td>339</td>\n",
              "      <td>0.721327</td>\n",
              "      <td>0.799409</td>\n",
              "      <td>0.743708</td>\n",
              "    </tr>\n",
              "    <tr>\n",
              "      <th>2</th>\n",
              "      <td>asian</td>\n",
              "      <td>478</td>\n",
              "      <td>0.776727</td>\n",
              "      <td>0.789906</td>\n",
              "      <td>0.799699</td>\n",
              "    </tr>\n",
              "    <tr>\n",
              "      <th>3</th>\n",
              "      <td>psychiatric_or_mental_illness</td>\n",
              "      <td>634</td>\n",
              "      <td>0.763031</td>\n",
              "      <td>0.807152</td>\n",
              "      <td>0.766291</td>\n",
              "    </tr>\n",
              "    <tr>\n",
              "      <th>4</th>\n",
              "      <td>jewish</td>\n",
              "      <td>835</td>\n",
              "      <td>0.724776</td>\n",
              "      <td>0.628813</td>\n",
              "      <td>0.882075</td>\n",
              "    </tr>\n",
              "    <tr>\n",
              "      <th>5</th>\n",
              "      <td>homosexual_gay_or_lesbian</td>\n",
              "      <td>1595</td>\n",
              "      <td>0.714674</td>\n",
              "      <td>0.703300</td>\n",
              "      <td>0.828670</td>\n",
              "    </tr>\n",
              "    <tr>\n",
              "      <th>6</th>\n",
              "      <td>black</td>\n",
              "      <td>2310</td>\n",
              "      <td>0.685484</td>\n",
              "      <td>0.628498</td>\n",
              "      <td>0.857420</td>\n",
              "    </tr>\n",
              "    <tr>\n",
              "      <th>7</th>\n",
              "      <td>muslim</td>\n",
              "      <td>2847</td>\n",
              "      <td>0.702236</td>\n",
              "      <td>0.611607</td>\n",
              "      <td>0.881882</td>\n",
              "    </tr>\n",
              "    <tr>\n",
              "      <th>8</th>\n",
              "      <td>white</td>\n",
              "      <td>3685</td>\n",
              "      <td>0.721996</td>\n",
              "      <td>0.620978</td>\n",
              "      <td>0.881622</td>\n",
              "    </tr>\n",
              "    <tr>\n",
              "      <th>9</th>\n",
              "      <td>christian</td>\n",
              "      <td>3766</td>\n",
              "      <td>0.797550</td>\n",
              "      <td>0.781703</td>\n",
              "      <td>0.826268</td>\n",
              "    </tr>\n",
              "    <tr>\n",
              "      <th>10</th>\n",
              "      <td>male</td>\n",
              "      <td>4958</td>\n",
              "      <td>0.742804</td>\n",
              "      <td>0.677673</td>\n",
              "      <td>0.862262</td>\n",
              "    </tr>\n",
              "    <tr>\n",
              "      <th>11</th>\n",
              "      <td>female</td>\n",
              "      <td>5879</td>\n",
              "      <td>0.762660</td>\n",
              "      <td>0.704683</td>\n",
              "      <td>0.859303</td>\n",
              "    </tr>\n",
              "  </tbody>\n",
              "</table>\n",
              "</div>\n",
              "      <button class=\"colab-df-convert\" onclick=\"convertToInteractive('df-1c09fb33-cf4b-4511-8320-b7a77f741e70')\"\n",
              "              title=\"Convert this dataframe to an interactive table.\"\n",
              "              style=\"display:none;\">\n",
              "        \n",
              "  <svg xmlns=\"http://www.w3.org/2000/svg\" height=\"24px\"viewBox=\"0 0 24 24\"\n",
              "       width=\"24px\">\n",
              "    <path d=\"M0 0h24v24H0V0z\" fill=\"none\"/>\n",
              "    <path d=\"M18.56 5.44l.94 2.06.94-2.06 2.06-.94-2.06-.94-.94-2.06-.94 2.06-2.06.94zm-11 1L8.5 8.5l.94-2.06 2.06-.94-2.06-.94L8.5 2.5l-.94 2.06-2.06.94zm10 10l.94 2.06.94-2.06 2.06-.94-2.06-.94-.94-2.06-.94 2.06-2.06.94z\"/><path d=\"M17.41 7.96l-1.37-1.37c-.4-.4-.92-.59-1.43-.59-.52 0-1.04.2-1.43.59L10.3 9.45l-7.72 7.72c-.78.78-.78 2.05 0 2.83L4 21.41c.39.39.9.59 1.41.59.51 0 1.02-.2 1.41-.59l7.78-7.78 2.81-2.81c.8-.78.8-2.07 0-2.86zM5.41 20L4 18.59l7.72-7.72 1.47 1.35L5.41 20z\"/>\n",
              "  </svg>\n",
              "      </button>\n",
              "      \n",
              "  <style>\n",
              "    .colab-df-container {\n",
              "      display:flex;\n",
              "      flex-wrap:wrap;\n",
              "      gap: 12px;\n",
              "    }\n",
              "\n",
              "    .colab-df-convert {\n",
              "      background-color: #E8F0FE;\n",
              "      border: none;\n",
              "      border-radius: 50%;\n",
              "      cursor: pointer;\n",
              "      display: none;\n",
              "      fill: #1967D2;\n",
              "      height: 32px;\n",
              "      padding: 0 0 0 0;\n",
              "      width: 32px;\n",
              "    }\n",
              "\n",
              "    .colab-df-convert:hover {\n",
              "      background-color: #E2EBFA;\n",
              "      box-shadow: 0px 1px 2px rgba(60, 64, 67, 0.3), 0px 1px 3px 1px rgba(60, 64, 67, 0.15);\n",
              "      fill: #174EA6;\n",
              "    }\n",
              "\n",
              "    [theme=dark] .colab-df-convert {\n",
              "      background-color: #3B4455;\n",
              "      fill: #D2E3FC;\n",
              "    }\n",
              "\n",
              "    [theme=dark] .colab-df-convert:hover {\n",
              "      background-color: #434B5C;\n",
              "      box-shadow: 0px 1px 3px 1px rgba(0, 0, 0, 0.15);\n",
              "      filter: drop-shadow(0px 1px 2px rgba(0, 0, 0, 0.3));\n",
              "      fill: #FFFFFF;\n",
              "    }\n",
              "  </style>\n",
              "\n",
              "      <script>\n",
              "        const buttonEl =\n",
              "          document.querySelector('#df-1c09fb33-cf4b-4511-8320-b7a77f741e70 button.colab-df-convert');\n",
              "        buttonEl.style.display =\n",
              "          google.colab.kernel.accessAllowed ? 'block' : 'none';\n",
              "\n",
              "        async function convertToInteractive(key) {\n",
              "          const element = document.querySelector('#df-1c09fb33-cf4b-4511-8320-b7a77f741e70');\n",
              "          const dataTable =\n",
              "            await google.colab.kernel.invokeFunction('convertToInteractive',\n",
              "                                                     [key], {});\n",
              "          if (!dataTable) return;\n",
              "\n",
              "          const docLinkHtml = 'Like what you see? Visit the ' +\n",
              "            '<a target=\"_blank\" href=https://colab.research.google.com/notebooks/data_table.ipynb>data table notebook</a>'\n",
              "            + ' to learn more about interactive tables.';\n",
              "          element.innerHTML = '';\n",
              "          dataTable['output_type'] = 'display_data';\n",
              "          await google.colab.output.renderOutput(dataTable, element);\n",
              "          const docLink = document.createElement('div');\n",
              "          docLink.innerHTML = docLinkHtml;\n",
              "          element.appendChild(docLink);\n",
              "        }\n",
              "      </script>\n",
              "    </div>\n",
              "  </div>\n",
              "  "
            ]
          },
          "metadata": {},
          "execution_count": 42
        }
      ]
    },
    {
      "cell_type": "code",
      "source": [
        "bias_score=score(bias_metrics_df,0.81164)\n",
        "bias_score"
      ],
      "metadata": {
        "colab": {
          "base_uri": "https://localhost:8080/"
        },
        "id": "rxw_Mi2qCSsw",
        "outputId": "96073be8-ef03-434d-bcc2-a5616cf1ae71"
      },
      "execution_count": 43,
      "outputs": [
        {
          "output_type": "execute_result",
          "data": {
            "text/plain": [
              "0.765481959446413"
            ]
          },
          "metadata": {},
          "execution_count": 43
        }
      ]
    },
    {
      "cell_type": "code",
      "source": [
        "x = PrettyTable()\n",
        "x.field_names = ['Feature',\"Train AUC\", \"Test AUC\", \"Bias_Score\"]\n",
        "x.add_rows(\n",
        "    [\n",
        "        [\"GBDT\", 0.8827, 0.8551, 0.8054],\n",
        "        [\"GBDT with scraped data\",  0.8742, 0.8520, 0.7969],    \n",
        "        [\"Logistic Regression\", 0.8541, 0.8522, 0.8057],\n",
        "        [\"LR with scraped data\",  0.8566, 0.8511, 0.8102],  \n",
        "        [\"Random Forest\", 0.8165, 0.8097, 0.7760],\n",
        "        [\"RF with scraped data\",  0.8224, 0.8116, 0.7654]        \n",
        "    ]\n",
        ")"
      ],
      "metadata": {
        "id": "w1ziH6pT2RbA"
      },
      "execution_count": 49,
      "outputs": []
    },
    {
      "cell_type": "code",
      "source": [
        "print(x)"
      ],
      "metadata": {
        "colab": {
          "base_uri": "https://localhost:8080/"
        },
        "id": "pxuhMwFl7IAn",
        "outputId": "fd661188-86f1-4ff1-8a5f-21a39dce9e79"
      },
      "execution_count": 50,
      "outputs": [
        {
          "output_type": "stream",
          "name": "stdout",
          "text": [
            "+------------------------+-----------+----------+------------+\n",
            "|        Feature         | Train AUC | Test AUC | Bias_Score |\n",
            "+------------------------+-----------+----------+------------+\n",
            "|          GBDT          |   0.8827  |  0.8551  |   0.8054   |\n",
            "| GBDT with scraped data |   0.8742  |  0.852   |   0.7969   |\n",
            "|  Logistic Regression   |   0.8541  |  0.8522  |   0.8057   |\n",
            "|  LR with scraped data  |   0.8566  |  0.8511  |   0.8102   |\n",
            "|     Random Forest      |   0.8165  |  0.8097  |   0.776    |\n",
            "|  RF with scraped data  |   0.8224  |  0.8116  |   0.7654   |\n",
            "+------------------------+-----------+----------+------------+\n"
          ]
        }
      ]
    }
  ]
}