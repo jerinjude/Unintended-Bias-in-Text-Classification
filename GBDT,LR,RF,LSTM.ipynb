{
  "cells": [
    {
      "cell_type": "code",
      "execution_count": 1,
      "metadata": {
        "colab": {
          "base_uri": "https://localhost:8080/"
        },
        "id": "BiWZunzShwzA",
        "outputId": "568b32ea-c283-40e9-f97f-99c197c58c0b"
      },
      "outputs": [
        {
          "output_type": "stream",
          "name": "stdout",
          "text": [
            "Mounted at /content/drive\n"
          ]
        }
      ],
      "source": [
        "from google.colab import drive\n",
        "drive.mount('/content/drive')"
      ]
    },
    {
      "cell_type": "code",
      "execution_count": 2,
      "metadata": {
        "id": "cho7DWwchyPr"
      },
      "outputs": [],
      "source": [
        "import pandas as pd\n",
        "import numpy as np\n",
        "from sklearn.model_selection import train_test_split\n",
        "from sklearn.feature_extraction.text import CountVectorizer\n",
        "import scipy.sparse \n",
        "from scipy.sparse import hstack\n",
        "from sklearn.preprocessing import StandardScaler\n",
        "import dask.dataframe as dd\n",
        "from dask.dataframe import from_pandas\n",
        "from sklearn.naive_bayes import MultinomialNB\n",
        "from sklearn.metrics import roc_auc_score\n",
        "from sklearn.feature_extraction.text import TfidfVectorizer\n",
        "from sklearn.naive_bayes import GaussianNB\n",
        "from sklearn.preprocessing import Normalizer\n",
        "from sklearn.model_selection import GridSearchCV\n",
        "from sklearn import metrics\n",
        "from sklearn.metrics import roc_curve\n",
        "from sklearn.metrics import confusion_matrix\n",
        "import seaborn as sns\n",
        "from tqdm import tqdm\n",
        "from sklearn.ensemble import GradientBoostingClassifier\n",
        "from sklearn.ensemble import HistGradientBoostingClassifier\n",
        "from prettytable import PrettyTable"
      ]
    },
    {
      "cell_type": "code",
      "execution_count": 3,
      "metadata": {
        "id": "6Ri4Iwkfh38W"
      },
      "outputs": [],
      "source": [
        "df=pd.read_csv('/content/drive/MyDrive/feature_extracted')"
      ]
    },
    {
      "cell_type": "code",
      "execution_count": 4,
      "metadata": {
        "id": "NvIQH6oJh6sc"
      },
      "outputs": [],
      "source": [
        "df_scraped=pd.read_csv('/content/drive/MyDrive/scraped_df')"
      ]
    },
    {
      "cell_type": "code",
      "execution_count": 5,
      "metadata": {
        "id": "tWxh0K1fh9jU"
      },
      "outputs": [],
      "source": [
        "columns=['length',\n",
        "       'no_of_words', 'avg_word_length', 'caps', 'excl', 'sentence_count',\n",
        "       'avg_sentence_length', 'sentiment', 'subjectivity', 'noun_count',\n",
        "       'verb_count', 'adj_count', 'adv_count', 'pron_count']"
      ]
    },
    {
      "cell_type": "code",
      "execution_count": 6,
      "metadata": {
        "id": "A8GpoDMaiDTO"
      },
      "outputs": [],
      "source": [
        "identity_columns = ['asian',\n",
        "       'atheist', 'bisexual', 'black', 'buddhist', 'christian', 'female',\n",
        "       'heterosexual', 'hindu', 'homosexual_gay_or_lesbian',\n",
        "       'intellectual_or_learning_disability', 'jewish', 'latino', 'male',\n",
        "       'muslim', 'other_disability', 'other_gender', 'other_race_or_ethnicity',\n",
        "       'other_religion', 'other_sexual_orientation', 'physical_disability',\n",
        "       'psychiatric_or_mental_illness', 'transgender', 'white']"
      ]
    },
    {
      "cell_type": "code",
      "execution_count": 7,
      "metadata": {
        "id": "D5QXxa2SiGc8"
      },
      "outputs": [],
      "source": [
        "def convert_to_bool(df, col_name):\n",
        "    df[col_name] = np.where(df[col_name] >= 0.5, 1, 0)\n",
        "    \n",
        "def convert_dataframe_to_bool(df):\n",
        "    bool_df = df.copy()\n",
        "    for col in ['target'] + identity_columns:\n",
        "        convert_to_bool(bool_df, col)\n",
        "    return bool_df\n",
        "\n",
        "df = convert_dataframe_to_bool(df)"
      ]
    },
    {
      "cell_type": "code",
      "execution_count": 8,
      "metadata": {
        "id": "h0ZmVhqoirEU"
      },
      "outputs": [],
      "source": [
        "df_non_toxic=df[df['target']==0].sample(frac=0.2)\n",
        "df_toxic=df[df['target']==1]"
      ]
    },
    {
      "cell_type": "code",
      "execution_count": 9,
      "metadata": {
        "id": "KdTrprbci9SD"
      },
      "outputs": [],
      "source": [
        "df_new=pd.concat([df_toxic,df_non_toxic],axis=0)"
      ]
    },
    {
      "cell_type": "code",
      "execution_count": 10,
      "metadata": {
        "id": "bL5ZWc6tiIrz"
      },
      "outputs": [],
      "source": [
        "Y=df_new['target']\n",
        "X=df_new.drop(['target'],axis=1)"
      ]
    },
    {
      "cell_type": "code",
      "execution_count": 11,
      "metadata": {
        "colab": {
          "base_uri": "https://localhost:8080/"
        },
        "id": "iU_L-U9viQp_",
        "outputId": "0e1bc7bf-4e85-46d9-de22-235ab7b933c6"
      },
      "outputs": [
        {
          "output_type": "execute_result",
          "data": {
            "text/plain": [
              "471898"
            ]
          },
          "metadata": {},
          "execution_count": 11
        }
      ],
      "source": [
        "len(X)"
      ]
    },
    {
      "cell_type": "code",
      "execution_count": 12,
      "metadata": {
        "id": "r5Uo88r5jbG3"
      },
      "outputs": [],
      "source": [
        "X_train, X_test, y_train, y_test = train_test_split(X, Y, test_size=0.35, random_state=42,stratify=Y, shuffle=True)"
      ]
    },
    {
      "cell_type": "code",
      "execution_count": 13,
      "metadata": {
        "id": "ZqZbIM_tjtVw"
      },
      "outputs": [],
      "source": [
        "X_train=X_train[['clean_text','length',\n",
        "       'no_of_words', 'avg_word_length', 'caps', 'excl', 'sentence_count',\n",
        "       'avg_sentence_length', 'sentiment', 'subjectivity', 'noun_count',\n",
        "       'verb_count', 'adj_count', 'adv_count', 'pron_count']]"
      ]
    },
    {
      "cell_type": "code",
      "execution_count": 14,
      "metadata": {
        "id": "fg2nKmmfjviv"
      },
      "outputs": [],
      "source": [
        "X_scraped=df_scraped.drop(['Unnamed: 0', 'text', 'target'],axis=1)\n",
        "Y_scraped=df_scraped['target']"
      ]
    },
    {
      "cell_type": "code",
      "execution_count": 15,
      "metadata": {
        "id": "nci-cWexjxvz"
      },
      "outputs": [],
      "source": [
        "X_train_scrapped=pd.concat([X_train,X_scraped],axis=0)"
      ]
    },
    {
      "cell_type": "code",
      "execution_count": 16,
      "metadata": {
        "id": "pjnujTpfjzsi"
      },
      "outputs": [],
      "source": [
        "y_train_scraped=pd.concat([y_train,Y_scraped],axis=0)"
      ]
    },
    {
      "cell_type": "code",
      "execution_count": null,
      "metadata": {
        "id": "nZQa_gJGj1d9"
      },
      "outputs": [],
      "source": [
        "vectorizer = TfidfVectorizer()\n",
        "tfidf_vect = vectorizer.fit(X_train['clean_text'])"
      ]
    },
    {
      "cell_type": "code",
      "execution_count": null,
      "metadata": {
        "colab": {
          "base_uri": "https://localhost:8080/"
        },
        "id": "EEoDw6_Uj895",
        "outputId": "f61db704-f7b0-4902-b670-a32d562274f7"
      },
      "outputs": [
        {
          "data": {
            "text/plain": [
              "TfidfVectorizer()"
            ]
          },
          "execution_count": 19,
          "metadata": {},
          "output_type": "execute_result"
        }
      ],
      "source": [
        "vectorizer1 = TfidfVectorizer()\n",
        "vectorizer1.fit(X_train_scrapped['clean_text'])"
      ]
    },
    {
      "cell_type": "code",
      "execution_count": 17,
      "metadata": {
        "id": "rX3WtlWbkfk1"
      },
      "outputs": [],
      "source": [
        "import pickle\n",
        "with open('/content/drive/MyDrive/glove.840B.300d.pkl', 'rb') as fp:\n",
        "    glove = pickle.load(fp)\n",
        "glove_words=glove.keys()"
      ]
    },
    {
      "cell_type": "code",
      "execution_count": null,
      "metadata": {
        "id": "KkHYyC3rkijJ"
      },
      "outputs": [],
      "source": [
        "dictionary=dict(zip(vectorizer.get_feature_names(),list(vectorizer.idf_)))\n",
        "word_list=set(vectorizer.get_feature_names())\n",
        "X_train_w2v=[]\n",
        "count={0}\n",
        "for sentence in tqdm(X_train['clean_text']):\n",
        "    vector=np.zeros(300)    \n",
        "    tfidf_weight=0    \n",
        "    l=len(sentence.split())\n",
        "    for word in sentence.split():\n",
        "        if word in glove_words and word in word_list:\n",
        "            count.add(word)\n",
        "            vec=glove[word]               \n",
        "            tfidf=dictionary[word]*(sentence.count(word)/l)            \n",
        "            vector+=(vec*tfidf)            \n",
        "            tfidf_weight+=tfidf\n",
        "    if tfidf_weight !=0:\n",
        "        vector/=tfidf_weight\n",
        "    X_train_w2v.append(vector) "
      ]
    },
    {
      "cell_type": "code",
      "execution_count": null,
      "metadata": {
        "colab": {
          "base_uri": "https://localhost:8080/"
        },
        "id": "b4mRqpNJvu7v",
        "outputId": "6b0a598d-7b51-43d3-dcaa-e84c2256e432"
      },
      "outputs": [
        {
          "name": "stderr",
          "output_type": "stream",
          "text": [
            "100%|██████████| 165165/165165 [00:40<00:00, 4125.72it/s]\n"
          ]
        }
      ],
      "source": [
        "dictionary=dict(zip(vectorizer.get_feature_names(),list(vectorizer.idf_)))\n",
        "word_list=set(vectorizer.get_feature_names())\n",
        "X_test_w2v=[]\n",
        "count={0}\n",
        "for sentence in tqdm(X_test['clean_text']):\n",
        "    vector=np.zeros(300)    \n",
        "    tfidf_weight=0    \n",
        "    l=len(sentence.split())\n",
        "    for word in sentence.split():\n",
        "        if word in glove_words and word in word_list:\n",
        "            count.add(word)\n",
        "            vec=glove[word]               \n",
        "            tfidf=dictionary[word]*(sentence.count(word)/l)            \n",
        "            vector+=(vec*tfidf)            \n",
        "            tfidf_weight+=tfidf\n",
        "    if tfidf_weight !=0:\n",
        "        vector/=tfidf_weight\n",
        "    X_test_w2v.append(vector)"
      ]
    },
    {
      "cell_type": "code",
      "execution_count": null,
      "metadata": {
        "colab": {
          "base_uri": "https://localhost:8080/"
        },
        "id": "CP1_5Larklde",
        "outputId": "c63714dc-6ee6-4545-d675-24fe00dd1cfa"
      },
      "outputs": [
        {
          "data": {
            "text/plain": [
              "GridSearchCV(cv=5, estimator=HistGradientBoostingClassifier(),\n",
              "             param_grid={'max_depth': [4, 5, 6, 7, 8]}, scoring='roc_auc')"
            ]
          },
          "execution_count": 24,
          "metadata": {},
          "output_type": "execute_result"
        }
      ],
      "source": [
        "parameters={'max_depth':[4,5,6,7,8]}\n",
        "clf = HistGradientBoostingClassifier()\n",
        "clf = GridSearchCV(clf, parameters,cv=5,scoring='roc_auc')\n",
        "clf.fit(X_train_w2v,y_train)"
      ]
    },
    {
      "cell_type": "code",
      "execution_count": null,
      "metadata": {
        "colab": {
          "base_uri": "https://localhost:8080/"
        },
        "id": "7QgR5HHGlTXL",
        "outputId": "f3e3a972-7e0b-4b2e-ecd7-b24ad95b38ae"
      },
      "outputs": [
        {
          "data": {
            "text/plain": [
              "HistGradientBoostingClassifier(max_depth=7)"
            ]
          },
          "execution_count": 25,
          "metadata": {},
          "output_type": "execute_result"
        }
      ],
      "source": [
        "clf.best_estimator_"
      ]
    },
    {
      "cell_type": "code",
      "execution_count": null,
      "metadata": {
        "id": "859oGMaKoAxb"
      },
      "outputs": [],
      "source": [
        "clf = HistGradientBoostingClassifier(max_depth=7)\n",
        "clf.fit(X_train_w2v,y_train)\n",
        "Y_pred_tr=clf.predict_proba(X_train_w2v)"
      ]
    },
    {
      "cell_type": "code",
      "execution_count": null,
      "metadata": {
        "id": "jtLLFtRUyk4L"
      },
      "outputs": [],
      "source": [
        "Y_pred_te=clf.predict_proba(X_test_w2v)"
      ]
    },
    {
      "cell_type": "code",
      "execution_count": null,
      "metadata": {
        "colab": {
          "base_uri": "https://localhost:8080/"
        },
        "id": "gG7eRyp5vfdj",
        "outputId": "5c720f5e-6b14-47be-b8f0-fd68170efbbe"
      },
      "outputs": [
        {
          "data": {
            "text/plain": [
              "0.8737458734989059"
            ]
          },
          "execution_count": 28,
          "metadata": {},
          "output_type": "execute_result"
        }
      ],
      "source": [
        "roc_auc_score(y_train, Y_pred_tr[:,1])"
      ]
    },
    {
      "cell_type": "code",
      "execution_count": null,
      "metadata": {
        "colab": {
          "base_uri": "https://localhost:8080/"
        },
        "id": "HH89wuP3vmVj",
        "outputId": "9a7d73ce-61e4-4c89-b2ef-a08c7e324e9d"
      },
      "outputs": [
        {
          "data": {
            "text/plain": [
              "0.8564822982455768"
            ]
          },
          "execution_count": 29,
          "metadata": {},
          "output_type": "execute_result"
        }
      ],
      "source": [
        "roc_auc_score(y_test, Y_pred_te[:,1])"
      ]
    },
    {
      "cell_type": "code",
      "execution_count": null,
      "metadata": {
        "id": "rTXL27EaoVI0"
      },
      "outputs": [],
      "source": [
        "Y_pred_te=clf.predict_proba(X_test_w2v)"
      ]
    },
    {
      "cell_type": "code",
      "execution_count": null,
      "metadata": {
        "colab": {
          "base_uri": "https://localhost:8080/"
        },
        "id": "cd3Q_TX71bow",
        "outputId": "59f75337-a09f-4097-d040-dae84cb85958"
      },
      "outputs": [
        {
          "name": "stderr",
          "output_type": "stream",
          "text": [
            "/usr/local/lib/python3.7/dist-packages/ipykernel_launcher.py:2: SettingWithCopyWarning: \n",
            "A value is trying to be set on a copy of a slice from a DataFrame.\n",
            "Try using .loc[row_indexer,col_indexer] = value instead\n",
            "\n",
            "See the caveats in the documentation: https://pandas.pydata.org/pandas-docs/stable/user_guide/indexing.html#returning-a-view-versus-a-copy\n",
            "  \n",
            "/usr/local/lib/python3.7/dist-packages/ipykernel_launcher.py:3: SettingWithCopyWarning: \n",
            "A value is trying to be set on a copy of a slice from a DataFrame.\n",
            "Try using .loc[row_indexer,col_indexer] = value instead\n",
            "\n",
            "See the caveats in the documentation: https://pandas.pydata.org/pandas-docs/stable/user_guide/indexing.html#returning-a-view-versus-a-copy\n",
            "  This is separate from the ipykernel package so we can avoid doing imports until\n"
          ]
        }
      ],
      "source": [
        "X_te_bias=X_test[identity_columns]\n",
        "X_te_bias['y_pred']=Y_pred_te[:,1]\n",
        "X_te_bias['y']=y_test"
      ]
    },
    {
      "cell_type": "code",
      "execution_count": 20,
      "metadata": {
        "id": "zh92J8rU12c1"
      },
      "outputs": [],
      "source": [
        "identity_columns1=['latino','transgender','asian','psychiatric_or_mental_illness','jewish','homosexual_gay_or_lesbian',\n",
        "                  'black','muslim','white','christian','male','female']"
      ]
    },
    {
      "cell_type": "code",
      "execution_count": 21,
      "metadata": {
        "id": "oKx77DvH1q-l"
      },
      "outputs": [],
      "source": [
        "SUBGROUP_AUC = 'subgroup_auc'\n",
        "BPSN_AUC = 'bpsn_auc'  # stands for background positive, subgroup negative\n",
        "BNSP_AUC = 'bnsp_auc'  # stands for background negative, subgroup positive\n",
        "\n",
        "def compute_auc(y_true, y_pred):\n",
        "    try:\n",
        "        return metrics.roc_auc_score(y_true, y_pred)\n",
        "    except ValueError:\n",
        "        return np.nan\n",
        "\n",
        "def compute_subgroup_auc(df, subgroup):\n",
        "    subgroup_examples = df[df[subgroup]==1]\n",
        "    return compute_auc(subgroup_examples['y'], subgroup_examples['y_pred'])\n",
        "\n",
        "def compute_bpsn_auc(df, subgroup):\n",
        "    \"\"\"Computes the AUC of the within-subgroup negative examples and the background positive examples.\"\"\"\n",
        "    subgroup_negative_examples = df[df[subgroup]==1]\n",
        "    subgroup_negative_examples = subgroup_negative_examples[subgroup_negative_examples['y']==0]\n",
        "    non_subgroup_positive_examples = df[df[subgroup]==0]\n",
        "    non_subgroup_positive_examples = non_subgroup_positive_examples[non_subgroup_positive_examples['y']==1]\n",
        "    examples = subgroup_negative_examples.append(non_subgroup_positive_examples)\n",
        "    return compute_auc(examples['y'], examples['y_pred'])\n",
        "\n",
        "def compute_bnsp_auc(df, subgroup):\n",
        "    \"\"\"Computes the AUC of the within-subgroup positive examples and the background negative examples.\"\"\"\n",
        "    subgroup_positive_examples = df[df[subgroup]==1]\n",
        "    subgroup_positive_examples = subgroup_positive_examples[subgroup_positive_examples['y']==1]\n",
        "    non_subgroup_negative_examples = df[df[subgroup]==0]\n",
        "    non_subgroup_negative_examples = non_subgroup_negative_examples[non_subgroup_negative_examples['y']==0]\n",
        "    examples = subgroup_positive_examples.append(non_subgroup_negative_examples)\n",
        "    return compute_auc(examples['y'], examples['y_pred'])\n",
        "\n",
        "def compute_bias_metrics_for_model(dataset,\n",
        "                                   subgroups,\n",
        "                                   include_asegs=False):\n",
        "    \"\"\"Computes per-subgroup metrics for all subgroups and one model.\"\"\"\n",
        "    records = []\n",
        "    for subgroup in subgroups:\n",
        "        record = {'subgroup': subgroup,'subgroup_size': len(dataset[dataset[subgroup]==1])}\n",
        "        record[SUBGROUP_AUC] = compute_subgroup_auc(dataset, subgroup)\n",
        "        record[BPSN_AUC] = compute_bpsn_auc(dataset, subgroup)\n",
        "        record[BNSP_AUC] = compute_bnsp_auc(dataset, subgroup)\n",
        "        records.append(record)\n",
        "    return pd.DataFrame(records).sort_values('subgroup_size', ascending=True)"
      ]
    },
    {
      "cell_type": "code",
      "execution_count": null,
      "metadata": {
        "colab": {
          "base_uri": "https://localhost:8080/",
          "height": 426
        },
        "id": "jf4w6SpB1dCJ",
        "outputId": "9141f747-4ba9-42bb-b5a0-2d544980255e"
      },
      "outputs": [
        {
          "data": {
            "text/html": [
              "\n",
              "  <div id=\"df-4e4429c2-7023-4bc3-9c61-ba738ece6aef\">\n",
              "    <div class=\"colab-df-container\">\n",
              "      <div>\n",
              "<style scoped>\n",
              "    .dataframe tbody tr th:only-of-type {\n",
              "        vertical-align: middle;\n",
              "    }\n",
              "\n",
              "    .dataframe tbody tr th {\n",
              "        vertical-align: top;\n",
              "    }\n",
              "\n",
              "    .dataframe thead th {\n",
              "        text-align: right;\n",
              "    }\n",
              "</style>\n",
              "<table border=\"1\" class=\"dataframe\">\n",
              "  <thead>\n",
              "    <tr style=\"text-align: right;\">\n",
              "      <th></th>\n",
              "      <th>subgroup</th>\n",
              "      <th>subgroup_size</th>\n",
              "      <th>subgroup_auc</th>\n",
              "      <th>bpsn_auc</th>\n",
              "      <th>bnsp_auc</th>\n",
              "    </tr>\n",
              "  </thead>\n",
              "  <tbody>\n",
              "    <tr>\n",
              "      <th>0</th>\n",
              "      <td>latino</td>\n",
              "      <td>246</td>\n",
              "      <td>0.814362</td>\n",
              "      <td>0.726606</td>\n",
              "      <td>0.906942</td>\n",
              "    </tr>\n",
              "    <tr>\n",
              "      <th>1</th>\n",
              "      <td>transgender</td>\n",
              "      <td>336</td>\n",
              "      <td>0.726870</td>\n",
              "      <td>0.745714</td>\n",
              "      <td>0.843739</td>\n",
              "    </tr>\n",
              "    <tr>\n",
              "      <th>2</th>\n",
              "      <td>asian</td>\n",
              "      <td>478</td>\n",
              "      <td>0.783865</td>\n",
              "      <td>0.762872</td>\n",
              "      <td>0.873998</td>\n",
              "    </tr>\n",
              "    <tr>\n",
              "      <th>3</th>\n",
              "      <td>psychiatric_or_mental_illness</td>\n",
              "      <td>634</td>\n",
              "      <td>0.777998</td>\n",
              "      <td>0.788042</td>\n",
              "      <td>0.850897</td>\n",
              "    </tr>\n",
              "    <tr>\n",
              "      <th>4</th>\n",
              "      <td>jewish</td>\n",
              "      <td>888</td>\n",
              "      <td>0.771024</td>\n",
              "      <td>0.700495</td>\n",
              "      <td>0.905522</td>\n",
              "    </tr>\n",
              "    <tr>\n",
              "      <th>5</th>\n",
              "      <td>homosexual_gay_or_lesbian</td>\n",
              "      <td>1605</td>\n",
              "      <td>0.728077</td>\n",
              "      <td>0.685156</td>\n",
              "      <td>0.890661</td>\n",
              "    </tr>\n",
              "    <tr>\n",
              "      <th>6</th>\n",
              "      <td>black</td>\n",
              "      <td>2332</td>\n",
              "      <td>0.718470</td>\n",
              "      <td>0.645256</td>\n",
              "      <td>0.901859</td>\n",
              "    </tr>\n",
              "    <tr>\n",
              "      <th>7</th>\n",
              "      <td>muslim</td>\n",
              "      <td>2799</td>\n",
              "      <td>0.735687</td>\n",
              "      <td>0.644767</td>\n",
              "      <td>0.915201</td>\n",
              "    </tr>\n",
              "    <tr>\n",
              "      <th>8</th>\n",
              "      <td>white</td>\n",
              "      <td>3789</td>\n",
              "      <td>0.739890</td>\n",
              "      <td>0.630131</td>\n",
              "      <td>0.919295</td>\n",
              "    </tr>\n",
              "    <tr>\n",
              "      <th>9</th>\n",
              "      <td>christian</td>\n",
              "      <td>3819</td>\n",
              "      <td>0.826721</td>\n",
              "      <td>0.825794</td>\n",
              "      <td>0.859672</td>\n",
              "    </tr>\n",
              "    <tr>\n",
              "      <th>10</th>\n",
              "      <td>male</td>\n",
              "      <td>4978</td>\n",
              "      <td>0.796725</td>\n",
              "      <td>0.720835</td>\n",
              "      <td>0.908257</td>\n",
              "    </tr>\n",
              "    <tr>\n",
              "      <th>11</th>\n",
              "      <td>female</td>\n",
              "      <td>5835</td>\n",
              "      <td>0.794217</td>\n",
              "      <td>0.734947</td>\n",
              "      <td>0.900609</td>\n",
              "    </tr>\n",
              "  </tbody>\n",
              "</table>\n",
              "</div>\n",
              "      <button class=\"colab-df-convert\" onclick=\"convertToInteractive('df-4e4429c2-7023-4bc3-9c61-ba738ece6aef')\"\n",
              "              title=\"Convert this dataframe to an interactive table.\"\n",
              "              style=\"display:none;\">\n",
              "        \n",
              "  <svg xmlns=\"http://www.w3.org/2000/svg\" height=\"24px\"viewBox=\"0 0 24 24\"\n",
              "       width=\"24px\">\n",
              "    <path d=\"M0 0h24v24H0V0z\" fill=\"none\"/>\n",
              "    <path d=\"M18.56 5.44l.94 2.06.94-2.06 2.06-.94-2.06-.94-.94-2.06-.94 2.06-2.06.94zm-11 1L8.5 8.5l.94-2.06 2.06-.94-2.06-.94L8.5 2.5l-.94 2.06-2.06.94zm10 10l.94 2.06.94-2.06 2.06-.94-2.06-.94-.94-2.06-.94 2.06-2.06.94z\"/><path d=\"M17.41 7.96l-1.37-1.37c-.4-.4-.92-.59-1.43-.59-.52 0-1.04.2-1.43.59L10.3 9.45l-7.72 7.72c-.78.78-.78 2.05 0 2.83L4 21.41c.39.39.9.59 1.41.59.51 0 1.02-.2 1.41-.59l7.78-7.78 2.81-2.81c.8-.78.8-2.07 0-2.86zM5.41 20L4 18.59l7.72-7.72 1.47 1.35L5.41 20z\"/>\n",
              "  </svg>\n",
              "      </button>\n",
              "      \n",
              "  <style>\n",
              "    .colab-df-container {\n",
              "      display:flex;\n",
              "      flex-wrap:wrap;\n",
              "      gap: 12px;\n",
              "    }\n",
              "\n",
              "    .colab-df-convert {\n",
              "      background-color: #E8F0FE;\n",
              "      border: none;\n",
              "      border-radius: 50%;\n",
              "      cursor: pointer;\n",
              "      display: none;\n",
              "      fill: #1967D2;\n",
              "      height: 32px;\n",
              "      padding: 0 0 0 0;\n",
              "      width: 32px;\n",
              "    }\n",
              "\n",
              "    .colab-df-convert:hover {\n",
              "      background-color: #E2EBFA;\n",
              "      box-shadow: 0px 1px 2px rgba(60, 64, 67, 0.3), 0px 1px 3px 1px rgba(60, 64, 67, 0.15);\n",
              "      fill: #174EA6;\n",
              "    }\n",
              "\n",
              "    [theme=dark] .colab-df-convert {\n",
              "      background-color: #3B4455;\n",
              "      fill: #D2E3FC;\n",
              "    }\n",
              "\n",
              "    [theme=dark] .colab-df-convert:hover {\n",
              "      background-color: #434B5C;\n",
              "      box-shadow: 0px 1px 3px 1px rgba(0, 0, 0, 0.15);\n",
              "      filter: drop-shadow(0px 1px 2px rgba(0, 0, 0, 0.3));\n",
              "      fill: #FFFFFF;\n",
              "    }\n",
              "  </style>\n",
              "\n",
              "      <script>\n",
              "        const buttonEl =\n",
              "          document.querySelector('#df-4e4429c2-7023-4bc3-9c61-ba738ece6aef button.colab-df-convert');\n",
              "        buttonEl.style.display =\n",
              "          google.colab.kernel.accessAllowed ? 'block' : 'none';\n",
              "\n",
              "        async function convertToInteractive(key) {\n",
              "          const element = document.querySelector('#df-4e4429c2-7023-4bc3-9c61-ba738ece6aef');\n",
              "          const dataTable =\n",
              "            await google.colab.kernel.invokeFunction('convertToInteractive',\n",
              "                                                     [key], {});\n",
              "          if (!dataTable) return;\n",
              "\n",
              "          const docLinkHtml = 'Like what you see? Visit the ' +\n",
              "            '<a target=\"_blank\" href=https://colab.research.google.com/notebooks/data_table.ipynb>data table notebook</a>'\n",
              "            + ' to learn more about interactive tables.';\n",
              "          element.innerHTML = '';\n",
              "          dataTable['output_type'] = 'display_data';\n",
              "          await google.colab.output.renderOutput(dataTable, element);\n",
              "          const docLink = document.createElement('div');\n",
              "          docLink.innerHTML = docLinkHtml;\n",
              "          element.appendChild(docLink);\n",
              "        }\n",
              "      </script>\n",
              "    </div>\n",
              "  </div>\n",
              "  "
            ],
            "text/plain": [
              "                         subgroup  subgroup_size  subgroup_auc  bpsn_auc  \\\n",
              "0                          latino            246      0.814362  0.726606   \n",
              "1                     transgender            336      0.726870  0.745714   \n",
              "2                           asian            478      0.783865  0.762872   \n",
              "3   psychiatric_or_mental_illness            634      0.777998  0.788042   \n",
              "4                          jewish            888      0.771024  0.700495   \n",
              "5       homosexual_gay_or_lesbian           1605      0.728077  0.685156   \n",
              "6                           black           2332      0.718470  0.645256   \n",
              "7                          muslim           2799      0.735687  0.644767   \n",
              "8                           white           3789      0.739890  0.630131   \n",
              "9                       christian           3819      0.826721  0.825794   \n",
              "10                           male           4978      0.796725  0.720835   \n",
              "11                         female           5835      0.794217  0.734947   \n",
              "\n",
              "    bnsp_auc  \n",
              "0   0.906942  \n",
              "1   0.843739  \n",
              "2   0.873998  \n",
              "3   0.850897  \n",
              "4   0.905522  \n",
              "5   0.890661  \n",
              "6   0.901859  \n",
              "7   0.915201  \n",
              "8   0.919295  \n",
              "9   0.859672  \n",
              "10  0.908257  \n",
              "11  0.900609  "
            ]
          },
          "execution_count": 33,
          "metadata": {},
          "output_type": "execute_result"
        }
      ],
      "source": [
        "bias_metrics_df = compute_bias_metrics_for_model(X_te_bias, identity_columns1)\n",
        "bias_metrics_df"
      ]
    },
    {
      "cell_type": "code",
      "execution_count": 22,
      "metadata": {
        "id": "YdPC5zFi2Pbn"
      },
      "outputs": [],
      "source": [
        "def score(df,overall_auc):\n",
        "    l=len(df)\n",
        "    x=df.drop(['subgroup','subgroup_size'],axis=1)\n",
        "    x=x.apply((lambda x: x**(-5)),axis=1)\n",
        "    s=x.sum(axis=0)\n",
        "    s=s.apply(lambda x: (x/l)**(1/(-5)))\n",
        "    s=s.sum(axis=0)\n",
        "    score=0.25*(s+overall_auc)\n",
        "    return score    "
      ]
    },
    {
      "cell_type": "code",
      "execution_count": null,
      "metadata": {
        "colab": {
          "base_uri": "https://localhost:8080/"
        },
        "id": "BrjPF_Zp1fib",
        "outputId": "ebff83cc-186d-4a58-b44e-37fa74115776"
      },
      "outputs": [
        {
          "data": {
            "text/plain": [
              "0.8030411746534422"
            ]
          },
          "execution_count": 35,
          "metadata": {},
          "output_type": "execute_result"
        }
      ],
      "source": [
        "bias_score=score(bias_metrics_df,0.8576)\n",
        "bias_score"
      ]
    },
    {
      "cell_type": "code",
      "execution_count": null,
      "metadata": {
        "colab": {
          "base_uri": "https://localhost:8080/"
        },
        "id": "IScDOdPfI0kU",
        "outputId": "31bd26ed-7e23-494d-a1d9-27e9d4aab87c"
      },
      "outputs": [
        {
          "data": {
            "text/plain": [
              "GridSearchCV(cv=5, estimator=LogisticRegression(random_state=42, solver='saga'),\n",
              "             param_grid={'C': [0.0001, 0.001, 0.01, 1, 10, 100]},\n",
              "             scoring='roc_auc')"
            ]
          },
          "execution_count": 36,
          "metadata": {},
          "output_type": "execute_result"
        }
      ],
      "source": [
        "from sklearn.linear_model import LogisticRegression\n",
        "parameters={'C':[0.0001,0.001,0.01,1,10,100]}\n",
        "clf = LogisticRegression(solver='saga',random_state=42)\n",
        "clf = GridSearchCV(clf, parameters,cv=5,scoring='roc_auc')\n",
        "clf.fit(X_train_w2v,y_train)"
      ]
    },
    {
      "cell_type": "code",
      "execution_count": null,
      "metadata": {
        "colab": {
          "base_uri": "https://localhost:8080/"
        },
        "id": "5mdlWlATV5yd",
        "outputId": "82caea54-d890-435d-b9ba-3f9cf1cb6688"
      },
      "outputs": [
        {
          "data": {
            "text/plain": [
              "LogisticRegression(C=1, random_state=42, solver='saga')"
            ]
          },
          "execution_count": 37,
          "metadata": {},
          "output_type": "execute_result"
        }
      ],
      "source": [
        "clf.best_estimator_"
      ]
    },
    {
      "cell_type": "code",
      "execution_count": null,
      "metadata": {
        "id": "8UIMR_aNXGtL"
      },
      "outputs": [],
      "source": [
        "clf=LogisticRegression(C=1, random_state=42, solver='saga')\n",
        "clf.fit(X_train_w2v,y_train)\n",
        "Y_pred_tr=clf.predict_proba(X_train_w2v)"
      ]
    },
    {
      "cell_type": "code",
      "execution_count": null,
      "metadata": {
        "id": "JsBY8PcJV6Sf"
      },
      "outputs": [],
      "source": [
        "Y_pred_te=clf.predict_proba(X_test_w2v)"
      ]
    },
    {
      "cell_type": "code",
      "execution_count": null,
      "metadata": {
        "colab": {
          "base_uri": "https://localhost:8080/"
        },
        "id": "cAUrcFRKV6gC",
        "outputId": "e1543121-9e23-4b42-a9d3-fec3fa020c13"
      },
      "outputs": [
        {
          "data": {
            "text/plain": [
              "0.8547150453437975"
            ]
          },
          "execution_count": 40,
          "metadata": {},
          "output_type": "execute_result"
        }
      ],
      "source": [
        "roc_auc_score(y_train, Y_pred_tr[:,1])"
      ]
    },
    {
      "cell_type": "code",
      "execution_count": null,
      "metadata": {
        "colab": {
          "base_uri": "https://localhost:8080/"
        },
        "id": "4Nw2cu8mV6iR",
        "outputId": "5701089b-522c-4eff-b7d0-d7958a397519"
      },
      "outputs": [
        {
          "data": {
            "text/plain": [
              "0.8536722982629703"
            ]
          },
          "execution_count": 41,
          "metadata": {},
          "output_type": "execute_result"
        }
      ],
      "source": [
        "roc_auc_score(y_test, Y_pred_te[:,1])"
      ]
    },
    {
      "cell_type": "code",
      "execution_count": null,
      "metadata": {
        "colab": {
          "base_uri": "https://localhost:8080/"
        },
        "id": "qCZd0tGFYATl",
        "outputId": "cb5d2bdc-20ab-4639-cbd7-3fe7d4b87b20"
      },
      "outputs": [
        {
          "name": "stderr",
          "output_type": "stream",
          "text": [
            "/usr/local/lib/python3.7/dist-packages/ipykernel_launcher.py:3: SettingWithCopyWarning: \n",
            "A value is trying to be set on a copy of a slice from a DataFrame.\n",
            "Try using .loc[row_indexer,col_indexer] = value instead\n",
            "\n",
            "See the caveats in the documentation: https://pandas.pydata.org/pandas-docs/stable/user_guide/indexing.html#returning-a-view-versus-a-copy\n",
            "  This is separate from the ipykernel package so we can avoid doing imports until\n",
            "/usr/local/lib/python3.7/dist-packages/ipykernel_launcher.py:4: SettingWithCopyWarning: \n",
            "A value is trying to be set on a copy of a slice from a DataFrame.\n",
            "Try using .loc[row_indexer,col_indexer] = value instead\n",
            "\n",
            "See the caveats in the documentation: https://pandas.pydata.org/pandas-docs/stable/user_guide/indexing.html#returning-a-view-versus-a-copy\n",
            "  after removing the cwd from sys.path.\n"
          ]
        }
      ],
      "source": [
        "Y_pred_te=clf.predict_proba(X_test_w2v)\n",
        "X_te_bias=X_test[identity_columns]\n",
        "X_te_bias['y_pred']=Y_pred_te[:,1]\n",
        "X_te_bias['y']=y_test"
      ]
    },
    {
      "cell_type": "code",
      "execution_count": null,
      "metadata": {
        "colab": {
          "base_uri": "https://localhost:8080/",
          "height": 426
        },
        "id": "R6Ox07mLYAWm",
        "outputId": "df4705ab-2b50-46c9-a654-4b914cf43782"
      },
      "outputs": [
        {
          "data": {
            "text/html": [
              "\n",
              "  <div id=\"df-ed9a1684-51c9-46e8-989f-3cb33ba9655b\">\n",
              "    <div class=\"colab-df-container\">\n",
              "      <div>\n",
              "<style scoped>\n",
              "    .dataframe tbody tr th:only-of-type {\n",
              "        vertical-align: middle;\n",
              "    }\n",
              "\n",
              "    .dataframe tbody tr th {\n",
              "        vertical-align: top;\n",
              "    }\n",
              "\n",
              "    .dataframe thead th {\n",
              "        text-align: right;\n",
              "    }\n",
              "</style>\n",
              "<table border=\"1\" class=\"dataframe\">\n",
              "  <thead>\n",
              "    <tr style=\"text-align: right;\">\n",
              "      <th></th>\n",
              "      <th>subgroup</th>\n",
              "      <th>subgroup_size</th>\n",
              "      <th>subgroup_auc</th>\n",
              "      <th>bpsn_auc</th>\n",
              "      <th>bnsp_auc</th>\n",
              "    </tr>\n",
              "  </thead>\n",
              "  <tbody>\n",
              "    <tr>\n",
              "      <th>0</th>\n",
              "      <td>latino</td>\n",
              "      <td>246</td>\n",
              "      <td>0.798314</td>\n",
              "      <td>0.754518</td>\n",
              "      <td>0.881741</td>\n",
              "    </tr>\n",
              "    <tr>\n",
              "      <th>1</th>\n",
              "      <td>transgender</td>\n",
              "      <td>336</td>\n",
              "      <td>0.737520</td>\n",
              "      <td>0.750204</td>\n",
              "      <td>0.850610</td>\n",
              "    </tr>\n",
              "    <tr>\n",
              "      <th>2</th>\n",
              "      <td>asian</td>\n",
              "      <td>478</td>\n",
              "      <td>0.764138</td>\n",
              "      <td>0.775869</td>\n",
              "      <td>0.848931</td>\n",
              "    </tr>\n",
              "    <tr>\n",
              "      <th>3</th>\n",
              "      <td>psychiatric_or_mental_illness</td>\n",
              "      <td>634</td>\n",
              "      <td>0.762848</td>\n",
              "      <td>0.746944</td>\n",
              "      <td>0.868408</td>\n",
              "    </tr>\n",
              "    <tr>\n",
              "      <th>4</th>\n",
              "      <td>jewish</td>\n",
              "      <td>888</td>\n",
              "      <td>0.752704</td>\n",
              "      <td>0.709805</td>\n",
              "      <td>0.888251</td>\n",
              "    </tr>\n",
              "    <tr>\n",
              "      <th>5</th>\n",
              "      <td>homosexual_gay_or_lesbian</td>\n",
              "      <td>1605</td>\n",
              "      <td>0.735672</td>\n",
              "      <td>0.695151</td>\n",
              "      <td>0.886815</td>\n",
              "    </tr>\n",
              "    <tr>\n",
              "      <th>6</th>\n",
              "      <td>black</td>\n",
              "      <td>2332</td>\n",
              "      <td>0.740588</td>\n",
              "      <td>0.683280</td>\n",
              "      <td>0.892797</td>\n",
              "    </tr>\n",
              "    <tr>\n",
              "      <th>7</th>\n",
              "      <td>muslim</td>\n",
              "      <td>2799</td>\n",
              "      <td>0.732132</td>\n",
              "      <td>0.683701</td>\n",
              "      <td>0.891541</td>\n",
              "    </tr>\n",
              "    <tr>\n",
              "      <th>8</th>\n",
              "      <td>white</td>\n",
              "      <td>3789</td>\n",
              "      <td>0.743440</td>\n",
              "      <td>0.670221</td>\n",
              "      <td>0.901312</td>\n",
              "    </tr>\n",
              "    <tr>\n",
              "      <th>9</th>\n",
              "      <td>christian</td>\n",
              "      <td>3819</td>\n",
              "      <td>0.820711</td>\n",
              "      <td>0.847022</td>\n",
              "      <td>0.830273</td>\n",
              "    </tr>\n",
              "    <tr>\n",
              "      <th>10</th>\n",
              "      <td>male</td>\n",
              "      <td>4978</td>\n",
              "      <td>0.791457</td>\n",
              "      <td>0.742988</td>\n",
              "      <td>0.890346</td>\n",
              "    </tr>\n",
              "    <tr>\n",
              "      <th>11</th>\n",
              "      <td>female</td>\n",
              "      <td>5835</td>\n",
              "      <td>0.788348</td>\n",
              "      <td>0.763180</td>\n",
              "      <td>0.876892</td>\n",
              "    </tr>\n",
              "  </tbody>\n",
              "</table>\n",
              "</div>\n",
              "      <button class=\"colab-df-convert\" onclick=\"convertToInteractive('df-ed9a1684-51c9-46e8-989f-3cb33ba9655b')\"\n",
              "              title=\"Convert this dataframe to an interactive table.\"\n",
              "              style=\"display:none;\">\n",
              "        \n",
              "  <svg xmlns=\"http://www.w3.org/2000/svg\" height=\"24px\"viewBox=\"0 0 24 24\"\n",
              "       width=\"24px\">\n",
              "    <path d=\"M0 0h24v24H0V0z\" fill=\"none\"/>\n",
              "    <path d=\"M18.56 5.44l.94 2.06.94-2.06 2.06-.94-2.06-.94-.94-2.06-.94 2.06-2.06.94zm-11 1L8.5 8.5l.94-2.06 2.06-.94-2.06-.94L8.5 2.5l-.94 2.06-2.06.94zm10 10l.94 2.06.94-2.06 2.06-.94-2.06-.94-.94-2.06-.94 2.06-2.06.94z\"/><path d=\"M17.41 7.96l-1.37-1.37c-.4-.4-.92-.59-1.43-.59-.52 0-1.04.2-1.43.59L10.3 9.45l-7.72 7.72c-.78.78-.78 2.05 0 2.83L4 21.41c.39.39.9.59 1.41.59.51 0 1.02-.2 1.41-.59l7.78-7.78 2.81-2.81c.8-.78.8-2.07 0-2.86zM5.41 20L4 18.59l7.72-7.72 1.47 1.35L5.41 20z\"/>\n",
              "  </svg>\n",
              "      </button>\n",
              "      \n",
              "  <style>\n",
              "    .colab-df-container {\n",
              "      display:flex;\n",
              "      flex-wrap:wrap;\n",
              "      gap: 12px;\n",
              "    }\n",
              "\n",
              "    .colab-df-convert {\n",
              "      background-color: #E8F0FE;\n",
              "      border: none;\n",
              "      border-radius: 50%;\n",
              "      cursor: pointer;\n",
              "      display: none;\n",
              "      fill: #1967D2;\n",
              "      height: 32px;\n",
              "      padding: 0 0 0 0;\n",
              "      width: 32px;\n",
              "    }\n",
              "\n",
              "    .colab-df-convert:hover {\n",
              "      background-color: #E2EBFA;\n",
              "      box-shadow: 0px 1px 2px rgba(60, 64, 67, 0.3), 0px 1px 3px 1px rgba(60, 64, 67, 0.15);\n",
              "      fill: #174EA6;\n",
              "    }\n",
              "\n",
              "    [theme=dark] .colab-df-convert {\n",
              "      background-color: #3B4455;\n",
              "      fill: #D2E3FC;\n",
              "    }\n",
              "\n",
              "    [theme=dark] .colab-df-convert:hover {\n",
              "      background-color: #434B5C;\n",
              "      box-shadow: 0px 1px 3px 1px rgba(0, 0, 0, 0.15);\n",
              "      filter: drop-shadow(0px 1px 2px rgba(0, 0, 0, 0.3));\n",
              "      fill: #FFFFFF;\n",
              "    }\n",
              "  </style>\n",
              "\n",
              "      <script>\n",
              "        const buttonEl =\n",
              "          document.querySelector('#df-ed9a1684-51c9-46e8-989f-3cb33ba9655b button.colab-df-convert');\n",
              "        buttonEl.style.display =\n",
              "          google.colab.kernel.accessAllowed ? 'block' : 'none';\n",
              "\n",
              "        async function convertToInteractive(key) {\n",
              "          const element = document.querySelector('#df-ed9a1684-51c9-46e8-989f-3cb33ba9655b');\n",
              "          const dataTable =\n",
              "            await google.colab.kernel.invokeFunction('convertToInteractive',\n",
              "                                                     [key], {});\n",
              "          if (!dataTable) return;\n",
              "\n",
              "          const docLinkHtml = 'Like what you see? Visit the ' +\n",
              "            '<a target=\"_blank\" href=https://colab.research.google.com/notebooks/data_table.ipynb>data table notebook</a>'\n",
              "            + ' to learn more about interactive tables.';\n",
              "          element.innerHTML = '';\n",
              "          dataTable['output_type'] = 'display_data';\n",
              "          await google.colab.output.renderOutput(dataTable, element);\n",
              "          const docLink = document.createElement('div');\n",
              "          docLink.innerHTML = docLinkHtml;\n",
              "          element.appendChild(docLink);\n",
              "        }\n",
              "      </script>\n",
              "    </div>\n",
              "  </div>\n",
              "  "
            ],
            "text/plain": [
              "                         subgroup  subgroup_size  subgroup_auc  bpsn_auc  \\\n",
              "0                          latino            246      0.798314  0.754518   \n",
              "1                     transgender            336      0.737520  0.750204   \n",
              "2                           asian            478      0.764138  0.775869   \n",
              "3   psychiatric_or_mental_illness            634      0.762848  0.746944   \n",
              "4                          jewish            888      0.752704  0.709805   \n",
              "5       homosexual_gay_or_lesbian           1605      0.735672  0.695151   \n",
              "6                           black           2332      0.740588  0.683280   \n",
              "7                          muslim           2799      0.732132  0.683701   \n",
              "8                           white           3789      0.743440  0.670221   \n",
              "9                       christian           3819      0.820711  0.847022   \n",
              "10                           male           4978      0.791457  0.742988   \n",
              "11                         female           5835      0.788348  0.763180   \n",
              "\n",
              "    bnsp_auc  \n",
              "0   0.881741  \n",
              "1   0.850610  \n",
              "2   0.848931  \n",
              "3   0.868408  \n",
              "4   0.888251  \n",
              "5   0.886815  \n",
              "6   0.892797  \n",
              "7   0.891541  \n",
              "8   0.901312  \n",
              "9   0.830273  \n",
              "10  0.890346  \n",
              "11  0.876892  "
            ]
          },
          "execution_count": 43,
          "metadata": {},
          "output_type": "execute_result"
        }
      ],
      "source": [
        "bias_metrics_df = compute_bias_metrics_for_model(X_te_bias, identity_columns1)\n",
        "bias_metrics_df"
      ]
    },
    {
      "cell_type": "code",
      "execution_count": null,
      "metadata": {
        "colab": {
          "base_uri": "https://localhost:8080/"
        },
        "id": "hiqfiPUeYAZS",
        "outputId": "572b0bdd-8d9d-4291-aeee-fd73005aaaa7"
      },
      "outputs": [
        {
          "data": {
            "text/plain": [
              "0.8034781526695195"
            ]
          },
          "execution_count": 44,
          "metadata": {},
          "output_type": "execute_result"
        }
      ],
      "source": [
        "bias_score=score(bias_metrics_df,0.8521)\n",
        "bias_score"
      ]
    },
    {
      "cell_type": "code",
      "execution_count": null,
      "metadata": {
        "id": "PjPKy7NRDwPX"
      },
      "outputs": [],
      "source": [
        "from sklearn.ensemble import RandomForestClassifier\n",
        "parameters={'n_estimators':[10,20,30],'max_depth':[3,4,5,6],'max_samples':[0.4,0.5,0.7]}\n",
        "clf = RandomForestClassifier(n_jobs=-1, random_state=0)\n",
        "clf = GridSearchCV(clf, parameters,cv=5,scoring='roc_auc')\n",
        "clf.fit(X_train_w2v,y_train)"
      ]
    },
    {
      "cell_type": "code",
      "execution_count": null,
      "metadata": {
        "colab": {
          "base_uri": "https://localhost:8080/"
        },
        "id": "_BmiJ9eSL3AG",
        "outputId": "ac2dec49-e836-441e-9375-8c4304862915"
      },
      "outputs": [
        {
          "data": {
            "text/plain": [
              "RandomForestClassifier(max_depth=6, max_samples=0.4, n_estimators=30, n_jobs=-1,\n",
              "                       random_state=0)"
            ]
          },
          "execution_count": 24,
          "metadata": {},
          "output_type": "execute_result"
        }
      ],
      "source": [
        "clf.best_estimator_"
      ]
    },
    {
      "cell_type": "code",
      "execution_count": null,
      "metadata": {
        "id": "_VLLUSviL5u6"
      },
      "outputs": [],
      "source": [
        "clf=RandomForestClassifier(max_depth=6, max_samples=0.4, n_estimators=30, n_jobs=-1,\n",
        "                       random_state=0)\n",
        "clf.fit(X_train_w2v,y_train)\n",
        "Y_pred_tr=clf.predict_proba(X_train_w2v)"
      ]
    },
    {
      "cell_type": "code",
      "execution_count": null,
      "metadata": {
        "id": "iRuuJb-xhQJU"
      },
      "outputs": [],
      "source": [
        "Y_pred_te=clf.predict_proba(X_test_w2v)"
      ]
    },
    {
      "cell_type": "code",
      "execution_count": null,
      "metadata": {
        "colab": {
          "base_uri": "https://localhost:8080/"
        },
        "id": "eW3kGMoLh0m0",
        "outputId": "61a82bc4-5792-478b-ec5d-ad5229da72ee"
      },
      "outputs": [
        {
          "data": {
            "text/plain": [
              "0.8165089385303973"
            ]
          },
          "execution_count": 27,
          "metadata": {},
          "output_type": "execute_result"
        }
      ],
      "source": [
        "roc_auc_score(y_train, Y_pred_tr[:,1])"
      ]
    },
    {
      "cell_type": "code",
      "execution_count": null,
      "metadata": {
        "colab": {
          "base_uri": "https://localhost:8080/"
        },
        "id": "AmkBUWBsh0rJ",
        "outputId": "27f0cc6c-dbcd-455d-a82b-e3434bba7352"
      },
      "outputs": [
        {
          "data": {
            "text/plain": [
              "0.8097501889546995"
            ]
          },
          "execution_count": 28,
          "metadata": {},
          "output_type": "execute_result"
        }
      ],
      "source": [
        "roc_auc_score(y_test, Y_pred_te[:,1])"
      ]
    },
    {
      "cell_type": "code",
      "execution_count": null,
      "metadata": {
        "colab": {
          "base_uri": "https://localhost:8080/"
        },
        "id": "ygYMDT5Nh-Iv",
        "outputId": "dca6cd7b-d526-474b-a780-a1821dd7e67e"
      },
      "outputs": [
        {
          "name": "stderr",
          "output_type": "stream",
          "text": [
            "/usr/local/lib/python3.7/dist-packages/ipykernel_launcher.py:3: SettingWithCopyWarning: \n",
            "A value is trying to be set on a copy of a slice from a DataFrame.\n",
            "Try using .loc[row_indexer,col_indexer] = value instead\n",
            "\n",
            "See the caveats in the documentation: https://pandas.pydata.org/pandas-docs/stable/user_guide/indexing.html#returning-a-view-versus-a-copy\n",
            "  This is separate from the ipykernel package so we can avoid doing imports until\n",
            "/usr/local/lib/python3.7/dist-packages/ipykernel_launcher.py:4: SettingWithCopyWarning: \n",
            "A value is trying to be set on a copy of a slice from a DataFrame.\n",
            "Try using .loc[row_indexer,col_indexer] = value instead\n",
            "\n",
            "See the caveats in the documentation: https://pandas.pydata.org/pandas-docs/stable/user_guide/indexing.html#returning-a-view-versus-a-copy\n",
            "  after removing the cwd from sys.path.\n"
          ]
        }
      ],
      "source": [
        "Y_pred_te=clf.predict_proba(X_test_w2v)\n",
        "X_te_bias=X_test[identity_columns]\n",
        "X_te_bias['y_pred']=Y_pred_te[:,1]\n",
        "X_te_bias['y']=y_test"
      ]
    },
    {
      "cell_type": "code",
      "execution_count": null,
      "metadata": {
        "colab": {
          "base_uri": "https://localhost:8080/",
          "height": 426
        },
        "id": "5hrzzusTiNwv",
        "outputId": "b3c0216a-8a00-41ca-fc80-e2a2ef61e43c"
      },
      "outputs": [
        {
          "data": {
            "text/html": [
              "\n",
              "  <div id=\"df-bfd14880-5361-44af-bd64-a8cee6152800\">\n",
              "    <div class=\"colab-df-container\">\n",
              "      <div>\n",
              "<style scoped>\n",
              "    .dataframe tbody tr th:only-of-type {\n",
              "        vertical-align: middle;\n",
              "    }\n",
              "\n",
              "    .dataframe tbody tr th {\n",
              "        vertical-align: top;\n",
              "    }\n",
              "\n",
              "    .dataframe thead th {\n",
              "        text-align: right;\n",
              "    }\n",
              "</style>\n",
              "<table border=\"1\" class=\"dataframe\">\n",
              "  <thead>\n",
              "    <tr style=\"text-align: right;\">\n",
              "      <th></th>\n",
              "      <th>subgroup</th>\n",
              "      <th>subgroup_size</th>\n",
              "      <th>subgroup_auc</th>\n",
              "      <th>bpsn_auc</th>\n",
              "      <th>bnsp_auc</th>\n",
              "    </tr>\n",
              "  </thead>\n",
              "  <tbody>\n",
              "    <tr>\n",
              "      <th>0</th>\n",
              "      <td>latino</td>\n",
              "      <td>245</td>\n",
              "      <td>0.763230</td>\n",
              "      <td>0.668504</td>\n",
              "      <td>0.884667</td>\n",
              "    </tr>\n",
              "    <tr>\n",
              "      <th>1</th>\n",
              "      <td>transgender</td>\n",
              "      <td>340</td>\n",
              "      <td>0.727344</td>\n",
              "      <td>0.781446</td>\n",
              "      <td>0.762993</td>\n",
              "    </tr>\n",
              "    <tr>\n",
              "      <th>2</th>\n",
              "      <td>asian</td>\n",
              "      <td>514</td>\n",
              "      <td>0.742505</td>\n",
              "      <td>0.733849</td>\n",
              "      <td>0.818869</td>\n",
              "    </tr>\n",
              "    <tr>\n",
              "      <th>3</th>\n",
              "      <td>psychiatric_or_mental_illness</td>\n",
              "      <td>639</td>\n",
              "      <td>0.805775</td>\n",
              "      <td>0.830321</td>\n",
              "      <td>0.784712</td>\n",
              "    </tr>\n",
              "    <tr>\n",
              "      <th>4</th>\n",
              "      <td>jewish</td>\n",
              "      <td>899</td>\n",
              "      <td>0.732394</td>\n",
              "      <td>0.612696</td>\n",
              "      <td>0.891894</td>\n",
              "    </tr>\n",
              "    <tr>\n",
              "      <th>5</th>\n",
              "      <td>homosexual_gay_or_lesbian</td>\n",
              "      <td>1581</td>\n",
              "      <td>0.723626</td>\n",
              "      <td>0.671915</td>\n",
              "      <td>0.854462</td>\n",
              "    </tr>\n",
              "    <tr>\n",
              "      <th>6</th>\n",
              "      <td>black</td>\n",
              "      <td>2353</td>\n",
              "      <td>0.703127</td>\n",
              "      <td>0.633883</td>\n",
              "      <td>0.861104</td>\n",
              "    </tr>\n",
              "    <tr>\n",
              "      <th>7</th>\n",
              "      <td>muslim</td>\n",
              "      <td>2810</td>\n",
              "      <td>0.709023</td>\n",
              "      <td>0.590273</td>\n",
              "      <td>0.892805</td>\n",
              "    </tr>\n",
              "    <tr>\n",
              "      <th>8</th>\n",
              "      <td>white</td>\n",
              "      <td>3736</td>\n",
              "      <td>0.712274</td>\n",
              "      <td>0.597909</td>\n",
              "      <td>0.886143</td>\n",
              "    </tr>\n",
              "    <tr>\n",
              "      <th>9</th>\n",
              "      <td>christian</td>\n",
              "      <td>3785</td>\n",
              "      <td>0.797961</td>\n",
              "      <td>0.756562</td>\n",
              "      <td>0.845823</td>\n",
              "    </tr>\n",
              "    <tr>\n",
              "      <th>10</th>\n",
              "      <td>male</td>\n",
              "      <td>4969</td>\n",
              "      <td>0.747548</td>\n",
              "      <td>0.676959</td>\n",
              "      <td>0.864455</td>\n",
              "    </tr>\n",
              "    <tr>\n",
              "      <th>11</th>\n",
              "      <td>female</td>\n",
              "      <td>5768</td>\n",
              "      <td>0.767883</td>\n",
              "      <td>0.707620</td>\n",
              "      <td>0.858978</td>\n",
              "    </tr>\n",
              "  </tbody>\n",
              "</table>\n",
              "</div>\n",
              "      <button class=\"colab-df-convert\" onclick=\"convertToInteractive('df-bfd14880-5361-44af-bd64-a8cee6152800')\"\n",
              "              title=\"Convert this dataframe to an interactive table.\"\n",
              "              style=\"display:none;\">\n",
              "        \n",
              "  <svg xmlns=\"http://www.w3.org/2000/svg\" height=\"24px\"viewBox=\"0 0 24 24\"\n",
              "       width=\"24px\">\n",
              "    <path d=\"M0 0h24v24H0V0z\" fill=\"none\"/>\n",
              "    <path d=\"M18.56 5.44l.94 2.06.94-2.06 2.06-.94-2.06-.94-.94-2.06-.94 2.06-2.06.94zm-11 1L8.5 8.5l.94-2.06 2.06-.94-2.06-.94L8.5 2.5l-.94 2.06-2.06.94zm10 10l.94 2.06.94-2.06 2.06-.94-2.06-.94-.94-2.06-.94 2.06-2.06.94z\"/><path d=\"M17.41 7.96l-1.37-1.37c-.4-.4-.92-.59-1.43-.59-.52 0-1.04.2-1.43.59L10.3 9.45l-7.72 7.72c-.78.78-.78 2.05 0 2.83L4 21.41c.39.39.9.59 1.41.59.51 0 1.02-.2 1.41-.59l7.78-7.78 2.81-2.81c.8-.78.8-2.07 0-2.86zM5.41 20L4 18.59l7.72-7.72 1.47 1.35L5.41 20z\"/>\n",
              "  </svg>\n",
              "      </button>\n",
              "      \n",
              "  <style>\n",
              "    .colab-df-container {\n",
              "      display:flex;\n",
              "      flex-wrap:wrap;\n",
              "      gap: 12px;\n",
              "    }\n",
              "\n",
              "    .colab-df-convert {\n",
              "      background-color: #E8F0FE;\n",
              "      border: none;\n",
              "      border-radius: 50%;\n",
              "      cursor: pointer;\n",
              "      display: none;\n",
              "      fill: #1967D2;\n",
              "      height: 32px;\n",
              "      padding: 0 0 0 0;\n",
              "      width: 32px;\n",
              "    }\n",
              "\n",
              "    .colab-df-convert:hover {\n",
              "      background-color: #E2EBFA;\n",
              "      box-shadow: 0px 1px 2px rgba(60, 64, 67, 0.3), 0px 1px 3px 1px rgba(60, 64, 67, 0.15);\n",
              "      fill: #174EA6;\n",
              "    }\n",
              "\n",
              "    [theme=dark] .colab-df-convert {\n",
              "      background-color: #3B4455;\n",
              "      fill: #D2E3FC;\n",
              "    }\n",
              "\n",
              "    [theme=dark] .colab-df-convert:hover {\n",
              "      background-color: #434B5C;\n",
              "      box-shadow: 0px 1px 3px 1px rgba(0, 0, 0, 0.15);\n",
              "      filter: drop-shadow(0px 1px 2px rgba(0, 0, 0, 0.3));\n",
              "      fill: #FFFFFF;\n",
              "    }\n",
              "  </style>\n",
              "\n",
              "      <script>\n",
              "        const buttonEl =\n",
              "          document.querySelector('#df-bfd14880-5361-44af-bd64-a8cee6152800 button.colab-df-convert');\n",
              "        buttonEl.style.display =\n",
              "          google.colab.kernel.accessAllowed ? 'block' : 'none';\n",
              "\n",
              "        async function convertToInteractive(key) {\n",
              "          const element = document.querySelector('#df-bfd14880-5361-44af-bd64-a8cee6152800');\n",
              "          const dataTable =\n",
              "            await google.colab.kernel.invokeFunction('convertToInteractive',\n",
              "                                                     [key], {});\n",
              "          if (!dataTable) return;\n",
              "\n",
              "          const docLinkHtml = 'Like what you see? Visit the ' +\n",
              "            '<a target=\"_blank\" href=https://colab.research.google.com/notebooks/data_table.ipynb>data table notebook</a>'\n",
              "            + ' to learn more about interactive tables.';\n",
              "          element.innerHTML = '';\n",
              "          dataTable['output_type'] = 'display_data';\n",
              "          await google.colab.output.renderOutput(dataTable, element);\n",
              "          const docLink = document.createElement('div');\n",
              "          docLink.innerHTML = docLinkHtml;\n",
              "          element.appendChild(docLink);\n",
              "        }\n",
              "      </script>\n",
              "    </div>\n",
              "  </div>\n",
              "  "
            ],
            "text/plain": [
              "                         subgroup  subgroup_size  subgroup_auc  bpsn_auc  \\\n",
              "0                          latino            245      0.763230  0.668504   \n",
              "1                     transgender            340      0.727344  0.781446   \n",
              "2                           asian            514      0.742505  0.733849   \n",
              "3   psychiatric_or_mental_illness            639      0.805775  0.830321   \n",
              "4                          jewish            899      0.732394  0.612696   \n",
              "5       homosexual_gay_or_lesbian           1581      0.723626  0.671915   \n",
              "6                           black           2353      0.703127  0.633883   \n",
              "7                          muslim           2810      0.709023  0.590273   \n",
              "8                           white           3736      0.712274  0.597909   \n",
              "9                       christian           3785      0.797961  0.756562   \n",
              "10                           male           4969      0.747548  0.676959   \n",
              "11                         female           5768      0.767883  0.707620   \n",
              "\n",
              "    bnsp_auc  \n",
              "0   0.884667  \n",
              "1   0.762993  \n",
              "2   0.818869  \n",
              "3   0.784712  \n",
              "4   0.891894  \n",
              "5   0.854462  \n",
              "6   0.861104  \n",
              "7   0.892805  \n",
              "8   0.886143  \n",
              "9   0.845823  \n",
              "10  0.864455  \n",
              "11  0.858978  "
            ]
          },
          "execution_count": 34,
          "metadata": {},
          "output_type": "execute_result"
        }
      ],
      "source": [
        "bias_metrics_df = compute_bias_metrics_for_model(X_te_bias, identity_columns1)\n",
        "bias_metrics_df"
      ]
    },
    {
      "cell_type": "code",
      "execution_count": null,
      "metadata": {
        "colab": {
          "base_uri": "https://localhost:8080/"
        },
        "id": "wGeYj0HdiNzz",
        "outputId": "8f781df1-b570-49fe-8995-9eb09ff4d3f6"
      },
      "outputs": [
        {
          "data": {
            "text/plain": [
              "0.7760749490172429"
            ]
          },
          "execution_count": 35,
          "metadata": {},
          "output_type": "execute_result"
        }
      ],
      "source": [
        "bias_score=score(bias_metrics_df,0.8521)\n",
        "bias_score"
      ]
    },
    {
      "cell_type": "code",
      "execution_count": null,
      "metadata": {
        "colab": {
          "base_uri": "https://localhost:8080/"
        },
        "id": "7raMmpT2pG4y",
        "outputId": "c6853441-b240-4a2e-ab4e-6ef02a54596f"
      },
      "outputs": [
        {
          "name": "stderr",
          "output_type": "stream",
          "text": [
            "/usr/local/lib/python3.7/dist-packages/sklearn/utils/deprecation.py:87: FutureWarning: Function get_feature_names is deprecated; get_feature_names is deprecated in 1.0 and will be removed in 1.2. Please use get_feature_names_out instead.\n",
            "  warnings.warn(msg, category=FutureWarning)\n",
            "100%|██████████| 320871/320871 [01:17<00:00, 4148.58it/s]\n"
          ]
        }
      ],
      "source": [
        "dictionary=dict(zip(vectorizer1.get_feature_names(),list(vectorizer1.idf_)))\n",
        "word_list=set(vectorizer1.get_feature_names())\n",
        "X_train_scraped_w2v=[]\n",
        "count={0}\n",
        "for sentence in tqdm(X_train_scrapped['clean_text']):\n",
        "    vector=np.zeros(300)    \n",
        "    tfidf_weight=0    \n",
        "    l=len(sentence.split())\n",
        "    for word in sentence.split():\n",
        "        if word in glove_words and word in word_list:\n",
        "            count.add(word)\n",
        "            vec=glove[word]               \n",
        "            tfidf=dictionary[word]*(sentence.count(word)/l)            \n",
        "            vector+=(vec*tfidf)            \n",
        "            tfidf_weight+=tfidf\n",
        "    if tfidf_weight !=0:\n",
        "        vector/=tfidf_weight\n",
        "    X_train_scraped_w2v.append(vector)  "
      ]
    },
    {
      "cell_type": "code",
      "execution_count": null,
      "metadata": {
        "colab": {
          "base_uri": "https://localhost:8080/"
        },
        "id": "EwxhTIsn2nTz",
        "outputId": "f8667285-efeb-4ab1-947f-773794cae07f"
      },
      "outputs": [
        {
          "name": "stderr",
          "output_type": "stream",
          "text": [
            "100%|██████████| 165165/165165 [00:39<00:00, 4189.33it/s]\n"
          ]
        }
      ],
      "source": [
        "dictionary=dict(zip(vectorizer1.get_feature_names(),list(vectorizer1.idf_)))\n",
        "word_list=set(vectorizer1.get_feature_names())\n",
        "X_test_scraped_w2v=[]\n",
        "count={0}\n",
        "for sentence in tqdm(X_test['clean_text']):\n",
        "    vector=np.zeros(300)    \n",
        "    tfidf_weight=0    \n",
        "    l=len(sentence.split())\n",
        "    for word in sentence.split():\n",
        "        if word in glove_words and word in word_list:\n",
        "            count.add(word)\n",
        "            vec=glove[word]               \n",
        "            tfidf=dictionary[word]*(sentence.count(word)/l)            \n",
        "            vector+=(vec*tfidf)            \n",
        "            tfidf_weight+=tfidf\n",
        "    if tfidf_weight !=0:\n",
        "        vector/=tfidf_weight\n",
        "    X_test_scraped_w2v.append(vector) "
      ]
    },
    {
      "cell_type": "code",
      "execution_count": null,
      "metadata": {
        "colab": {
          "base_uri": "https://localhost:8080/"
        },
        "id": "nkFkQ-yt2eT-",
        "outputId": "8c4ed1ee-8e98-4b41-8989-13d087034f61"
      },
      "outputs": [
        {
          "data": {
            "text/plain": [
              "GridSearchCV(cv=5, estimator=HistGradientBoostingClassifier(),\n",
              "             param_grid={'max_depth': [4, 5, 6, 7, 8]}, scoring='roc_auc')"
            ]
          },
          "execution_count": 29,
          "metadata": {},
          "output_type": "execute_result"
        }
      ],
      "source": [
        "parameters={'max_depth':[4,5,6,7,8]}\n",
        "clf = HistGradientBoostingClassifier()\n",
        "clf = GridSearchCV(clf, parameters,cv=5,scoring='roc_auc')\n",
        "clf.fit(X_train_scraped_w2v,y_train_scraped)"
      ]
    },
    {
      "cell_type": "code",
      "execution_count": null,
      "metadata": {
        "colab": {
          "base_uri": "https://localhost:8080/"
        },
        "id": "9-ccl0XMoWwV",
        "outputId": "2884515f-38c7-4425-ecb6-0827bae25f7f"
      },
      "outputs": [
        {
          "data": {
            "text/plain": [
              "HistGradientBoostingClassifier(max_depth=8)"
            ]
          },
          "execution_count": 30,
          "metadata": {},
          "output_type": "execute_result"
        }
      ],
      "source": [
        "clf.best_estimator_"
      ]
    },
    {
      "cell_type": "code",
      "execution_count": null,
      "metadata": {
        "id": "dHyJXTwOr21r"
      },
      "outputs": [],
      "source": [
        "clf = HistGradientBoostingClassifier(max_depth=8)\n",
        "clf.fit(X_train_scraped_w2v,y_train_scraped)\n",
        "Y_pred_tr=clf.predict_proba(X_train_scraped_w2v)"
      ]
    },
    {
      "cell_type": "code",
      "execution_count": null,
      "metadata": {
        "id": "94gdFzdn1Pg5"
      },
      "outputs": [],
      "source": [
        "Y_pred_te=clf.predict_proba(X_test_scraped_w2v)"
      ]
    },
    {
      "cell_type": "code",
      "execution_count": null,
      "metadata": {
        "colab": {
          "base_uri": "https://localhost:8080/"
        },
        "id": "HGE-VnTQyr4l",
        "outputId": "1a96727a-5c4c-47ba-85ba-6221615d6104"
      },
      "outputs": [
        {
          "data": {
            "text/plain": [
              "0.8827457462430206"
            ]
          },
          "execution_count": 39,
          "metadata": {},
          "output_type": "execute_result"
        }
      ],
      "source": [
        "roc_auc_score(y_train_scraped, Y_pred_tr[:,1])"
      ]
    },
    {
      "cell_type": "code",
      "execution_count": null,
      "metadata": {
        "colab": {
          "base_uri": "https://localhost:8080/"
        },
        "id": "7RvXFzY-ydCn",
        "outputId": "f1d423cf-73d2-4a44-a6cf-7f8a1be0413e"
      },
      "outputs": [
        {
          "data": {
            "text/plain": [
              "0.8520936277352503"
            ]
          },
          "execution_count": 40,
          "metadata": {},
          "output_type": "execute_result"
        }
      ],
      "source": [
        "roc_auc_score(y_test, Y_pred_te[:,1])"
      ]
    },
    {
      "cell_type": "code",
      "execution_count": null,
      "metadata": {
        "colab": {
          "base_uri": "https://localhost:8080/"
        },
        "id": "wAIFA_Mu162Z",
        "outputId": "5f245b12-3dc2-4330-cbf9-c2af9d377e76"
      },
      "outputs": [
        {
          "name": "stderr",
          "output_type": "stream",
          "text": [
            "/usr/local/lib/python3.7/dist-packages/ipykernel_launcher.py:2: SettingWithCopyWarning: \n",
            "A value is trying to be set on a copy of a slice from a DataFrame.\n",
            "Try using .loc[row_indexer,col_indexer] = value instead\n",
            "\n",
            "See the caveats in the documentation: https://pandas.pydata.org/pandas-docs/stable/user_guide/indexing.html#returning-a-view-versus-a-copy\n",
            "  \n",
            "/usr/local/lib/python3.7/dist-packages/ipykernel_launcher.py:3: SettingWithCopyWarning: \n",
            "A value is trying to be set on a copy of a slice from a DataFrame.\n",
            "Try using .loc[row_indexer,col_indexer] = value instead\n",
            "\n",
            "See the caveats in the documentation: https://pandas.pydata.org/pandas-docs/stable/user_guide/indexing.html#returning-a-view-versus-a-copy\n",
            "  This is separate from the ipykernel package so we can avoid doing imports until\n"
          ]
        }
      ],
      "source": [
        "X_te_bias=X_test_scraped[identity_columns]\n",
        "X_te_bias['y_pred']=Y_pred_te[:,1]\n",
        "X_te_bias['y']=y_test"
      ]
    },
    {
      "cell_type": "code",
      "execution_count": null,
      "metadata": {
        "colab": {
          "base_uri": "https://localhost:8080/",
          "height": 426
        },
        "id": "NOWY-Vs-10TZ",
        "outputId": "23165a0f-aa4a-4776-dd14-70ffd160f2b9"
      },
      "outputs": [
        {
          "data": {
            "text/html": [
              "\n",
              "  <div id=\"df-303ea2c8-3616-4c38-93bc-05a0fb501a90\">\n",
              "    <div class=\"colab-df-container\">\n",
              "      <div>\n",
              "<style scoped>\n",
              "    .dataframe tbody tr th:only-of-type {\n",
              "        vertical-align: middle;\n",
              "    }\n",
              "\n",
              "    .dataframe tbody tr th {\n",
              "        vertical-align: top;\n",
              "    }\n",
              "\n",
              "    .dataframe thead th {\n",
              "        text-align: right;\n",
              "    }\n",
              "</style>\n",
              "<table border=\"1\" class=\"dataframe\">\n",
              "  <thead>\n",
              "    <tr style=\"text-align: right;\">\n",
              "      <th></th>\n",
              "      <th>subgroup</th>\n",
              "      <th>subgroup_size</th>\n",
              "      <th>subgroup_auc</th>\n",
              "      <th>bpsn_auc</th>\n",
              "      <th>bnsp_auc</th>\n",
              "    </tr>\n",
              "  </thead>\n",
              "  <tbody>\n",
              "    <tr>\n",
              "      <th>0</th>\n",
              "      <td>latino</td>\n",
              "      <td>198</td>\n",
              "      <td>0.759318</td>\n",
              "      <td>0.710047</td>\n",
              "      <td>0.890941</td>\n",
              "    </tr>\n",
              "    <tr>\n",
              "      <th>1</th>\n",
              "      <td>transgender</td>\n",
              "      <td>254</td>\n",
              "      <td>0.735246</td>\n",
              "      <td>0.814572</td>\n",
              "      <td>0.783749</td>\n",
              "    </tr>\n",
              "    <tr>\n",
              "      <th>2</th>\n",
              "      <td>asian</td>\n",
              "      <td>332</td>\n",
              "      <td>0.795904</td>\n",
              "      <td>0.779590</td>\n",
              "      <td>0.868160</td>\n",
              "    </tr>\n",
              "    <tr>\n",
              "      <th>3</th>\n",
              "      <td>psychiatric_or_mental_illness</td>\n",
              "      <td>502</td>\n",
              "      <td>0.756110</td>\n",
              "      <td>0.801848</td>\n",
              "      <td>0.815547</td>\n",
              "    </tr>\n",
              "    <tr>\n",
              "      <th>4</th>\n",
              "      <td>jewish</td>\n",
              "      <td>647</td>\n",
              "      <td>0.747204</td>\n",
              "      <td>0.720878</td>\n",
              "      <td>0.874166</td>\n",
              "    </tr>\n",
              "    <tr>\n",
              "      <th>5</th>\n",
              "      <td>homosexual_gay_or_lesbian</td>\n",
              "      <td>1339</td>\n",
              "      <td>0.715342</td>\n",
              "      <td>0.733147</td>\n",
              "      <td>0.845361</td>\n",
              "    </tr>\n",
              "    <tr>\n",
              "      <th>6</th>\n",
              "      <td>black</td>\n",
              "      <td>2034</td>\n",
              "      <td>0.713714</td>\n",
              "      <td>0.647084</td>\n",
              "      <td>0.894949</td>\n",
              "    </tr>\n",
              "    <tr>\n",
              "      <th>7</th>\n",
              "      <td>muslim</td>\n",
              "      <td>2221</td>\n",
              "      <td>0.742333</td>\n",
              "      <td>0.677204</td>\n",
              "      <td>0.895699</td>\n",
              "    </tr>\n",
              "    <tr>\n",
              "      <th>9</th>\n",
              "      <td>christian</td>\n",
              "      <td>2554</td>\n",
              "      <td>0.822677</td>\n",
              "      <td>0.850253</td>\n",
              "      <td>0.825847</td>\n",
              "    </tr>\n",
              "    <tr>\n",
              "      <th>8</th>\n",
              "      <td>white</td>\n",
              "      <td>3055</td>\n",
              "      <td>0.719175</td>\n",
              "      <td>0.632638</td>\n",
              "      <td>0.903999</td>\n",
              "    </tr>\n",
              "    <tr>\n",
              "      <th>10</th>\n",
              "      <td>male</td>\n",
              "      <td>3631</td>\n",
              "      <td>0.795450</td>\n",
              "      <td>0.745039</td>\n",
              "      <td>0.889024</td>\n",
              "    </tr>\n",
              "    <tr>\n",
              "      <th>11</th>\n",
              "      <td>female</td>\n",
              "      <td>4186</td>\n",
              "      <td>0.801260</td>\n",
              "      <td>0.757895</td>\n",
              "      <td>0.885915</td>\n",
              "    </tr>\n",
              "  </tbody>\n",
              "</table>\n",
              "</div>\n",
              "      <button class=\"colab-df-convert\" onclick=\"convertToInteractive('df-303ea2c8-3616-4c38-93bc-05a0fb501a90')\"\n",
              "              title=\"Convert this dataframe to an interactive table.\"\n",
              "              style=\"display:none;\">\n",
              "        \n",
              "  <svg xmlns=\"http://www.w3.org/2000/svg\" height=\"24px\"viewBox=\"0 0 24 24\"\n",
              "       width=\"24px\">\n",
              "    <path d=\"M0 0h24v24H0V0z\" fill=\"none\"/>\n",
              "    <path d=\"M18.56 5.44l.94 2.06.94-2.06 2.06-.94-2.06-.94-.94-2.06-.94 2.06-2.06.94zm-11 1L8.5 8.5l.94-2.06 2.06-.94-2.06-.94L8.5 2.5l-.94 2.06-2.06.94zm10 10l.94 2.06.94-2.06 2.06-.94-2.06-.94-.94-2.06-.94 2.06-2.06.94z\"/><path d=\"M17.41 7.96l-1.37-1.37c-.4-.4-.92-.59-1.43-.59-.52 0-1.04.2-1.43.59L10.3 9.45l-7.72 7.72c-.78.78-.78 2.05 0 2.83L4 21.41c.39.39.9.59 1.41.59.51 0 1.02-.2 1.41-.59l7.78-7.78 2.81-2.81c.8-.78.8-2.07 0-2.86zM5.41 20L4 18.59l7.72-7.72 1.47 1.35L5.41 20z\"/>\n",
              "  </svg>\n",
              "      </button>\n",
              "      \n",
              "  <style>\n",
              "    .colab-df-container {\n",
              "      display:flex;\n",
              "      flex-wrap:wrap;\n",
              "      gap: 12px;\n",
              "    }\n",
              "\n",
              "    .colab-df-convert {\n",
              "      background-color: #E8F0FE;\n",
              "      border: none;\n",
              "      border-radius: 50%;\n",
              "      cursor: pointer;\n",
              "      display: none;\n",
              "      fill: #1967D2;\n",
              "      height: 32px;\n",
              "      padding: 0 0 0 0;\n",
              "      width: 32px;\n",
              "    }\n",
              "\n",
              "    .colab-df-convert:hover {\n",
              "      background-color: #E2EBFA;\n",
              "      box-shadow: 0px 1px 2px rgba(60, 64, 67, 0.3), 0px 1px 3px 1px rgba(60, 64, 67, 0.15);\n",
              "      fill: #174EA6;\n",
              "    }\n",
              "\n",
              "    [theme=dark] .colab-df-convert {\n",
              "      background-color: #3B4455;\n",
              "      fill: #D2E3FC;\n",
              "    }\n",
              "\n",
              "    [theme=dark] .colab-df-convert:hover {\n",
              "      background-color: #434B5C;\n",
              "      box-shadow: 0px 1px 3px 1px rgba(0, 0, 0, 0.15);\n",
              "      filter: drop-shadow(0px 1px 2px rgba(0, 0, 0, 0.3));\n",
              "      fill: #FFFFFF;\n",
              "    }\n",
              "  </style>\n",
              "\n",
              "      <script>\n",
              "        const buttonEl =\n",
              "          document.querySelector('#df-303ea2c8-3616-4c38-93bc-05a0fb501a90 button.colab-df-convert');\n",
              "        buttonEl.style.display =\n",
              "          google.colab.kernel.accessAllowed ? 'block' : 'none';\n",
              "\n",
              "        async function convertToInteractive(key) {\n",
              "          const element = document.querySelector('#df-303ea2c8-3616-4c38-93bc-05a0fb501a90');\n",
              "          const dataTable =\n",
              "            await google.colab.kernel.invokeFunction('convertToInteractive',\n",
              "                                                     [key], {});\n",
              "          if (!dataTable) return;\n",
              "\n",
              "          const docLinkHtml = 'Like what you see? Visit the ' +\n",
              "            '<a target=\"_blank\" href=https://colab.research.google.com/notebooks/data_table.ipynb>data table notebook</a>'\n",
              "            + ' to learn more about interactive tables.';\n",
              "          element.innerHTML = '';\n",
              "          dataTable['output_type'] = 'display_data';\n",
              "          await google.colab.output.renderOutput(dataTable, element);\n",
              "          const docLink = document.createElement('div');\n",
              "          docLink.innerHTML = docLinkHtml;\n",
              "          element.appendChild(docLink);\n",
              "        }\n",
              "      </script>\n",
              "    </div>\n",
              "  </div>\n",
              "  "
            ],
            "text/plain": [
              "                         subgroup  subgroup_size  subgroup_auc  bpsn_auc  \\\n",
              "0                          latino            198      0.759318  0.710047   \n",
              "1                     transgender            254      0.735246  0.814572   \n",
              "2                           asian            332      0.795904  0.779590   \n",
              "3   psychiatric_or_mental_illness            502      0.756110  0.801848   \n",
              "4                          jewish            647      0.747204  0.720878   \n",
              "5       homosexual_gay_or_lesbian           1339      0.715342  0.733147   \n",
              "6                           black           2034      0.713714  0.647084   \n",
              "7                          muslim           2221      0.742333  0.677204   \n",
              "9                       christian           2554      0.822677  0.850253   \n",
              "8                           white           3055      0.719175  0.632638   \n",
              "10                           male           3631      0.795450  0.745039   \n",
              "11                         female           4186      0.801260  0.757895   \n",
              "\n",
              "    bnsp_auc  \n",
              "0   0.890941  \n",
              "1   0.783749  \n",
              "2   0.868160  \n",
              "3   0.815547  \n",
              "4   0.874166  \n",
              "5   0.845361  \n",
              "6   0.894949  \n",
              "7   0.895699  \n",
              "9   0.825847  \n",
              "8   0.903999  \n",
              "10  0.889024  \n",
              "11  0.885915  "
            ]
          },
          "execution_count": 47,
          "metadata": {},
          "output_type": "execute_result"
        }
      ],
      "source": [
        "bias_metrics_df = compute_bias_metrics_for_model(X_te_bias, identity_columns1)\n",
        "bias_metrics_df"
      ]
    },
    {
      "cell_type": "code",
      "execution_count": null,
      "metadata": {
        "colab": {
          "base_uri": "https://localhost:8080/"
        },
        "id": "VuZdk8fR1_3l",
        "outputId": "a4b65604-a6e3-4571-9bc7-8571b1b91c97"
      },
      "outputs": [
        {
          "data": {
            "text/plain": [
              "0.7969099640313553"
            ]
          },
          "execution_count": 49,
          "metadata": {},
          "output_type": "execute_result"
        }
      ],
      "source": [
        "bias_score=score(bias_metrics_df,0.852)\n",
        "bias_score"
      ]
    },
    {
      "cell_type": "code",
      "execution_count": null,
      "metadata": {
        "colab": {
          "base_uri": "https://localhost:8080/"
        },
        "id": "dB64EGCWjBfK",
        "outputId": "c1a1de39-e3e8-4bb0-ce30-36af51859745"
      },
      "outputs": [
        {
          "data": {
            "text/plain": [
              "GridSearchCV(cv=5, estimator=LogisticRegression(random_state=42, solver='saga'),\n",
              "             param_grid={'C': [0.0001, 0.001, 0.01, 1, 10, 100]},\n",
              "             scoring='roc_auc')"
            ]
          },
          "execution_count": 21,
          "metadata": {},
          "output_type": "execute_result"
        }
      ],
      "source": [
        "from sklearn.linear_model import LogisticRegression\n",
        "parameters={'C':[0.0001,0.001,0.01,1,10,100]}\n",
        "clf = LogisticRegression(solver='saga',random_state=42)\n",
        "clf = GridSearchCV(clf, parameters,cv=5,scoring='roc_auc')\n",
        "clf.fit(X_train_scraped_w2v,y_train_scraped)"
      ]
    },
    {
      "cell_type": "code",
      "execution_count": null,
      "metadata": {
        "colab": {
          "base_uri": "https://localhost:8080/"
        },
        "id": "0kf6jnt8kdrP",
        "outputId": "97c714e9-dce1-4fe9-80de-50775f34a6f1"
      },
      "outputs": [
        {
          "data": {
            "text/plain": [
              "LogisticRegression(C=1, random_state=42, solver='saga')"
            ]
          },
          "execution_count": 24,
          "metadata": {},
          "output_type": "execute_result"
        }
      ],
      "source": [
        "clf.best_estimator_"
      ]
    },
    {
      "cell_type": "code",
      "execution_count": null,
      "metadata": {
        "id": "VXeBQY47jt4Q"
      },
      "outputs": [],
      "source": [
        "clf=LogisticRegression(C=1, random_state=42, solver='saga')\n",
        "clf.fit(X_train_scraped_w2v,y_train_scraped)\n",
        "Y_pred_tr=clf.predict_proba(X_train_scraped_w2v)"
      ]
    },
    {
      "cell_type": "code",
      "execution_count": null,
      "metadata": {
        "id": "9H8mxSd2jt8R"
      },
      "outputs": [],
      "source": [
        "Y_pred_te=clf.predict_proba(X_test_scraped_w2v)"
      ]
    },
    {
      "cell_type": "code",
      "execution_count": null,
      "metadata": {
        "colab": {
          "base_uri": "https://localhost:8080/"
        },
        "id": "ygZH6u-_juBg",
        "outputId": "315e481d-ab09-4e56-caa9-c63c8aa4832a"
      },
      "outputs": [
        {
          "data": {
            "text/plain": [
              "0.8565867798764764"
            ]
          },
          "execution_count": 27,
          "metadata": {},
          "output_type": "execute_result"
        }
      ],
      "source": [
        "roc_auc_score(y_train_scraped, Y_pred_tr[:,1])"
      ]
    },
    {
      "cell_type": "code",
      "execution_count": null,
      "metadata": {
        "colab": {
          "base_uri": "https://localhost:8080/"
        },
        "id": "uDzzElBQjuF5",
        "outputId": "5ae38d0a-897b-4197-ccb7-04cf09a4e7c2"
      },
      "outputs": [
        {
          "data": {
            "text/plain": [
              "0.8510600862512072"
            ]
          },
          "execution_count": 28,
          "metadata": {},
          "output_type": "execute_result"
        }
      ],
      "source": [
        "roc_auc_score(y_test, Y_pred_te[:,1])"
      ]
    },
    {
      "cell_type": "code",
      "execution_count": null,
      "metadata": {
        "colab": {
          "base_uri": "https://localhost:8080/"
        },
        "id": "VQwXpE52juIm",
        "outputId": "e1aca031-c6d5-45e4-b142-0dbf6f73df2e"
      },
      "outputs": [
        {
          "name": "stderr",
          "output_type": "stream",
          "text": [
            "/usr/local/lib/python3.7/dist-packages/ipykernel_launcher.py:2: SettingWithCopyWarning: \n",
            "A value is trying to be set on a copy of a slice from a DataFrame.\n",
            "Try using .loc[row_indexer,col_indexer] = value instead\n",
            "\n",
            "See the caveats in the documentation: https://pandas.pydata.org/pandas-docs/stable/user_guide/indexing.html#returning-a-view-versus-a-copy\n",
            "  \n",
            "/usr/local/lib/python3.7/dist-packages/ipykernel_launcher.py:3: SettingWithCopyWarning: \n",
            "A value is trying to be set on a copy of a slice from a DataFrame.\n",
            "Try using .loc[row_indexer,col_indexer] = value instead\n",
            "\n",
            "See the caveats in the documentation: https://pandas.pydata.org/pandas-docs/stable/user_guide/indexing.html#returning-a-view-versus-a-copy\n",
            "  This is separate from the ipykernel package so we can avoid doing imports until\n"
          ]
        }
      ],
      "source": [
        "X_te_bias=X_test[identity_columns]\n",
        "X_te_bias['y_pred']=Y_pred_te[:,1]\n",
        "X_te_bias['y']=y_test"
      ]
    },
    {
      "cell_type": "code",
      "execution_count": null,
      "metadata": {
        "colab": {
          "base_uri": "https://localhost:8080/",
          "height": 183
        },
        "id": "uSK2LVIXjuMI",
        "outputId": "6fcc694f-76c1-44fd-cd59-95e8e44af34f"
      },
      "outputs": [
        {
          "ename": "NameError",
          "evalue": "ignored",
          "output_type": "error",
          "traceback": [
            "\u001b[0;31m---------------------------------------------------------------------------\u001b[0m",
            "\u001b[0;31mNameError\u001b[0m                                 Traceback (most recent call last)",
            "\u001b[0;32m<ipython-input-33-53633b6600ce>\u001b[0m in \u001b[0;36m<module>\u001b[0;34m\u001b[0m\n\u001b[0;32m----> 1\u001b[0;31m \u001b[0mbias_metrics_df\u001b[0m \u001b[0;34m=\u001b[0m \u001b[0mcompute_bias_metrics_for_model\u001b[0m\u001b[0;34m(\u001b[0m\u001b[0mX_te_bias\u001b[0m\u001b[0;34m,\u001b[0m \u001b[0midentity_columns1\u001b[0m\u001b[0;34m)\u001b[0m\u001b[0;34m\u001b[0m\u001b[0;34m\u001b[0m\u001b[0m\n\u001b[0m\u001b[1;32m      2\u001b[0m \u001b[0mbias_metrics_df\u001b[0m\u001b[0;34m\u001b[0m\u001b[0;34m\u001b[0m\u001b[0m\n",
            "\u001b[0;31mNameError\u001b[0m: name 'compute_bias_metrics_for_model' is not defined"
          ]
        }
      ],
      "source": [
        "bias_metrics_df = compute_bias_metrics_for_model(X_te_bias, identity_columns1)\n",
        "bias_metrics_df"
      ]
    },
    {
      "cell_type": "code",
      "execution_count": null,
      "metadata": {
        "colab": {
          "base_uri": "https://localhost:8080/"
        },
        "id": "BeNyFvasjuRV",
        "outputId": "15c6ee70-b0be-45bf-d39e-b29455d9c844"
      },
      "outputs": [
        {
          "data": {
            "text/plain": [
              "0.8102160379072746"
            ]
          },
          "execution_count": 35,
          "metadata": {},
          "output_type": "execute_result"
        }
      ],
      "source": [
        "bias_score=score(bias_metrics_df,0.851)\n",
        "bias_score"
      ]
    },
    {
      "cell_type": "code",
      "execution_count": null,
      "metadata": {
        "colab": {
          "base_uri": "https://localhost:8080/"
        },
        "id": "DvqLK_X1juWa",
        "outputId": "2c78f7cd-53f8-4597-bd79-3c3d4177f42f"
      },
      "outputs": [
        {
          "data": {
            "text/plain": [
              "GridSearchCV(cv=5, estimator=RandomForestClassifier(n_jobs=-1, random_state=0),\n",
              "             param_grid={'max_depth': [3, 4, 5, 6],\n",
              "                         'max_samples': [0.4, 0.5, 0.7],\n",
              "                         'n_estimators': [10, 20, 30]},\n",
              "             scoring='roc_auc')"
            ]
          },
          "execution_count": 25,
          "metadata": {},
          "output_type": "execute_result"
        }
      ],
      "source": [
        "from sklearn.ensemble import RandomForestClassifier\n",
        "parameters={'n_estimators':[10,20,30],'max_depth':[3,4,5,6],'max_samples':[0.4,0.5,0.7]}\n",
        "clf = RandomForestClassifier(n_jobs=-1, random_state=0)\n",
        "clf = GridSearchCV(clf, parameters,cv=5,scoring='roc_auc')\n",
        "clf.fit(X_train_scraped_w2v,y_train_scraped)"
      ]
    },
    {
      "cell_type": "code",
      "execution_count": null,
      "metadata": {
        "colab": {
          "base_uri": "https://localhost:8080/"
        },
        "id": "uryzwXIrjuZZ",
        "outputId": "efe408a1-58ac-453b-a2c8-9cbc1094b202"
      },
      "outputs": [
        {
          "data": {
            "text/plain": [
              "RandomForestClassifier(max_depth=6, max_samples=0.5, n_estimators=30, n_jobs=-1,\n",
              "                       random_state=0)"
            ]
          },
          "execution_count": 26,
          "metadata": {},
          "output_type": "execute_result"
        }
      ],
      "source": [
        "clf.best_estimator_"
      ]
    },
    {
      "cell_type": "code",
      "execution_count": null,
      "metadata": {
        "id": "ylTJBNTNoL4H"
      },
      "outputs": [],
      "source": [
        "clf=RandomForestClassifier(max_depth=6, max_samples=0.5, n_estimators=30, n_jobs=-1,\n",
        "                       random_state=0)\n",
        "clf.fit(X_train_scraped_w2v,y_train_scraped)\n",
        "Y_pred_tr=clf.predict_proba(X_train_scraped_w2v)"
      ]
    },
    {
      "cell_type": "code",
      "execution_count": null,
      "metadata": {
        "id": "xUoTofb9BsYi"
      },
      "outputs": [],
      "source": [
        "Y_pred_te=clf.predict_proba(X_test_scraped_w2v)"
      ]
    },
    {
      "cell_type": "code",
      "execution_count": null,
      "metadata": {
        "colab": {
          "base_uri": "https://localhost:8080/"
        },
        "id": "WSk_f86bBx-y",
        "outputId": "0066c403-78ff-4083-9b7b-c916c84f7e5c"
      },
      "outputs": [
        {
          "data": {
            "text/plain": [
              "0.8224430145048388"
            ]
          },
          "execution_count": 30,
          "metadata": {},
          "output_type": "execute_result"
        }
      ],
      "source": [
        "roc_auc_score(y_train_scraped, Y_pred_tr[:,1])"
      ]
    },
    {
      "cell_type": "code",
      "execution_count": null,
      "metadata": {
        "colab": {
          "base_uri": "https://localhost:8080/"
        },
        "id": "vT_LofXOB3MV",
        "outputId": "87ca3001-86a0-4a22-bf9d-3fdbb14cdba0"
      },
      "outputs": [
        {
          "data": {
            "text/plain": [
              "0.8116417374113483"
            ]
          },
          "execution_count": 31,
          "metadata": {},
          "output_type": "execute_result"
        }
      ],
      "source": [
        "roc_auc_score(y_test, Y_pred_te[:,1])"
      ]
    },
    {
      "cell_type": "code",
      "execution_count": null,
      "metadata": {
        "colab": {
          "base_uri": "https://localhost:8080/"
        },
        "id": "0VK5RxSqB_gt",
        "outputId": "7d8e035a-9211-4872-e14f-473c799b7cf6"
      },
      "outputs": [
        {
          "name": "stderr",
          "output_type": "stream",
          "text": [
            "/usr/local/lib/python3.7/dist-packages/ipykernel_launcher.py:2: SettingWithCopyWarning: \n",
            "A value is trying to be set on a copy of a slice from a DataFrame.\n",
            "Try using .loc[row_indexer,col_indexer] = value instead\n",
            "\n",
            "See the caveats in the documentation: https://pandas.pydata.org/pandas-docs/stable/user_guide/indexing.html#returning-a-view-versus-a-copy\n",
            "  \n",
            "/usr/local/lib/python3.7/dist-packages/ipykernel_launcher.py:3: SettingWithCopyWarning: \n",
            "A value is trying to be set on a copy of a slice from a DataFrame.\n",
            "Try using .loc[row_indexer,col_indexer] = value instead\n",
            "\n",
            "See the caveats in the documentation: https://pandas.pydata.org/pandas-docs/stable/user_guide/indexing.html#returning-a-view-versus-a-copy\n",
            "  This is separate from the ipykernel package so we can avoid doing imports until\n"
          ]
        }
      ],
      "source": [
        "X_te_bias=X_test[identity_columns]\n",
        "X_te_bias['y_pred']=Y_pred_te[:,1]\n",
        "X_te_bias['y']=y_test"
      ]
    },
    {
      "cell_type": "code",
      "execution_count": null,
      "metadata": {
        "id": "9cTu5UYMCCsc"
      },
      "outputs": [],
      "source": [
        "bias_metrics_df = compute_bias_metrics_for_model(X_te_bias, identity_columns1)\n",
        "bias_metrics_df"
      ]
    },
    {
      "cell_type": "code",
      "execution_count": null,
      "metadata": {
        "colab": {
          "base_uri": "https://localhost:8080/"
        },
        "id": "rxw_Mi2qCSsw",
        "outputId": "96073be8-ef03-434d-bcc2-a5616cf1ae71"
      },
      "outputs": [
        {
          "data": {
            "text/plain": [
              "0.765481959446413"
            ]
          },
          "execution_count": 43,
          "metadata": {},
          "output_type": "execute_result"
        }
      ],
      "source": [
        "bias_score=score(bias_metrics_df,0.81164)\n",
        "bias_score"
      ]
    },
    {
      "cell_type": "code",
      "execution_count": null,
      "metadata": {
        "id": "zoyjjKyJUj9w"
      },
      "outputs": [],
      "source": [
        "import tensorflow as tf\n",
        "from keras.preprocessing.text import Tokenizer\n",
        "tokenizer=Tokenizer(\n",
        "    num_words=None,\n",
        "    lower=True,\n",
        "    split=' ',\n",
        "    char_level=False,\n",
        "    oov_token=None\n",
        ")\n",
        "tokenizer.fit_on_texts(\n",
        "    X_train['clean_text']\n",
        ")"
      ]
    },
    {
      "cell_type": "code",
      "execution_count": null,
      "metadata": {
        "id": "-ayK4RFUVlza"
      },
      "outputs": [],
      "source": [
        "X_tr=tokenizer.texts_to_sequences(X_train['clean_text'])\n",
        "X_te=tokenizer.texts_to_sequences(X_test['clean_text'])"
      ]
    },
    {
      "cell_type": "code",
      "execution_count": null,
      "metadata": {
        "id": "YilUV1mTYjHn"
      },
      "outputs": [],
      "source": [
        "X_tr=tf.keras.preprocessing.sequence.pad_sequences(X_tr,maxlen=500,truncating='post',dtype='int32',padding='post',value=0)\n",
        "X_te=tf.keras.preprocessing.sequence.pad_sequences(X_te,maxlen=500,truncating='post',dtype='int32',padding='post',value=0)"
      ]
    },
    {
      "cell_type": "code",
      "execution_count": null,
      "metadata": {
        "id": "lp2D70fdfGkS"
      },
      "outputs": [],
      "source": [
        "v=0\n",
        "vocab_size=len(tokenizer.word_index) + 1\n",
        "embedding_matrix=np.zeros((vocab_size,300))\n",
        "for word, i in tokenizer.word_index.items():\n",
        "    embedding_vector=glove.get(word)\n",
        "    if embedding_vector is not None:\n",
        "        v=v+1\n",
        "        embedding_matrix[i]=embedding_vector"
      ]
    },
    {
      "cell_type": "code",
      "execution_count": null,
      "metadata": {
        "colab": {
          "base_uri": "https://localhost:8080/"
        },
        "id": "hkRpLBN3kazs",
        "outputId": "082a20a1-79de-49a2-e2c8-65b0b91e18f7"
      },
      "outputs": [
        {
          "data": {
            "text/plain": [
              "71293"
            ]
          },
          "execution_count": 26,
          "metadata": {},
          "output_type": "execute_result"
        }
      ],
      "source": [
        "v"
      ]
    },
    {
      "cell_type": "code",
      "execution_count": null,
      "metadata": {
        "id": "F3qYNoRgkY3Q"
      },
      "outputs": [],
      "source": [
        "vocab_size=len(tokenizer.word_index) + 1\n",
        "vocab_size"
      ]
    },
    {
      "cell_type": "code",
      "execution_count": null,
      "metadata": {
        "colab": {
          "base_uri": "https://localhost:8080/"
        },
        "id": "jvWwlBIKgzrv",
        "outputId": "7f1a3da1-f771-44d0-dd74-bb925783cb50"
      },
      "outputs": [
        {
          "data": {
            "text/plain": [
              "0.5283663502086251"
            ]
          },
          "execution_count": 28,
          "metadata": {},
          "output_type": "execute_result"
        }
      ],
      "source": [
        "v/vocab_size"
      ]
    },
    {
      "cell_type": "code",
      "execution_count": null,
      "metadata": {
        "id": "lFh7gvO3va_U"
      },
      "outputs": [],
      "source": [
        "from tensorflow.keras.callbacks import EarlyStopping\n",
        "earlystop = EarlyStopping(monitor='val_auc', min_delta=0.002, patience=2, verbose=1)\n",
        "call=[earlystop]"
      ]
    },
    {
      "cell_type": "code",
      "execution_count": null,
      "metadata": {
        "id": "FkF8GghriHq-"
      },
      "outputs": [],
      "source": [
        "from tensorflow.keras.models import Model\n",
        "from tensorflow.keras.layers import Input,Dense,LSTM\n",
        "from tensorflow.keras import regularizers\n",
        "from tensorflow.keras.layers import BatchNormalization\n",
        "from tensorflow.keras import initializers\n",
        "input_layer = Input(shape=(500))\n",
        "embd=tf.keras.layers.Embedding(vocab_size,300,\n",
        "                               weights=[embedding_matrix],\n",
        "                               input_length=500,trainable=False)(input_layer)\n",
        "dr1=tf.keras.layers.Dropout(0.2)(embd)\n",
        "lstm=tf.keras.layers.LSTM(100)(dr1)\n",
        "output_layer=tf.keras.layers.Dense(1,activation='sigmoid')(lstm)     \n",
        "\n",
        "model = Model(inputs=input_layer, outputs=output_layer)\n",
        "\n",
        "\n",
        "## defining the optimiser and loss function\n",
        "ad=tf.keras.optimizers.Adam(\n",
        "    learning_rate=0.00001,\n",
        "    beta_1=0.9,\n",
        "    beta_2=0.999,\n",
        "    epsilon=1e-07,\n",
        "    amsgrad=False,\n",
        "    name=\"Adam\"\n",
        ")\n",
        "model.compile(optimizer=ad,\n",
        "              loss='BinaryCrossentropy',\n",
        "              metrics=['AUC'])"
      ]
    },
    {
      "cell_type": "code",
      "execution_count": null,
      "metadata": {
        "colab": {
          "base_uri": "https://localhost:8080/"
        },
        "id": "DvDW9twNn0gZ",
        "outputId": "854b96e6-a440-428c-b035-cc18d2f5b401"
      },
      "outputs": [
        {
          "name": "stdout",
          "output_type": "stream",
          "text": [
            "Model: \"model_1\"\n",
            "_________________________________________________________________\n",
            " Layer (type)                Output Shape              Param #   \n",
            "=================================================================\n",
            " input_2 (InputLayer)        [(None, 500)]             0         \n",
            "                                                                 \n",
            " embedding_1 (Embedding)     (None, 500, 300)          40479300  \n",
            "                                                                 \n",
            " dropout_1 (Dropout)         (None, 500, 300)          0         \n",
            "                                                                 \n",
            " lstm_1 (LSTM)               (None, 100)               160400    \n",
            "                                                                 \n",
            " dense_1 (Dense)             (None, 1)                 101       \n",
            "                                                                 \n",
            "=================================================================\n",
            "Total params: 40,639,801\n",
            "Trainable params: 160,501\n",
            "Non-trainable params: 40,479,300\n",
            "_________________________________________________________________\n"
          ]
        }
      ],
      "source": [
        "model.summary()"
      ]
    },
    {
      "cell_type": "code",
      "execution_count": null,
      "metadata": {
        "colab": {
          "base_uri": "https://localhost:8080/"
        },
        "id": "e0pzM1Pjm2KR",
        "outputId": "8bcdfd9f-3102-420b-8cc0-9b7755a52fee"
      },
      "outputs": [
        {
          "name": "stdout",
          "output_type": "stream",
          "text": [
            "Epoch 1/30\n",
            "2397/2397 [==============================] - 124s 51ms/step - loss: 0.5869 - auc: 0.6382 - val_loss: 0.5346 - val_auc: 0.8092\n",
            "Epoch 2/30\n",
            "2397/2397 [==============================] - 121s 50ms/step - loss: 0.5048 - auc: 0.7856 - val_loss: 0.4699 - val_auc: 0.8291\n",
            "Epoch 3/30\n",
            "2397/2397 [==============================] - 121s 50ms/step - loss: 0.4675 - auc: 0.8031 - val_loss: 0.4526 - val_auc: 0.8264\n",
            "Epoch 4/30\n",
            "2397/2397 [==============================] - 121s 50ms/step - loss: 0.4576 - auc: 0.8127 - val_loss: 0.4442 - val_auc: 0.8452\n",
            "Epoch 5/30\n",
            "2397/2397 [==============================] - 121s 50ms/step - loss: 0.4469 - auc: 0.8252 - val_loss: 0.4322 - val_auc: 0.8482\n",
            "Epoch 6/30\n",
            "2397/2397 [==============================] - 121s 50ms/step - loss: 0.4318 - auc: 0.8486 - val_loss: 0.4058 - val_auc: 0.8788\n",
            "Epoch 7/30\n",
            "2397/2397 [==============================] - 121s 50ms/step - loss: 0.3965 - auc: 0.8769 - val_loss: 0.3787 - val_auc: 0.8930\n",
            "Epoch 8/30\n",
            "2397/2397 [==============================] - 121s 50ms/step - loss: 0.3838 - auc: 0.8862 - val_loss: 0.3656 - val_auc: 0.8995\n",
            "Epoch 9/30\n",
            "2397/2397 [==============================] - 121s 50ms/step - loss: 0.3748 - auc: 0.8920 - val_loss: 0.3576 - val_auc: 0.9049\n",
            "Epoch 10/30\n",
            "2397/2397 [==============================] - 121s 50ms/step - loss: 0.3673 - auc: 0.8967 - val_loss: 0.3504 - val_auc: 0.9090\n",
            "Epoch 11/30\n",
            "2397/2397 [==============================] - 120s 50ms/step - loss: 0.3597 - auc: 0.9013 - val_loss: 0.3414 - val_auc: 0.9137\n",
            "Epoch 12/30\n",
            "2397/2397 [==============================] - 120s 50ms/step - loss: 0.3525 - auc: 0.9056 - val_loss: 0.3341 - val_auc: 0.9167\n",
            "Epoch 13/30\n",
            "2397/2397 [==============================] - 120s 50ms/step - loss: 0.3456 - auc: 0.9096 - val_loss: 0.3274 - val_auc: 0.9203\n",
            "Epoch 14/30\n",
            "2397/2397 [==============================] - 120s 50ms/step - loss: 0.3396 - auc: 0.9128 - val_loss: 0.3305 - val_auc: 0.9231\n",
            "Epoch 15/30\n",
            "2397/2397 [==============================] - 120s 50ms/step - loss: 0.3350 - auc: 0.9154 - val_loss: 0.3180 - val_auc: 0.9252\n",
            "Epoch 16/30\n",
            "2397/2397 [==============================] - 121s 50ms/step - loss: 0.3308 - auc: 0.9174 - val_loss: 0.3157 - val_auc: 0.9268\n",
            "Epoch 17/30\n",
            "2397/2397 [==============================] - 120s 50ms/step - loss: 0.3271 - auc: 0.9195 - val_loss: 0.3129 - val_auc: 0.9272\n",
            "Epoch 18/30\n",
            "2397/2397 [==============================] - 120s 50ms/step - loss: 0.3238 - auc: 0.9212 - val_loss: 0.3092 - val_auc: 0.9293\n",
            "Epoch 19/30\n",
            "2397/2397 [==============================] - 120s 50ms/step - loss: 0.3210 - auc: 0.9227 - val_loss: 0.3067 - val_auc: 0.9301\n",
            "Epoch 20/30\n",
            "2397/2397 [==============================] - 121s 50ms/step - loss: 0.3179 - auc: 0.9241 - val_loss: 0.3103 - val_auc: 0.9312\n",
            "Epoch 20: early stopping\n"
          ]
        },
        {
          "data": {
            "text/plain": [
              "<keras.callbacks.History at 0x7fb1aed5ced0>"
            ]
          },
          "execution_count": 36,
          "metadata": {},
          "output_type": "execute_result"
        }
      ],
      "source": [
        "model.fit(X_tr, y_train, epochs=30, batch_size=128, validation_data=(X_te,y_test),callbacks=call)"
      ]
    },
    {
      "cell_type": "code",
      "execution_count": null,
      "metadata": {
        "id": "hVoz1impjK7y"
      },
      "outputs": [],
      "source": [
        "model.save(\"model1.h5\")"
      ]
    },
    {
      "cell_type": "code",
      "execution_count": null,
      "metadata": {
        "id": "hZlQobepjS-C"
      },
      "outputs": [],
      "source": [
        "model = load_model('model.h5')"
      ]
    },
    {
      "cell_type": "code",
      "execution_count": null,
      "metadata": {
        "id": "mVFlxNBuoDxk"
      },
      "outputs": [],
      "source": [
        "y_pred=model.predict(X_te)"
      ]
    },
    {
      "cell_type": "code",
      "execution_count": null,
      "metadata": {
        "colab": {
          "base_uri": "https://localhost:8080/"
        },
        "id": "1QVJw7nlCiId",
        "outputId": "64765911-d980-4099-ab58-39ba983326b5"
      },
      "outputs": [
        {
          "name": "stderr",
          "output_type": "stream",
          "text": [
            "/usr/local/lib/python3.7/dist-packages/ipykernel_launcher.py:2: SettingWithCopyWarning: \n",
            "A value is trying to be set on a copy of a slice from a DataFrame.\n",
            "Try using .loc[row_indexer,col_indexer] = value instead\n",
            "\n",
            "See the caveats in the documentation: https://pandas.pydata.org/pandas-docs/stable/user_guide/indexing.html#returning-a-view-versus-a-copy\n",
            "  \n",
            "/usr/local/lib/python3.7/dist-packages/ipykernel_launcher.py:3: SettingWithCopyWarning: \n",
            "A value is trying to be set on a copy of a slice from a DataFrame.\n",
            "Try using .loc[row_indexer,col_indexer] = value instead\n",
            "\n",
            "See the caveats in the documentation: https://pandas.pydata.org/pandas-docs/stable/user_guide/indexing.html#returning-a-view-versus-a-copy\n",
            "  This is separate from the ipykernel package so we can avoid doing imports until\n"
          ]
        }
      ],
      "source": [
        "X_te_bias=X_test[identity_columns]\n",
        "X_te_bias['y_pred']=y_pred\n",
        "X_te_bias['y']=y_test"
      ]
    },
    {
      "cell_type": "code",
      "execution_count": null,
      "metadata": {
        "colab": {
          "base_uri": "https://localhost:8080/",
          "height": 426
        },
        "id": "KICNyJbx7S-E",
        "outputId": "0ed44496-02b3-4f39-9d12-de878f77a0bb"
      },
      "outputs": [
        {
          "data": {
            "text/html": [
              "\n",
              "  <div id=\"df-b1573e8b-e8bf-461f-86a8-efe9f559d5d8\">\n",
              "    <div class=\"colab-df-container\">\n",
              "      <div>\n",
              "<style scoped>\n",
              "    .dataframe tbody tr th:only-of-type {\n",
              "        vertical-align: middle;\n",
              "    }\n",
              "\n",
              "    .dataframe tbody tr th {\n",
              "        vertical-align: top;\n",
              "    }\n",
              "\n",
              "    .dataframe thead th {\n",
              "        text-align: right;\n",
              "    }\n",
              "</style>\n",
              "<table border=\"1\" class=\"dataframe\">\n",
              "  <thead>\n",
              "    <tr style=\"text-align: right;\">\n",
              "      <th></th>\n",
              "      <th>subgroup</th>\n",
              "      <th>subgroup_size</th>\n",
              "      <th>subgroup_auc</th>\n",
              "      <th>bpsn_auc</th>\n",
              "      <th>bnsp_auc</th>\n",
              "    </tr>\n",
              "  </thead>\n",
              "  <tbody>\n",
              "    <tr>\n",
              "      <th>0</th>\n",
              "      <td>latino</td>\n",
              "      <td>261</td>\n",
              "      <td>0.865369</td>\n",
              "      <td>0.837475</td>\n",
              "      <td>0.947156</td>\n",
              "    </tr>\n",
              "    <tr>\n",
              "      <th>1</th>\n",
              "      <td>transgender</td>\n",
              "      <td>343</td>\n",
              "      <td>0.804145</td>\n",
              "      <td>0.840205</td>\n",
              "      <td>0.911074</td>\n",
              "    </tr>\n",
              "    <tr>\n",
              "      <th>2</th>\n",
              "      <td>asian</td>\n",
              "      <td>471</td>\n",
              "      <td>0.866587</td>\n",
              "      <td>0.870125</td>\n",
              "      <td>0.928329</td>\n",
              "    </tr>\n",
              "    <tr>\n",
              "      <th>3</th>\n",
              "      <td>psychiatric_or_mental_illness</td>\n",
              "      <td>620</td>\n",
              "      <td>0.817303</td>\n",
              "      <td>0.838523</td>\n",
              "      <td>0.927871</td>\n",
              "    </tr>\n",
              "    <tr>\n",
              "      <th>4</th>\n",
              "      <td>jewish</td>\n",
              "      <td>872</td>\n",
              "      <td>0.827070</td>\n",
              "      <td>0.825502</td>\n",
              "      <td>0.936577</td>\n",
              "    </tr>\n",
              "    <tr>\n",
              "      <th>5</th>\n",
              "      <td>homosexual_gay_or_lesbian</td>\n",
              "      <td>1610</td>\n",
              "      <td>0.787208</td>\n",
              "      <td>0.766858</td>\n",
              "      <td>0.947044</td>\n",
              "    </tr>\n",
              "    <tr>\n",
              "      <th>6</th>\n",
              "      <td>black</td>\n",
              "      <td>2325</td>\n",
              "      <td>0.781049</td>\n",
              "      <td>0.720229</td>\n",
              "      <td>0.957431</td>\n",
              "    </tr>\n",
              "    <tr>\n",
              "      <th>7</th>\n",
              "      <td>muslim</td>\n",
              "      <td>2788</td>\n",
              "      <td>0.783101</td>\n",
              "      <td>0.773759</td>\n",
              "      <td>0.944732</td>\n",
              "    </tr>\n",
              "    <tr>\n",
              "      <th>8</th>\n",
              "      <td>white</td>\n",
              "      <td>3699</td>\n",
              "      <td>0.796806</td>\n",
              "      <td>0.726613</td>\n",
              "      <td>0.960554</td>\n",
              "    </tr>\n",
              "    <tr>\n",
              "      <th>9</th>\n",
              "      <td>christian</td>\n",
              "      <td>3729</td>\n",
              "      <td>0.896454</td>\n",
              "      <td>0.909765</td>\n",
              "      <td>0.921813</td>\n",
              "    </tr>\n",
              "    <tr>\n",
              "      <th>10</th>\n",
              "      <td>male</td>\n",
              "      <td>4973</td>\n",
              "      <td>0.872750</td>\n",
              "      <td>0.847168</td>\n",
              "      <td>0.948477</td>\n",
              "    </tr>\n",
              "    <tr>\n",
              "      <th>11</th>\n",
              "      <td>female</td>\n",
              "      <td>5795</td>\n",
              "      <td>0.875113</td>\n",
              "      <td>0.864046</td>\n",
              "      <td>0.940322</td>\n",
              "    </tr>\n",
              "  </tbody>\n",
              "</table>\n",
              "</div>\n",
              "      <button class=\"colab-df-convert\" onclick=\"convertToInteractive('df-b1573e8b-e8bf-461f-86a8-efe9f559d5d8')\"\n",
              "              title=\"Convert this dataframe to an interactive table.\"\n",
              "              style=\"display:none;\">\n",
              "        \n",
              "  <svg xmlns=\"http://www.w3.org/2000/svg\" height=\"24px\"viewBox=\"0 0 24 24\"\n",
              "       width=\"24px\">\n",
              "    <path d=\"M0 0h24v24H0V0z\" fill=\"none\"/>\n",
              "    <path d=\"M18.56 5.44l.94 2.06.94-2.06 2.06-.94-2.06-.94-.94-2.06-.94 2.06-2.06.94zm-11 1L8.5 8.5l.94-2.06 2.06-.94-2.06-.94L8.5 2.5l-.94 2.06-2.06.94zm10 10l.94 2.06.94-2.06 2.06-.94-2.06-.94-.94-2.06-.94 2.06-2.06.94z\"/><path d=\"M17.41 7.96l-1.37-1.37c-.4-.4-.92-.59-1.43-.59-.52 0-1.04.2-1.43.59L10.3 9.45l-7.72 7.72c-.78.78-.78 2.05 0 2.83L4 21.41c.39.39.9.59 1.41.59.51 0 1.02-.2 1.41-.59l7.78-7.78 2.81-2.81c.8-.78.8-2.07 0-2.86zM5.41 20L4 18.59l7.72-7.72 1.47 1.35L5.41 20z\"/>\n",
              "  </svg>\n",
              "      </button>\n",
              "      \n",
              "  <style>\n",
              "    .colab-df-container {\n",
              "      display:flex;\n",
              "      flex-wrap:wrap;\n",
              "      gap: 12px;\n",
              "    }\n",
              "\n",
              "    .colab-df-convert {\n",
              "      background-color: #E8F0FE;\n",
              "      border: none;\n",
              "      border-radius: 50%;\n",
              "      cursor: pointer;\n",
              "      display: none;\n",
              "      fill: #1967D2;\n",
              "      height: 32px;\n",
              "      padding: 0 0 0 0;\n",
              "      width: 32px;\n",
              "    }\n",
              "\n",
              "    .colab-df-convert:hover {\n",
              "      background-color: #E2EBFA;\n",
              "      box-shadow: 0px 1px 2px rgba(60, 64, 67, 0.3), 0px 1px 3px 1px rgba(60, 64, 67, 0.15);\n",
              "      fill: #174EA6;\n",
              "    }\n",
              "\n",
              "    [theme=dark] .colab-df-convert {\n",
              "      background-color: #3B4455;\n",
              "      fill: #D2E3FC;\n",
              "    }\n",
              "\n",
              "    [theme=dark] .colab-df-convert:hover {\n",
              "      background-color: #434B5C;\n",
              "      box-shadow: 0px 1px 3px 1px rgba(0, 0, 0, 0.15);\n",
              "      filter: drop-shadow(0px 1px 2px rgba(0, 0, 0, 0.3));\n",
              "      fill: #FFFFFF;\n",
              "    }\n",
              "  </style>\n",
              "\n",
              "      <script>\n",
              "        const buttonEl =\n",
              "          document.querySelector('#df-b1573e8b-e8bf-461f-86a8-efe9f559d5d8 button.colab-df-convert');\n",
              "        buttonEl.style.display =\n",
              "          google.colab.kernel.accessAllowed ? 'block' : 'none';\n",
              "\n",
              "        async function convertToInteractive(key) {\n",
              "          const element = document.querySelector('#df-b1573e8b-e8bf-461f-86a8-efe9f559d5d8');\n",
              "          const dataTable =\n",
              "            await google.colab.kernel.invokeFunction('convertToInteractive',\n",
              "                                                     [key], {});\n",
              "          if (!dataTable) return;\n",
              "\n",
              "          const docLinkHtml = 'Like what you see? Visit the ' +\n",
              "            '<a target=\"_blank\" href=https://colab.research.google.com/notebooks/data_table.ipynb>data table notebook</a>'\n",
              "            + ' to learn more about interactive tables.';\n",
              "          element.innerHTML = '';\n",
              "          dataTable['output_type'] = 'display_data';\n",
              "          await google.colab.output.renderOutput(dataTable, element);\n",
              "          const docLink = document.createElement('div');\n",
              "          docLink.innerHTML = docLinkHtml;\n",
              "          element.appendChild(docLink);\n",
              "        }\n",
              "      </script>\n",
              "    </div>\n",
              "  </div>\n",
              "  "
            ],
            "text/plain": [
              "                         subgroup  subgroup_size  subgroup_auc  bpsn_auc  \\\n",
              "0                          latino            261      0.865369  0.837475   \n",
              "1                     transgender            343      0.804145  0.840205   \n",
              "2                           asian            471      0.866587  0.870125   \n",
              "3   psychiatric_or_mental_illness            620      0.817303  0.838523   \n",
              "4                          jewish            872      0.827070  0.825502   \n",
              "5       homosexual_gay_or_lesbian           1610      0.787208  0.766858   \n",
              "6                           black           2325      0.781049  0.720229   \n",
              "7                          muslim           2788      0.783101  0.773759   \n",
              "8                           white           3699      0.796806  0.726613   \n",
              "9                       christian           3729      0.896454  0.909765   \n",
              "10                           male           4973      0.872750  0.847168   \n",
              "11                         female           5795      0.875113  0.864046   \n",
              "\n",
              "    bnsp_auc  \n",
              "0   0.947156  \n",
              "1   0.911074  \n",
              "2   0.928329  \n",
              "3   0.927871  \n",
              "4   0.936577  \n",
              "5   0.947044  \n",
              "6   0.957431  \n",
              "7   0.944732  \n",
              "8   0.960554  \n",
              "9   0.921813  \n",
              "10  0.948477  \n",
              "11  0.940322  "
            ]
          },
          "execution_count": 39,
          "metadata": {},
          "output_type": "execute_result"
        }
      ],
      "source": [
        "bias_metrics_df = compute_bias_metrics_for_model(X_te_bias, identity_columns1)\n",
        "bias_metrics_df"
      ]
    },
    {
      "cell_type": "code",
      "execution_count": null,
      "metadata": {
        "colab": {
          "base_uri": "https://localhost:8080/"
        },
        "id": "7shaa3xdC39Q",
        "outputId": "9579b1d4-9f5f-4d2a-fe1a-36303df33c57"
      },
      "outputs": [
        {
          "data": {
            "text/plain": [
              "0.8753098825008193"
            ]
          },
          "execution_count": 40,
          "metadata": {},
          "output_type": "execute_result"
        }
      ],
      "source": [
        "bias_score=score(bias_metrics_df,0.9312)\n",
        "bias_score"
      ]
    },
    {
      "cell_type": "code",
      "execution_count": null,
      "metadata": {
        "colab": {
          "base_uri": "https://localhost:8080/",
          "height": 533
        },
        "id": "fa3imYJFDBhl",
        "outputId": "59a67a54-6991-4d49-a488-70be897864f3"
      },
      "outputs": [
        {
          "data": {
            "image/png": "[encoded data removed]",
            "text/plain": [
              "<IPython.core.display.Image object>"
            ]
          },
          "execution_count": 43,
          "metadata": {},
          "output_type": "execute_result"
        }
      ],
      "source": [
        "from keras.utils.vis_utils import plot_model\n",
        "plot_model(model, to_file='model_plot.png', show_shapes=True, show_layer_names=True)"
      ]
    },
    {
      "cell_type": "code",
      "execution_count": 23,
      "metadata": {
        "id": "FeVnYB3Eqqoq"
      },
      "outputs": [],
      "source": [
        "import tensorflow as tf\n",
        "from keras.preprocessing.text import Tokenizer\n",
        "tokenizer1=Tokenizer(\n",
        "    num_words=None,\n",
        "    lower=True,\n",
        "    split=' ',\n",
        "    char_level=False,\n",
        "    oov_token=None\n",
        ")\n",
        "tokenizer1.fit_on_texts(\n",
        "    X_train_scrapped['clean_text']\n",
        ")"
      ]
    },
    {
      "cell_type": "code",
      "execution_count": 24,
      "metadata": {
        "id": "JBdqqzQMqtjM"
      },
      "outputs": [],
      "source": [
        "X_tr=tokenizer1.texts_to_sequences(X_train_scrapped['clean_text'])\n",
        "X_te=tokenizer1.texts_to_sequences(X_test['clean_text'])"
      ]
    },
    {
      "cell_type": "code",
      "execution_count": 25,
      "metadata": {
        "id": "GXgc47qfqt1p"
      },
      "outputs": [],
      "source": [
        "X_tr=tf.keras.preprocessing.sequence.pad_sequences(X_tr,maxlen=500,truncating='post',dtype='int32',padding='post',value=0)\n",
        "X_te=tf.keras.preprocessing.sequence.pad_sequences(X_te,maxlen=500,truncating='post',dtype='int32',padding='post',value=0)"
      ]
    },
    {
      "cell_type": "code",
      "source": [
        "v=0\n",
        "vocab_size=len(tokenizer1.word_index) + 1\n",
        "embedding_matrix=np.zeros((vocab_size,300))\n",
        "for word, i in tokenizer1.word_index.items():\n",
        "    embedding_vector=glove.get(word)\n",
        "    if embedding_vector is not None:\n",
        "        v=v+1\n",
        "        embedding_matrix[i]=embedding_vector"
      ],
      "metadata": {
        "id": "CbrReGXFTw4f"
      },
      "execution_count": 26,
      "outputs": []
    },
    {
      "cell_type": "code",
      "source": [
        "vocab_size=len(tokenizer1.word_index) + 1\n",
        "vocab_size"
      ],
      "metadata": {
        "colab": {
          "base_uri": "https://localhost:8080/"
        },
        "id": "J0Alwmr2T2Yp",
        "outputId": "1ee6dd3d-1fa8-49e8-ae33-5f77cf415718"
      },
      "execution_count": null,
      "outputs": [
        {
          "output_type": "execute_result",
          "data": {
            "text/plain": [
              "144173"
            ]
          },
          "metadata": {},
          "execution_count": 32
        }
      ]
    },
    {
      "cell_type": "code",
      "source": [
        "from tensorflow.keras.callbacks import EarlyStopping\n",
        "earlystop = EarlyStopping(monitor='val_auc', min_delta=0.002, patience=2, verbose=1)\n",
        "call=[earlystop]"
      ],
      "metadata": {
        "id": "7gsQS1-YUL4P"
      },
      "execution_count": 27,
      "outputs": []
    },
    {
      "cell_type": "code",
      "source": [
        "from tensorflow.keras.models import Model\n",
        "from tensorflow.keras.layers import Input,Dense,LSTM\n",
        "from tensorflow.keras import regularizers\n",
        "from tensorflow.keras.layers import BatchNormalization\n",
        "from tensorflow.keras import initializers\n",
        "input_layer = Input(shape=(500))\n",
        "embd=tf.keras.layers.Embedding(vocab_size,300,\n",
        "                               weights=[embedding_matrix],\n",
        "                               input_length=500,trainable=False)(input_layer)\n",
        "dr1=tf.keras.layers.Dropout(0.2)(embd)\n",
        "lstm=tf.keras.layers.LSTM(100)(dr1)\n",
        "output_layer=tf.keras.layers.Dense(1,activation='sigmoid')(lstm)     \n",
        "\n",
        "model = Model(inputs=input_layer, outputs=output_layer)\n",
        "\n",
        "\n",
        "## defining the optimiser and loss function\n",
        "ad=tf.keras.optimizers.Adam(\n",
        "    learning_rate=0.00001,\n",
        "    beta_1=0.9,\n",
        "    beta_2=0.999,\n",
        "    epsilon=1e-07,\n",
        "    amsgrad=False,\n",
        "    name=\"Adam\"\n",
        ")\n",
        "model.compile(optimizer=ad,\n",
        "              loss='BinaryCrossentropy',\n",
        "              metrics=['AUC'])"
      ],
      "metadata": {
        "id": "KjQS7pAzT2cH"
      },
      "execution_count": 28,
      "outputs": []
    },
    {
      "cell_type": "code",
      "execution_count": 29,
      "metadata": {
        "colab": {
          "base_uri": "https://localhost:8080/"
        },
        "id": "NrMeL6-aqt4h",
        "outputId": "f4a62ac9-b494-4f07-a4b5-6a0af69813bd"
      },
      "outputs": [
        {
          "output_type": "stream",
          "name": "stdout",
          "text": [
            "Epoch 1/30\n",
            "2507/2507 [==============================] - 135s 51ms/step - loss: 0.5660 - auc: 0.6615 - val_loss: 0.5302 - val_auc: 0.8113\n",
            "Epoch 2/30\n",
            "2507/2507 [==============================] - 131s 52ms/step - loss: 0.4927 - auc: 0.7972 - val_loss: 0.4843 - val_auc: 0.8194\n",
            "Epoch 3/30\n",
            "2507/2507 [==============================] - 130s 52ms/step - loss: 0.4602 - auc: 0.8083 - val_loss: 0.4612 - val_auc: 0.8281\n",
            "Epoch 4/30\n",
            "2507/2507 [==============================] - 130s 52ms/step - loss: 0.4486 - auc: 0.8159 - val_loss: 0.4519 - val_auc: 0.8327\n",
            "Epoch 5/30\n",
            "2507/2507 [==============================] - 130s 52ms/step - loss: 0.4403 - auc: 0.8216 - val_loss: 0.4438 - val_auc: 0.8435\n",
            "Epoch 6/30\n",
            "2507/2507 [==============================] - 130s 52ms/step - loss: 0.4297 - auc: 0.8372 - val_loss: 0.4279 - val_auc: 0.8590\n",
            "Epoch 7/30\n",
            "2507/2507 [==============================] - 130s 52ms/step - loss: 0.3982 - auc: 0.8706 - val_loss: 0.3862 - val_auc: 0.8869\n",
            "Epoch 8/30\n",
            "2507/2507 [==============================] - 130s 52ms/step - loss: 0.3766 - auc: 0.8870 - val_loss: 0.3736 - val_auc: 0.8953\n",
            "Epoch 9/30\n",
            "2507/2507 [==============================] - 130s 52ms/step - loss: 0.3676 - auc: 0.8929 - val_loss: 0.3656 - val_auc: 0.9005\n",
            "Epoch 10/30\n",
            "2507/2507 [==============================] - 130s 52ms/step - loss: 0.3594 - auc: 0.8981 - val_loss: 0.3567 - val_auc: 0.9052\n",
            "Epoch 11/30\n",
            "2507/2507 [==============================] - 130s 52ms/step - loss: 0.3533 - auc: 0.9019 - val_loss: 0.3479 - val_auc: 0.9093\n",
            "Epoch 12/30\n",
            "2507/2507 [==============================] - 130s 52ms/step - loss: 0.3458 - auc: 0.9063 - val_loss: 0.3419 - val_auc: 0.9133\n",
            "Epoch 13/30\n",
            "2507/2507 [==============================] - 150s 60ms/step - loss: 0.3403 - auc: 0.9096 - val_loss: 0.3369 - val_auc: 0.9161\n",
            "Epoch 14/30\n",
            "2507/2507 [==============================] - 151s 60ms/step - loss: 0.3339 - auc: 0.9131 - val_loss: 0.3313 - val_auc: 0.9192\n",
            "Epoch 15/30\n",
            "2507/2507 [==============================] - 131s 52ms/step - loss: 0.3286 - auc: 0.9160 - val_loss: 0.3268 - val_auc: 0.9212\n",
            "Epoch 16/30\n",
            "2507/2507 [==============================] - 130s 52ms/step - loss: 0.3243 - auc: 0.9184 - val_loss: 0.3220 - val_auc: 0.9235\n",
            "Epoch 17/30\n",
            "2507/2507 [==============================] - 130s 52ms/step - loss: 0.3204 - auc: 0.9205 - val_loss: 0.3198 - val_auc: 0.9247\n",
            "Epoch 18/30\n",
            "2507/2507 [==============================] - 130s 52ms/step - loss: 0.3172 - auc: 0.9221 - val_loss: 0.3156 - val_auc: 0.9264\n",
            "Epoch 19/30\n",
            "2507/2507 [==============================] - 130s 52ms/step - loss: 0.3136 - auc: 0.9238 - val_loss: 0.3155 - val_auc: 0.9273\n",
            "Epoch 20/30\n",
            "2507/2507 [==============================] - 129s 52ms/step - loss: 0.3113 - auc: 0.9250 - val_loss: 0.3104 - val_auc: 0.9287\n",
            "Epoch 21/30\n",
            "2507/2507 [==============================] - 130s 52ms/step - loss: 0.3095 - auc: 0.9259 - val_loss: 0.3121 - val_auc: 0.9296\n",
            "Epoch 22/30\n",
            "2507/2507 [==============================] - 130s 52ms/step - loss: 0.3065 - auc: 0.9275 - val_loss: 0.3085 - val_auc: 0.9302\n",
            "Epoch 22: early stopping\n"
          ]
        },
        {
          "output_type": "execute_result",
          "data": {
            "text/plain": [
              "<keras.callbacks.History at 0x7fdaad18f7d0>"
            ]
          },
          "metadata": {},
          "execution_count": 29
        }
      ],
      "source": [
        "model.fit(X_tr, y_train_scraped, epochs=30, batch_size=128, validation_data=(X_te,y_test),callbacks=call)"
      ]
    },
    {
      "cell_type": "code",
      "execution_count": 33,
      "metadata": {
        "id": "1V9NxhCTquNl"
      },
      "outputs": [],
      "source": [
        "y_pred=model.predict(X_te)"
      ]
    },
    {
      "cell_type": "code",
      "execution_count": 34,
      "metadata": {
        "colab": {
          "base_uri": "https://localhost:8080/"
        },
        "id": "DaeuMG-JJ2f7",
        "outputId": "e88e74fb-9073-44c3-f048-a47184331ccb"
      },
      "outputs": [
        {
          "output_type": "stream",
          "name": "stderr",
          "text": [
            "/usr/local/lib/python3.7/dist-packages/ipykernel_launcher.py:2: SettingWithCopyWarning: \n",
            "A value is trying to be set on a copy of a slice from a DataFrame.\n",
            "Try using .loc[row_indexer,col_indexer] = value instead\n",
            "\n",
            "See the caveats in the documentation: https://pandas.pydata.org/pandas-docs/stable/user_guide/indexing.html#returning-a-view-versus-a-copy\n",
            "  \n",
            "/usr/local/lib/python3.7/dist-packages/ipykernel_launcher.py:3: SettingWithCopyWarning: \n",
            "A value is trying to be set on a copy of a slice from a DataFrame.\n",
            "Try using .loc[row_indexer,col_indexer] = value instead\n",
            "\n",
            "See the caveats in the documentation: https://pandas.pydata.org/pandas-docs/stable/user_guide/indexing.html#returning-a-view-versus-a-copy\n",
            "  This is separate from the ipykernel package so we can avoid doing imports until\n"
          ]
        }
      ],
      "source": [
        "X_te_bias=X_test[identity_columns]\n",
        "X_te_bias['y_pred']=y_pred\n",
        "X_te_bias['y']=y_test"
      ]
    },
    {
      "cell_type": "code",
      "execution_count": 35,
      "metadata": {
        "colab": {
          "base_uri": "https://localhost:8080/",
          "height": 426
        },
        "id": "CCRmF_DCJ2mG",
        "outputId": "c00c8be1-802d-456f-81bf-d70db978c31a"
      },
      "outputs": [
        {
          "output_type": "execute_result",
          "data": {
            "text/plain": [
              "                         subgroup  subgroup_size  subgroup_auc  bpsn_auc  \\\n",
              "0                          latino            237      0.866716  0.864387   \n",
              "1                     transgender            323      0.800000  0.874169   \n",
              "2                           asian            471      0.876279  0.876054   \n",
              "3   psychiatric_or_mental_illness            633      0.844020  0.872828   \n",
              "4                          jewish            902      0.853292  0.856343   \n",
              "5       homosexual_gay_or_lesbian           1610      0.797670  0.815783   \n",
              "6                           black           2347      0.765868  0.720476   \n",
              "7                          muslim           2754      0.791179  0.794203   \n",
              "8                           white           3687      0.792136  0.733934   \n",
              "9                       christian           3803      0.897101  0.916512   \n",
              "10                           male           4950      0.877693  0.870513   \n",
              "11                         female           5818      0.874668  0.879457   \n",
              "\n",
              "    bnsp_auc  \n",
              "0   0.934986  \n",
              "1   0.881256  \n",
              "2   0.930169  \n",
              "3   0.915835  \n",
              "4   0.932117  \n",
              "5   0.928995  \n",
              "6   0.953066  \n",
              "7   0.937989  \n",
              "8   0.957238  \n",
              "9   0.914917  \n",
              "10  0.937698  \n",
              "11  0.929892  "
            ],
            "text/html": [
              "\n",
              "  <div id=\"df-93228dbe-112b-4261-a0de-1b4fbf0d9888\">\n",
              "    <div class=\"colab-df-container\">\n",
              "      <div>\n",
              "<style scoped>\n",
              "    .dataframe tbody tr th:only-of-type {\n",
              "        vertical-align: middle;\n",
              "    }\n",
              "\n",
              "    .dataframe tbody tr th {\n",
              "        vertical-align: top;\n",
              "    }\n",
              "\n",
              "    .dataframe thead th {\n",
              "        text-align: right;\n",
              "    }\n",
              "</style>\n",
              "<table border=\"1\" class=\"dataframe\">\n",
              "  <thead>\n",
              "    <tr style=\"text-align: right;\">\n",
              "      <th></th>\n",
              "      <th>subgroup</th>\n",
              "      <th>subgroup_size</th>\n",
              "      <th>subgroup_auc</th>\n",
              "      <th>bpsn_auc</th>\n",
              "      <th>bnsp_auc</th>\n",
              "    </tr>\n",
              "  </thead>\n",
              "  <tbody>\n",
              "    <tr>\n",
              "      <th>0</th>\n",
              "      <td>latino</td>\n",
              "      <td>237</td>\n",
              "      <td>0.866716</td>\n",
              "      <td>0.864387</td>\n",
              "      <td>0.934986</td>\n",
              "    </tr>\n",
              "    <tr>\n",
              "      <th>1</th>\n",
              "      <td>transgender</td>\n",
              "      <td>323</td>\n",
              "      <td>0.800000</td>\n",
              "      <td>0.874169</td>\n",
              "      <td>0.881256</td>\n",
              "    </tr>\n",
              "    <tr>\n",
              "      <th>2</th>\n",
              "      <td>asian</td>\n",
              "      <td>471</td>\n",
              "      <td>0.876279</td>\n",
              "      <td>0.876054</td>\n",
              "      <td>0.930169</td>\n",
              "    </tr>\n",
              "    <tr>\n",
              "      <th>3</th>\n",
              "      <td>psychiatric_or_mental_illness</td>\n",
              "      <td>633</td>\n",
              "      <td>0.844020</td>\n",
              "      <td>0.872828</td>\n",
              "      <td>0.915835</td>\n",
              "    </tr>\n",
              "    <tr>\n",
              "      <th>4</th>\n",
              "      <td>jewish</td>\n",
              "      <td>902</td>\n",
              "      <td>0.853292</td>\n",
              "      <td>0.856343</td>\n",
              "      <td>0.932117</td>\n",
              "    </tr>\n",
              "    <tr>\n",
              "      <th>5</th>\n",
              "      <td>homosexual_gay_or_lesbian</td>\n",
              "      <td>1610</td>\n",
              "      <td>0.797670</td>\n",
              "      <td>0.815783</td>\n",
              "      <td>0.928995</td>\n",
              "    </tr>\n",
              "    <tr>\n",
              "      <th>6</th>\n",
              "      <td>black</td>\n",
              "      <td>2347</td>\n",
              "      <td>0.765868</td>\n",
              "      <td>0.720476</td>\n",
              "      <td>0.953066</td>\n",
              "    </tr>\n",
              "    <tr>\n",
              "      <th>7</th>\n",
              "      <td>muslim</td>\n",
              "      <td>2754</td>\n",
              "      <td>0.791179</td>\n",
              "      <td>0.794203</td>\n",
              "      <td>0.937989</td>\n",
              "    </tr>\n",
              "    <tr>\n",
              "      <th>8</th>\n",
              "      <td>white</td>\n",
              "      <td>3687</td>\n",
              "      <td>0.792136</td>\n",
              "      <td>0.733934</td>\n",
              "      <td>0.957238</td>\n",
              "    </tr>\n",
              "    <tr>\n",
              "      <th>9</th>\n",
              "      <td>christian</td>\n",
              "      <td>3803</td>\n",
              "      <td>0.897101</td>\n",
              "      <td>0.916512</td>\n",
              "      <td>0.914917</td>\n",
              "    </tr>\n",
              "    <tr>\n",
              "      <th>10</th>\n",
              "      <td>male</td>\n",
              "      <td>4950</td>\n",
              "      <td>0.877693</td>\n",
              "      <td>0.870513</td>\n",
              "      <td>0.937698</td>\n",
              "    </tr>\n",
              "    <tr>\n",
              "      <th>11</th>\n",
              "      <td>female</td>\n",
              "      <td>5818</td>\n",
              "      <td>0.874668</td>\n",
              "      <td>0.879457</td>\n",
              "      <td>0.929892</td>\n",
              "    </tr>\n",
              "  </tbody>\n",
              "</table>\n",
              "</div>\n",
              "      <button class=\"colab-df-convert\" onclick=\"convertToInteractive('df-93228dbe-112b-4261-a0de-1b4fbf0d9888')\"\n",
              "              title=\"Convert this dataframe to an interactive table.\"\n",
              "              style=\"display:none;\">\n",
              "        \n",
              "  <svg xmlns=\"http://www.w3.org/2000/svg\" height=\"24px\"viewBox=\"0 0 24 24\"\n",
              "       width=\"24px\">\n",
              "    <path d=\"M0 0h24v24H0V0z\" fill=\"none\"/>\n",
              "    <path d=\"M18.56 5.44l.94 2.06.94-2.06 2.06-.94-2.06-.94-.94-2.06-.94 2.06-2.06.94zm-11 1L8.5 8.5l.94-2.06 2.06-.94-2.06-.94L8.5 2.5l-.94 2.06-2.06.94zm10 10l.94 2.06.94-2.06 2.06-.94-2.06-.94-.94-2.06-.94 2.06-2.06.94z\"/><path d=\"M17.41 7.96l-1.37-1.37c-.4-.4-.92-.59-1.43-.59-.52 0-1.04.2-1.43.59L10.3 9.45l-7.72 7.72c-.78.78-.78 2.05 0 2.83L4 21.41c.39.39.9.59 1.41.59.51 0 1.02-.2 1.41-.59l7.78-7.78 2.81-2.81c.8-.78.8-2.07 0-2.86zM5.41 20L4 18.59l7.72-7.72 1.47 1.35L5.41 20z\"/>\n",
              "  </svg>\n",
              "      </button>\n",
              "      \n",
              "  <style>\n",
              "    .colab-df-container {\n",
              "      display:flex;\n",
              "      flex-wrap:wrap;\n",
              "      gap: 12px;\n",
              "    }\n",
              "\n",
              "    .colab-df-convert {\n",
              "      background-color: #E8F0FE;\n",
              "      border: none;\n",
              "      border-radius: 50%;\n",
              "      cursor: pointer;\n",
              "      display: none;\n",
              "      fill: #1967D2;\n",
              "      height: 32px;\n",
              "      padding: 0 0 0 0;\n",
              "      width: 32px;\n",
              "    }\n",
              "\n",
              "    .colab-df-convert:hover {\n",
              "      background-color: #E2EBFA;\n",
              "      box-shadow: 0px 1px 2px rgba(60, 64, 67, 0.3), 0px 1px 3px 1px rgba(60, 64, 67, 0.15);\n",
              "      fill: #174EA6;\n",
              "    }\n",
              "\n",
              "    [theme=dark] .colab-df-convert {\n",
              "      background-color: #3B4455;\n",
              "      fill: #D2E3FC;\n",
              "    }\n",
              "\n",
              "    [theme=dark] .colab-df-convert:hover {\n",
              "      background-color: #434B5C;\n",
              "      box-shadow: 0px 1px 3px 1px rgba(0, 0, 0, 0.15);\n",
              "      filter: drop-shadow(0px 1px 2px rgba(0, 0, 0, 0.3));\n",
              "      fill: #FFFFFF;\n",
              "    }\n",
              "  </style>\n",
              "\n",
              "      <script>\n",
              "        const buttonEl =\n",
              "          document.querySelector('#df-93228dbe-112b-4261-a0de-1b4fbf0d9888 button.colab-df-convert');\n",
              "        buttonEl.style.display =\n",
              "          google.colab.kernel.accessAllowed ? 'block' : 'none';\n",
              "\n",
              "        async function convertToInteractive(key) {\n",
              "          const element = document.querySelector('#df-93228dbe-112b-4261-a0de-1b4fbf0d9888');\n",
              "          const dataTable =\n",
              "            await google.colab.kernel.invokeFunction('convertToInteractive',\n",
              "                                                     [key], {});\n",
              "          if (!dataTable) return;\n",
              "\n",
              "          const docLinkHtml = 'Like what you see? Visit the ' +\n",
              "            '<a target=\"_blank\" href=https://colab.research.google.com/notebooks/data_table.ipynb>data table notebook</a>'\n",
              "            + ' to learn more about interactive tables.';\n",
              "          element.innerHTML = '';\n",
              "          dataTable['output_type'] = 'display_data';\n",
              "          await google.colab.output.renderOutput(dataTable, element);\n",
              "          const docLink = document.createElement('div');\n",
              "          docLink.innerHTML = docLinkHtml;\n",
              "          element.appendChild(docLink);\n",
              "        }\n",
              "      </script>\n",
              "    </div>\n",
              "  </div>\n",
              "  "
            ]
          },
          "metadata": {},
          "execution_count": 35
        }
      ],
      "source": [
        "bias_metrics_df = compute_bias_metrics_for_model(X_te_bias, identity_columns1)\n",
        "bias_metrics_df"
      ]
    },
    {
      "cell_type": "code",
      "execution_count": 36,
      "metadata": {
        "colab": {
          "base_uri": "https://localhost:8080/"
        },
        "id": "gM40K5LAJ2pl",
        "outputId": "3fb4ece6-d5f1-4f20-9e2d-03c84f776c44"
      },
      "outputs": [
        {
          "output_type": "execute_result",
          "data": {
            "text/plain": [
              "0.8784112123291041"
            ]
          },
          "metadata": {},
          "execution_count": 36
        }
      ],
      "source": [
        "bias_score=score(bias_metrics_df,0.9302)\n",
        "bias_score"
      ]
    },
    {
      "cell_type": "code",
      "source": [
        "x = PrettyTable()\n",
        "x.field_names = ['Feature',\"Train AUC\", \"Test AUC\", \"Bias_Score\"]\n",
        "x.add_rows(\n",
        "    [\n",
        "        [\"LSTM\", 0.8827, 0.8551, 0.8054],\n",
        "        [\"LSTM with scraped data\",  0.8742, 0.8520, 0.7969],    \n",
        "        [\"Logistic Regression\", 0.8541, 0.8522, 0.8057],\n",
        "        [\"LR with scraped data\",  0.8566, 0.8511, 0.8102],  \n",
        "        [\"Random Forest\", 0.8165, 0.8097, 0.7760],\n",
        "        [\"RF with scraped data\",  0.8224, 0.8116, 0.7654]        \n",
        "    ]\n",
        ")"
      ],
      "metadata": {
        "id": "81KVi4iQrXkL"
      },
      "execution_count": null,
      "outputs": []
    },
    {
      "cell_type": "code",
      "source": [
        "x = PrettyTable()\n",
        "x.field_names = ['Feature',\"Train AUC\", \"Test AUC\", \"Bias_Score\"]\n",
        "x.add_rows(\n",
        "    [\n",
        "        [\"GBDT\", 0.8827, 0.8551, 0.8054],\n",
        "        [\"GBDT with scraped data\",  0.8742, 0.8520, 0.7969],    \n",
        "        [\"Logistic Regression\", 0.8541, 0.8522, 0.8057],\n",
        "        [\"LR with scraped data\",  0.8566, 0.8511, 0.8102],  \n",
        "        [\"Random Forest\", 0.8165, 0.8097, 0.7760],\n",
        "        [\"RF with scraped data\",  0.8224, 0.8116, 0.7654],  \n",
        "        [\"LSTM\", 0.9241, 0.9312, 0.8753],\n",
        "        [\"LSTM with scraped data\",  0.9275, 0.9302, 0.8784],      \n",
        "    ]\n",
        ")"
      ],
      "metadata": {
        "id": "jIUI-6X-som-"
      },
      "execution_count": 38,
      "outputs": []
    },
    {
      "cell_type": "code",
      "source": [
        "print(x)"
      ],
      "metadata": {
        "colab": {
          "base_uri": "https://localhost:8080/"
        },
        "id": "zJnk7q1DtUvp",
        "outputId": "8b770ae4-9342-4727-b9ec-a59e74f4766e"
      },
      "execution_count": 40,
      "outputs": [
        {
          "output_type": "stream",
          "name": "stdout",
          "text": [
            "+------------------------+-----------+----------+------------+\n",
            "|        Feature         | Train AUC | Test AUC | Bias_Score |\n",
            "+------------------------+-----------+----------+------------+\n",
            "|          GBDT          |   0.8827  |  0.8551  |   0.8054   |\n",
            "| GBDT with scraped data |   0.8742  |  0.852   |   0.7969   |\n",
            "|  Logistic Regression   |   0.8541  |  0.8522  |   0.8057   |\n",
            "|  LR with scraped data  |   0.8566  |  0.8511  |   0.8102   |\n",
            "|     Random Forest      |   0.8165  |  0.8097  |   0.776    |\n",
            "|  RF with scraped data  |   0.8224  |  0.8116  |   0.7654   |\n",
            "|          LSTM          |   0.9241  |  0.9312  |   0.8753   |\n",
            "| LSTM with scraped data |   0.9275  |  0.9302  |   0.8784   |\n",
            "+------------------------+-----------+----------+------------+\n"
          ]
        }
      ]
    }
  ],
  "metadata": {
    "accelerator": "GPU",
    "colab": {
      "provenance": []
    },
    "kernelspec": {
      "display_name": "Python 3",
      "name": "python3"
    },
    "language_info": {
      "name": "python"
    }
  },
  "nbformat": 4,
  "nbformat_minor": 0
}